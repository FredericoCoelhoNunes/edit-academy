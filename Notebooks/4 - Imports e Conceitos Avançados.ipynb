{
 "cells": [
  {
   "cell_type": "markdown",
   "metadata": {},
   "source": [
    "# Imports e Conceitos Avançados\n",
    "\n",
    "<img src=\"images/python-logo.jpg\" alt=\"Python\" style=\"width: 300px;\"/>\n",
    "\n",
    "Neste notebook vamos aprender os últimos conceitos necessários para escrever programas de alta qualidade.\n",
    "\n",
    "O primeiro é o conceito de \"import\", que nos permite utilizar no nosso código funções escritas por outras pessoas. Isto é importante porque:\n",
    "\n",
    "* permite a colaboração entre programadores em todo o mundo, de forma a construir programas gradualmente mais complexos;\n",
    "* como já existem libraries de qualidade para um conjuntos de funcionalidades muito diversas (processamento numérico, escrita de ficheiros, criação de interfaces gráficas...) poupamos muito tempo, pois não temos de as programar do zero.\n",
    "\n",
    "Uma library é um conjunto de packages, e cada package pode ter diversos módulos (ficheiros .py) onde estão escritas as funções.  \n",
    "\n",
    "Após entendermos como podemos instalar packages de Python e importar as suas funções, vamos aprender alguns conceitos mais avançados:\n",
    "\n",
    "* list comprehensions;\n",
    "* dict comprehensions;\n",
    "* classes."
   ]
  },
  {
   "cell_type": "markdown",
   "metadata": {},
   "source": [
    "## Imports\n",
    "\n",
    "Podemos importar um módulo de diversas formas. Para importar um módulo completo, a sintaxe é a seguinte:\n",
    "\n",
    "    import modulo\n",
    "    \n",
    "Desta forma, podemos aceder às funções contidas no módulo da seguinte forma: \n",
    "\n",
    "    modulo.funcao_1(...)\n",
    "\n",
    "Se o módulo que desejamos estiver dentro de um package em particular, podemos acedê-lo da seguinte forma:\n",
    "\n",
    "    import library.package.subpackage.modulo\n",
    "\n",
    "Podemos também criar um \"alias\" para nos referirmos a este módulo. Atenção: se importarmos um módulo desta forma, perdemos a abilidade de nos referirmos a ele pelo seu nome original. A sintaxe é a seguinte:\n",
    "\n",
    "    import modulo as md\n",
    "    \n",
    "    md.funcao_1(...)\n",
    "\n",
    "De ambas as formas, estamos a importar o módulo inteiro, ou seja, todas as funções que o constituem. Se quisermos importar apenas certas funções, devemos fazê-lo da seguinte forma:\n",
    "\n",
    "    from modulo import (\n",
    "        function_1,\n",
    "        function_2,\n",
    "        ...\n",
    "    )\n",
    "    \n",
    "Desta forma, omitimos o nome do módulo ao chamar as funções:\n",
    "    \n",
    "    function_1(...)\n",
    "    function_2(...)\n",
    "    \n",
    "    \n",
    "Podemos também usar o operador \"wildcard\" * para importar todas as funções de um módulo, mas isto não é recomendado pois pode levar ao import acidental de funções não desejadas:\n",
    "\n",
    "    from package import *\n",
    "\n",
    "É boa prática colocar todos os imports no topo do nosso ficheiro."
   ]
  },
  {
   "cell_type": "markdown",
   "metadata": {},
   "source": [
    "## Exemplo\n",
    "\n",
    "Para importar funções de uma library, devemos instalá-la primeiro. Para isto, podemos usar o Anaconda. Vamos experimentar instalar a library `termcolor`, que nos permite fazer print de strings com cores diferentes.\n",
    "\n",
    "Para instalar uma library, devemos procurar primeiro qual o comando que devemos correr na consola. Uma pesquisa Google por \"termcolor anaconda\" leva-nos à seguinte página: https://anaconda.org/omnia/termcolor\n",
    "\n",
    "Após corrermos o comando indicado nessa página (conda install -c omnia termcolor), teremos instalado esta library dentro do nosso ambiente virtual. Após reiniciarmos o Kernel do Jupyter, podemos aceder às suas funções no nosso Notebook."
   ]
  },
  {
   "cell_type": "markdown",
   "metadata": {},
   "source": [
    "Para aprendermos a usar um package, teremos de ler a sua documentação. Uma pesquisa por \"termcolor documentation\" leva-nos à seguinte página: https://pypi.org/project/termcolor/\n",
    "\n",
    "Vamos então experimentar alguns exemplos:"
   ]
  },
  {
   "cell_type": "code",
   "execution_count": 2,
   "metadata": {},
   "outputs": [],
   "source": [
    "from termcolor import colored"
   ]
  },
  {
   "cell_type": "code",
   "execution_count": 4,
   "metadata": {},
   "outputs": [
    {
     "name": "stdout",
     "output_type": "stream",
     "text": [
      "\u001b[31mIsto vai aparecer a vermelho!\u001b[0m\n",
      "\u001b[32mIsto vai aparecer a verde!\u001b[0m\n",
      "\u001b[34mIsto vai aparecer a azul!\u001b[0m\n",
      "\u001b[33mIsto vai aparecer a amarelo!\u001b[0m\n"
     ]
    }
   ],
   "source": [
    "print(colored('Isto vai aparecer a vermelho!', 'red'))\n",
    "print(colored('Isto vai aparecer a verde!', 'green'))\n",
    "print(colored('Isto vai aparecer a azul!', 'blue'))\n",
    "print(colored('Isto vai aparecer a amarelo!', 'yellow'))"
   ]
  },
  {
   "cell_type": "markdown",
   "metadata": {},
   "source": [
    "Esta é uma library bastante simples, mas os conceitos de importar funções mantêm-se, independentemente da complexidade das operações fornecidas pela library. O mais importante é, ao longo do tempo, ganhar exposição a vários tipos diferentes de funções e documentação, de forma a tornar fácil a aprendizagem de qualquer library nova, e desta forma aumentar a variedade de programas que podemos escrever."
   ]
  },
  {
   "cell_type": "markdown",
   "metadata": {},
   "source": [
    "## Funcionalidade avançadas\n",
    "\n",
    "Vamos agora falar de algumas técnicas de Python mais avançadas. A sua sintaxe é um pouco mais complexa, mas tornam muito mais fácil a escrita de programas."
   ]
  },
  {
   "cell_type": "markdown",
   "metadata": {},
   "source": [
    "### List comprehensions\n",
    "\n",
    "Uma \"list comprehension\" não é mais que uma forma dinâmica de construir listas. Vejamos um exemplo concreto, em que queremos criar uma lista com números de 0 a 99. \n",
    "\n",
    "Criando primeiro a lista manualmente:"
   ]
  },
  {
   "cell_type": "code",
   "execution_count": 5,
   "metadata": {},
   "outputs": [],
   "source": [
    "lista_grande = [0, 1, 2, 3, 4, 5, 6, \"já estou cansado\"]"
   ]
  },
  {
   "cell_type": "markdown",
   "metadata": {},
   "source": [
    "Obviamente isto não é fazível. Pensando no conhecimento sobre loops, podem ter-se lembrado de uma maneira melhor  (e perfeitamente válida) de o fazer:"
   ]
  },
  {
   "cell_type": "code",
   "execution_count": 6,
   "metadata": {},
   "outputs": [
    {
     "name": "stdout",
     "output_type": "stream",
     "text": [
      "[0, 1, 2, 3, 4, 5, 6, 7, 8, 9, 10, 11, 12, 13, 14, 15, 16, 17, 18, 19, 20, 21, 22, 23, 24, 25, 26, 27, 28, 29, 30, 31, 32, 33, 34, 35, 36, 37, 38, 39, 40, 41, 42, 43, 44, 45, 46, 47, 48, 49, 50, 51, 52, 53, 54, 55, 56, 57, 58, 59, 60, 61, 62, 63, 64, 65, 66, 67, 68, 69, 70, 71, 72, 73, 74, 75, 76, 77, 78, 79, 80, 81, 82, 83, 84, 85, 86, 87, 88, 89, 90, 91, 92, 93, 94, 95, 96, 97, 98, 99]\n"
     ]
    }
   ],
   "source": [
    "lista_grande = []\n",
    "for numero in range(100):\n",
    "    lista_grande.append(numero)\n",
    "    \n",
    "print(lista_grande)"
   ]
  },
  {
   "cell_type": "markdown",
   "metadata": {},
   "source": [
    "Muito melhor! Mas vamos agora aprender uma terceira maneira de construir esta lista: com uma **list comprehension**.\n",
    "\n",
    "A sintaxe é semelhante à escrita de um ciclo for, mas invertida. Em vez de escrevermos:\n",
    "\n",
    "    for elemento in iteravel:\n",
    "        lista.append(elemento)\n",
    "\n",
    "escrevemos:\n",
    "    \n",
    "    lista = [\n",
    "                elemento \n",
    "                for elemento in iteravel\n",
    "            ]\n",
    "            \n",
    "ou numa só linha:\n",
    "\n",
    "    lista = [elemento for elemento in iteravel]"
   ]
  },
  {
   "cell_type": "markdown",
   "metadata": {},
   "source": [
    "Da mesma forma, podemos também criar list comprehensions encadeadas. Suponhamos que queriamos guardar numa lista todas as combinações possíveis do lançamento de dois dados, como tuplos (dado_1, dado_2). Em vez de:\n",
    "\n",
    "    for dado_1 in [1, 2, 3, 4, 5, 6]:\n",
    "        for dado_2 in [1, 2, 3, 4, 5, 6]:\n",
    "            lista.append((dado_1, dado_2))\n",
    "            \n",
    "Podemos fazer o seguinte:"
   ]
  },
  {
   "cell_type": "code",
   "execution_count": 7,
   "metadata": {},
   "outputs": [
    {
     "data": {
      "text/plain": [
       "[(1, 1),\n",
       " (1, 2),\n",
       " (1, 3),\n",
       " (1, 4),\n",
       " (1, 5),\n",
       " (1, 6),\n",
       " (2, 1),\n",
       " (2, 2),\n",
       " (2, 3),\n",
       " (2, 4),\n",
       " (2, 5),\n",
       " (2, 6),\n",
       " (3, 1),\n",
       " (3, 2),\n",
       " (3, 3),\n",
       " (3, 4),\n",
       " (3, 5),\n",
       " (3, 6),\n",
       " (4, 1),\n",
       " (4, 2),\n",
       " (4, 3),\n",
       " (4, 4),\n",
       " (4, 5),\n",
       " (4, 6),\n",
       " (5, 1),\n",
       " (5, 2),\n",
       " (5, 3),\n",
       " (5, 4),\n",
       " (5, 5),\n",
       " (5, 6),\n",
       " (6, 1),\n",
       " (6, 2),\n",
       " (6, 3),\n",
       " (6, 4),\n",
       " (6, 5),\n",
       " (6, 6)]"
      ]
     },
     "execution_count": 7,
     "metadata": {},
     "output_type": "execute_result"
    }
   ],
   "source": [
    "faces = [1, 2, 3, 4, 5, 6]\n",
    "dados = [(dado_1, dado_2) for dado_1 in faces for dado_2 in faces]\n",
    "\n",
    "dados"
   ]
  },
  {
   "cell_type": "markdown",
   "metadata": {},
   "source": [
    "Por fim, podemos também adicionar condições à criação da lista. Suponhamos que queriamos a lista dada pelas seguintes propriedades:\n",
    "    \n",
    "* todos os números de 0 a 9, excepto o número 6;\n",
    "* em vez do número 7, queremos o string \"Jackpot!\"\n",
    "\n",
    "Podemos fazê-lo de forma manual:\n",
    "\n",
    "    for num in range(10):\n",
    "        if num == 6:\n",
    "            continue\n",
    "        elif num == 7:\n",
    "            lista.append(\"Jackpot!\")\n",
    "        else:\n",
    "            lista.append(numero)\n",
    "            \n",
    "Ou recorrendo a uma **list comprehension** e ao operador ternário:"
   ]
  },
  {
   "cell_type": "code",
   "execution_count": 8,
   "metadata": {},
   "outputs": [
    {
     "name": "stdout",
     "output_type": "stream",
     "text": [
      "[0, 1, 2, 3, 4, 5, 'Jackpot!', 8, 9]\n"
     ]
    }
   ],
   "source": [
    "lista = [\n",
    "    num if num != 7 else \"Jackpot!\"\n",
    "    for num in range(10)\n",
    "    if num != 6\n",
    "]\n",
    "\n",
    "print(lista)"
   ]
  },
  {
   "cell_type": "markdown",
   "metadata": {},
   "source": [
    "Podemos ver que usamos dois **if** em locais diferentes:\n",
    "\n",
    "* o primeiro indica que queremos guardar o valor do número excepto se este for 7, e nesse caso queremos guardar guardar o string \"Jackpot!\";\n",
    "* o segundo **if** permite excluir o valor 6 do nosso ciclo."
   ]
  },
  {
   "cell_type": "markdown",
   "metadata": {},
   "source": [
    "Os elementos que podemos incluir dentro de uma list comprehension não estamos limitados a inteiros ou strings. Se mantivermos uma sintaxe válida, podemos, por exemplo, construir listas de listas. Esta é uma técnica útil para construir matrizes:"
   ]
  },
  {
   "cell_type": "code",
   "execution_count": 9,
   "metadata": {},
   "outputs": [
    {
     "data": {
      "text/plain": [
       "[[0, 1, 2, 3, 4],\n",
       " [0, 1, 2, 3, 4],\n",
       " [0, 1, 2, 3, 4],\n",
       " [0, 1, 2, 3, 4],\n",
       " [0, 1, 2, 3, 4]]"
      ]
     },
     "execution_count": 9,
     "metadata": {},
     "output_type": "execute_result"
    }
   ],
   "source": [
    "matrix = [\n",
    "    [linha for linha in range(5)]\n",
    "    for coluna in range(5)\n",
    "]\n",
    "\n",
    "matrix"
   ]
  },
  {
   "cell_type": "markdown",
   "metadata": {},
   "source": [
    "### Dict comprehensions\n",
    "\n",
    "Podemos criar dicionários usando o mesmo raciocínio, mas com uma sintaxe ligeiramente diferente:\n",
    "\n",
    "    dicionario = {\n",
    "        chave: valor\n",
    "        for chave in chaves\n",
    "        for valor in valores\n",
    "    }\n",
    "    \n",
    "Vamos por exemplo criar um dicionário com algumas potências de 2:"
   ]
  },
  {
   "cell_type": "code",
   "execution_count": 10,
   "metadata": {},
   "outputs": [
    {
     "name": "stdout",
     "output_type": "stream",
     "text": [
      "{0: 0, 1: 1, 2: 4, 3: 9, 4: 16, 5: 25, 6: 36, 7: 49, 8: 64, 9: 81}\n",
      "16\n"
     ]
    }
   ],
   "source": [
    "potencias = {\n",
    "    base: base**2\n",
    "    for base in range(10)\n",
    "}\n",
    "\n",
    "print(potencias)\n",
    "\n",
    "print(potencias[4])"
   ]
  },
  {
   "cell_type": "code",
   "execution_count": 11,
   "metadata": {},
   "outputs": [],
   "source": [
    "y = lambda x: 2*x"
   ]
  },
  {
   "cell_type": "markdown",
   "metadata": {},
   "source": [
    "## Funções Lambda\n",
    "\n",
    "Funções lambda são uma maneira alternativa de declarar funções, quando estas tem uma única operação. Em geral esta sintaxe não é utilizada excepto nos casos em que temos uma função que recebe como argumento outra função, e esta \"função-argumento\" é tão simples que não justifica ser declarada num sítio à parte.\n",
    "\n",
    "A sintaxe de uma função lambda é a seguinte:\n",
    "\n",
    "    nome = lambda input: output\n",
    "    \n",
    "A keyword **return** é omitida visto que a função lambda tem apenas uma instrucção. O resultado desta instrucção é o valor do return. \n",
    "\n",
    "Vejamos um exemplo:"
   ]
  },
  {
   "cell_type": "code",
   "execution_count": 12,
   "metadata": {},
   "outputs": [
    {
     "data": {
      "text/plain": [
       "50.0"
      ]
     },
     "execution_count": 12,
     "metadata": {},
     "output_type": "execute_result"
    }
   ],
   "source": [
    "divide_por_10 = lambda valor: valor / 10\n",
    "\n",
    "divide_por_10(500)"
   ]
  },
  {
   "cell_type": "markdown",
   "metadata": {},
   "source": [
    "## Classes\n",
    "\n",
    "O método de programação orientada por objectos é um campo de estudo bastante extenso, e está fora do scope desta unidade. No entanto, é importante aprenderem o conceito de classes, que podem ser utilizadas em Python e em certos casos ajudam bastante na estruturação de um programa.\n",
    "\n",
    "Uma classe pode ser pensada como uma estrutura que representa uma classe do objectos ou entidades. Uma classe é constituida por:\n",
    "\n",
    "* atributos: dados associados com essa classe\n",
    "* métodos: funções associadas a essa classe\n",
    "\n",
    "Como exemplo, vamos criar uma classe **Pessoa**, que terá os atributos nome e idade e o método *cumprimento*:"
   ]
  },
  {
   "cell_type": "code",
   "execution_count": 13,
   "metadata": {},
   "outputs": [],
   "source": [
    "class Pessoa():\n",
    "\n",
    "    def __init__(self, nome, idade):\n",
    "        self.nome = nome\n",
    "        self.idade = idade\n",
    "        \n",
    "    def cumprimento(self):\n",
    "        print(f\"Olá! O meu nome é {self.nome} e tenho {self.idade} anos.\")"
   ]
  },
  {
   "cell_type": "code",
   "execution_count": 14,
   "metadata": {},
   "outputs": [
    {
     "name": "stdout",
     "output_type": "stream",
     "text": [
      "Olá! O meu nome é Fred e tenho 26 anos.\n",
      "Olá! O meu nome é Mariana e tenho 26 anos.\n"
     ]
    }
   ],
   "source": [
    "fred = Pessoa(\"Fred\", 26)\n",
    "mariana = Pessoa(\"Mariana\", 26)\n",
    "\n",
    "\n",
    "fred.cumprimento()\n",
    "mariana.cumprimento()"
   ]
  },
  {
   "cell_type": "markdown",
   "metadata": {},
   "source": [
    "Analizando a sintaxe passo a passo:\n",
    "    \n",
    "* começamos com a keyword **class** e o nome da classe, seguido de parêntesis;\n",
    "* depois definimos o constructor __init__ dentro da classe. Este constructor vai ser usado para construir objectos desta classe. O construtor toma três argumentos, neste caso:\n",
    "    * self: refere-se ao objecto que está a ser construído. Quando chamamos um método de classe, não precisamos de passar nenhuma valor para este argumento.\n",
    "    * nome: o atributo nome para cada instância de um objecto dessa classe.\n",
    "    * idade: o atributo idade para cada instância de um objecto dessa classe.\n",
    "* dentro do constructor, atribuimos os valores aos atributos, usando `self.atributo = valor`.\n",
    "* por fim, definimos o método cumprimento, que imprime uma frase.\n",
    "\n",
    "Depois, criamos duas instâncias da classe Pessoa(), atribuindo-as a duas variáveis, e chamamos o método `cumprimento` para ambas."
   ]
  },
  {
   "cell_type": "markdown",
   "metadata": {},
   "source": [
    "## Conclusão\n",
    "\n",
    "Neste notebook aprendemos como importar funções de módulos externos, algumas técnicas mais avançadas para a criação de listas e dicionários, e a definição de classe. Temos agora todas as ferramentas necessárias para escrever programas avançados de Python.\n",
    "\n",
    "Aqui estão algumas sugestões da melhor abordagem para acelerar a aprendizagem de Python a partir deste ponto:\n",
    "\n",
    "* praticar extensivamente: a melhor maneira de aprender é mesmo praticar a criação de vários tipos de programas diferentes!\n",
    "* melhorar os skills de pesquisa no Google (por mais ridículo que isto pareça, até programadores experientes passam metade do seu tempo a procurar soluções no na Internet, visto que já existem tantos recursos);\n",
    "* experimentar diferentes libraries: não ter medo de procurar libraries especializadas e experimentar usá-las nos programas;\n",
    "* aprender a corrigir erros: a única maneira de fazer isto é... errar muitas vezes! E praticar a leitura das \"error traces\";\n",
    "* pedir a programadores mais experientes para reverem o vosso código: uma das melhores maneiras de aprender são as code reviews, porque permitem "
   ]
  }
 ],
 "metadata": {
  "kernelspec": {
   "display_name": "Python 3",
   "language": "python",
   "name": "python3"
  },
  "language_info": {
   "codemirror_mode": {
    "name": "ipython",
    "version": 3
   },
   "file_extension": ".py",
   "mimetype": "text/x-python",
   "name": "python",
   "nbconvert_exporter": "python",
   "pygments_lexer": "ipython3",
   "version": "3.6.9"
  }
 },
 "nbformat": 4,
 "nbformat_minor": 4
}
