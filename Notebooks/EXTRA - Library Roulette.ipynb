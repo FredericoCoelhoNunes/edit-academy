{
 "cells": [
  {
   "cell_type": "markdown",
   "metadata": {},
   "source": [
    "# Library roulette\n",
    "\n",
    "<img src=\"images/python-logo.jpg\" alt=\"Python\" style=\"width: 300px;\"/>\n",
    "\n",
    "Neste notebook vão poder ver algumas outras libraries e funcionalidades do Python, sem uma explicação detalhada sobre cada uma.\n",
    "O principal objectivo é despertar a vossa curiosidade e servir como ponto de partida para o estudo autónomo."
   ]
  },
  {
   "cell_type": "markdown",
   "metadata": {},
   "source": [
    "## Data / hora"
   ]
  },
  {
   "cell_type": "code",
   "execution_count": null,
   "metadata": {},
   "outputs": [],
   "source": [
    "from datetime import date, datetime"
   ]
  },
  {
   "cell_type": "code",
   "execution_count": null,
   "metadata": {},
   "outputs": [],
   "source": [
    "date.today()"
   ]
  },
  {
   "cell_type": "code",
   "execution_count": null,
   "metadata": {},
   "outputs": [],
   "source": [
    "datetime.now()"
   ]
  },
  {
   "cell_type": "code",
   "execution_count": null,
   "metadata": {},
   "outputs": [],
   "source": [
    "datetime.now().strftime(\"%Y-%m-%d %H:%M:%S\")"
   ]
  },
  {
   "cell_type": "code",
   "execution_count": null,
   "metadata": {},
   "outputs": [],
   "source": [
    "date_str = \"2020...04...10\"\n",
    "\n",
    "actual_datetime = datetime.strptime(date_str, \"%Y...%m...%d\")\n",
    "\n",
    "actual_datetime.date()"
   ]
  },
  {
   "cell_type": "markdown",
   "metadata": {},
   "source": [
    "### Com o Pandas:"
   ]
  },
  {
   "cell_type": "code",
   "execution_count": null,
   "metadata": {},
   "outputs": [],
   "source": [
    "import pandas as pd"
   ]
  },
  {
   "cell_type": "code",
   "execution_count": null,
   "metadata": {},
   "outputs": [],
   "source": [
    "idx = pd.date_range(start='2020-04-01', end='2020-04-10')\n",
    "\n",
    "df = pd.DataFrame(index=idx)\n",
    "\n",
    "df['values'] = list(range(10))"
   ]
  },
  {
   "cell_type": "code",
   "execution_count": null,
   "metadata": {},
   "outputs": [],
   "source": [
    "df"
   ]
  },
  {
   "cell_type": "code",
   "execution_count": null,
   "metadata": {},
   "outputs": [],
   "source": [
    "df.loc['2020-04-03':'2020-04-07']"
   ]
  },
  {
   "cell_type": "markdown",
   "metadata": {},
   "source": [
    "## Números aleatórios"
   ]
  },
  {
   "cell_type": "code",
   "execution_count": null,
   "metadata": {},
   "outputs": [],
   "source": [
    "import numpy as np"
   ]
  },
  {
   "cell_type": "code",
   "execution_count": null,
   "metadata": {},
   "outputs": [],
   "source": [
    "np.random.random()"
   ]
  },
  {
   "cell_type": "code",
   "execution_count": null,
   "metadata": {},
   "outputs": [],
   "source": [
    "for i in range(5):\n",
    "    print(np.random.randint(0, 10))"
   ]
  },
  {
   "cell_type": "code",
   "execution_count": null,
   "metadata": {},
   "outputs": [],
   "source": [
    "np.random.random((3, 3))"
   ]
  },
  {
   "cell_type": "markdown",
   "metadata": {},
   "source": [
    "## Input"
   ]
  },
  {
   "cell_type": "code",
   "execution_count": null,
   "metadata": {},
   "outputs": [],
   "source": [
    "x = input(\"Escreva um número: \")"
   ]
  },
  {
   "cell_type": "code",
   "execution_count": null,
   "metadata": {},
   "outputs": [],
   "source": [
    "print(x)"
   ]
  },
  {
   "cell_type": "markdown",
   "metadata": {},
   "source": [
    "## Web Scraping\n",
    "\n",
    "Permite extrair dados de páginas web. Vamos \"scrapar\" a página inicial da Wikipedia:"
   ]
  },
  {
   "cell_type": "code",
   "execution_count": null,
   "metadata": {},
   "outputs": [],
   "source": [
    "from bs4 import BeautifulSoup\n",
    "import requests"
   ]
  },
  {
   "cell_type": "code",
   "execution_count": null,
   "metadata": {},
   "outputs": [],
   "source": [
    "# Scraping da página inicial da Wikipedia\n",
    "webpage = requests.get('http://en.wikipedia.org/wiki/Main_Page')"
   ]
  },
  {
   "cell_type": "code",
   "execution_count": null,
   "metadata": {},
   "outputs": [],
   "source": [
    "webpage.text[0:100]"
   ]
  },
  {
   "cell_type": "code",
   "execution_count": null,
   "metadata": {},
   "outputs": [],
   "source": [
    "soup = BeautifulSoup(webpage.text, 'html.parser')"
   ]
  },
  {
   "cell_type": "code",
   "execution_count": null,
   "metadata": {},
   "outputs": [],
   "source": [
    "print(soup.get_text()[0:1000])"
   ]
  },
  {
   "cell_type": "markdown",
   "metadata": {},
   "source": [
    "## Regular Expressions\n",
    "\n",
    "Permite procurar expressões em texto. Vamos encontrar todos os números numa sequência de caractéres:"
   ]
  },
  {
   "cell_type": "code",
   "execution_count": null,
   "metadata": {},
   "outputs": [],
   "source": [
    "import re"
   ]
  },
  {
   "cell_type": "code",
   "execution_count": null,
   "metadata": {},
   "outputs": [],
   "source": [
    "lixo = \"srgçsouurhoshgoru151355sngoiroinsogn9784sfniosenroisnefinio098120398ksdfonsofdnos123alnda\""
   ]
  },
  {
   "cell_type": "code",
   "execution_count": null,
   "metadata": {},
   "outputs": [],
   "source": [
    "re.findall(\"[0-9]+\", lixo)"
   ]
  },
  {
   "cell_type": "markdown",
   "metadata": {},
   "source": [
    "Agora vamos verificar se um email é válido:"
   ]
  },
  {
   "cell_type": "code",
   "execution_count": null,
   "metadata": {},
   "outputs": [],
   "source": [
    "expressão_email = \"^([a-zA-Z0-9_\\-\\.]+)@([a-zA-Z0-9_\\-\\.]+)\\.([a-zA-Z]{2,5})$\"\n",
    "\n",
    "email_certo = \"john.doe@gmail.com\"\n",
    "email_errado = \"#$john_at_gmail.com\"\n",
    "\n",
    "if re.match(expressão_email, email_certo):\n",
    "    print(f'{email_certo} : é um email válido.')\n",
    "else:\n",
    "    print(f'{email_certo} : é um email inválido.')\n",
    "    \n",
    "if re.match(expressão_email, email_errado):\n",
    "    print(f'{email_errado} : é um email válido.')\n",
    "else:\n",
    "    print(f'{email_errado} : é um email inválido.')\n",
    " "
   ]
  },
  {
   "cell_type": "markdown",
   "metadata": {},
   "source": [
    "## Time / Multiprocessing\n",
    "\n",
    "Vamos ver quanto tempo demora um loop com um grande número de iterações. Depois vamos parallelizar este loop, e comparar o tempo."
   ]
  },
  {
   "cell_type": "code",
   "execution_count": null,
   "metadata": {},
   "outputs": [],
   "source": [
    "import time\n",
    "import multiprocessing"
   ]
  },
  {
   "cell_type": "code",
   "execution_count": null,
   "metadata": {},
   "outputs": [],
   "source": [
    "ITERACOES = 10000000\n",
    "\n",
    "def quadrado(x):\n",
    "    return x ** 2\n",
    "\n",
    "start = time.time()\n",
    "\n",
    "quadrados = []\n",
    "for i in range(ITERACOES):\n",
    "    quadrados.append(quadrado(i))\n",
    "\n",
    "end = time.time()\n",
    "print(f'Sequencialmente, demorou {end-start} segundos.')\n",
    "    "
   ]
  },
  {
   "cell_type": "code",
   "execution_count": null,
   "metadata": {},
   "outputs": [],
   "source": [
    "start = time.time()\n",
    "\n",
    "pool = multiprocessing.Pool(processes=4) \n",
    "quadrados = pool.map(quadrado, range(ITERACOES))\n",
    "\n",
    "end = time.time()\n",
    "\n",
    "print(f'Em paralelo, demorou {end-start} segundos.')"
   ]
  },
  {
   "cell_type": "markdown",
   "metadata": {},
   "source": [
    "## Algumas outras...\n",
    "\n",
    "* os: operações com o sistema operativo, listar ficheiros em pastas, etc;\n",
    "* pickle: guardar e carregar objectos;\n",
    "* json: serialização de dados no formato JSON (muito importante!);\n",
    "* Pillow: processamento de imagens;\n",
    "* pygame: programação de jogos;\n",
    "* sqlalchemy: conexão com bases de dados.\n",
    "\n",
    "Recomendação pessoal do instrutor: **streamlit** - library para criar facilmente pequenas apps para data science/machine learning (https://www.streamlit.io/)"
   ]
  }
 ],
 "metadata": {
  "kernelspec": {
   "display_name": "Python 3",
   "language": "python",
   "name": "python3"
  },
  "language_info": {
   "codemirror_mode": {
    "name": "ipython",
    "version": 3
   },
   "file_extension": ".py",
   "mimetype": "text/x-python",
   "name": "python",
   "nbconvert_exporter": "python",
   "pygments_lexer": "ipython3",
   "version": "3.6.9"
  }
 },
 "nbformat": 4,
 "nbformat_minor": 4
}
