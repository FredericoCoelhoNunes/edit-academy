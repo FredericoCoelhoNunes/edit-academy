{
 "cells": [
  {
   "cell_type": "markdown",
   "metadata": {},
   "source": [
    "# Python"
   ]
  },
  {
   "cell_type": "markdown",
   "metadata": {},
   "source": [
    "<img src=\"images/python-logo.jpg\" alt=\"Python\" style=\"width: 300px;\"/>\n",
    "\n",
    "O **Python** é uma das linguagens mais usadas no mundo da Data Science. \n",
    "\n",
    "Aqui estão algumas das suas características mais importantes:\n",
    "\n",
    "\n",
    "1. Fácil de aprender e escrever: a sintaxe da linguagem é muito intuitiva e parecida à nossa linguagem natural.\n",
    "2. Open-source e sem custos: não há custos associados ao uso do Python, e toda a sua composição está aberta ao público.\n",
    "3. Linguagem de alto nível: ao contrário de outras linguagens como C, permite focar-nos 100% no design do programa e workflow, com poucas preocupações de baixo nível como alocar memória para as variáveis.\n",
    "4. Código em Python funciona em múltiplas plataformas sem necessidade de adaptação.\n",
    "5. Linguagem interpretada: não requere um passo de compilação do programa antes de o correr.\n",
    "6. \"Standard library\" bastante alargada (e muitos outros packages dispoíveis): muitas funcionalidades diferentes estão disponíveis \"out-of-the-box\", sem necessidade de serem programadas do zero.\n",
    "7. Língua \"dynamically typed\": os tipos de variáveis são decididos na altura em que o programa correr, não sendo necessário especificar o tipo de uma variável no código (o que é menos uma preocupação para principiantes).\n",
    "8. Suporta programação orientada por objectos.\n",
    "\n",
    "\n",
    "Ao contrário de uma língua real, em que precisamos de aprender inúmeras palavras, regras gramaticais e tempos verbais para criar uma frase simples que faça sentido, numa língua de programação (e especialmente no Python) só precisamos de aprender algumas regras para escrever programas com funcionalidades bastante úteis.\n",
    "\n",
    "Existe também uma grande quantidade de documentação e exemplos online, acessíveis a qualquer pessoa, o que diminui bastante a barreira de entrada à aprendizagem de Python.\n",
    "\n",
    "Vamos começar por aprender quais os tipos mais importantes de variáveis e estruturas de dados que podemos usar.\n"
   ]
  },
  {
   "cell_type": "markdown",
   "metadata": {},
   "source": [
    "# Tipos básicos de variáveis"
   ]
  },
  {
   "cell_type": "markdown",
   "metadata": {},
   "source": [
    "### Inteiros\n",
    "\n",
    "As variáveis são inteiras (\"integers\") quando contém um número inteiro, sem parte decimal. Simples!"
   ]
  },
  {
   "cell_type": "code",
   "execution_count": null,
   "metadata": {},
   "outputs": [],
   "source": [
    "# Isto é uma célula do Jupyter Notebook. Podem escrever código aqui dentro,\n",
    "# e quando clicarem Shift + Enter, o código será executado.\n",
    "# Linhas começadas por \"#\" são comentários, e são ignoradas pelo programa.\n",
    "\n",
    "a = 10\n",
    "b = 5"
   ]
  },
  {
   "cell_type": "markdown",
   "metadata": {},
   "source": [
    "Podem fazer contas e atribuir valores a novas variáveis. Por exemplo:"
   ]
  },
  {
   "cell_type": "code",
   "execution_count": null,
   "metadata": {},
   "outputs": [],
   "source": [
    "valor_soma = a + b\n",
    "valor_subtraccao = a - b\n",
    "valor_multiplicacao = a * b\n",
    "valor_divisão = a / b\n",
    "valor_potencia = a ** b\n"
   ]
  },
  {
   "cell_type": "markdown",
   "metadata": {},
   "source": [
    "Agora que atribuimos valores às nossas variáveis (ná célula anterior), experimentem correr esta célula."
   ]
  },
  {
   "cell_type": "code",
   "execution_count": null,
   "metadata": {
    "scrolled": true
   },
   "outputs": [],
   "source": [
    "print('A função print escreve um (ou mais) valores para o ecrã.\\n')\n",
    "\n",
    "print(valor_soma)\n",
    "\n",
    "print(valor_subtraccao)\n",
    "\n",
    "print(valor_multiplicacao)\n",
    "\n",
    "print(valor_divisão)\n",
    "\n",
    "print(valor_potencia)\n",
    "\n",
    "print(a, b, b, a)"
   ]
  },
  {
   "cell_type": "markdown",
   "metadata": {},
   "source": [
    "Vamos agora atribuir um valor à variável c, usando aritmética. Os valores de a, b e c estarão guardados em memória (mesmo se as células forem apagadas!).\n",
    "\n",
    "Se reiniciarem o Kernel (o \"cerébro\" do notebook), esta informação será perdida."
   ]
  },
  {
   "cell_type": "code",
   "execution_count": null,
   "metadata": {},
   "outputs": [],
   "source": [
    "c = 3 * a - b\n",
    "print(c)"
   ]
  },
  {
   "cell_type": "markdown",
   "metadata": {},
   "source": [
    "Por defeito, um notebook faz \"print\" automaticamente do último valor escrito na célula. Por isso, em vez de print(c), podemos só escrever c:"
   ]
  },
  {
   "cell_type": "code",
   "execution_count": null,
   "metadata": {},
   "outputs": [],
   "source": [
    "c"
   ]
  },
  {
   "cell_type": "markdown",
   "metadata": {},
   "source": [
    "Podemos também incrementar o valor de uma variável. Ambas as formas são válidas:"
   ]
  },
  {
   "cell_type": "code",
   "execution_count": null,
   "metadata": {},
   "outputs": [],
   "source": [
    "x = 1\n",
    "\n",
    "x = x + 1\n",
    "print(x)\n",
    "\n",
    "x += 1  # podemos também usar -=, *=, /=\n",
    "print(x)"
   ]
  },
  {
   "cell_type": "markdown",
   "metadata": {},
   "source": [
    "### Floats\n",
    "\n",
    "Os floats são números com parte decimal. Se somarmos um inteiro com um float, obtemos um float."
   ]
  },
  {
   "cell_type": "code",
   "execution_count": null,
   "metadata": {},
   "outputs": [],
   "source": [
    "f1 = 5.6\n",
    "f2 = 7.0  # mesmo quando a parte decimal é zero!\n",
    "f3 = -7.55"
   ]
  },
  {
   "cell_type": "code",
   "execution_count": null,
   "metadata": {},
   "outputs": [],
   "source": [
    "print(f1 + f2 + f3)\n",
    "print(a + f1)"
   ]
  },
  {
   "cell_type": "markdown",
   "metadata": {},
   "source": [
    "### Strings\n",
    "\n",
    "Os strings são interpretados como sequências de caractéres, sem valor númerico.\n",
    "Para distinguir um string do nome de uma variável, devemos colocar aspas ou pelicas à sua volta."
   ]
  },
  {
   "cell_type": "code",
   "execution_count": null,
   "metadata": {},
   "outputs": [],
   "source": [
    "nome = 'John'\n",
    "\n",
    "print('nome')\n",
    "print(nome)  "
   ]
  },
  {
   "cell_type": "markdown",
   "metadata": {},
   "source": [
    "Reparem na diferença:\n",
    "\n",
    "* sem pelicas vai buscar o valor da variável nome; \n",
    "* com pelicas é simplesmente a palavra nome."
   ]
  },
  {
   "cell_type": "markdown",
   "metadata": {},
   "source": [
    "Podemos fazer algumas operações com strings muito semelhantes às operações numéricas.\n"
   ]
  },
  {
   "cell_type": "code",
   "execution_count": null,
   "metadata": {},
   "outputs": [],
   "source": [
    "s1 = 'Hey! '\n",
    "\n",
    "# neste caso usei aspas, porque a palavra \"Let's\" tem uma\n",
    "# pelica - o que \"fecharia\" o string antes de terminar\n",
    "s2 = \"Oh! Let's go!\"  \n",
    "\n",
    "\n",
    "print(s1 + s2)\n",
    "\n",
    "print(3 * s1)"
   ]
  },
  {
   "cell_type": "markdown",
   "metadata": {},
   "source": [
    "Podemos ter strings com números, mas eles continuam a comportar-se como strings!"
   ]
  },
  {
   "cell_type": "code",
   "execution_count": null,
   "metadata": {},
   "outputs": [],
   "source": [
    "numero_1 = \"123\"\n",
    "numero_2 = \"456\"\n",
    "\n",
    "print(numero_1 + numero_2)"
   ]
  },
  {
   "cell_type": "markdown",
   "metadata": {},
   "source": [
    "Podemos introduzir parágrafos e tabs nos nossos strings usando as seguintes combinações de caractéres: \n",
    "\n",
    "* **\\n** para um parágrafo\n",
    "* **\\t** para um tab\n",
    "\n",
    "Como a barra (\\\\) é utilizada para indicar caractéres especiais como estes, se quisermos escrever apenas uma barra no nosso string, temos de assinalá-la da seguinte forma: **\\\\\\\\**. Escrever barras isoladas irá resultar num erro!"
   ]
  },
  {
   "cell_type": "code",
   "execution_count": null,
   "metadata": {},
   "outputs": [],
   "source": [
    "print('Olá!\\nAdeus')"
   ]
  },
  {
   "cell_type": "code",
   "execution_count": null,
   "metadata": {},
   "outputs": [],
   "source": [
    "print('\\tOlá')"
   ]
  },
  {
   "cell_type": "code",
   "execution_count": null,
   "metadata": {},
   "outputs": [],
   "source": [
    "print('Uma barra: \\\\')"
   ]
  },
  {
   "cell_type": "markdown",
   "metadata": {},
   "source": [
    "Podemos obter a versão \"upper case\" ou \"lower case\" de um string usando **lower** ou **upper**:"
   ]
  },
  {
   "cell_type": "code",
   "execution_count": null,
   "metadata": {},
   "outputs": [],
   "source": [
    "nome = 'Fred'\n",
    "nome.upper()"
   ]
  },
  {
   "cell_type": "code",
   "execution_count": null,
   "metadata": {},
   "outputs": [],
   "source": [
    "pais = 'PT'\n",
    "pais.lower()"
   ]
  },
  {
   "cell_type": "markdown",
   "metadata": {},
   "source": [
    "#### Avançado: f-strings\n",
    "\n",
    "Para criarmos strings compostos de várias variáveis, podemos usar **f-strings**. Aqui está um exemplo:\n",
    "\n",
    "    string_maior = f\"{variavel} tem o valor: {valor}\"\n",
    "    \n",
    "O string deve começar por *f*, e de seguida abrimos pelicas ou aspas. Depois no seu interior, se quisermos introduzir uma variável, devemos colocá-la entre chavetas.\n",
    "\n",
    "Estes strings tornam os programas muito mais legíveis. Vehamos um exemplo:"
   ]
  },
  {
   "cell_type": "code",
   "execution_count": null,
   "metadata": {},
   "outputs": [],
   "source": [
    "pessoa = 'Fred'\n",
    "dias = 20\n",
    "accao = 'log-in'\n",
    "\n",
    "print(f\"O {pessoa} fez {accao} há {dias} dias.\")"
   ]
  },
  {
   "cell_type": "markdown",
   "metadata": {},
   "source": [
    "### Boolean\n",
    "\n",
    "Uma variável do tipo Boolean pode tomar dois valores: True or False.\n",
    "Usadas para lógica condicional (como iremos ver mais à frente)"
   ]
  },
  {
   "cell_type": "code",
   "execution_count": null,
   "metadata": {},
   "outputs": [],
   "source": [
    "verdade = True\n",
    "mentira = False\n",
    "\n",
    "print(verdade, mentira)"
   ]
  },
  {
   "cell_type": "markdown",
   "metadata": {},
   "source": [
    "### None\n",
    "\n",
    "O None é uma keyword usada para indicar um valor inexistente (\"não há nada aqui\").\n",
    "Como iremos ver mais à frente, é útil para o uso de funçóes (uma função que não retorne nenhum valor em concreto retorna None)"
   ]
  },
  {
   "cell_type": "code",
   "execution_count": null,
   "metadata": {},
   "outputs": [],
   "source": [
    "nada = None\n",
    "\n",
    "print(nada)"
   ]
  },
  {
   "cell_type": "markdown",
   "metadata": {},
   "source": [
    "# Qual é o tipo de uma certa variável?\n",
    "\n",
    "Para descobrirmos o tipo (\"class\") de uma variável, podemos usar a função **type**"
   ]
  },
  {
   "cell_type": "code",
   "execution_count": null,
   "metadata": {},
   "outputs": [],
   "source": [
    "a = 10\n",
    "\n",
    "type(a)  # 'int' -> Integer\n"
   ]
  },
  {
   "cell_type": "code",
   "execution_count": null,
   "metadata": {},
   "outputs": [],
   "source": [
    "b = 'hello!'\n",
    "\n",
    "type(b)  # 'str' -> String"
   ]
  },
  {
   "cell_type": "markdown",
   "metadata": {},
   "source": [
    "# Erros no código\n",
    "\n",
    "Antes de começarmos a aprender coisas mais complexas, temos de aprender a identificar quando o nosso código tem algum erro.\n",
    "\n",
    "Aqui estão alguns dos erros mais comuns para um principiante na linguagem Python."
   ]
  },
  {
   "cell_type": "markdown",
   "metadata": {},
   "source": [
    "### SyntaxError\n",
    "\n",
    "Quando temos algum erro na sintaxe do programa - algo que não está escrito de acordo com as regras do Python.\n",
    "\n",
    "Aqui estão alguns exemplos de erros de sintaxe. Se tentarem correr as células seguintes, vão ter um erro na execução, e a célula não vai correr."
   ]
  },
  {
   "cell_type": "markdown",
   "metadata": {},
   "source": [
    "Esquecemo-nos de atribuir um valor a uma variável:"
   ]
  },
  {
   "cell_type": "code",
   "execution_count": null,
   "metadata": {},
   "outputs": [],
   "source": [
    "oops ="
   ]
  },
  {
   "cell_type": "markdown",
   "metadata": {},
   "source": [
    "Esquecemo-nos de fechar um parêntesis.\n",
    "Neste caso, temos uma indicação extra: unexpected EOF (end-of-file)\n",
    "Isto significa que a instrução terminou de forma inesperada (faltava um parêntesis)"
   ]
  },
  {
   "cell_type": "code",
   "execution_count": null,
   "metadata": {},
   "outputs": [],
   "source": [
    "print(5 + 7"
   ]
  },
  {
   "cell_type": "markdown",
   "metadata": {},
   "source": [
    "Se tentarmos escrever mais do que uma instrução por linha"
   ]
  },
  {
   "cell_type": "code",
   "execution_count": null,
   "metadata": {},
   "outputs": [],
   "source": [
    "a = 10 print(a)"
   ]
  },
  {
   "cell_type": "markdown",
   "metadata": {},
   "source": [
    "Se escrevermos um ou mais caracteres inválidos"
   ]
  },
  {
   "cell_type": "code",
   "execution_count": null,
   "metadata": {},
   "outputs": [],
   "source": [
    ">>print(\"oops\")<<"
   ]
  },
  {
   "cell_type": "markdown",
   "metadata": {},
   "source": [
    "##### Nomes inválidos\n",
    "\n",
    "Se tentarmos dar um nome inválido a uma variável, vamos ter um erro também.\n",
    "As variáveis tem de seguir a seguinte convenção:\n",
    "    - não podem começar por números, apenas letras ou underscores (_)\n",
    "    - não podem ter o nome de uma keyword do Python (palavras que são parte da sintaxe: para uma lista completa, usem: help('keywords') \n",
    "    - se derem o nome de uma função do Python a uma variável (como por exemplo print = 10) perdem a capacidade de utilizar essa função até reiniciarem o kernel! "
   ]
  },
  {
   "cell_type": "code",
   "execution_count": null,
   "metadata": {},
   "outputs": [],
   "source": [
    "help('keywords')"
   ]
  },
  {
   "cell_type": "code",
   "execution_count": null,
   "metadata": {
    "scrolled": true
   },
   "outputs": [],
   "source": [
    "True = 10"
   ]
  },
  {
   "cell_type": "code",
   "execution_count": null,
   "metadata": {},
   "outputs": [],
   "source": [
    "123my_variable = 'oops'  # não pode começar por números!"
   ]
  },
  {
   "cell_type": "markdown",
   "metadata": {},
   "source": [
    "### NameError\n",
    "\n",
    "Se tentarmos aceder a uma variável que ainda não existe."
   ]
  },
  {
   "cell_type": "code",
   "execution_count": null,
   "metadata": {},
   "outputs": [],
   "source": [
    "x = 10 + variavel_que_nao_existe"
   ]
  },
  {
   "cell_type": "markdown",
   "metadata": {},
   "source": [
    "### TypeError\n",
    "\n",
    "Este error acontece quando tentamos fazer uma operação com variáveis do tipo errado, ou de tipos incompatíveis."
   ]
  },
  {
   "cell_type": "markdown",
   "metadata": {},
   "source": [
    "Se tentarmos somar um inteiro a um string, por exemplo:"
   ]
  },
  {
   "cell_type": "code",
   "execution_count": null,
   "metadata": {},
   "outputs": [],
   "source": [
    "5 + \"10\""
   ]
  },
  {
   "cell_type": "markdown",
   "metadata": {},
   "source": [
    "### ZeroDivisionError\n",
    "\n",
    "Se tentarem dividir por zero."
   ]
  },
  {
   "cell_type": "code",
   "execution_count": null,
   "metadata": {},
   "outputs": [],
   "source": [
    "x = 10 / 0"
   ]
  }
 ],
 "metadata": {
  "kernelspec": {
   "display_name": "Python 3",
   "language": "python",
   "name": "python3"
  },
  "language_info": {
   "codemirror_mode": {
    "name": "ipython",
    "version": 3
   },
   "file_extension": ".py",
   "mimetype": "text/x-python",
   "name": "python",
   "nbconvert_exporter": "python",
   "pygments_lexer": "ipython3",
   "version": "3.6.9"
  }
 },
 "nbformat": 4,
 "nbformat_minor": 4
}
