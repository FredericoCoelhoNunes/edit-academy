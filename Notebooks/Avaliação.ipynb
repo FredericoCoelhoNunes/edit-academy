{
 "cells": [
  {
   "cell_type": "markdown",
   "metadata": {},
   "source": [
    "# Avaliação\n",
    "\n",
    "<img src=\"images/python-logo.jpg\" alt=\"Python\" style=\"width: 300px;\"/>\n",
    "\n",
    "A avaliação deste módulo irá pôr-vos no lugar de um Data Scientist que está a trabalhar numa app para fazer recomendações de vinhos. A vossa chefia pediu-vos para analisarem um *dataset* de reviews de vinhos (que podem encontrar no ficheiro `data/wine-reviews/wine_reviews`), e responderem às seguintes questões:\n",
    "\n",
    "1. qual foi a review (*description*) que o provador de vinhos Roger Voss deu ao champagne com o título (*title*) Delamotte NV Rosé Brut Champagne? \n",
    "2. quais são as 5 variedades (*variety*) de vinho mais comuns?\n",
    "3. a provadora Virginie Boone foi mais activa para vinhos de que região (*region_1*)?\n",
    "4. qual foi a classificação média entre todos os vinhos? E só para vinhos da California (*province*)?\n",
    "5. qual a distribuição dos preços de vinhos franceses?\n",
    "6. qual o melhor país para alguém apreciador de vinhos da variedade \"Red Blend\"?\n",
    "7. que combinação province/region_1 contém mais vinhos com pontuação superior a 80?\n",
    "8. quais são os títulos dos vinhos com a pontuação mais baixa?\n",
    "\n",
    "As respostas a estas questões podem vir acompanhadas de visualizações, quando adequado.\n",
    "\n",
    "Para além destas perguntas, a vossa chefia pediu-vos para criarem algumas funções:\n",
    "\n",
    "9. uma função que recebe o nome de um provador (*taster_name*) e um país, e calcula o número de reviews, pontuação mínima/média/máxima, e preço médio dos vinhos que ele provou desse país. O resultado deve aparecer num string formatado (exemplo: \"O provador X provou N vinhos do país Y ...\")\n",
    "10. uma função que recebe o nome de um provador, e cria uma análise da palavras mais frequentes utilizadas por esse provador nas suas reviews, para avaliar o quão positivo/negativo ele é (dica: será que palavras como \"the\", \"a\", \"this\"... importam nesta análise?). O output da função deverá estar ordenado em ordem decrescente, deixando ao vosso critério que estruturas de dados utilizar.\n",
    "\n",
    "Gostariam também de ter as seguintes colunas nos dados:\n",
    "\n",
    "11. uma coluna com o preço do vinho + IVA (23%);\n",
    "12. uma coluna com o nome do provador + o twitter handle (exemplo: Roger Voss@vossroger). Nos casos em que um ou mais não seja conhecido, devem ser substituídos por \"unknown\" (exemplo: no caso de um reviewer anónimo, unknown@unknown).\n",
    "\n",
    "A vossa chefia disse-vos também que qualquer análise adicional seria bem vinda, e que estão à vontade para serem criativos. \n",
    "\n",
    "Têm também aprovação para modificar qualquer um dos requisitos (questões ou funções) se acharem que não está claro, ou que há uma alternativa melhor (uma maneira mais informativa de responder a questão em termos de negócio, por exemplo)."
   ]
  },
  {
   "cell_type": "markdown",
   "metadata": {},
   "source": [
    "### Notas\n",
    "\n",
    "O produto final deve ser um Jupyter Notebook enviar por email ao instrutor (por favor incluam num .zip o ficheiro com os dados, e na leitura dos dados usem localizações relativas ao Notebook, para o instrutor poder correr o Notebook no seu próprio computador).\n",
    "\n",
    "Nesta avaliação importa mais que sejam criativos e escrevam bem o código do que as respostas em si. As únicas maneiras de perder pontos são por falta de esforço, ou falta de clareza na comunicação dos resultados!\n",
    "\n",
    "Por isso é importante que não se esqueçam de comentar bem o código, e que o escrevam de forma organizada (usando funções, por exemplo). Identifiquem também a qual das perguntas estão a responder. Células em Markdown (texto formatado, como esta que estão a ler) não são obrigatórias.\n",
    "\n",
    "Bom trabalho e espero que desfrutem de fazer esta análise!"
   ]
  }
 ],
 "metadata": {
  "kernelspec": {
   "display_name": "Python 3",
   "language": "python",
   "name": "python3"
  },
  "language_info": {
   "codemirror_mode": {
    "name": "ipython",
    "version": 3
   },
   "file_extension": ".py",
   "mimetype": "text/x-python",
   "name": "python",
   "nbconvert_exporter": "python",
   "pygments_lexer": "ipython3",
   "version": "3.6.9"
  }
 },
 "nbformat": 4,
 "nbformat_minor": 4
}
