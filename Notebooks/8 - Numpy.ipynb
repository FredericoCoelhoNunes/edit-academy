{
 "cells": [
  {
   "cell_type": "markdown",
   "metadata": {},
   "source": [
    "# Numpy\n",
    "\n",
    "<img src=\"images/python-logo.jpg\" alt=\"Python\" style=\"width: 300px;\"/>\n",
    "\n",
    "O Numpy é uma das libraries mais populares de processamento de dados e cálculo cientifico. Esta library permite realizar operações numéricas entre arrays multidimensionais (vectores/matrizes) com alta performance, e é utilizada por muitas outras libraries (como por exemplo o Pandas).\n",
    "\n",
    "Apesar de ser menos comum utilizar exclusivamente o Numpy, esta continua a ser uma library extremamente útil e é importante saber pelo menos os básicos de como a utilizar.\n",
    "\n",
    "Neste notebook um pouco mais curto, vamos ver alguns exemplos da utilização do Numpy e os seus conceitos mais importantes."
   ]
  },
  {
   "cell_type": "markdown",
   "metadata": {},
   "source": [
    "## Arrays\n",
    "\n",
    "A estrutura de dados fundamental do Numpy é o \"array\", que representa um vector ou uma matriz de qualquer dimensão. A maneira de aceder aos seus elementos é semelhante a uma lista, no sentido em que podemos utilizar o operador de slicing (**:**) em qualquer uma das suas dimensões."
   ]
  },
  {
   "cell_type": "markdown",
   "metadata": {},
   "source": [
    "Podemos criar um array a partir de uma lista. Vejamos:"
   ]
  },
  {
   "cell_type": "code",
   "execution_count": null,
   "metadata": {},
   "outputs": [],
   "source": [
    "import numpy as np"
   ]
  },
  {
   "cell_type": "code",
   "execution_count": null,
   "metadata": {},
   "outputs": [],
   "source": [
    "arr = np.array([10, 20, 30])\n",
    "\n",
    "arr"
   ]
  },
  {
   "cell_type": "markdown",
   "metadata": {},
   "source": [
    "Vamos ver o tipo e o formato deste objecto:"
   ]
  },
  {
   "cell_type": "code",
   "execution_count": null,
   "metadata": {},
   "outputs": [],
   "source": [
    "print(type(arr))\n",
    "\n",
    "print(arr.shape)"
   ]
  },
  {
   "cell_type": "markdown",
   "metadata": {},
   "source": [
    "Como podemos ver pela shape, este é um vector de 3 componentes. A sua shape é **(3,)**. A vírgula indica que estamos perante um vector, e não uma matriz; apesar da diferença ser subtil, certas operações do numpy requerem duas matrizes, mesmo que estas tenham 3 linhas e 1 coluna, ou 1 linha e 3 colunas (que efectivamente é o mesmo que um vector). "
   ]
  },
  {
   "cell_type": "markdown",
   "metadata": {},
   "source": [
    "Para criar uma matriz, ou um array de 2 dimensões, podemos utilizar uma lista de listas:"
   ]
  },
  {
   "cell_type": "code",
   "execution_count": null,
   "metadata": {},
   "outputs": [],
   "source": [
    "mat = np.array([[10, 20, 30], [40, 50, 60], [70, 80, 90]])\n",
    "\n",
    "mat"
   ]
  },
  {
   "cell_type": "markdown",
   "metadata": {},
   "source": [
    "Podemos ver que cada lista que passamos é uma linha da nossa matrix. Vejamos a sua shape:"
   ]
  },
  {
   "cell_type": "code",
   "execution_count": null,
   "metadata": {},
   "outputs": [],
   "source": [
    "mat.shape"
   ]
  },
  {
   "cell_type": "markdown",
   "metadata": {},
   "source": [
    "Para acedermos aos seus elementos, podemos fazer slicing em cada uma das dimensões (a primeira são as linhas, e a segunda dão as colunas). Vamos extrair as duas ultimas colunas:"
   ]
  },
  {
   "cell_type": "code",
   "execution_count": null,
   "metadata": {},
   "outputs": [],
   "source": [
    "mat[:, 1:]"
   ]
  },
  {
   "cell_type": "markdown",
   "metadata": {},
   "source": [
    "Podemos obter o transposto de um array (as linhas e as colunas trocadas) com o atributo **T**:"
   ]
  },
  {
   "cell_type": "code",
   "execution_count": null,
   "metadata": {},
   "outputs": [],
   "source": [
    "mat = np.array([[10, 20, 30], [40, 50, 60]])\n",
    "\n",
    "mat"
   ]
  },
  {
   "cell_type": "code",
   "execution_count": null,
   "metadata": {},
   "outputs": [],
   "source": [
    "mat.T"
   ]
  },
  {
   "cell_type": "markdown",
   "metadata": {},
   "source": [
    "### Maneiras de criar arrays\n",
    "\n",
    "Podemos criar alguns dos arrays mais utilizados de forma fácil, sem termos de escrever as listas de números à mão. Vejamos:"
   ]
  },
  {
   "cell_type": "markdown",
   "metadata": {},
   "source": [
    "#### Matriz identidade\n",
    "\n",
    "Uma matriz identidade é uma matriz quadrada (mesmo número de linha e de colunas) com 1's na diagonal, e o resto 0's. Podemos criá-la com a função **eye**, passando o número de linhas/colunas que queremos:"
   ]
  },
  {
   "cell_type": "code",
   "execution_count": null,
   "metadata": {},
   "outputs": [],
   "source": [
    "np.eye(5)"
   ]
  },
  {
   "cell_type": "markdown",
   "metadata": {},
   "source": [
    "#### Matriz de zeros/uns\n",
    "\n",
    "Podemos criar uma matriz cheia de zeros/uns com as funções **zeros**/**ones**, passando como argumento o formato (*shape*) da matriz:"
   ]
  },
  {
   "cell_type": "code",
   "execution_count": null,
   "metadata": {},
   "outputs": [],
   "source": [
    "np.zeros((5, 3))"
   ]
  },
  {
   "cell_type": "code",
   "execution_count": null,
   "metadata": {},
   "outputs": [],
   "source": [
    "np.ones((2, 7))"
   ]
  },
  {
   "cell_type": "markdown",
   "metadata": {},
   "source": [
    "#### Matriz constante\n",
    "\n",
    "A função **full** permite-nos criar uma matriz com todos os elementos iguais."
   ]
  },
  {
   "cell_type": "code",
   "execution_count": null,
   "metadata": {},
   "outputs": [],
   "source": [
    "np.full((5, 5), -11.37)"
   ]
  },
  {
   "cell_type": "markdown",
   "metadata": {},
   "source": [
    "#### Masks condicionais\n",
    "\n",
    "Podemos criar masks condicionais sobre um array, que retornam True ou False conforme cada elemento no array cumpre a condição. Vejamos:"
   ]
  },
  {
   "cell_type": "code",
   "execution_count": null,
   "metadata": {},
   "outputs": [],
   "source": [
    "a = np.array([[1,2,3], [0,1,2], [0,0,2]])\n",
    "\n",
    "a"
   ]
  },
  {
   "cell_type": "code",
   "execution_count": null,
   "metadata": {},
   "outputs": [],
   "source": [
    "(a > 1)"
   ]
  },
  {
   "cell_type": "markdown",
   "metadata": {},
   "source": [
    "Podemos também usar estas masks para aceder aos valores que cumprem a condição:"
   ]
  },
  {
   "cell_type": "code",
   "execution_count": null,
   "metadata": {},
   "outputs": [],
   "source": [
    "a[a > 1]"
   ]
  },
  {
   "cell_type": "markdown",
   "metadata": {},
   "source": [
    "## Operações sobre arrays\n",
    "\n",
    "O Numpy permite efectuar de forma muito otimizada operações entre arrays. Todos os operadores mais familiares são suportados; quando aplicados entre arrays com a mesma *shape*, vão ser efectuadas elemento a elemento. Vejamos alguns exemplos:  "
   ]
  },
  {
   "cell_type": "code",
   "execution_count": null,
   "metadata": {},
   "outputs": [],
   "source": [
    "x = np.array([[1, 2, 3], [4, 5, 6], [7, 8, 9]])\n",
    "y = np.array([[1, 1, 2], [2, 2, 2], [5, 1, 1]])"
   ]
  },
  {
   "cell_type": "code",
   "execution_count": null,
   "metadata": {},
   "outputs": [],
   "source": [
    "x"
   ]
  },
  {
   "cell_type": "code",
   "execution_count": null,
   "metadata": {},
   "outputs": [],
   "source": [
    "y"
   ]
  },
  {
   "cell_type": "code",
   "execution_count": null,
   "metadata": {},
   "outputs": [],
   "source": [
    "x + y"
   ]
  },
  {
   "cell_type": "code",
   "execution_count": null,
   "metadata": {},
   "outputs": [],
   "source": [
    "x - y"
   ]
  },
  {
   "cell_type": "code",
   "execution_count": null,
   "metadata": {},
   "outputs": [],
   "source": [
    "x * y"
   ]
  },
  {
   "cell_type": "code",
   "execution_count": null,
   "metadata": {},
   "outputs": [],
   "source": [
    "x / y"
   ]
  },
  {
   "cell_type": "code",
   "execution_count": null,
   "metadata": {},
   "outputs": [],
   "source": [
    "x ** y"
   ]
  },
  {
   "cell_type": "code",
   "execution_count": null,
   "metadata": {},
   "outputs": [],
   "source": [
    "np.sqrt(y)  # raiz quadrada elemento a elemento"
   ]
  },
  {
   "cell_type": "markdown",
   "metadata": {},
   "source": [
    "O Numpy permite também fazer produtos internos (*dot product*) e multiplicação de matrizes (sem ser elemento a elemento) com a função ou método **dot**. Para compreender as regras e o significado destas operações e necessário estudar os fundamentos da algebra linear, o que está fora do scope deste notebook. \n",
    "\n",
    "Vejamos alguns exemplos. Começando pelo produto interno entre dois vectores:"
   ]
  },
  {
   "cell_type": "code",
   "execution_count": null,
   "metadata": {},
   "outputs": [],
   "source": [
    "x = np.array([1, 2, 3])\n",
    "y = np.array([3, 4, 5])\n",
    "\n",
    "x.dot(y)  # 1*3 + 2*4 + 3*5"
   ]
  },
  {
   "cell_type": "code",
   "execution_count": null,
   "metadata": {},
   "outputs": [],
   "source": [
    "np.dot(x, y)"
   ]
  },
  {
   "cell_type": "markdown",
   "metadata": {},
   "source": [
    "Agora a multiplicação de uma matrix por um vector:"
   ]
  },
  {
   "cell_type": "code",
   "execution_count": null,
   "metadata": {},
   "outputs": [],
   "source": [
    "M = np.array([[1, 2, 3], [2, 3, 4], [3, 4, 5]])\n",
    "x = np.array([1, 2, 3])\n",
    "\n",
    "np.dot(M, x)  # [1*1 + 2*2 + 3*3, 2*1 + 3*2 + 4*3, 3*1 + 4*2 + 5*3]"
   ]
  },
  {
   "cell_type": "code",
   "execution_count": null,
   "metadata": {},
   "outputs": [],
   "source": [
    "M.dot(x)"
   ]
  },
  {
   "cell_type": "markdown",
   "metadata": {},
   "source": [
    "Por fim, a multiplicaçao entre duas matrizes:"
   ]
  },
  {
   "cell_type": "code",
   "execution_count": null,
   "metadata": {},
   "outputs": [],
   "source": [
    "M = np.array([[1, 2, 3], [2, 3, 4], [3, 4, 5]])\n",
    "N = np.array([[2, 3, 4], [0, 0, 0], [1, 1, 1]])\n",
    "\n",
    "M.dot(N)"
   ]
  },
  {
   "cell_type": "code",
   "execution_count": null,
   "metadata": {},
   "outputs": [],
   "source": [
    "np.dot(M, N)"
   ]
  },
  {
   "cell_type": "markdown",
   "metadata": {},
   "source": [
    "## Broadcasting\n",
    "\n",
    "Uma das funcionalidades mais importantes do Numpy é o *broadcasting*: capacidade de realizar operações entre arrays de dimensões diferentes.\n",
    "\n",
    "Vejamos como podiamos somar um vector a cada linha de uma matriz, usando um loop de Python:"
   ]
  },
  {
   "cell_type": "code",
   "execution_count": null,
   "metadata": {},
   "outputs": [],
   "source": [
    "M = np.full((6, 4), 10)\n",
    "\n",
    "M"
   ]
  },
  {
   "cell_type": "code",
   "execution_count": null,
   "metadata": {},
   "outputs": [],
   "source": [
    "v = np.array([1, 2, 3, 4])\n",
    "\n",
    "v"
   ]
  },
  {
   "cell_type": "code",
   "execution_count": null,
   "metadata": {},
   "outputs": [],
   "source": [
    "for i in range(M.shape[0]):  # iterando cada linha\n",
    "    M[i, :] += v\n",
    "    \n",
    "M"
   ]
  },
  {
   "cell_type": "markdown",
   "metadata": {},
   "source": [
    "O problema com esta abordagem é que é extremamente lenta, para matrizes de grandes dimensões. O Numpy foi construído de forma a estar operações serem extremamente otimizadas, quando realizadas com broadcasting. Vejamos: "
   ]
  },
  {
   "cell_type": "code",
   "execution_count": null,
   "metadata": {},
   "outputs": [],
   "source": [
    "M = np.full((6, 4), 10)\n",
    "print(M.shape)\n",
    "\n",
    "v = np.array([1, 2, 3, 4])\n",
    "print(v.shape)"
   ]
  },
  {
   "cell_type": "code",
   "execution_count": null,
   "metadata": {},
   "outputs": [],
   "source": [
    "M + v"
   ]
  },
  {
   "cell_type": "markdown",
   "metadata": {},
   "source": [
    "O que aconteceu aqui foi que o Numpy reconheceu que os dois arrays tinham dimensões diferentes, mas compatíveis para uma operação de broadcasting. O vector **v** foi automaticamente replicado ao longo de uma das dimensões (através de uma operação interna de *tiling*), criando a seguinte matriz:"
   ]
  },
  {
   "cell_type": "code",
   "execution_count": null,
   "metadata": {},
   "outputs": [],
   "source": [
    "np.tile(v, (6, 1))"
   ]
  },
  {
   "cell_type": "markdown",
   "metadata": {},
   "source": [
    "De seguida, esta matriz foi somada elemento a elemento com a matriz **M**, replicando a funcionalidade do loop."
   ]
  },
  {
   "cell_type": "markdown",
   "metadata": {},
   "source": [
    "Ao utilizar o Numpy, devemos evitar ao máximo escrever os nossos loops, e utilizar sempre broadcasting. Em particular, porque se estivermos a utilizar o Numpy, certamente será em aplicações em que a performance númerica é importante: por isso usar *loops* seria o pior que podiamos fazer.\n",
    "\n",
    "Há várias regras de broadcasting para definir como se comportam as várias operações entre arrays. Uma explicação detalhada destas operações está fora do scope deste notebook - se estiverem interessados, podem consultar a documentação oficial: https://docs.scipy.org/doc/numpy/user/basics.broadcasting.html"
   ]
  },
  {
   "cell_type": "markdown",
   "metadata": {},
   "source": [
    "# Conclusão\n",
    "\n",
    "Neste notebook aprendemos os básicos do Numpy, uma library de processamento numérico extremamente popular que está na base de muitas outras libraries, incluindo o Python.\n",
    "\n",
    "Como foi mencionado, este notebook revela apenas a ponta do iceberg no que toca às funcionalidades do Numpy. Aqui está uma lista de algumas outras funcionalidades:\n",
    "\n",
    "* transformadas de Fourier (análise de sinais);\n",
    "* geração de números aleatórios;\n",
    "* decomposição de matrizes;\n",
    "* muitas outras operações sobre vectores e matrizes;\n",
    "* operações com polinómios\n",
    "\n",
    "É importante ainda mencionar outra library - o **Scipy** - uma library de ferramentas científicas e númericas que alarga as capacidades do Numpy. Algumas das suas features são *solvers* de equações diferenciais, matrizes esparsas, integração, entre outras."
   ]
  }
 ],
 "metadata": {
  "kernelspec": {
   "display_name": "Python 3",
   "language": "python",
   "name": "python3"
  },
  "language_info": {
   "codemirror_mode": {
    "name": "ipython",
    "version": 3
   },
   "file_extension": ".py",
   "mimetype": "text/x-python",
   "name": "python",
   "nbconvert_exporter": "python",
   "pygments_lexer": "ipython3",
   "version": "3.6.9"
  }
 },
 "nbformat": 4,
 "nbformat_minor": 4
}
