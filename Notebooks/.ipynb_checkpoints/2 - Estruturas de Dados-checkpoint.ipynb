{
 "cells": [
  {
   "cell_type": "markdown",
   "metadata": {},
   "source": [
    "# Estruturas de dados\n",
    "\n",
    "<img src=\"images/python-logo.jpg\" alt=\"Python\" style=\"width: 300px;\"/>\n",
    "\n",
    "Para facilitar o armazenamento e manipulação de informação, o Python fornece algumas estruturas de dados muito úteis.\n",
    "\n",
    "Este Notebook contém os tipos de estruturas mais importantes, as suas propriedades, e alguns exemplos de como as utilizar."
   ]
  },
  {
   "cell_type": "markdown",
   "metadata": {},
   "source": [
    "## Listas\n",
    "\n",
    "Uma lista é simplesmente uma colecção ordenada de valores, possivelmente duplicados, que podem ser acedidos individualmente. É delimitada por parêntesis rectos \\[\\], e os valores são separados por vírgulas."
   ]
  },
  {
   "cell_type": "code",
   "execution_count": 10,
   "metadata": {},
   "outputs": [],
   "source": [
    "lista_a = [1, 2, 3]\n",
    "lista_b = [10, 'Olá!', 20, 'Adeus!']\n",
    "\n",
    "print(lista_a)\n",
    "print(lista_b)"
   ]
  },
  {
   "cell_type": "markdown",
   "metadata": {},
   "source": [
    "Para aceder a um elemento dentro de uma lista:"
   ]
  },
  {
   "cell_type": "code",
   "execution_count": 11,
   "metadata": {},
   "outputs": [],
   "source": [
    " # o primeiro elemento da lista é indexado pelo valor 0\n",
    "primeiro_elemento_a = lista_a[0]\n",
    "print(primeiro_elemento_a)\n",
    "\n",
    "ultimo_elemento_a = lista_a[2]\n",
    "print(ultimo_elemento_a)\n",
    "\n",
    "# podemos também aceder a uma lista no \"sentido contrário\" (-1, -2, -3, ...)\n",
    "ultimo_elemento_b = lista_b[-1]\n",
    "print(ultimo_elemento_b)\n",
    "\n",
    "primeiro_elemento_b = lista_b[-4]\n",
    "print(primeiro_elemento_b)"
   ]
  },
  {
   "cell_type": "markdown",
   "metadata": {},
   "source": [
    "Podemos substituir um elemento por outro"
   ]
  },
  {
   "cell_type": "code",
   "execution_count": 6,
   "metadata": {},
   "outputs": [
    {
     "name": "stdout",
     "output_type": "stream",
     "text": [
      "['x', 2, 3]\n"
     ]
    }
   ],
   "source": [
    "minha_lista = [1, 2, 3]\n",
    "minha_lista[0] = 'x'\n",
    "print(minha_lista)"
   ]
  },
  {
   "cell_type": "markdown",
   "metadata": {},
   "source": [
    "Podemos também selecionar uma sublista (dentro da lista), usando a notação *começo*:*fim* (intervalo fechado no começo, e aberto no fim)"
   ]
  },
  {
   "cell_type": "code",
   "execution_count": 12,
   "metadata": {},
   "outputs": [],
   "source": [
    "# Fica com os elementos 0, 1 (2 é excluído)\n",
    "primeiro_e_segundo_elemento = lista_a[0:2]\n",
    "\n",
    "print(primeiro_e_segundo_elemento)\n",
    "\n",
    "# Podem haver listas de um elemento\n",
    "terceiro_elemento = lista_b[3:4]\n",
    "\n",
    "print(terceiro_elemento)\n",
    "\n",
    "# Como terceiro_elemento é uma lista com um único elemento,\n",
    "# podemos aceder-lhe da mesma forma: com o índice 0\n",
    "print(terceiro_elemento[0])"
   ]
  },
  {
   "cell_type": "markdown",
   "metadata": {},
   "source": [
    "Podemos também ter listas dentro de listas (e mais, como iremos ver!) "
   ]
  },
  {
   "cell_type": "code",
   "execution_count": 3,
   "metadata": {},
   "outputs": [
    {
     "name": "stdout",
     "output_type": "stream",
     "text": [
      "[[1, 2, 3], 'a', 'b', 'c']\n",
      "[1, 2, 3]\n",
      "1 2 3\n"
     ]
    }
   ],
   "source": [
    "small_list = [1,2,3]\n",
    "big_list = [small_list, 'a', 'b', 'c']\n",
    "\n",
    "print(big_list)\n",
    "print(big_list[0])\n",
    "print(big_list[0][0], big_list[0][1], big_list[0][2])"
   ]
  },
  {
   "cell_type": "markdown",
   "metadata": {},
   "source": [
    "### Operações com listas\n",
    "\n",
    "Aqui estão alguma operações que se podem fazer com listas. Estas operações afectam a lista sobre a qual são aplicadas.\n",
    "\n",
    "Algumas das operações são aplicadas da seguinte forma: \n",
    "\n",
    "    - a_minha_lista.operação_desejada(...)\n",
    "    \n",
    "Este tipo de operações chamam-se \"métodos\" e estão associados a uma instância de uma variável ou estrutura de dados. No casos dos métodos apresentados de seguida, qualquer instância de uma Lista tem acesso a eles.\n",
    "\n",
    "Outras das operações, como por exemplo len(...), não são exclusivas a Listas, mas sim operações \"base\" fornecidas pelo Python. Como iremos ver mais à frente, podemos usá-las com várias estruturas de dados distintas."
   ]
  },
  {
   "cell_type": "markdown",
   "metadata": {},
   "source": [
    "#### Número de elementos numa lista\n",
    "\n",
    "A função len(...) indica-nos o número de elementos numa lista. Pode ser usadas também com outras estruturas de dados."
   ]
  },
  {
   "cell_type": "code",
   "execution_count": 12,
   "metadata": {},
   "outputs": [
    {
     "data": {
      "text/plain": [
       "5"
      ]
     },
     "execution_count": 12,
     "metadata": {},
     "output_type": "execute_result"
    }
   ],
   "source": [
    "esta_lista = [1,2,3,4,5]\n",
    "\n",
    "len(esta_lista)"
   ]
  },
  {
   "cell_type": "markdown",
   "metadata": {},
   "source": [
    "#### Append\n",
    "\n",
    "Adiciona um elemento a uma lista"
   ]
  },
  {
   "cell_type": "code",
   "execution_count": 4,
   "metadata": {},
   "outputs": [
    {
     "name": "stdout",
     "output_type": "stream",
     "text": [
      "[1, 2, 3, 4]\n"
     ]
    }
   ],
   "source": [
    "lista_x = [1,2,3]\n",
    "lista_x.append(4)\n",
    "\n",
    "print(lista_x)"
   ]
  },
  {
   "cell_type": "markdown",
   "metadata": {},
   "source": [
    "#### Delete\n",
    "\n",
    "Elimina um elemento de uma lista."
   ]
  },
  {
   "cell_type": "code",
   "execution_count": 9,
   "metadata": {},
   "outputs": [
    {
     "name": "stdout",
     "output_type": "stream",
     "text": [
      "['a', 'c', 'd', 'a']\n",
      "['b', 'c', 'd', 'a']\n"
     ]
    }
   ],
   "source": [
    "# Temos duas maneiras de fazer isto:\n",
    "\n",
    "# Com del:\n",
    "lista_y = ['a', 'b', 'c', 'd', 'a']\n",
    "del lista_y[1]  # elimina o elemento na posição 1 (relembrem-se, começa a contar no 0!)\n",
    "print(lista_y)\n",
    "\n",
    "# Com o método remove: elimina apenas a primeira ocorrência do elemento desejado!\n",
    "lista_y = ['a', 'b', 'c', 'd', 'a']\n",
    "lista_y.remove('a')  # elimina o elemento na posição 1\n",
    "print(lista_y)\n"
   ]
  },
  {
   "cell_type": "markdown",
   "metadata": {},
   "source": [
    "#### Verificar a existência de um elemento\n",
    "\n",
    "Podemos usar a keyword **in** para verificar se um elemento existe numa lista. Esta operação irá ter um valor boleano de True caso exista, e False caso não exista."
   ]
  },
  {
   "cell_type": "code",
   "execution_count": 11,
   "metadata": {},
   "outputs": [
    {
     "name": "stdout",
     "output_type": "stream",
     "text": [
      "True\n",
      "False\n"
     ]
    }
   ],
   "source": [
    "minha_lista = [1,2,3,4,5]\n",
    "\n",
    "print(5 in minha_lista)\n",
    "\n",
    "print('oops' in minha_lista)"
   ]
  },
  {
   "cell_type": "markdown",
   "metadata": {},
   "source": [
    "#### Contar ocorrências de um elemento\n",
    "\n",
    "O método count() permite-nos contar o número de ocorrências de um elemento numa lista."
   ]
  },
  {
   "cell_type": "code",
   "execution_count": 13,
   "metadata": {},
   "outputs": [
    {
     "name": "stdout",
     "output_type": "stream",
     "text": [
      "6\n"
     ]
    }
   ],
   "source": [
    "quantos = [1,1,1,2,3,4,1,1,1]\n",
    "\n",
    "contagem = quantos.count(1)\n",
    "\n",
    "print(contagem)"
   ]
  },
  {
   "cell_type": "markdown",
   "metadata": {},
   "source": [
    "#### Index\n",
    "\n",
    "O método index permite-nos obter o índice da primeira ocorrência de um elemento numa lista"
   ]
  },
  {
   "cell_type": "code",
   "execution_count": 15,
   "metadata": {},
   "outputs": [
    {
     "name": "stdout",
     "output_type": "stream",
     "text": [
      "1\n",
      "data\n"
     ]
    }
   ],
   "source": [
    "super_lista = ['super', 'data', 'sciencist', '!']\n",
    "\n",
    "idx = super_lista.index('data')\n",
    "\n",
    "print(idx)\n",
    "\n",
    "print(super_lista[idx])  # estou a aceder ao elemento na posição idx"
   ]
  },
  {
   "cell_type": "markdown",
   "metadata": {},
   "source": [
    "#### Ordenar\n",
    "\n",
    "O método sort() permite-nos ordenar uma lista em ordem crescente. \n",
    "\n",
    "Atenção: os elementos tem de ser ordenáveis entre si! Se uma lista tiver, por exemplo, elementos inteiros e strings, vamos ter um erro."
   ]
  },
  {
   "cell_type": "code",
   "execution_count": 20,
   "metadata": {},
   "outputs": [
    {
     "name": "stdout",
     "output_type": "stream",
     "text": [
      "Desordenada  [1, 3, 4, 2, 5]\n",
      "Ordenada:  [1, 2, 3, 4, 5]\n"
     ]
    }
   ],
   "source": [
    "desordenada = [1,3,4,2,5]\n",
    "\n",
    "print('Desordenada ', desordenada)\n",
    "\n",
    "desordenada.sort()\n",
    "\n",
    "print('Ordenada: ', desordenada)"
   ]
  },
  {
   "cell_type": "code",
   "execution_count": 25,
   "metadata": {},
   "outputs": [
    {
     "ename": "TypeError",
     "evalue": "'<' not supported between instances of 'str' and 'int'",
     "output_type": "error",
     "traceback": [
      "\u001b[0;31m---------------------------------------------------------------------------\u001b[0m",
      "\u001b[0;31mTypeError\u001b[0m                                 Traceback (most recent call last)",
      "\u001b[0;32m<ipython-input-25-17d69865c56d>\u001b[0m in \u001b[0;36m<module>\u001b[0;34m\u001b[0m\n\u001b[1;32m      1\u001b[0m \u001b[0mnao_ordenavel\u001b[0m \u001b[0;34m=\u001b[0m \u001b[0;34m[\u001b[0m\u001b[0;36m1\u001b[0m\u001b[0;34m,\u001b[0m\u001b[0;36m2\u001b[0m\u001b[0;34m,\u001b[0m \u001b[0;34m'a'\u001b[0m\u001b[0;34m,\u001b[0m \u001b[0;36m4\u001b[0m\u001b[0;34m]\u001b[0m\u001b[0;34m\u001b[0m\u001b[0;34m\u001b[0m\u001b[0m\n\u001b[1;32m      2\u001b[0m \u001b[0;34m\u001b[0m\u001b[0m\n\u001b[0;32m----> 3\u001b[0;31m \u001b[0mnao_ordenavel\u001b[0m\u001b[0;34m.\u001b[0m\u001b[0msort\u001b[0m\u001b[0;34m(\u001b[0m\u001b[0;34m)\u001b[0m\u001b[0;34m\u001b[0m\u001b[0;34m\u001b[0m\u001b[0m\n\u001b[0m",
      "\u001b[0;31mTypeError\u001b[0m: '<' not supported between instances of 'str' and 'int'"
     ]
    }
   ],
   "source": [
    "nao_ordenavel = [1,2, 'a', 4]\n",
    "\n",
    "nao_ordenavel.sort()"
   ]
  },
  {
   "cell_type": "markdown",
   "metadata": {},
   "source": [
    "### Tuples\n",
    "\n",
    "Um tuple é um conjunto de valores ordenados, muito semelhante a uma lista. A diferemça é que após um tuple ser criado, este não permite modificar os seus valores individualmente.\n",
    "\n",
    "Pode ser criado usando parêntesis, com cada elemento separado por uma vírgula.\n",
    "\n",
    "Há uma pequena excepção: para criar um tuple com apenas um elemento, devemos incluir na mesma uma vírgula - caso contrário, não será reconhecido como um tuple, mas sim como o elemento individual que colocarmos lá dentro. A razão disto é que o Python tem um ordem para interpretação de parêntesis: este podem ser utilizados para isolar segmentos de código, ou para criar tuples (mas neste caso requerem uma vírgula a sinalizar)"
   ]
  },
  {
   "cell_type": "code",
   "execution_count": 30,
   "metadata": {},
   "outputs": [
    {
     "name": "stdout",
     "output_type": "stream",
     "text": [
      "(1, 2, 'x')\n",
      "(10,)\n",
      "('hello', [1, 2, 3, 4])\n"
     ]
    }
   ],
   "source": [
    "tuple_1 = (1, 2, 'x')\n",
    "print(tuple_1)\n",
    "\n",
    "tuple_de_um_elemento = (10,)\n",
    "print(tuple_de_um_elemento)\n",
    "\n",
    "\n",
    "tuple_com_uma_lista = ('hello', [1, 2, 3, 4])\n",
    "print(tuple_com_uma_lista)"
   ]
  },
  {
   "cell_type": "markdown",
   "metadata": {},
   "source": [
    "Podemos seleccionar elementos de um tuple da mesma forma que uma lista. No entanto, se tentarmos modificá-lo, teremos um erro."
   ]
  },
  {
   "cell_type": "code",
   "execution_count": 33,
   "metadata": {},
   "outputs": [
    {
     "data": {
      "text/plain": [
       "1"
      ]
     },
     "execution_count": 33,
     "metadata": {},
     "output_type": "execute_result"
    }
   ],
   "source": [
    "tuple_1[0]"
   ]
  },
  {
   "cell_type": "code",
   "execution_count": 41,
   "metadata": {},
   "outputs": [
    {
     "ename": "TypeError",
     "evalue": "'type' object is not subscriptable",
     "output_type": "error",
     "traceback": [
      "\u001b[0;31m---------------------------------------------------------------------------\u001b[0m",
      "\u001b[0;31mTypeError\u001b[0m                                 Traceback (most recent call last)",
      "\u001b[0;32m<ipython-input-41-56761f52927f>\u001b[0m in \u001b[0;36m<module>\u001b[0;34m\u001b[0m\n\u001b[0;32m----> 1\u001b[0;31m \u001b[0mtuple\u001b[0m\u001b[0;34m[\u001b[0m\u001b[0;36m0\u001b[0m\u001b[0;34m:\u001b[0m\u001b[0;36m2\u001b[0m\u001b[0;34m]\u001b[0m\u001b[0;34m\u001b[0m\u001b[0;34m\u001b[0m\u001b[0m\n\u001b[0m",
      "\u001b[0;31mTypeError\u001b[0m: 'type' object is not subscriptable"
     ]
    }
   ],
   "source": [
    "tuple[0:2]"
   ]
  },
  {
   "cell_type": "code",
   "execution_count": 34,
   "metadata": {},
   "outputs": [
    {
     "ename": "TypeError",
     "evalue": "'tuple' object does not support item assignment",
     "output_type": "error",
     "traceback": [
      "\u001b[0;31m---------------------------------------------------------------------------\u001b[0m",
      "\u001b[0;31mTypeError\u001b[0m                                 Traceback (most recent call last)",
      "\u001b[0;32m<ipython-input-34-383bb9590e38>\u001b[0m in \u001b[0;36m<module>\u001b[0;34m\u001b[0m\n\u001b[0;32m----> 1\u001b[0;31m \u001b[0mtuple_1\u001b[0m\u001b[0;34m[\u001b[0m\u001b[0;36m0\u001b[0m\u001b[0;34m]\u001b[0m \u001b[0;34m=\u001b[0m \u001b[0;34m'outra coisa!'\u001b[0m\u001b[0;34m\u001b[0m\u001b[0;34m\u001b[0m\u001b[0m\n\u001b[0m",
      "\u001b[0;31mTypeError\u001b[0m: 'tuple' object does not support item assignment"
     ]
    }
   ],
   "source": [
    "tuple_1[0] = 'outra coisa!'"
   ]
  },
  {
   "cell_type": "markdown",
   "metadata": {},
   "source": [
    "### Converter listas em tuples (e vice-versa)\n",
    "\n",
    "Podemos converter listas para tuples, e vice-versa, usando as funções list() e tuple()"
   ]
  },
  {
   "cell_type": "code",
   "execution_count": 38,
   "metadata": {},
   "outputs": [
    {
     "name": "stdout",
     "output_type": "stream",
     "text": [
      "[1, 2, 3, 4, 5]\n",
      "<class 'list'>\n"
     ]
    }
   ],
   "source": [
    "eu_sou_uma_lista = [1,2,3,4,5]\n",
    "print(eu_sou_uma_lista)\n",
    "print(type(eu_sou_uma_lista))"
   ]
  },
  {
   "cell_type": "code",
   "execution_count": 39,
   "metadata": {},
   "outputs": [
    {
     "name": "stdout",
     "output_type": "stream",
     "text": [
      "(1, 2, 3, 4, 5)\n",
      "<class 'tuple'>\n"
     ]
    }
   ],
   "source": [
    "eu_sou_um_tuplo = tuple(eu_sou_uma_lista)\n",
    "print(eu_sou_um_tuplo)\n",
    "print(type(eu_sou_um_tuplo))"
   ]
  },
  {
   "cell_type": "code",
   "execution_count": 40,
   "metadata": {},
   "outputs": [
    {
     "name": "stdout",
     "output_type": "stream",
     "text": [
      "[1, 2, 3, 4, 5]\n",
      "<class 'list'>\n"
     ]
    }
   ],
   "source": [
    "outra_lista = list(eu_sou_um_tuplo)\n",
    "print(outra_lista)\n",
    "print(type(outra_lista))"
   ]
  },
  {
   "cell_type": "code",
   "execution_count": null,
   "metadata": {},
   "outputs": [],
   "source": [
    "## Continuar: dicts"
   ]
  }
 ],
 "metadata": {
  "kernelspec": {
   "display_name": "Python 3",
   "language": "python",
   "name": "python3"
  },
  "language_info": {
   "codemirror_mode": {
    "name": "ipython",
    "version": 3
   },
   "file_extension": ".py",
   "mimetype": "text/x-python",
   "name": "python",
   "nbconvert_exporter": "python",
   "pygments_lexer": "ipython3",
   "version": "3.6.9"
  }
 },
 "nbformat": 4,
 "nbformat_minor": 4
}
