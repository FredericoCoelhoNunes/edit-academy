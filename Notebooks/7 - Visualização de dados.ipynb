{
 "cells": [
  {
   "cell_type": "markdown",
   "metadata": {},
   "source": [
    "# Visualização\n",
    "\n",
    "<img src=\"images/python-logo.jpg\" alt=\"Python\" style=\"width: 300px;\"/>\n",
    "\n",
    "Um dos skills complementares muito importantes para um Data Scientist é a capacidade de ilustrar os resultados das suas análises através de visualizações. Uma boa utilização de ferramentas de visualização permite:\n",
    "\n",
    "* mostrar as conclusões através de uma linguagem menos técnica, permitindo chegar a uma audiência mais alargada;\n",
    "* chamar a atenção, de forma visual, aos pontos mais importantes da análise;\n",
    "* visualizar certos dados que não são fáceis de analisar em formato tabular (por exemplo, dados geográficos);\n",
    "* permitir que o utilizador interaja com os dados e obtenha respostas para as suas próprias questões."
   ]
  },
  {
   "cell_type": "markdown",
   "metadata": {},
   "source": [
    "Vejamos um exemplo de uma das primeiras ocasiões em que boas técnicas de visualização de dados levaram a resultados importantes.\n",
    "\n",
    "Em Agosto de 1854, houve uma grande epidemia de cólera em Londres, que levou à morte de 10% dos residentes de Soho numa só semana. A teoria predominante na altura era que a doença se espalhava pelo ar (o que era reforçado pelo estado olfactório de Londres na altura); no entanto, o Dr. John Snow tinha uma teoria diferente - ele acreditava que a doença se espalhava através da água, o que agora sabemos estar correcto.\n",
    "\n",
    "Para reforçar a sua teoria, o doutor marcou num mapa, ao longo de alguns dias, o local de residência de novos infectados. Obteve o seguinte resultado:\n",
    "\n",
    "<img src=\"images/colera.jpg\" alt=\"Python\" style=\"width: 600px;\"/>    \n",
    "    \n",
    "Podemos ver que os casos estão altamente concentrados numa certa área - em redor de uma das maiores fontes de água potável de Londres nessa altura. Esta visualização ajudou a convencer as pessoas a ferverem a sua água antes de a consumirem, e desta forma, a epidemia de cólera foi ultrapassada."
   ]
  },
  {
   "cell_type": "markdown",
   "metadata": {},
   "source": [
    "Como pudemos ver, é extremamente útil saber construir boas visualizações para suportar as nossas conclusões como Data Scientists. Existem várias libraries de visualização de dados para Python, e nós vamos aprender uma das mais utilizadas - o **Matplotlib**"
   ]
  },
  {
   "cell_type": "markdown",
   "metadata": {},
   "source": [
    "# Matplotlib\n",
    "\n",
    "O Matplotlib é uma library para \"criar visualizações estáticas, animadas e interactivas em Python\", e tem boa sinergia com o Pandas, sendo os dois frequentemente usados em conjunto.\n",
    "\n",
    "Neste notebook vamos aprender como fazer algumas das visualizações mais comuns, e para que tipos de dados cada uma deles funciona melhor."
   ]
  },
  {
   "cell_type": "markdown",
   "metadata": {},
   "source": [
    "### Instalação / import"
   ]
  },
  {
   "cell_type": "markdown",
   "metadata": {},
   "source": [
    "Podemos instalar o Matplotlib com qualquer dos gestores de packages mais comuns (por exemplo, com o Anaconda: https://anaconda.org/conda-forge/matplotlib). Após a instalação podemos importá-lo com: "
   ]
  },
  {
   "cell_type": "code",
   "execution_count": null,
   "metadata": {},
   "outputs": [],
   "source": [
    "import matplotlib.pyplot as plt"
   ]
  },
  {
   "cell_type": "markdown",
   "metadata": {},
   "source": [
    "Vamos também importar o Pandas"
   ]
  },
  {
   "cell_type": "code",
   "execution_count": null,
   "metadata": {},
   "outputs": [],
   "source": [
    "import pandas as pd"
   ]
  },
  {
   "cell_type": "markdown",
   "metadata": {},
   "source": [
    "### Magic command: matplotlib inline\n",
    "\n",
    "Podemos usar um \"magic command\" do Jupyter Notebook para fazer com que as visualizações do Matplotlib apareçam directamente no notebook (\"inline\"), sem necessidade de as exportar para um ficheiro:"
   ]
  },
  {
   "cell_type": "code",
   "execution_count": null,
   "metadata": {},
   "outputs": [],
   "source": [
    "%matplotlib inline"
   ]
  },
  {
   "cell_type": "markdown",
   "metadata": {},
   "source": [
    "# Scatter plot\n",
    "\n",
    "Seguindo o exemplo do Dr. Snow, vamos começar por aprender o como fazer um \"scatter plot\" (plot: gráfico).\n",
    "Este tipo de visualização é ideal para visualizar a variação de uma variável **numérica** em relação a outra. Cada instância de (variável 1, variável 2) é representada como um ponto na visualização.\n",
    "\n",
    "Podemos criar um scatter plot com a função **scatter**. Vamos importar os dados das *hotel reviews*, e fazer um scatter plot da latitude vs longitude:"
   ]
  },
  {
   "cell_type": "code",
   "execution_count": null,
   "metadata": {},
   "outputs": [],
   "source": [
    "df_reviews = pd.read_csv('data/hotel-reviews/hotel_reviews.csv')"
   ]
  },
  {
   "cell_type": "code",
   "execution_count": null,
   "metadata": {},
   "outputs": [],
   "source": [
    "def funcao_a():\n",
    "    ...\n",
    "    funcao_b()"
   ]
  },
  {
   "cell_type": "code",
   "execution_count": null,
   "metadata": {
    "scrolled": false
   },
   "outputs": [],
   "source": [
    "plt.scatter(\n",
    "    x=df_reviews.longitude,\n",
    "    y=df_reviews.latitude,\n",
    "    c='red',\n",
    "    s=0.1\n",
    ")\n",
    "\n",
    "plt.show()"
   ]
  },
  {
   "cell_type": "markdown",
   "metadata": {},
   "source": [
    "Usamos três parâmetros, dos quais apenas `x` e `y` são necessários.\n",
    "\n",
    "* `x`/`y` permitem-nos escolher a variável que está no respectivo eixo;\n",
    "* `c` permite-nos definir a cor dos pontos;\n",
    "* `s` permite definir o tamanho de cada ponto.\n",
    "\n",
    "Com **plt.show()** fazemos a visualização aparecer (pode ser omitido, mas aparece algum texto extra).\n",
    "\n",
    "Vamos aumentar um pouco o tamanho das figuras no Notebook, da seguinte forma:"
   ]
  },
  {
   "cell_type": "code",
   "execution_count": null,
   "metadata": {},
   "outputs": [],
   "source": [
    "plt.rcParams[\"figure.figsize\"] = [12, 8]  # 12: largura, 8: altura"
   ]
  },
  {
   "cell_type": "markdown",
   "metadata": {},
   "source": [
    "Podemos também aumentar o tamanho apenas da figura seguinte com a função **plt.figure**, e o argumento **figsize**:"
   ]
  },
  {
   "cell_type": "code",
   "execution_count": null,
   "metadata": {},
   "outputs": [],
   "source": [
    "fig = plt.figure(figsize=(12, 8))"
   ]
  },
  {
   "cell_type": "code",
   "execution_count": null,
   "metadata": {},
   "outputs": [],
   "source": [
    "plt.scatter(\n",
    "    x=df_reviews.longitude,\n",
    "    y=df_reviews.latitude,\n",
    "    s=1\n",
    ")\n",
    "\n",
    "plt.show()"
   ]
  },
  {
   "cell_type": "markdown",
   "metadata": {},
   "source": [
    "Podemos também colorir os pontos de acordo com uma terceira coluna. Vamos fazer o mesmo plot, mas com os pontos coloridos de acordo com a pontuação da review, com um título e com labels nos eixos:"
   ]
  },
  {
   "cell_type": "code",
   "execution_count": null,
   "metadata": {},
   "outputs": [],
   "source": [
    "plt.scatter(\n",
    "    x=df_reviews.longitude,\n",
    "    y=df_reviews.latitude,\n",
    "    c=df_reviews['reviews.rating'],\n",
    "    s=10,\n",
    "    cmap='viridis'\n",
    ")\n",
    "\n",
    "plt.xlabel('Lat')\n",
    "plt.ylabel('Lng')\n",
    "\n",
    "plt.colorbar()\n",
    "\n",
    "plt.show()"
   ]
  },
  {
   "cell_type": "markdown",
   "metadata": {},
   "source": [
    "Desta vez, usamos como argumento `c` uma coluna com um valor numérico, e escolhemos o mapa de cor 'viridis' com o argumento `cmap`. Podemos ver uma lista dos colormaps disponíveis aqui: https://matplotlib.org/3.1.1/gallery/color/colormap_reference.html\n",
    "\n",
    "Para fazer aparecer a barra de cores, usamos a função **plt.colorbar**. As funções **xlabel** e **ylabel** foram usadas para adicionar labels aos eixos, e a função **title** foi usada adicionar um título."
   ]
  },
  {
   "cell_type": "markdown",
   "metadata": {},
   "source": [
    "De notar que o Pandas tem visualizações integradas, que podemos usar se quisermos visualizar algo mais rapidamente e com pouca personalização:"
   ]
  },
  {
   "cell_type": "code",
   "execution_count": null,
   "metadata": {},
   "outputs": [],
   "source": [
    "df_reviews.plot.scatter(x='longitude', y='latitude')\n",
    "\n",
    "plt.show()"
   ]
  },
  {
   "cell_type": "markdown",
   "metadata": {},
   "source": [
    "# Gráfico de barras\n",
    "\n",
    "Usamos um gráfico de barras (\"bar charts\") para comparar quantidades discretas, como por exemplo a frequência de ocorrência das várias classes de uma variável categórica. Em geral, usamos barras horizontais quando as classes têm uma ordenação entre si, e barras verticais caso contrário.\n",
    "\n",
    "Vamos comparar a frequência de ocorrência de reviews em cada cidade (contando apenas com as 20 cidades mais activas). Começando por calcular este valor:"
   ]
  },
  {
   "cell_type": "code",
   "execution_count": null,
   "metadata": {},
   "outputs": [],
   "source": [
    "frequencia = df_reviews.city.value_counts()[0:20]\n",
    "\n",
    "frequencia"
   ]
  },
  {
   "cell_type": "markdown",
   "metadata": {},
   "source": [
    "Vamos agora fazer o plot:"
   ]
  },
  {
   "cell_type": "code",
   "execution_count": null,
   "metadata": {},
   "outputs": [],
   "source": [
    "categorias = frequencia.index\n",
    "valores = frequencia.values\n",
    "\n",
    "plt.barh(\n",
    "    categorias,\n",
    "    valores,\n",
    "    color='green',\n",
    "    edgecolor='black',\n",
    "    linewidth=1\n",
    ")\n",
    "\n",
    "plt.show()"
   ]
  },
  {
   "cell_type": "markdown",
   "metadata": {},
   "source": [
    "Como podemos ver, usamos a função **barh** (h = horizontal) para criar esta visualização, visto que não há uma ordenação intrinseca nas cidades. \n",
    "\n",
    "**Para clarificar**: aqui, por acaso, os valores estão ordenados em ordem decrescente, mas não há nada que diga que *Las Vegas* é intrinsecamente \"maior\" que *Boston*, no sentido de existir uma ordenação entre estas duas categorias. Se por exemplo as nossas categorias fossem escalões de idades (<20, 20-50, >50) faria sentido ordená-las da esquerda para a direita, independentemente da frequência de cada escalão.\n",
    "\n",
    "O primeiro e segundo argumento desta função controlam as categorias usadas, e o valor associado a cada categoria. Podemos ver também que a cor das barras é controlada com o argumento `color`. Aprendemos também mais dois argumentos possíveis:\n",
    "\n",
    "* `edgecolor`: controla a cor da borda das barras;\n",
    "* `linewidth`: controla a espessura das borda das barras.\n",
    "\n",
    "Para fazer um gráfico de barras vertical, podemos usar a função **bar**."
   ]
  },
  {
   "cell_type": "markdown",
   "metadata": {},
   "source": [
    "# Histogramas\n",
    "\n",
    "Podemos usar um histograma para ter uma noção da distribuição de uma variável numérica. Isto é feito criando intervalos (\"bins\") de valores e para cada ocorrência da variável, colocá-la num destes bins. Por fim, é contado o número de ocorrências em cada bin. Podemos pensar num histograma como um gráfico de barras para variáveis contínuas.\n",
    "\n",
    "Vamos criar um histograma do tamanho do texto das classificações. Vamos começar por calcular este valor:"
   ]
  },
  {
   "cell_type": "code",
   "execution_count": null,
   "metadata": {},
   "outputs": [],
   "source": [
    "tamanho = df_reviews['reviews.text'].dropna().str.len()"
   ]
  },
  {
   "cell_type": "markdown",
   "metadata": {},
   "source": [
    "E agora vamos criar o histograma: "
   ]
  },
  {
   "cell_type": "code",
   "execution_count": null,
   "metadata": {},
   "outputs": [],
   "source": [
    "plt.hist(\n",
    "    tamanho\n",
    ")\n",
    "\n",
    "plt.show()"
   ]
  },
  {
   "cell_type": "markdown",
   "metadata": {},
   "source": [
    "Reparamos que a maior parte das reviews tem menos de 1000 caractéres.\n",
    "\n",
    "Para controlar o valor mínimo/máximo do eixo dos `x`, podemos usar o parâmetro `range`.\n",
    "O número de bins é 10 por defeito. Para controlar o tamanho de cada bin, podemos usar o argumento `bins`:\n",
    "\n",
    "* se passarmos um valor inteiro (N) a este argumento, irão ser criados N bins de largura idêntica com base no valor máximo e mínimo dos dados;\n",
    "* se passarmos uma lista, podemos definir o início e o fim de cada bin, por ordem.\n",
    "\n",
    "Vamos agora fazer um histograma para as reviews com menos de 2000 caractéres, para olharmos melhor para os dados."
   ]
  },
  {
   "cell_type": "code",
   "execution_count": null,
   "metadata": {},
   "outputs": [],
   "source": [
    "plt.hist(\n",
    "    tamanho,\n",
    "    range=(0, 2000),\n",
    "    bins=20\n",
    ")\n",
    "\n",
    "plt.show()"
   ]
  },
  {
   "cell_type": "markdown",
   "metadata": {},
   "source": [
    "Por vezes, os dados podem ter valores extremamente elevados ou baixos, que podem complicar as visualizações e análises. Estes pontos são conhecidos como \"outliers\" e são um conceito bastante importante de compreender para um Data Scientist. Neste caso, reduzir os nosso dados para um intervalor mais razoável permitiu-nos chegar a conclusões mais interessantes."
   ]
  },
  {
   "cell_type": "markdown",
   "metadata": {},
   "source": [
    "Por fim, é importante mencionar que o aspecto de um histograma varia drasticamente com o número de bins, por isso é importante escolher valores sensatos para os mesmos. Vejamos um exemplo com 3 bins:"
   ]
  },
  {
   "cell_type": "code",
   "execution_count": null,
   "metadata": {},
   "outputs": [],
   "source": [
    "plt.hist(\n",
    "    tamanho,\n",
    "    bins=3\n",
    ")\n",
    "\n",
    "plt.show()"
   ]
  },
  {
   "cell_type": "markdown",
   "metadata": {},
   "source": [
    "Como podemos ver, não é muito útil."
   ]
  },
  {
   "cell_type": "markdown",
   "metadata": {},
   "source": [
    "# Pie Chart\n",
    "\n",
    "Um \"pie chart\" (talvez a visualização mais conhecida!) permite-nos comparar a percentagem de ocorrências dos diferentes valores de uma variável categórica. Para ilustrar, vamos usar as 5 cidades mais frequentes nos dados:"
   ]
  },
  {
   "cell_type": "code",
   "execution_count": null,
   "metadata": {},
   "outputs": [],
   "source": [
    "frequencia = df_reviews.city.value_counts()[0:5]\n",
    "\n",
    "frequencia"
   ]
  },
  {
   "cell_type": "markdown",
   "metadata": {},
   "source": [
    "Podemos criar o pie chart com a função **pie**:"
   ]
  },
  {
   "cell_type": "code",
   "execution_count": null,
   "metadata": {},
   "outputs": [],
   "source": [
    "categorias = frequencia.index\n",
    "valores = frequencia.values\n",
    "\n",
    "plt.pie(\n",
    "    valores,\n",
    "    labels=categorias,\n",
    "    autopct='%.1f%%'\n",
    ")\n",
    "\n",
    "plt.show()"
   ]
  },
  {
   "cell_type": "markdown",
   "metadata": {},
   "source": [
    "O primeiro argumento é a contagem de valores para cada classe, e as classes são especificadas pelo argumento `labels`. O argumento `autopct`=`%1.1f%%` permite escrever automaticamente a percentagem sobre cada fatia:\n",
    "\n",
    "* o primeiro sinal de percentagem indica que estamos a escrever um \"format string\", que define o que vai aparecer escrito;\n",
    "* de seguida temos a indicação que queremos uma única casa decimal; \n",
    "* por fim temos dois sinais de percentagem de seguida, em que o primeiro dá \"escape\" ao segundo. Isto indica que queremos que o caractér \"%\" apareça escrito, e não apenas o valor da percentagem.,"
   ]
  },
  {
   "cell_type": "markdown",
   "metadata": {},
   "source": [
    "## Boxplot\n",
    "\n",
    "Por fim, vamos aprender um tipo de visualização mais avançada - o *boxplot*. Este é um tipo de visualização que permite transmitir muita informação útil sobre a distribuição de uma variável; por outro lado, é uma visualização mais complicada de interpretar.\n",
    "\n",
    "Vamos exemplificar, vendo a distribuição do tamanho dos *usernames* em duas cidades diferentes. "
   ]
  },
  {
   "cell_type": "code",
   "execution_count": null,
   "metadata": {},
   "outputs": [],
   "source": [
    "df_duas_cidades = df_reviews.loc[\n",
    "    df_reviews.city.isin(['Las Vegas', 'Boston']),\n",
    "    ['city', 'reviews.username']\n",
    "]\n",
    "\n",
    "\n",
    "df_duas_cidades['comprimento_username'] = df_duas_cidades['reviews.username'].str.len()"
   ]
  },
  {
   "cell_type": "code",
   "execution_count": null,
   "metadata": {},
   "outputs": [],
   "source": [
    "df_duas_cidades[['comprimento_username', 'reviews.username']]"
   ]
  },
  {
   "cell_type": "markdown",
   "metadata": {},
   "source": [
    "Para criar o boxplot, vamos usar a integração com o Pandas, visto ser bastante mais simples neste caso! Podemos fazê-lo através do método **boxplot**:"
   ]
  },
  {
   "cell_type": "code",
   "execution_count": null,
   "metadata": {},
   "outputs": [],
   "source": [
    "df_duas_cidades.boxplot(column='comprimento_username', by='city')\n",
    "\n",
    "plt.show()"
   ]
  },
  {
   "cell_type": "markdown",
   "metadata": {},
   "source": [
    "Usamos o argumento `column` para definir a coluna cujos valores queremos analisar, e o argumento `by` para separar esta análise por cada classe distinta (neste caso, as duas cidades escolhidas)."
   ]
  },
  {
   "cell_type": "markdown",
   "metadata": {},
   "source": [
    "Vamos interpretar o boxplot:\n",
    "\n",
    "* cada box tem 5 traços horizontais. O primeiro traço (a contar de baixo) é o valor mínimo;\n",
    "* o traço seguinte é o quartil-1 (25% de todos os usernames, para essa cidade, terão um comprimento menor que este valor). Podemos ver que o percentil-25 é 5 caractéres, tanto para Bosto como para Chicago;\n",
    "* os traço seguinte são a mediana (50% dos valores encontram-se abaixo deste valor), e o quartil-3;\n",
    "* o rectângulo situado entre o quartil-1 e o quartil-3 chama-se a distância interquartil (IQ);\n",
    "* o último traço é o valor máximo encontrado, **excluindo outliers**\n",
    "\n",
    "Nesta visualização, os outliers são definidos como todos os pontos que se encontram a mais de 1.5\\*IQ de distância abaixo do quartil-1 ou acima do quartil-3. Como podemos ver, temos alguns usernames com mais de 15 caractéres, considerados outliers.\n",
    "\n",
    "Podemos concluir que em geral, os utilizadores de Las Vegas tem usernames mais longos."
   ]
  },
  {
   "cell_type": "markdown",
   "metadata": {},
   "source": [
    "## Estilos\n",
    "\n",
    "Para melhorar o aspecto das nossas visualizações, podemos utilizar estilos diferentes fornecidos pelo Matplotlib. \n",
    "Podemos ver o tipo de estilos disponíveis da seguinte forma:"
   ]
  },
  {
   "cell_type": "code",
   "execution_count": null,
   "metadata": {},
   "outputs": [],
   "source": [
    "plt.style.available"
   ]
  },
  {
   "cell_type": "markdown",
   "metadata": {},
   "source": [
    "Podemos escolher o estilo com a função **plt.style.use()**. Vamos experimentar alguns estilos diferentes em gráficos de barras:"
   ]
  },
  {
   "cell_type": "code",
   "execution_count": null,
   "metadata": {},
   "outputs": [],
   "source": [
    "frequencia = df_reviews.city.value_counts()[0:20]\n",
    "categorias = frequencia.index\n",
    "valores = frequencia.values\n",
    "\n",
    "plt.rcParams[\"figure.figsize\"] = [8, 6]"
   ]
  },
  {
   "cell_type": "code",
   "execution_count": null,
   "metadata": {
    "scrolled": false
   },
   "outputs": [],
   "source": [
    "plt.style.use('classic')\n",
    "\n",
    "plt.barh(\n",
    "    categorias,\n",
    "    valores\n",
    ")\n",
    "\n",
    "plt.show()"
   ]
  },
  {
   "cell_type": "code",
   "execution_count": null,
   "metadata": {},
   "outputs": [],
   "source": [
    "plt.style.use('ggplot')\n",
    "\n",
    "plt.barh(\n",
    "    categorias,\n",
    "    valores\n",
    ")\n",
    "\n",
    "plt.show()"
   ]
  },
  {
   "cell_type": "code",
   "execution_count": null,
   "metadata": {},
   "outputs": [],
   "source": [
    "plt.style.use('seaborn')\n",
    "\n",
    "plt.barh(\n",
    "    categorias,\n",
    "    valores\n",
    ")\n",
    "\n",
    "plt.show()"
   ]
  },
  {
   "cell_type": "markdown",
   "metadata": {},
   "source": [
    "# Conclusão\n",
    "\n",
    "Neste notebook, aprendemos a importância de seleccionar as visualizações certas para ilustrar as nossas análises. Aprendemos também os básicos do Matplotlib, uma library que nos permite criar vários tipos de visualizações e tem boa integração com o Pandas.\n",
    "\n",
    "Algumas considerações finais:\n",
    "\n",
    "* a criar visualizações, lembrem-se que o objectivo não é criar as visualizações mais complexas possivel, e o conteudo é mais importante que o estilo (menos é mais!). Por isso, evitem gráficos de barra em 3-dimensões, pie charts com gradientes, etc.\n",
    "* este Notebook apenas tocou nos básicos do Matplotlib, mas esta library permite uma grande capacidade de manipulação dos detalhes de baixo nível de cada gráfico.\n",
    "* se tiverem interesse em expandir o vosso conhecimento de libraries de visualização de dados, um bom próximo passo seria o **seaborn**: uma library que utiliza o Matplotlib e expande as suas funcionalidades, com funções bastante intuitivas."
   ]
  }
 ],
 "metadata": {
  "kernelspec": {
   "display_name": "Python 3",
   "language": "python",
   "name": "python3"
  },
  "language_info": {
   "codemirror_mode": {
    "name": "ipython",
    "version": 3
   },
   "file_extension": ".py",
   "mimetype": "text/x-python",
   "name": "python",
   "nbconvert_exporter": "python",
   "pygments_lexer": "ipython3",
   "version": "3.6.9"
  }
 },
 "nbformat": 4,
 "nbformat_minor": 4
}
