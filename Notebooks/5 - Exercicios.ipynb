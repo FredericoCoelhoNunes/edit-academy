{
 "cells": [
  {
   "cell_type": "markdown",
   "metadata": {},
   "source": [
    "# Exercícios\n",
    "\n",
    "<img src=\"images/python-logo.jpg\" alt=\"Python\" style=\"width: 300px;\"/>\n",
    "\n",
    "Para praticar os conceitos que aprenderam nas unidades anteriores, tentem resolver os seguintes exercícios. Os exercícios assinalados com (pesquisa) podem exigir alguma investigação autónoma."
   ]
  },
  {
   "cell_type": "markdown",
   "metadata": {},
   "source": [
    "#### Cria uma função que permite somar dois valores."
   ]
  },
  {
   "cell_type": "markdown",
   "metadata": {},
   "source": [
    "#### Cria uma função que permite multiplicar ou dividir dois números; um terceiro argumento da função deve permitir controlar qual a operação a fazer."
   ]
  },
  {
   "cell_type": "markdown",
   "metadata": {},
   "source": [
    "#### Cria uma função que permita identificar se um dicionário contém o valor 100 mas não contém o valor 200. A função deve retornar True ou False. "
   ]
  },
  {
   "cell_type": "markdown",
   "metadata": {},
   "source": [
    "#### Cria uma função que permita receber uma lista de strings, e adicionar um string à escolha ao final de cada elemento da lista."
   ]
  },
  {
   "cell_type": "markdown",
   "metadata": {},
   "source": [
    "#### Cria uma função que permita inverter uma lista (pesquisa)."
   ]
  },
  {
   "cell_type": "markdown",
   "metadata": {},
   "source": [
    "#### Cria uma função que recebe uma lista e remove todos os elementos iguais a \"erro\"."
   ]
  },
  {
   "cell_type": "markdown",
   "metadata": {},
   "source": [
    "#### Cria uma função que permite inverter as keys e os valores de um dicionário (as keys passam a ser os valores, e vice-versa). Caso hajam valor repetidos no dicionário original, a função deve fazer print de um aviso!"
   ]
  },
  {
   "cell_type": "markdown",
   "metadata": {},
   "source": [
    "#### Usando uma lista comprehension, cria uma lista de todos os números par entre 0 e 20 excepto o 12."
   ]
  },
  {
   "cell_type": "markdown",
   "metadata": {},
   "source": [
    "#### Cria uma função que retorna o último elemento de uma lista, se esta tiver mais de 5 elementos e nenhum destes elementos for igual a 100. Caso contrário, retorna None. "
   ]
  },
  {
   "cell_type": "markdown",
   "metadata": {},
   "source": [
    "#### Cria uma função que gera um número aleatório entre 1 e 6, simulando o lançamento de um dado. Depois escreve um ciclo while com esta função, quebrando o ciclo apenas quando o resultado for 0 (pesquisa)"
   ]
  },
  {
   "cell_type": "markdown",
   "metadata": {},
   "source": [
    "#### Escreve uma função que permite receber uma lista de listas (matriz), e devolve uma matriz com a mesma dimensão, em que cada elemento está ao quadrado. "
   ]
  },
  {
   "cell_type": "markdown",
   "metadata": {},
   "source": [
    "#### Escreve uma função que recebe um dicionário e verifica se alguma das suas chaves é um string (deve retornar True ou False). "
   ]
  },
  {
   "cell_type": "markdown",
   "metadata": {},
   "source": [
    "#### Escreve uma pequena classe Planeta, que tenha como atributos o nome, volume, cor, um atributo boolean que define se o planeta é ou não gasoso, e um atributo com uma lista de habitantes. Depois implementa um método que permita adicionar habitantes ao planeta, e outro método que permita fazer print da lista de habitantes (escrita da cor do planeta)."
   ]
  },
  {
   "cell_type": "markdown",
   "metadata": {},
   "source": [
    "#### Teste de pesquisa no Google! : )  qual o método que permite descobrir todos os valores que existem num set, e não no outro?"
   ]
  },
  {
   "cell_type": "code",
   "execution_count": null,
   "metadata": {},
   "outputs": [],
   "source": []
  }
 ],
 "metadata": {
  "kernelspec": {
   "display_name": "Python 3",
   "language": "python",
   "name": "python3"
  },
  "language_info": {
   "codemirror_mode": {
    "name": "ipython",
    "version": 3
   },
   "file_extension": ".py",
   "mimetype": "text/x-python",
   "name": "python",
   "nbconvert_exporter": "python",
   "pygments_lexer": "ipython3",
   "version": "3.6.9"
  }
 },
 "nbformat": 4,
 "nbformat_minor": 4
}
