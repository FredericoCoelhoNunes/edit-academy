{
 "cells": [
  {
   "cell_type": "markdown",
   "metadata": {},
   "source": [
    "# Pandas\n",
    "\n",
    "<img src=\"images/python-logo.jpg\" alt=\"Python\" style=\"width: 300px;\"/>\n",
    "\n",
    "O Pandas (https://pandas.pydata.org/) é uma library para análise e manipulação de dados. É uma das ferramentas mais utilizadas por Data Scientists devido à sua flexibilidade e às diversa gama de funcionalidades que oferece. Permite, entre outras coisas:\n",
    "\n",
    "* carregar dados de várias fontes e tipos de ficheiros diferentes;\n",
    "* descrever estatisticamente um conjunto de dados;\n",
    "* fazer a limpeza dos dados;\n",
    "* fazer cálculos mais complexos sobre os dados: calcular \"rolling averages\" (valores médios ao longo do tempo), agrupar dados e calcular métricas dentro de cada conjunto, agregar dados de fontes diferentes;\n",
    "* exportar dados para vários formatos.\n",
    "\n",
    "Neste notebook vamos explorar várias destas funcionalidades através de um exemplo prático, que nos permitirá passar por cada um destes pontos da \"pipeline\" de processamento de dados. Depois iremos complementar este conhecimento com algumas técnicas mais avançadas."
   ]
  },
  {
   "cell_type": "markdown",
   "metadata": {},
   "source": [
    "## Pandas - definições essenciais\n",
    "\n",
    "O Pandas assenta sobre duas estruturas de dados particulares: as Series e as DataFrames.\n",
    "\n",
    "Podemos pensar nestas estruturas como colunas e tabelas: uma DataFrame é semelhante a uma tabela, e cada uma das suas colunas é uma Series. Estas estruturas podem conter vários tipos de dados diferentes, e permitem efectuar vários tipos de operações diferentes.\n"
   ]
  },
  {
   "cell_type": "markdown",
   "metadata": {},
   "source": [
    "### Series\n",
    "\n",
    "Vamos começar por importar o Pandas e construir uma Series:"
   ]
  },
  {
   "cell_type": "code",
   "execution_count": 1,
   "metadata": {},
   "outputs": [],
   "source": [
    "import pandas as pd"
   ]
  },
  {
   "cell_type": "code",
   "execution_count": 2,
   "metadata": {},
   "outputs": [
    {
     "data": {
      "text/plain": [
       "0    35.0\n",
       "1    42.0\n",
       "2    55.0\n",
       "3    67.0\n",
       "dtype: float64"
      ]
     },
     "execution_count": 2,
     "metadata": {},
     "output_type": "execute_result"
    }
   ],
   "source": [
    "# Vamos criar uma Series com base numa lista:\n",
    "dados = [35, 42, 55.0, 67]\n",
    "\n",
    "series_ex = pd.Series(dados)\n",
    "\n",
    "series_ex"
   ]
  },
  {
   "cell_type": "markdown",
   "metadata": {},
   "source": [
    "Uma série é muito semelhante a uma lista. Contém:\n",
    "\n",
    "* um índice que identifica cada elemento.\n",
    "* valores (que podem ser de vários tipos)\n",
    "\n",
    "`dtype` refere-se ao tipo de dados contidos na série. Estes tipos de dados têm um certo grau correspondência com os tipos básicos de variáveis de Python (podemos ver que esta série é do tipo int64, um tipo de dados usado para representar números inteiros). Há algumas diferenças, por exemplo: o dtype `object` é usado quando temos uma série de strings, uma série números e strings, e para alguns outros tipos de dados."
   ]
  },
  {
   "cell_type": "markdown",
   "metadata": {},
   "source": [
    "A principal diferença entre uma série e uma lista é que o índice de uma série pode ter valores diferentes, não tendo necessariamente de ser 0, 1, 2, ... \n",
    "Uma série pode também ter um nome.\n",
    "\n",
    "Vejamos como podemos criar uma série com um índice diferente, e com um nome:"
   ]
  },
  {
   "cell_type": "code",
   "execution_count": 8,
   "metadata": {},
   "outputs": [
    {
     "data": {
      "text/plain": [
       "segunda    C35\n",
       "terça      D12\n",
       "quarta     H54\n",
       "quinta     X17\n",
       "Name: códigos_diários, dtype: object"
      ]
     },
     "execution_count": 8,
     "metadata": {},
     "output_type": "execute_result"
    }
   ],
   "source": [
    "dados = ['C35', 'D12', 'H54', 'X17']\n",
    "indice = ['segunda', 'terça', 'quarta', 'quinta']\n",
    "\n",
    "series_ex = pd.Series(\n",
    "    data=dados,\n",
    "    index=indice,\n",
    "    name='códigos_diários'\n",
    ")\n",
    "\n",
    "series_ex"
   ]
  },
  {
   "cell_type": "markdown",
   "metadata": {},
   "source": [
    "Uma série é semelhante a um dicionário na maneira de aceder aos seus valores: "
   ]
  },
  {
   "cell_type": "code",
   "execution_count": 10,
   "metadata": {},
   "outputs": [
    {
     "data": {
      "text/plain": [
       "'C35'"
      ]
     },
     "execution_count": 10,
     "metadata": {},
     "output_type": "execute_result"
    }
   ],
   "source": [
    "series_ex['segunda']"
   ]
  },
  {
   "cell_type": "markdown",
   "metadata": {},
   "source": [
    "É possível criar uma série a partir de um dicionário:"
   ]
  },
  {
   "cell_type": "code",
   "execution_count": 11,
   "metadata": {},
   "outputs": [
    {
     "data": {
      "text/plain": [
       "indice_1    valor_1\n",
       "indice_2    valor_2\n",
       "dtype: object"
      ]
     },
     "execution_count": 11,
     "metadata": {},
     "output_type": "execute_result"
    }
   ],
   "source": [
    "dicionario = {\n",
    "    'indice_1': 'valor_1',\n",
    "    'indice_2': 'valor_2'\n",
    "}\n",
    "\n",
    "serie = pd.Series(dicionario)\n",
    "\n",
    "serie"
   ]
  },
  {
   "cell_type": "markdown",
   "metadata": {},
   "source": [
    "# DataFrame\n",
    "\n",
    "Uma DataFrame é essencialmente uma tabela em que cada coluna é uma Series. É possível criar DataFrames a partir de vários iteráveis diferentes como listas, dicionários e séries.\n",
    "\n",
    "A maneira mais prática de o fazer é usando um dicionário em que o nome de cada coluna é dado pelas chaves do dicionário, e os valores de cada coluna são dados pelos valores do dicionário:"
   ]
  },
  {
   "cell_type": "code",
   "execution_count": 12,
   "metadata": {},
   "outputs": [
    {
     "data": {
      "text/html": [
       "<div>\n",
       "<style scoped>\n",
       "    .dataframe tbody tr th:only-of-type {\n",
       "        vertical-align: middle;\n",
       "    }\n",
       "\n",
       "    .dataframe tbody tr th {\n",
       "        vertical-align: top;\n",
       "    }\n",
       "\n",
       "    .dataframe thead th {\n",
       "        text-align: right;\n",
       "    }\n",
       "</style>\n",
       "<table border=\"1\" class=\"dataframe\">\n",
       "  <thead>\n",
       "    <tr style=\"text-align: right;\">\n",
       "      <th></th>\n",
       "      <th>nomes</th>\n",
       "      <th>idades</th>\n",
       "      <th>profissão</th>\n",
       "    </tr>\n",
       "  </thead>\n",
       "  <tbody>\n",
       "    <tr>\n",
       "      <th>0</th>\n",
       "      <td>Fred</td>\n",
       "      <td>26</td>\n",
       "      <td>Data Scientist</td>\n",
       "    </tr>\n",
       "    <tr>\n",
       "      <th>1</th>\n",
       "      <td>João</td>\n",
       "      <td>27</td>\n",
       "      <td>Biologist</td>\n",
       "    </tr>\n",
       "    <tr>\n",
       "      <th>2</th>\n",
       "      <td>Maria</td>\n",
       "      <td>28</td>\n",
       "      <td>Software Engineer</td>\n",
       "    </tr>\n",
       "  </tbody>\n",
       "</table>\n",
       "</div>"
      ],
      "text/plain": [
       "   nomes  idades          profissão\n",
       "0   Fred      26     Data Scientist\n",
       "1   João      27          Biologist\n",
       "2  Maria      28  Software Engineer"
      ]
     },
     "execution_count": 12,
     "metadata": {},
     "output_type": "execute_result"
    }
   ],
   "source": [
    "dados = {\n",
    "    'nomes': ['Fred', 'João', 'Maria'],\n",
    "    'idades': [26, 27, 28],\n",
    "    'profissão': ['Data Scientist', 'Biologist', 'Software Engineer']\n",
    "}\n",
    "\n",
    "df = pd.DataFrame(dados)\n",
    "\n",
    "df"
   ]
  },
  {
   "cell_type": "markdown",
   "metadata": {},
   "source": [
    "A maior parte do processamento de dados em Python pode ser feito usando o Pandas."
   ]
  },
  {
   "cell_type": "markdown",
   "metadata": {},
   "source": [
    "# Data Science / Analysis com o Pandas\n",
    "\n",
    "Devido ao grande número de operações possíveis que podem ser executadas com o Pandas, não seria uma boa abordagem listá-las uma a uma num único notebook. Em vez disso, vamos ver um exemplo de uma tarefa que um Data Scientist poderia ter que realizar no seu dia-a-dia, e a cada passo do caminho serão discutidas as funções mais relevantes.\n",
    "\n",
    "Vamos entrar no \"mindset\" de um Data Scientist!"
   ]
  },
  {
   "cell_type": "markdown",
   "metadata": {},
   "source": [
    "## Tarefa: análise de reviews de hotéis\n",
    "\n",
    "Imaginem que são um Data Scientist a trabalhar para uma agência de viagens, e vos é pedido que analizem em que regiões os hotéis são em média mais bem classificados, de modo a que a que a empresa possa fazer campanhas publicitárias direccionadas a essas áreas. Para além disso são livres de apresentar quaisquer outras conclusões ou detalhes interessantes que encontrem nos dados.\n",
    "\n",
    "Foi-vos fornecido um conjuntos de dados (na pasta `data/hotel-reviews`):\n",
    "\n",
    "* hotel_reviews.csv contém classificações dadas por utilizadores a vários hotéis e outros estabelecimentos;\n",
    "* postal_codes.csv contém o código postal e província de cada hotel.\n",
    "\n",
    "Vamos ver, passo a passo, uma possível maneira de abordar este problema."
   ]
  },
  {
   "cell_type": "markdown",
   "metadata": {},
   "source": [
    "## Leitura dos dados\n",
    "\n",
    "Vamos começar por ler os dados. Podemos ver que os dados estão no formato .csv (\"comma-separated values\"). Para importar os dados para o nosso Notebook, podemos servir-nos da função **read_csv** dos Pandas, que irá ler os dados para uma DataFrame:"
   ]
  },
  {
   "cell_type": "code",
   "execution_count": 13,
   "metadata": {},
   "outputs": [],
   "source": [
    "df = pd.read_csv('data/hotel-reviews/hotel_reviews.csv')"
   ]
  },
  {
   "cell_type": "markdown",
   "metadata": {},
   "source": [
    "O pandas fornece várias funções do tipo **read_*extensão*** que nos permitem importar ficheiros de vários formatos diferentes. Estas funções também têm vários aergumentos opcionais para lidar com headers, dar outros nomes às colunas, etc.\n",
    "\n",
    "O melhor a fazer quando queremos importar um ficheiro com um formato pouco convencional (por exemplo, 2 linhas de headers) será consultar a documentação e procurar uma solução para o nosso caso em particular - é muito provável que a solução já exista e seja simples, dada a importância do passo de leitura do dados."
   ]
  },
  {
   "cell_type": "markdown",
   "metadata": {},
   "source": [
    "## Análise inicial\n",
    "\n",
    "Após carregarmos os dados, o primeiro passo será fazer uma análise inicial, só para começar a formar uma imagem mental do conjunto de dados. É muito importante familiarizarmo-nos com os dados, pois isto desbloqueia novas ideias que podemos explorar."
   ]
  },
  {
   "cell_type": "markdown",
   "metadata": {},
   "source": [
    "Para ver as primeiras linhas de uma dataframe, podemos usar o método **head**:"
   ]
  },
  {
   "cell_type": "code",
   "execution_count": 14,
   "metadata": {},
   "outputs": [
    {
     "data": {
      "text/html": [
       "<div>\n",
       "<style scoped>\n",
       "    .dataframe tbody tr th:only-of-type {\n",
       "        vertical-align: middle;\n",
       "    }\n",
       "\n",
       "    .dataframe tbody tr th {\n",
       "        vertical-align: top;\n",
       "    }\n",
       "\n",
       "    .dataframe thead th {\n",
       "        text-align: right;\n",
       "    }\n",
       "</style>\n",
       "<table border=\"1\" class=\"dataframe\">\n",
       "  <thead>\n",
       "    <tr style=\"text-align: right;\">\n",
       "      <th></th>\n",
       "      <th>id</th>\n",
       "      <th>dateAdded</th>\n",
       "      <th>dateUpdated</th>\n",
       "      <th>address</th>\n",
       "      <th>categories</th>\n",
       "      <th>primaryCategories</th>\n",
       "      <th>city</th>\n",
       "      <th>country</th>\n",
       "      <th>keys</th>\n",
       "      <th>latitude</th>\n",
       "      <th>...</th>\n",
       "      <th>reviews.rating</th>\n",
       "      <th>reviews.sourceURLs</th>\n",
       "      <th>reviews.text</th>\n",
       "      <th>reviews.title</th>\n",
       "      <th>reviews.userCity</th>\n",
       "      <th>reviews.userProvince</th>\n",
       "      <th>reviews.username</th>\n",
       "      <th>sourceURLs</th>\n",
       "      <th>websites</th>\n",
       "      <th>garbage</th>\n",
       "    </tr>\n",
       "  </thead>\n",
       "  <tbody>\n",
       "    <tr>\n",
       "      <th>0</th>\n",
       "      <td>AVwc252WIN2L1WUfpqLP</td>\n",
       "      <td>2016-10-30T21:42:42Z</td>\n",
       "      <td>2018-09-10T21:06:27Z</td>\n",
       "      <td>5921 Valencia Cir</td>\n",
       "      <td>Hotels,Hotels and motels,Hotel and motel reser...</td>\n",
       "      <td>Accommodation &amp; Food Services</td>\n",
       "      <td>Rancho Santa Fe</td>\n",
       "      <td>US</td>\n",
       "      <td>us/ca/ranchosantafe/5921valenciacir/359754519</td>\n",
       "      <td>32.990959</td>\n",
       "      <td>...</td>\n",
       "      <td>5.0</td>\n",
       "      <td>https://www.hotels.com/hotel/125419/reviews%20/</td>\n",
       "      <td>Our experience at Rancho Valencia was absolute...</td>\n",
       "      <td>Best romantic vacation ever!!!!</td>\n",
       "      <td>NaN</td>\n",
       "      <td>NaN</td>\n",
       "      <td>Paula</td>\n",
       "      <td>http://www.hotels.com/ho125419/%25252525253Flo...</td>\n",
       "      <td>http://www.ranchovalencia.com</td>\n",
       "      <td>this</td>\n",
       "    </tr>\n",
       "    <tr>\n",
       "      <th>1</th>\n",
       "      <td>AVwc252WIN2L1WUfpqLP</td>\n",
       "      <td>2016-10-30T21:42:42Z</td>\n",
       "      <td>2018-09-10T21:06:27Z</td>\n",
       "      <td>5921 Valencia Cir</td>\n",
       "      <td>Hotels,Hotels and motels,Hotel and motel reser...</td>\n",
       "      <td>Accommodation &amp; Food Services</td>\n",
       "      <td>Rancho Santa Fe</td>\n",
       "      <td>US</td>\n",
       "      <td>us/ca/ranchosantafe/5921valenciacir/359754519</td>\n",
       "      <td>32.990959</td>\n",
       "      <td>...</td>\n",
       "      <td>5.0</td>\n",
       "      <td>https://www.hotels.com/hotel/125419/reviews%20/</td>\n",
       "      <td>Amazing place. Everyone was extremely warm and...</td>\n",
       "      <td>Sweet sweet serenity</td>\n",
       "      <td>NaN</td>\n",
       "      <td>NaN</td>\n",
       "      <td>D</td>\n",
       "      <td>http://www.hotels.com/ho125419/%25252525253Flo...</td>\n",
       "      <td>http://www.ranchovalencia.com</td>\n",
       "      <td>is</td>\n",
       "    </tr>\n",
       "    <tr>\n",
       "      <th>2</th>\n",
       "      <td>AVwc252WIN2L1WUfpqLP</td>\n",
       "      <td>2016-10-30T21:42:42Z</td>\n",
       "      <td>2018-09-10T21:06:27Z</td>\n",
       "      <td>5921 Valencia Cir</td>\n",
       "      <td>Hotels,Hotels and motels,Hotel and motel reser...</td>\n",
       "      <td>Accommodation &amp; Food Services</td>\n",
       "      <td>Rancho Santa Fe</td>\n",
       "      <td>US</td>\n",
       "      <td>us/ca/ranchosantafe/5921valenciacir/359754519</td>\n",
       "      <td>32.990959</td>\n",
       "      <td>...</td>\n",
       "      <td>5.0</td>\n",
       "      <td>https://www.hotels.com/hotel/125419/reviews%20/</td>\n",
       "      <td>We booked a 3 night stay at Rancho Valencia to...</td>\n",
       "      <td>Amazing Property and Experience</td>\n",
       "      <td>NaN</td>\n",
       "      <td>NaN</td>\n",
       "      <td>Ron</td>\n",
       "      <td>http://www.hotels.com/ho125419/%25252525253Flo...</td>\n",
       "      <td>http://www.ranchovalencia.com</td>\n",
       "      <td>garbage</td>\n",
       "    </tr>\n",
       "  </tbody>\n",
       "</table>\n",
       "<p>3 rows × 24 columns</p>\n",
       "</div>"
      ],
      "text/plain": [
       "                     id             dateAdded           dateUpdated  \\\n",
       "0  AVwc252WIN2L1WUfpqLP  2016-10-30T21:42:42Z  2018-09-10T21:06:27Z   \n",
       "1  AVwc252WIN2L1WUfpqLP  2016-10-30T21:42:42Z  2018-09-10T21:06:27Z   \n",
       "2  AVwc252WIN2L1WUfpqLP  2016-10-30T21:42:42Z  2018-09-10T21:06:27Z   \n",
       "\n",
       "             address                                         categories  \\\n",
       "0  5921 Valencia Cir  Hotels,Hotels and motels,Hotel and motel reser...   \n",
       "1  5921 Valencia Cir  Hotels,Hotels and motels,Hotel and motel reser...   \n",
       "2  5921 Valencia Cir  Hotels,Hotels and motels,Hotel and motel reser...   \n",
       "\n",
       "               primaryCategories             city country  \\\n",
       "0  Accommodation & Food Services  Rancho Santa Fe      US   \n",
       "1  Accommodation & Food Services  Rancho Santa Fe      US   \n",
       "2  Accommodation & Food Services  Rancho Santa Fe      US   \n",
       "\n",
       "                                            keys   latitude  ...  \\\n",
       "0  us/ca/ranchosantafe/5921valenciacir/359754519  32.990959  ...   \n",
       "1  us/ca/ranchosantafe/5921valenciacir/359754519  32.990959  ...   \n",
       "2  us/ca/ranchosantafe/5921valenciacir/359754519  32.990959  ...   \n",
       "\n",
       "   reviews.rating                               reviews.sourceURLs  \\\n",
       "0             5.0  https://www.hotels.com/hotel/125419/reviews%20/   \n",
       "1             5.0  https://www.hotels.com/hotel/125419/reviews%20/   \n",
       "2             5.0  https://www.hotels.com/hotel/125419/reviews%20/   \n",
       "\n",
       "                                        reviews.text  \\\n",
       "0  Our experience at Rancho Valencia was absolute...   \n",
       "1  Amazing place. Everyone was extremely warm and...   \n",
       "2  We booked a 3 night stay at Rancho Valencia to...   \n",
       "\n",
       "                     reviews.title  reviews.userCity reviews.userProvince  \\\n",
       "0  Best romantic vacation ever!!!!               NaN                  NaN   \n",
       "1             Sweet sweet serenity               NaN                  NaN   \n",
       "2  Amazing Property and Experience               NaN                  NaN   \n",
       "\n",
       "  reviews.username                                         sourceURLs  \\\n",
       "0            Paula  http://www.hotels.com/ho125419/%25252525253Flo...   \n",
       "1                D  http://www.hotels.com/ho125419/%25252525253Flo...   \n",
       "2              Ron  http://www.hotels.com/ho125419/%25252525253Flo...   \n",
       "\n",
       "                        websites  garbage  \n",
       "0  http://www.ranchovalencia.com     this  \n",
       "1  http://www.ranchovalencia.com       is  \n",
       "2  http://www.ranchovalencia.com  garbage  \n",
       "\n",
       "[3 rows x 24 columns]"
      ]
     },
     "execution_count": 14,
     "metadata": {},
     "output_type": "execute_result"
    }
   ],
   "source": [
    "df.head(3)"
   ]
  },
  {
   "cell_type": "markdown",
   "metadata": {},
   "source": [
    "O mesmo se aplica para as ultimas linhas, com o método **tail**:"
   ]
  },
  {
   "cell_type": "code",
   "execution_count": 15,
   "metadata": {},
   "outputs": [
    {
     "data": {
      "text/html": [
       "<div>\n",
       "<style scoped>\n",
       "    .dataframe tbody tr th:only-of-type {\n",
       "        vertical-align: middle;\n",
       "    }\n",
       "\n",
       "    .dataframe tbody tr th {\n",
       "        vertical-align: top;\n",
       "    }\n",
       "\n",
       "    .dataframe thead th {\n",
       "        text-align: right;\n",
       "    }\n",
       "</style>\n",
       "<table border=\"1\" class=\"dataframe\">\n",
       "  <thead>\n",
       "    <tr style=\"text-align: right;\">\n",
       "      <th></th>\n",
       "      <th>id</th>\n",
       "      <th>dateAdded</th>\n",
       "      <th>dateUpdated</th>\n",
       "      <th>address</th>\n",
       "      <th>categories</th>\n",
       "      <th>primaryCategories</th>\n",
       "      <th>city</th>\n",
       "      <th>country</th>\n",
       "      <th>keys</th>\n",
       "      <th>latitude</th>\n",
       "      <th>...</th>\n",
       "      <th>reviews.rating</th>\n",
       "      <th>reviews.sourceURLs</th>\n",
       "      <th>reviews.text</th>\n",
       "      <th>reviews.title</th>\n",
       "      <th>reviews.userCity</th>\n",
       "      <th>reviews.userProvince</th>\n",
       "      <th>reviews.username</th>\n",
       "      <th>sourceURLs</th>\n",
       "      <th>websites</th>\n",
       "      <th>garbage</th>\n",
       "    </tr>\n",
       "  </thead>\n",
       "  <tbody>\n",
       "    <tr>\n",
       "      <th>9997</th>\n",
       "      <td>AVwd1TbkByjofQCxs6FH</td>\n",
       "      <td>2016-06-11T03:12:23Z</td>\n",
       "      <td>2018-01-01T00:00:44Z</td>\n",
       "      <td>702 W Appleway Ave</td>\n",
       "      <td>Hotel,Hotel, Motel, and Building,Hotels,Lodgin...</td>\n",
       "      <td>Accommodation &amp; Food Services</td>\n",
       "      <td>Coeur d'Alene</td>\n",
       "      <td>US</td>\n",
       "      <td>us/id/coeurd'alene/702wapplewayave/210547670</td>\n",
       "      <td>47.69993</td>\n",
       "      <td>...</td>\n",
       "      <td>4.0</td>\n",
       "      <td>https://www.tripadvisor.com/Hotel_Review-g3541...</td>\n",
       "      <td>Rolled in 11:30 laid out heads down woke up to...</td>\n",
       "      <td>Passing through</td>\n",
       "      <td>Montana</td>\n",
       "      <td>UnitedStates</td>\n",
       "      <td>Amber406</td>\n",
       "      <td>https://www.tripadvisor.com/Hotel_Review-g3541...</td>\n",
       "      <td>http://www.shiloinns.com</td>\n",
       "      <td>NaN</td>\n",
       "    </tr>\n",
       "    <tr>\n",
       "      <th>9998</th>\n",
       "      <td>AVwdHbizIN2L1WUfsXto</td>\n",
       "      <td>2016-12-13T03:44:36Z</td>\n",
       "      <td>2018-01-01T00:00:43Z</td>\n",
       "      <td>2295 N Highland Ave</td>\n",
       "      <td>Hotel,Hotels Motels,Budget Hotels,Hotels &amp; Motels</td>\n",
       "      <td>Accommodation &amp; Food Services</td>\n",
       "      <td>Jackson</td>\n",
       "      <td>US</td>\n",
       "      <td>us/tn/jackson/2295nhighlandave/1759289930</td>\n",
       "      <td>35.66639</td>\n",
       "      <td>...</td>\n",
       "      <td>1.0</td>\n",
       "      <td>https://www.tripadvisor.com/Hotel_Review-g5512...</td>\n",
       "      <td>Absolutely terrible..I was told I was being gi...</td>\n",
       "      <td>Terrible</td>\n",
       "      <td>woodbury</td>\n",
       "      <td>NaN</td>\n",
       "      <td>donWoodbury</td>\n",
       "      <td>https://www.tripadvisor.com/Hotel_Review-g5512...</td>\n",
       "      <td>http://api.citygridmedia.com/content/places/v2...</td>\n",
       "      <td>NaN</td>\n",
       "    </tr>\n",
       "    <tr>\n",
       "      <th>9999</th>\n",
       "      <td>AVwddMfdIN2L1WUfwAue</td>\n",
       "      <td>2016-06-22T19:07:21Z</td>\n",
       "      <td>2018-01-01T00:00:43Z</td>\n",
       "      <td>3811 Minnesota Dr</td>\n",
       "      <td>Hotel,Motels,Lodging,Hotels,Hotels and Motels</td>\n",
       "      <td>Accommodation &amp; Food Services</td>\n",
       "      <td>Anchorage</td>\n",
       "      <td>US</td>\n",
       "      <td>us/ak/anchorage/3811minnesotadr/806029870</td>\n",
       "      <td>61.18531</td>\n",
       "      <td>...</td>\n",
       "      <td>1.0</td>\n",
       "      <td>https://www.tripadvisor.com/Hotel_Review-g6088...</td>\n",
       "      <td>Filthy, outdated, noisy neighbours, but this w...</td>\n",
       "      <td>Polde</td>\n",
       "      <td>Sempeter pri Gorici</td>\n",
       "      <td>Slovenia</td>\n",
       "      <td>janezr2013</td>\n",
       "      <td>https://www.tripadvisor.com/Hotel_Review-g6088...</td>\n",
       "      <td>http://royalsuitealaska.com</td>\n",
       "      <td>NaN</td>\n",
       "    </tr>\n",
       "  </tbody>\n",
       "</table>\n",
       "<p>3 rows × 24 columns</p>\n",
       "</div>"
      ],
      "text/plain": [
       "                        id             dateAdded           dateUpdated  \\\n",
       "9997  AVwd1TbkByjofQCxs6FH  2016-06-11T03:12:23Z  2018-01-01T00:00:44Z   \n",
       "9998  AVwdHbizIN2L1WUfsXto  2016-12-13T03:44:36Z  2018-01-01T00:00:43Z   \n",
       "9999  AVwddMfdIN2L1WUfwAue  2016-06-22T19:07:21Z  2018-01-01T00:00:43Z   \n",
       "\n",
       "                  address                                         categories  \\\n",
       "9997   702 W Appleway Ave  Hotel,Hotel, Motel, and Building,Hotels,Lodgin...   \n",
       "9998  2295 N Highland Ave  Hotel,Hotels Motels,Budget Hotels,Hotels & Motels   \n",
       "9999    3811 Minnesota Dr      Hotel,Motels,Lodging,Hotels,Hotels and Motels   \n",
       "\n",
       "                  primaryCategories           city country  \\\n",
       "9997  Accommodation & Food Services  Coeur d'Alene      US   \n",
       "9998  Accommodation & Food Services        Jackson      US   \n",
       "9999  Accommodation & Food Services      Anchorage      US   \n",
       "\n",
       "                                              keys  latitude  ...  \\\n",
       "9997  us/id/coeurd'alene/702wapplewayave/210547670  47.69993  ...   \n",
       "9998     us/tn/jackson/2295nhighlandave/1759289930  35.66639  ...   \n",
       "9999     us/ak/anchorage/3811minnesotadr/806029870  61.18531  ...   \n",
       "\n",
       "      reviews.rating                                 reviews.sourceURLs  \\\n",
       "9997             4.0  https://www.tripadvisor.com/Hotel_Review-g3541...   \n",
       "9998             1.0  https://www.tripadvisor.com/Hotel_Review-g5512...   \n",
       "9999             1.0  https://www.tripadvisor.com/Hotel_Review-g6088...   \n",
       "\n",
       "                                           reviews.text    reviews.title  \\\n",
       "9997  Rolled in 11:30 laid out heads down woke up to...  Passing through   \n",
       "9998  Absolutely terrible..I was told I was being gi...         Terrible   \n",
       "9999  Filthy, outdated, noisy neighbours, but this w...            Polde   \n",
       "\n",
       "         reviews.userCity reviews.userProvince reviews.username  \\\n",
       "9997              Montana         UnitedStates         Amber406   \n",
       "9998             woodbury                  NaN      donWoodbury   \n",
       "9999  Sempeter pri Gorici             Slovenia       janezr2013   \n",
       "\n",
       "                                             sourceURLs  \\\n",
       "9997  https://www.tripadvisor.com/Hotel_Review-g3541...   \n",
       "9998  https://www.tripadvisor.com/Hotel_Review-g5512...   \n",
       "9999  https://www.tripadvisor.com/Hotel_Review-g6088...   \n",
       "\n",
       "                                               websites garbage  \n",
       "9997                           http://www.shiloinns.com     NaN  \n",
       "9998  http://api.citygridmedia.com/content/places/v2...     NaN  \n",
       "9999                        http://royalsuitealaska.com     NaN  \n",
       "\n",
       "[3 rows x 24 columns]"
      ]
     },
     "execution_count": 15,
     "metadata": {},
     "output_type": "execute_result"
    }
   ],
   "source": [
    "df.tail(3)"
   ]
  },
  {
   "cell_type": "markdown",
   "metadata": {},
   "source": [
    "Podemos ver o formato da nossa DataFrame através da sua **shape**.\n",
    "\n",
    "Atenção: shape não é um método, mas sim um atributo! Ou seja, é uma propriedade de cada DataFrame a que podemos aceder da seguinte forma:"
   ]
  },
  {
   "cell_type": "code",
   "execution_count": 16,
   "metadata": {},
   "outputs": [
    {
     "data": {
      "text/plain": [
       "(10000, 24)"
      ]
     },
     "execution_count": 16,
     "metadata": {},
     "output_type": "execute_result"
    }
   ],
   "source": [
    "df.shape"
   ]
  },
  {
   "cell_type": "markdown",
   "metadata": {},
   "source": [
    "Podemos ver que o atributo **shape** é um tuplo. O primeiro valor dá-nos o número de linhas (10000), e o segundo valor dá-nos o número de colunas (23) da nossa DataFrame."
   ]
  },
  {
   "cell_type": "markdown",
   "metadata": {},
   "source": [
    "Podemos ver o tipo de dados que cada coluna contém com o atributo **dtypes**:"
   ]
  },
  {
   "cell_type": "code",
   "execution_count": 17,
   "metadata": {},
   "outputs": [
    {
     "data": {
      "text/plain": [
       "id                       object\n",
       "dateAdded                object\n",
       "dateUpdated              object\n",
       "address                  object\n",
       "categories               object\n",
       "primaryCategories        object\n",
       "city                     object\n",
       "country                  object\n",
       "keys                     object\n",
       "latitude                float64\n",
       "longitude               float64\n",
       "name                     object\n",
       "reviews.date             object\n",
       "reviews.dateSeen         object\n",
       "reviews.rating          float64\n",
       "reviews.sourceURLs       object\n",
       "reviews.text             object\n",
       "reviews.title            object\n",
       "reviews.userCity         object\n",
       "reviews.userProvince     object\n",
       "reviews.username         object\n",
       "sourceURLs               object\n",
       "websites                 object\n",
       "garbage                  object\n",
       "dtype: object"
      ]
     },
     "execution_count": 17,
     "metadata": {},
     "output_type": "execute_result"
    }
   ],
   "source": [
    "df.dtypes"
   ]
  },
  {
   "cell_type": "markdown",
   "metadata": {},
   "source": [
    "E o nome das colunas com o atributo **columns**:"
   ]
  },
  {
   "cell_type": "code",
   "execution_count": 18,
   "metadata": {},
   "outputs": [
    {
     "data": {
      "text/plain": [
       "Index(['id', 'dateAdded', 'dateUpdated', 'address', 'categories',\n",
       "       'primaryCategories', 'city', 'country', 'keys', 'latitude', 'longitude',\n",
       "       'name', 'reviews.date', 'reviews.dateSeen', 'reviews.rating',\n",
       "       'reviews.sourceURLs', 'reviews.text', 'reviews.title',\n",
       "       'reviews.userCity', 'reviews.userProvince', 'reviews.username',\n",
       "       'sourceURLs', 'websites', 'garbage'],\n",
       "      dtype='object')"
      ]
     },
     "execution_count": 18,
     "metadata": {},
     "output_type": "execute_result"
    }
   ],
   "source": [
    "df.columns"
   ]
  },
  {
   "cell_type": "markdown",
   "metadata": {},
   "source": [
    "O Pandas fornece também dois métodos muito úteis para descrever uma DataFrame de forma geral. O primeiro é o método **info**. Este método dá-nos a shape, os dtypes, e o número de valores não nulos de uma DataFrame, entre outras informações."
   ]
  },
  {
   "cell_type": "code",
   "execution_count": 19,
   "metadata": {},
   "outputs": [
    {
     "name": "stdout",
     "output_type": "stream",
     "text": [
      "<class 'pandas.core.frame.DataFrame'>\n",
      "RangeIndex: 10000 entries, 0 to 9999\n",
      "Data columns (total 24 columns):\n",
      " #   Column                Non-Null Count  Dtype  \n",
      "---  ------                --------------  -----  \n",
      " 0   id                    10000 non-null  object \n",
      " 1   dateAdded             10000 non-null  object \n",
      " 2   dateUpdated           10000 non-null  object \n",
      " 3   address               10000 non-null  object \n",
      " 4   categories            10000 non-null  object \n",
      " 5   primaryCategories     10000 non-null  object \n",
      " 6   city                  10000 non-null  object \n",
      " 7   country               10000 non-null  object \n",
      " 8   keys                  10000 non-null  object \n",
      " 9   latitude              10000 non-null  float64\n",
      " 10  longitude             10000 non-null  float64\n",
      " 11  name                  10000 non-null  object \n",
      " 12  reviews.date          10000 non-null  object \n",
      " 13  reviews.dateSeen      10000 non-null  object \n",
      " 14  reviews.rating        10000 non-null  float64\n",
      " 15  reviews.sourceURLs    10000 non-null  object \n",
      " 16  reviews.text          9999 non-null   object \n",
      " 17  reviews.title         9999 non-null   object \n",
      " 18  reviews.userCity      4164 non-null   object \n",
      " 19  reviews.userProvince  2705 non-null   object \n",
      " 20  reviews.username      10000 non-null  object \n",
      " 21  sourceURLs            10000 non-null  object \n",
      " 22  websites              10000 non-null  object \n",
      " 23  garbage               3 non-null      object \n",
      "dtypes: float64(3), object(21)\n",
      "memory usage: 1.8+ MB\n"
     ]
    }
   ],
   "source": [
    "df.info()"
   ]
  },
  {
   "cell_type": "markdown",
   "metadata": {},
   "source": [
    "O segundo método, ainda mais útil, é o método **describe**. Este método devolve uma DataFrame com uma descrição estatística das colunas numéricas da DataFrame original:"
   ]
  },
  {
   "cell_type": "code",
   "execution_count": 20,
   "metadata": {},
   "outputs": [
    {
     "data": {
      "text/html": [
       "<div>\n",
       "<style scoped>\n",
       "    .dataframe tbody tr th:only-of-type {\n",
       "        vertical-align: middle;\n",
       "    }\n",
       "\n",
       "    .dataframe tbody tr th {\n",
       "        vertical-align: top;\n",
       "    }\n",
       "\n",
       "    .dataframe thead th {\n",
       "        text-align: right;\n",
       "    }\n",
       "</style>\n",
       "<table border=\"1\" class=\"dataframe\">\n",
       "  <thead>\n",
       "    <tr style=\"text-align: right;\">\n",
       "      <th></th>\n",
       "      <th>latitude</th>\n",
       "      <th>longitude</th>\n",
       "      <th>reviews.rating</th>\n",
       "    </tr>\n",
       "  </thead>\n",
       "  <tbody>\n",
       "    <tr>\n",
       "      <th>count</th>\n",
       "      <td>10000.000000</td>\n",
       "      <td>10000.000000</td>\n",
       "      <td>10000.000000</td>\n",
       "    </tr>\n",
       "    <tr>\n",
       "      <th>mean</th>\n",
       "      <td>37.003630</td>\n",
       "      <td>-92.675934</td>\n",
       "      <td>4.034265</td>\n",
       "    </tr>\n",
       "    <tr>\n",
       "      <th>std</th>\n",
       "      <td>5.517273</td>\n",
       "      <td>19.347989</td>\n",
       "      <td>1.162240</td>\n",
       "    </tr>\n",
       "    <tr>\n",
       "      <th>min</th>\n",
       "      <td>19.438604</td>\n",
       "      <td>-159.474930</td>\n",
       "      <td>1.000000</td>\n",
       "    </tr>\n",
       "    <tr>\n",
       "      <th>25%</th>\n",
       "      <td>33.927588</td>\n",
       "      <td>-111.622343</td>\n",
       "      <td>3.350000</td>\n",
       "    </tr>\n",
       "    <tr>\n",
       "      <th>50%</th>\n",
       "      <td>37.785060</td>\n",
       "      <td>-84.452114</td>\n",
       "      <td>4.000000</td>\n",
       "    </tr>\n",
       "    <tr>\n",
       "      <th>75%</th>\n",
       "      <td>40.416380</td>\n",
       "      <td>-77.052700</td>\n",
       "      <td>5.000000</td>\n",
       "    </tr>\n",
       "    <tr>\n",
       "      <th>max</th>\n",
       "      <td>70.133620</td>\n",
       "      <td>-68.203990</td>\n",
       "      <td>5.000000</td>\n",
       "    </tr>\n",
       "  </tbody>\n",
       "</table>\n",
       "</div>"
      ],
      "text/plain": [
       "           latitude     longitude  reviews.rating\n",
       "count  10000.000000  10000.000000    10000.000000\n",
       "mean      37.003630    -92.675934        4.034265\n",
       "std        5.517273     19.347989        1.162240\n",
       "min       19.438604   -159.474930        1.000000\n",
       "25%       33.927588   -111.622343        3.350000\n",
       "50%       37.785060    -84.452114        4.000000\n",
       "75%       40.416380    -77.052700        5.000000\n",
       "max       70.133620    -68.203990        5.000000"
      ]
     },
     "execution_count": 20,
     "metadata": {},
     "output_type": "execute_result"
    }
   ],
   "source": [
    "df.describe()"
   ]
  },
  {
   "cell_type": "markdown",
   "metadata": {},
   "source": [
    "Temos, para cada coluna numérica:\n",
    "\n",
    "* a contagem de valores por coluna;\n",
    "* o valor médio, mínimo, máximo e o desvio padrão;\n",
    "* os percentis 25%, 50% e 75% (podemos ter outros através do argumento percentiles)"
   ]
  },
  {
   "cell_type": "markdown",
   "metadata": {},
   "source": [
    "## Aceder aos valores da DataFrame (\"slicing\")\n",
    "\n",
    "Agora que já conseguimos uma visão geral sobre os dados, vamos aprender extrair os valores que desejamos da DataFrame.\n",
    "\n",
    "Podemos aceder a conjuntos de valores de uma DataFrame especificando os índices e as colunas que desejamos. A melhor maneira de o fazermos é através do oparedor **loc**, que tem a seguinte sintaxe:\n",
    "\n",
    "    df.loc[valores_do_indice, valores_das_colunas]\n",
    "    \n",
    "Podemos também usar o operador **iloc** se quisermos referir-nos ao índice e as colunas pelo seu número, e não pelo seu nome:\n",
    "\n",
    "    df.iloc[numero_da_linha, numero_da_coluna]\n",
    "\n",
    "Vamos começar por extrair a primeira linha da DataFrame:"
   ]
  },
  {
   "cell_type": "code",
   "execution_count": 21,
   "metadata": {},
   "outputs": [
    {
     "data": {
      "text/plain": [
       "id                                                   AVwc252WIN2L1WUfpqLP\n",
       "dateAdded                                            2016-10-30T21:42:42Z\n",
       "dateUpdated                                          2018-09-10T21:06:27Z\n",
       "address                                                 5921 Valencia Cir\n",
       "categories              Hotels,Hotels and motels,Hotel and motel reser...\n",
       "primaryCategories                           Accommodation & Food Services\n",
       "city                                                      Rancho Santa Fe\n",
       "country                                                                US\n",
       "keys                        us/ca/ranchosantafe/5921valenciacir/359754519\n",
       "latitude                                                           32.991\n",
       "longitude                                                        -117.186\n",
       "name                                           Rancho Valencia Resort Spa\n",
       "reviews.date                                         2013-11-14T00:00:00Z\n",
       "reviews.dateSeen        2016-08-03T00:00:00Z,2016-07-26T00:00:00Z,2016...\n",
       "reviews.rating                                                          5\n",
       "reviews.sourceURLs        https://www.hotels.com/hotel/125419/reviews%20/\n",
       "reviews.text            Our experience at Rancho Valencia was absolute...\n",
       "reviews.title                             Best romantic vacation ever!!!!\n",
       "reviews.userCity                                                      NaN\n",
       "reviews.userProvince                                                  NaN\n",
       "reviews.username                                                    Paula\n",
       "sourceURLs              http://www.hotels.com/ho125419/%25252525253Flo...\n",
       "websites                                    http://www.ranchovalencia.com\n",
       "garbage                                                              this\n",
       "Name: 0, dtype: object"
      ]
     },
     "execution_count": 21,
     "metadata": {},
     "output_type": "execute_result"
    }
   ],
   "source": [
    "primeira_linha = df.loc[0]\n",
    "\n",
    "primeira_linha"
   ]
  },
  {
   "cell_type": "markdown",
   "metadata": {},
   "source": [
    "Podemos ver que esta operação retorna uma Series ou seja: as linhas de uma DataFrame são também tratadas como Series:"
   ]
  },
  {
   "cell_type": "code",
   "execution_count": 22,
   "metadata": {},
   "outputs": [
    {
     "data": {
      "text/plain": [
       "pandas.core.series.Series"
      ]
     },
     "execution_count": 22,
     "metadata": {},
     "output_type": "execute_result"
    }
   ],
   "source": [
    "type(primeira_linha)"
   ]
  },
  {
   "cell_type": "markdown",
   "metadata": {},
   "source": [
    "Vamos agora seleccionar o rating da 3ª linha da DataFrame. Podemos ver, olhando para as colunas da DataFrame, que a coluna de interesse é **reviews.rating**:"
   ]
  },
  {
   "cell_type": "code",
   "execution_count": 23,
   "metadata": {},
   "outputs": [
    {
     "data": {
      "text/plain": [
       "2.0"
      ]
     },
     "execution_count": 23,
     "metadata": {},
     "output_type": "execute_result"
    }
   ],
   "source": [
    "df.loc[3, 'reviews.rating']"
   ]
  },
  {
   "cell_type": "markdown",
   "metadata": {},
   "source": [
    "Um rating bastante baixo! Podemos aceder a coluna **reviews_rating** como se estivessemos a aceder a um valor de um dicionário:"
   ]
  },
  {
   "cell_type": "code",
   "execution_count": 24,
   "metadata": {},
   "outputs": [
    {
     "data": {
      "text/plain": [
       "0       5.0\n",
       "1       5.0\n",
       "2       5.0\n",
       "3       2.0\n",
       "4       5.0\n",
       "       ... \n",
       "9995    3.0\n",
       "9996    4.0\n",
       "9997    4.0\n",
       "9998    1.0\n",
       "9999    1.0\n",
       "Name: reviews.rating, Length: 10000, dtype: float64"
      ]
     },
     "execution_count": 24,
     "metadata": {},
     "output_type": "execute_result"
    }
   ],
   "source": [
    "df['reviews.rating']"
   ]
  },
  {
   "cell_type": "markdown",
   "metadata": {},
   "source": [
    "Sempre que quisermos aceder a mais do que uma coluna, devemos passar uma lista de nomes de colunas:"
   ]
  },
  {
   "cell_type": "code",
   "execution_count": 25,
   "metadata": {},
   "outputs": [
    {
     "data": {
      "text/plain": [
       "name              Aloft Arundel Mills\n",
       "reviews.rating                      2\n",
       "Name: 3, dtype: object"
      ]
     },
     "execution_count": 25,
     "metadata": {},
     "output_type": "execute_result"
    }
   ],
   "source": [
    "df.loc[3, ['name', 'reviews.rating']]  # uma única linha: obtemos uma série."
   ]
  },
  {
   "cell_type": "code",
   "execution_count": 26,
   "metadata": {},
   "outputs": [
    {
     "data": {
      "text/html": [
       "<div>\n",
       "<style scoped>\n",
       "    .dataframe tbody tr th:only-of-type {\n",
       "        vertical-align: middle;\n",
       "    }\n",
       "\n",
       "    .dataframe tbody tr th {\n",
       "        vertical-align: top;\n",
       "    }\n",
       "\n",
       "    .dataframe thead th {\n",
       "        text-align: right;\n",
       "    }\n",
       "</style>\n",
       "<table border=\"1\" class=\"dataframe\">\n",
       "  <thead>\n",
       "    <tr style=\"text-align: right;\">\n",
       "      <th></th>\n",
       "      <th>name</th>\n",
       "      <th>reviews.rating</th>\n",
       "    </tr>\n",
       "  </thead>\n",
       "  <tbody>\n",
       "    <tr>\n",
       "      <th>0</th>\n",
       "      <td>Rancho Valencia Resort Spa</td>\n",
       "      <td>5.0</td>\n",
       "    </tr>\n",
       "    <tr>\n",
       "      <th>1</th>\n",
       "      <td>Rancho Valencia Resort Spa</td>\n",
       "      <td>5.0</td>\n",
       "    </tr>\n",
       "    <tr>\n",
       "      <th>2</th>\n",
       "      <td>Rancho Valencia Resort Spa</td>\n",
       "      <td>5.0</td>\n",
       "    </tr>\n",
       "    <tr>\n",
       "      <th>3</th>\n",
       "      <td>Aloft Arundel Mills</td>\n",
       "      <td>2.0</td>\n",
       "    </tr>\n",
       "    <tr>\n",
       "      <th>4</th>\n",
       "      <td>Aloft Arundel Mills</td>\n",
       "      <td>5.0</td>\n",
       "    </tr>\n",
       "    <tr>\n",
       "      <th>...</th>\n",
       "      <td>...</td>\n",
       "      <td>...</td>\n",
       "    </tr>\n",
       "    <tr>\n",
       "      <th>9995</th>\n",
       "      <td>Silver Sands Oceanfront Motel</td>\n",
       "      <td>3.0</td>\n",
       "    </tr>\n",
       "    <tr>\n",
       "      <th>9996</th>\n",
       "      <td>Sandy Neck Motel</td>\n",
       "      <td>4.0</td>\n",
       "    </tr>\n",
       "    <tr>\n",
       "      <th>9997</th>\n",
       "      <td>Shilo Inn Suites - Coeur d'Alene</td>\n",
       "      <td>4.0</td>\n",
       "    </tr>\n",
       "    <tr>\n",
       "      <th>9998</th>\n",
       "      <td>Scottish Inn</td>\n",
       "      <td>1.0</td>\n",
       "    </tr>\n",
       "    <tr>\n",
       "      <th>9999</th>\n",
       "      <td>Royal Suite Lodge</td>\n",
       "      <td>1.0</td>\n",
       "    </tr>\n",
       "  </tbody>\n",
       "</table>\n",
       "<p>10000 rows × 2 columns</p>\n",
       "</div>"
      ],
      "text/plain": [
       "                                  name  reviews.rating\n",
       "0           Rancho Valencia Resort Spa             5.0\n",
       "1           Rancho Valencia Resort Spa             5.0\n",
       "2           Rancho Valencia Resort Spa             5.0\n",
       "3                  Aloft Arundel Mills             2.0\n",
       "4                  Aloft Arundel Mills             5.0\n",
       "...                                ...             ...\n",
       "9995     Silver Sands Oceanfront Motel             3.0\n",
       "9996                  Sandy Neck Motel             4.0\n",
       "9997  Shilo Inn Suites - Coeur d'Alene             4.0\n",
       "9998                      Scottish Inn             1.0\n",
       "9999                 Royal Suite Lodge             1.0\n",
       "\n",
       "[10000 rows x 2 columns]"
      ]
     },
     "execution_count": 26,
     "metadata": {},
     "output_type": "execute_result"
    }
   ],
   "source": [
    "df[['name', 'reviews.rating']]  # múltiplas colunas: obtemos uma DataFrame"
   ]
  },
  {
   "cell_type": "markdown",
   "metadata": {},
   "source": [
    "Podemos aceder a uma coluna individualmente através da **dot notation** ( . ), se esta coluna não tiver pontos ou espaços no seu nome:"
   ]
  },
  {
   "cell_type": "code",
   "execution_count": 27,
   "metadata": {},
   "outputs": [
    {
     "data": {
      "text/plain": [
       "0             Rancho Valencia Resort Spa\n",
       "1             Rancho Valencia Resort Spa\n",
       "2             Rancho Valencia Resort Spa\n",
       "3                    Aloft Arundel Mills\n",
       "4                    Aloft Arundel Mills\n",
       "                      ...               \n",
       "9995       Silver Sands Oceanfront Motel\n",
       "9996                    Sandy Neck Motel\n",
       "9997    Shilo Inn Suites - Coeur d'Alene\n",
       "9998                        Scottish Inn\n",
       "9999                   Royal Suite Lodge\n",
       "Name: name, Length: 10000, dtype: object"
      ]
     },
     "execution_count": 27,
     "metadata": {},
     "output_type": "execute_result"
    }
   ],
   "source": [
    "df.name"
   ]
  },
  {
   "cell_type": "markdown",
   "metadata": {},
   "source": [
    "## Slicing avançado\n",
    "\n",
    "Para além de aceder a valores, colunas ou linhas individualmente, podemos seleccionar conjuntos de dados com base em condições.\n",
    "\n",
    "Por exemplo, vamos tentar seleccionar o subconjunto da nossa DataFrame que contenha as piores classificações (1 estrela). Podemos aplicar um operador condicional sobre uma coluna, e o resultado será, **linha a linha**, se cada valor cumpre essa condição:"
   ]
  },
  {
   "cell_type": "code",
   "execution_count": 28,
   "metadata": {},
   "outputs": [
    {
     "data": {
      "text/plain": [
       "0       False\n",
       "1       False\n",
       "2       False\n",
       "3       False\n",
       "4       False\n",
       "        ...  \n",
       "9995    False\n",
       "9996    False\n",
       "9997    False\n",
       "9998     True\n",
       "9999     True\n",
       "Name: reviews.rating, Length: 10000, dtype: bool"
      ]
     },
     "execution_count": 28,
     "metadata": {},
     "output_type": "execute_result"
    }
   ],
   "source": [
    "(df['reviews.rating'] == 1.0)"
   ]
  },
  {
   "cell_type": "markdown",
   "metadata": {},
   "source": [
    "Podemos ver que esta opeação condicional nos devolveu uma **Series** com valores booleanos: True se uma determinada linha tinha classificação de 1 estrela, False caso contrário.\n",
    "\n",
    "Operações de slicing mais complexas são possíveis devido à seguinte propriedade:\n",
    "\n",
    "- **É possível usar uma Série Booleana para seleccionar linhas de uma DataFrame**\n",
    "\n",
    "Desta forma, se usarmos **loc** em conjunto com a série que obtivemos anteriormente, vamos seleccionar **todas as linhas para as quais a condição é verdadeira**: "
   ]
  },
  {
   "cell_type": "code",
   "execution_count": 29,
   "metadata": {},
   "outputs": [],
   "source": [
    "mas_reviews = df.loc[\n",
    "    (df['reviews.rating'] == 1.0)\n",
    "]"
   ]
  },
  {
   "cell_type": "code",
   "execution_count": 30,
   "metadata": {},
   "outputs": [
    {
     "data": {
      "text/html": [
       "<div>\n",
       "<style scoped>\n",
       "    .dataframe tbody tr th:only-of-type {\n",
       "        vertical-align: middle;\n",
       "    }\n",
       "\n",
       "    .dataframe tbody tr th {\n",
       "        vertical-align: top;\n",
       "    }\n",
       "\n",
       "    .dataframe thead th {\n",
       "        text-align: right;\n",
       "    }\n",
       "</style>\n",
       "<table border=\"1\" class=\"dataframe\">\n",
       "  <thead>\n",
       "    <tr style=\"text-align: right;\">\n",
       "      <th></th>\n",
       "      <th>id</th>\n",
       "      <th>dateAdded</th>\n",
       "      <th>dateUpdated</th>\n",
       "      <th>address</th>\n",
       "      <th>categories</th>\n",
       "      <th>primaryCategories</th>\n",
       "      <th>city</th>\n",
       "      <th>country</th>\n",
       "      <th>keys</th>\n",
       "      <th>latitude</th>\n",
       "      <th>...</th>\n",
       "      <th>reviews.rating</th>\n",
       "      <th>reviews.sourceURLs</th>\n",
       "      <th>reviews.text</th>\n",
       "      <th>reviews.title</th>\n",
       "      <th>reviews.userCity</th>\n",
       "      <th>reviews.userProvince</th>\n",
       "      <th>reviews.username</th>\n",
       "      <th>sourceURLs</th>\n",
       "      <th>websites</th>\n",
       "      <th>garbage</th>\n",
       "    </tr>\n",
       "  </thead>\n",
       "  <tbody>\n",
       "    <tr>\n",
       "      <th>26</th>\n",
       "      <td>AVwdKLPU_7pvs4fz23YA</td>\n",
       "      <td>2016-03-23T04:12:14Z</td>\n",
       "      <td>2018-09-10T21:02:24Z</td>\n",
       "      <td>998 W Landis Ave</td>\n",
       "      <td>Hotels and motels,Hotel and motel reservations...</td>\n",
       "      <td>Accommodation &amp; Food Services</td>\n",
       "      <td>Vineland</td>\n",
       "      <td>US</td>\n",
       "      <td>us/nj/vineland/998wlandisave/1083197965</td>\n",
       "      <td>39.487449</td>\n",
       "      <td>...</td>\n",
       "      <td>1.0</td>\n",
       "      <td>http://www.tripadvisor.com/Hotel_Review-g46890...</td>\n",
       "      <td>After getting the bait and switch I decided I'...</td>\n",
       "      <td>DO NOT stay here!!!!!!!!!!!</td>\n",
       "      <td>NaN</td>\n",
       "      <td>NaN</td>\n",
       "      <td>Tunaphat</td>\n",
       "      <td>http://www.tripadvisor.com/Hotel_Review-g46890...</td>\n",
       "      <td>http://www.econolodge.com</td>\n",
       "      <td>NaN</td>\n",
       "    </tr>\n",
       "    <tr>\n",
       "      <th>27</th>\n",
       "      <td>AVwdKLPU_7pvs4fz23YA</td>\n",
       "      <td>2016-03-23T04:12:14Z</td>\n",
       "      <td>2018-09-10T21:02:24Z</td>\n",
       "      <td>998 W Landis Ave</td>\n",
       "      <td>Hotels and motels,Hotel and motel reservations...</td>\n",
       "      <td>Accommodation &amp; Food Services</td>\n",
       "      <td>Vineland</td>\n",
       "      <td>US</td>\n",
       "      <td>us/nj/vineland/998wlandisave/1083197965</td>\n",
       "      <td>39.487449</td>\n",
       "      <td>...</td>\n",
       "      <td>1.0</td>\n",
       "      <td>http://www.tripadvisor.com/Hotel_Review-g46890...</td>\n",
       "      <td>We had no choice but to stay here when a torna...</td>\n",
       "      <td>Filthy hotel and crooked people who own it!</td>\n",
       "      <td>Vineland</td>\n",
       "      <td>NaN</td>\n",
       "      <td>hoosierladyus48</td>\n",
       "      <td>http://www.tripadvisor.com/Hotel_Review-g46890...</td>\n",
       "      <td>http://www.econolodge.com</td>\n",
       "      <td>NaN</td>\n",
       "    </tr>\n",
       "    <tr>\n",
       "      <th>727</th>\n",
       "      <td>AV-TGuWBa4HuVbedGcJK</td>\n",
       "      <td>2017-11-06T20:51:11Z</td>\n",
       "      <td>2018-09-04T21:27:43Z</td>\n",
       "      <td>Two East 55th Street at Fifth Avenue</td>\n",
       "      <td>Hotels,Hotel</td>\n",
       "      <td>Accommodation &amp; Food Services</td>\n",
       "      <td>New York</td>\n",
       "      <td>US</td>\n",
       "      <td>us/ny/newyork/twoeast55thstreetatfifthavenue/-...</td>\n",
       "      <td>40.761408</td>\n",
       "      <td>...</td>\n",
       "      <td>1.0</td>\n",
       "      <td>https://www.tripadvisor.com/Hotel_Review-g6076...</td>\n",
       "      <td>On my most recent work trip to NYC, I chose to...</td>\n",
       "      <td>The most humiliating hotel experience</td>\n",
       "      <td>San Francisco</td>\n",
       "      <td>California</td>\n",
       "      <td>sf_ellelle</td>\n",
       "      <td>https://www.tripadvisor.com/Hotel_Review-g6076...</td>\n",
       "      <td>http://www.stregisnewyork.com/</td>\n",
       "      <td>NaN</td>\n",
       "    </tr>\n",
       "  </tbody>\n",
       "</table>\n",
       "<p>3 rows × 24 columns</p>\n",
       "</div>"
      ],
      "text/plain": [
       "                       id             dateAdded           dateUpdated  \\\n",
       "26   AVwdKLPU_7pvs4fz23YA  2016-03-23T04:12:14Z  2018-09-10T21:02:24Z   \n",
       "27   AVwdKLPU_7pvs4fz23YA  2016-03-23T04:12:14Z  2018-09-10T21:02:24Z   \n",
       "727  AV-TGuWBa4HuVbedGcJK  2017-11-06T20:51:11Z  2018-09-04T21:27:43Z   \n",
       "\n",
       "                                  address  \\\n",
       "26                       998 W Landis Ave   \n",
       "27                       998 W Landis Ave   \n",
       "727  Two East 55th Street at Fifth Avenue   \n",
       "\n",
       "                                            categories  \\\n",
       "26   Hotels and motels,Hotel and motel reservations...   \n",
       "27   Hotels and motels,Hotel and motel reservations...   \n",
       "727                                       Hotels,Hotel   \n",
       "\n",
       "                 primaryCategories      city country  \\\n",
       "26   Accommodation & Food Services  Vineland      US   \n",
       "27   Accommodation & Food Services  Vineland      US   \n",
       "727  Accommodation & Food Services  New York      US   \n",
       "\n",
       "                                                  keys   latitude  ...  \\\n",
       "26             us/nj/vineland/998wlandisave/1083197965  39.487449  ...   \n",
       "27             us/nj/vineland/998wlandisave/1083197965  39.487449  ...   \n",
       "727  us/ny/newyork/twoeast55thstreetatfifthavenue/-...  40.761408  ...   \n",
       "\n",
       "     reviews.rating                                 reviews.sourceURLs  \\\n",
       "26              1.0  http://www.tripadvisor.com/Hotel_Review-g46890...   \n",
       "27              1.0  http://www.tripadvisor.com/Hotel_Review-g46890...   \n",
       "727             1.0  https://www.tripadvisor.com/Hotel_Review-g6076...   \n",
       "\n",
       "                                          reviews.text  \\\n",
       "26   After getting the bait and switch I decided I'...   \n",
       "27   We had no choice but to stay here when a torna...   \n",
       "727  On my most recent work trip to NYC, I chose to...   \n",
       "\n",
       "                                   reviews.title  reviews.userCity  \\\n",
       "26                   DO NOT stay here!!!!!!!!!!!               NaN   \n",
       "27   Filthy hotel and crooked people who own it!          Vineland   \n",
       "727        The most humiliating hotel experience     San Francisco   \n",
       "\n",
       "    reviews.userProvince reviews.username  \\\n",
       "26                   NaN         Tunaphat   \n",
       "27                   NaN  hoosierladyus48   \n",
       "727           California       sf_ellelle   \n",
       "\n",
       "                                            sourceURLs  \\\n",
       "26   http://www.tripadvisor.com/Hotel_Review-g46890...   \n",
       "27   http://www.tripadvisor.com/Hotel_Review-g46890...   \n",
       "727  https://www.tripadvisor.com/Hotel_Review-g6076...   \n",
       "\n",
       "                           websites garbage  \n",
       "26        http://www.econolodge.com     NaN  \n",
       "27        http://www.econolodge.com     NaN  \n",
       "727  http://www.stregisnewyork.com/     NaN  \n",
       "\n",
       "[3 rows x 24 columns]"
      ]
     },
     "execution_count": 30,
     "metadata": {},
     "output_type": "execute_result"
    }
   ],
   "source": [
    "mas_reviews.head(3)"
   ]
  },
  {
   "cell_type": "code",
   "execution_count": 31,
   "metadata": {},
   "outputs": [
    {
     "data": {
      "text/plain": [
       "(572, 24)"
      ]
     },
     "execution_count": 31,
     "metadata": {},
     "output_type": "execute_result"
    }
   ],
   "source": [
    "mas_reviews.shape"
   ]
  },
  {
   "cell_type": "markdown",
   "metadata": {},
   "source": [
    "Podemos aplicar condições utilizando várias colunas simultaneamente, seguindo uma lógica de **and/or**.\n",
    "Há algumas diferenças, devido ao facto destas comparações serem feitas linha-a-linha:\n",
    "\n",
    "* o \"and\" é substituído pelo operador **&** \n",
    "* o \"or\" é substituído pelo operador **|** \n",
    "* o \"not\" é substituído pelo operador **~**\n",
    "* as condições devem estar individualmente entre parêntesis\n",
    "\n",
    "Vejamos agora classificações de 5 estrelas para hotéis em Nova Iorque, e selecionar apenas o seu nome e o username do utilizador que deixou a review: "
   ]
  },
  {
   "cell_type": "code",
   "execution_count": 32,
   "metadata": {},
   "outputs": [
    {
     "data": {
      "text/html": [
       "<div>\n",
       "<style scoped>\n",
       "    .dataframe tbody tr th:only-of-type {\n",
       "        vertical-align: middle;\n",
       "    }\n",
       "\n",
       "    .dataframe tbody tr th {\n",
       "        vertical-align: top;\n",
       "    }\n",
       "\n",
       "    .dataframe thead th {\n",
       "        text-align: right;\n",
       "    }\n",
       "</style>\n",
       "<table border=\"1\" class=\"dataframe\">\n",
       "  <thead>\n",
       "    <tr style=\"text-align: right;\">\n",
       "      <th></th>\n",
       "      <th>name</th>\n",
       "      <th>reviews.username</th>\n",
       "    </tr>\n",
       "  </thead>\n",
       "  <tbody>\n",
       "    <tr>\n",
       "      <th>375</th>\n",
       "      <td>The Pearl Hotel</td>\n",
       "      <td>Laurel D</td>\n",
       "    </tr>\n",
       "    <tr>\n",
       "      <th>394</th>\n",
       "      <td>Four Seasons Hotel New York Downtown</td>\n",
       "      <td>CH_1111111</td>\n",
       "    </tr>\n",
       "    <tr>\n",
       "      <th>395</th>\n",
       "      <td>The James New York ‚Äì NoMad</td>\n",
       "      <td>Jessica F</td>\n",
       "    </tr>\n",
       "    <tr>\n",
       "      <th>634</th>\n",
       "      <td>The Broome</td>\n",
       "      <td>ECW_PhD</td>\n",
       "    </tr>\n",
       "    <tr>\n",
       "      <th>635</th>\n",
       "      <td>The Broome</td>\n",
       "      <td>Bethshorstein</td>\n",
       "    </tr>\n",
       "  </tbody>\n",
       "</table>\n",
       "</div>"
      ],
      "text/plain": [
       "                                     name reviews.username\n",
       "375                       The Pearl Hotel         Laurel D\n",
       "394  Four Seasons Hotel New York Downtown       CH_1111111\n",
       "395          The James New York ‚Äì NoMad        Jessica F\n",
       "634                            The Broome          ECW_PhD\n",
       "635                            The Broome    Bethshorstein"
      ]
     },
     "execution_count": 32,
     "metadata": {},
     "output_type": "execute_result"
    }
   ],
   "source": [
    "boas_reviews_em_NY = df.loc[\n",
    "    (df[\"reviews.rating\"] == 5.0) &\n",
    "    (df[\"city\"] == \"New York\"),\n",
    "    ['name', 'reviews.username']\n",
    "]\n",
    "\n",
    "boas_reviews_em_NY.head()"
   ]
  },
  {
   "cell_type": "markdown",
   "metadata": {},
   "source": [
    "Podemos modificar valores numa DataFrame de forma bastante intuitiva. Imaginemos que fomos informados que a review do utilizador *Laurel D* para o *Pearl Hotel* estava errada - na verdade devia ser 1 estrela. Podemos corrigir os dados da seguinte forma:"
   ]
  },
  {
   "cell_type": "code",
   "execution_count": 33,
   "metadata": {},
   "outputs": [],
   "source": [
    "df.loc[\n",
    "    (df['reviews.username'] == 'Laurel D') &\n",
    "    (df['name'] == 'The Pearl Hotel'),\n",
    "    'reviews.rating'\n",
    "] = 1.0"
   ]
  },
  {
   "cell_type": "code",
   "execution_count": 34,
   "metadata": {
    "scrolled": false
   },
   "outputs": [
    {
     "data": {
      "text/html": [
       "<div>\n",
       "<style scoped>\n",
       "    .dataframe tbody tr th:only-of-type {\n",
       "        vertical-align: middle;\n",
       "    }\n",
       "\n",
       "    .dataframe tbody tr th {\n",
       "        vertical-align: top;\n",
       "    }\n",
       "\n",
       "    .dataframe thead th {\n",
       "        text-align: right;\n",
       "    }\n",
       "</style>\n",
       "<table border=\"1\" class=\"dataframe\">\n",
       "  <thead>\n",
       "    <tr style=\"text-align: right;\">\n",
       "      <th></th>\n",
       "      <th>id</th>\n",
       "      <th>dateAdded</th>\n",
       "      <th>dateUpdated</th>\n",
       "      <th>address</th>\n",
       "      <th>categories</th>\n",
       "      <th>primaryCategories</th>\n",
       "      <th>city</th>\n",
       "      <th>country</th>\n",
       "      <th>keys</th>\n",
       "      <th>latitude</th>\n",
       "      <th>...</th>\n",
       "      <th>reviews.rating</th>\n",
       "      <th>reviews.sourceURLs</th>\n",
       "      <th>reviews.text</th>\n",
       "      <th>reviews.title</th>\n",
       "      <th>reviews.userCity</th>\n",
       "      <th>reviews.userProvince</th>\n",
       "      <th>reviews.username</th>\n",
       "      <th>sourceURLs</th>\n",
       "      <th>websites</th>\n",
       "      <th>garbage</th>\n",
       "    </tr>\n",
       "  </thead>\n",
       "  <tbody>\n",
       "    <tr>\n",
       "      <th>375</th>\n",
       "      <td>AV3O9oECIxWefVJwjraT</td>\n",
       "      <td>2017-08-11T01:44:07Z</td>\n",
       "      <td>2018-09-04T21:27:50Z</td>\n",
       "      <td>233 West 49th Street</td>\n",
       "      <td>Hotels,Hotel</td>\n",
       "      <td>Accommodation &amp; Food Services</td>\n",
       "      <td>New York</td>\n",
       "      <td>US</td>\n",
       "      <td>us/ny/newyork/233west49thstreet/137548078</td>\n",
       "      <td>40.761483</td>\n",
       "      <td>...</td>\n",
       "      <td>1.0</td>\n",
       "      <td>https://www.tripadvisor.com/Hotel_Review-g6076...</td>\n",
       "      <td>This hotel is in the perfect location! A half ...</td>\n",
       "      <td>Perfect location</td>\n",
       "      <td>NaN</td>\n",
       "      <td>NaN</td>\n",
       "      <td>Laurel D</td>\n",
       "      <td>http://www.telegraph.co.uk/travel/destinations...</td>\n",
       "      <td>http://www.pearlhotelnyc.com/</td>\n",
       "      <td>NaN</td>\n",
       "    </tr>\n",
       "  </tbody>\n",
       "</table>\n",
       "<p>1 rows × 24 columns</p>\n",
       "</div>"
      ],
      "text/plain": [
       "                       id             dateAdded           dateUpdated  \\\n",
       "375  AV3O9oECIxWefVJwjraT  2017-08-11T01:44:07Z  2018-09-04T21:27:50Z   \n",
       "\n",
       "                  address    categories              primaryCategories  \\\n",
       "375  233 West 49th Street  Hotels,Hotel  Accommodation & Food Services   \n",
       "\n",
       "         city country                                       keys   latitude  \\\n",
       "375  New York      US  us/ny/newyork/233west49thstreet/137548078  40.761483   \n",
       "\n",
       "     ...  reviews.rating                                 reviews.sourceURLs  \\\n",
       "375  ...             1.0  https://www.tripadvisor.com/Hotel_Review-g6076...   \n",
       "\n",
       "                                          reviews.text     reviews.title  \\\n",
       "375  This hotel is in the perfect location! A half ...  Perfect location   \n",
       "\n",
       "     reviews.userCity reviews.userProvince reviews.username  \\\n",
       "375               NaN                  NaN         Laurel D   \n",
       "\n",
       "                                            sourceURLs  \\\n",
       "375  http://www.telegraph.co.uk/travel/destinations...   \n",
       "\n",
       "                          websites garbage  \n",
       "375  http://www.pearlhotelnyc.com/     NaN  \n",
       "\n",
       "[1 rows x 24 columns]"
      ]
     },
     "execution_count": 34,
     "metadata": {},
     "output_type": "execute_result"
    }
   ],
   "source": [
    "df.loc[\n",
    "    (df['reviews.username'] == 'Laurel D') &\n",
    "    (df['name'] == 'The Pearl Hotel')\n",
    "]"
   ]
  },
  {
   "cell_type": "markdown",
   "metadata": {},
   "source": [
    "Vamos ver mais duas técnicas para seleccionar valor: **mask** e **where**.\n",
    "\n",
    "Os métodos **mask**/**where** devolvem uma DataFrame onde os valore que cumprem/não cumprem uma determinada condição ficam escondidos, sendo substituido por **NaN** (\"not-a-number\", o equivalente a None do Pandas). "
   ]
  },
  {
   "cell_type": "code",
   "execution_count": 35,
   "metadata": {},
   "outputs": [
    {
     "data": {
      "text/html": [
       "<div>\n",
       "<style scoped>\n",
       "    .dataframe tbody tr th:only-of-type {\n",
       "        vertical-align: middle;\n",
       "    }\n",
       "\n",
       "    .dataframe tbody tr th {\n",
       "        vertical-align: top;\n",
       "    }\n",
       "\n",
       "    .dataframe thead th {\n",
       "        text-align: right;\n",
       "    }\n",
       "</style>\n",
       "<table border=\"1\" class=\"dataframe\">\n",
       "  <thead>\n",
       "    <tr style=\"text-align: right;\">\n",
       "      <th></th>\n",
       "      <th>id</th>\n",
       "      <th>dateAdded</th>\n",
       "      <th>dateUpdated</th>\n",
       "      <th>address</th>\n",
       "      <th>categories</th>\n",
       "      <th>primaryCategories</th>\n",
       "      <th>city</th>\n",
       "      <th>country</th>\n",
       "      <th>keys</th>\n",
       "      <th>latitude</th>\n",
       "      <th>...</th>\n",
       "      <th>reviews.rating</th>\n",
       "      <th>reviews.sourceURLs</th>\n",
       "      <th>reviews.text</th>\n",
       "      <th>reviews.title</th>\n",
       "      <th>reviews.userCity</th>\n",
       "      <th>reviews.userProvince</th>\n",
       "      <th>reviews.username</th>\n",
       "      <th>sourceURLs</th>\n",
       "      <th>websites</th>\n",
       "      <th>garbage</th>\n",
       "    </tr>\n",
       "  </thead>\n",
       "  <tbody>\n",
       "    <tr>\n",
       "      <th>0</th>\n",
       "      <td>NaN</td>\n",
       "      <td>NaN</td>\n",
       "      <td>NaN</td>\n",
       "      <td>NaN</td>\n",
       "      <td>NaN</td>\n",
       "      <td>NaN</td>\n",
       "      <td>NaN</td>\n",
       "      <td>NaN</td>\n",
       "      <td>NaN</td>\n",
       "      <td>NaN</td>\n",
       "      <td>...</td>\n",
       "      <td>NaN</td>\n",
       "      <td>NaN</td>\n",
       "      <td>NaN</td>\n",
       "      <td>NaN</td>\n",
       "      <td>NaN</td>\n",
       "      <td>NaN</td>\n",
       "      <td>NaN</td>\n",
       "      <td>NaN</td>\n",
       "      <td>NaN</td>\n",
       "      <td>NaN</td>\n",
       "    </tr>\n",
       "    <tr>\n",
       "      <th>1</th>\n",
       "      <td>NaN</td>\n",
       "      <td>NaN</td>\n",
       "      <td>NaN</td>\n",
       "      <td>NaN</td>\n",
       "      <td>NaN</td>\n",
       "      <td>NaN</td>\n",
       "      <td>NaN</td>\n",
       "      <td>NaN</td>\n",
       "      <td>NaN</td>\n",
       "      <td>NaN</td>\n",
       "      <td>...</td>\n",
       "      <td>NaN</td>\n",
       "      <td>NaN</td>\n",
       "      <td>NaN</td>\n",
       "      <td>NaN</td>\n",
       "      <td>NaN</td>\n",
       "      <td>NaN</td>\n",
       "      <td>NaN</td>\n",
       "      <td>NaN</td>\n",
       "      <td>NaN</td>\n",
       "      <td>NaN</td>\n",
       "    </tr>\n",
       "    <tr>\n",
       "      <th>2</th>\n",
       "      <td>NaN</td>\n",
       "      <td>NaN</td>\n",
       "      <td>NaN</td>\n",
       "      <td>NaN</td>\n",
       "      <td>NaN</td>\n",
       "      <td>NaN</td>\n",
       "      <td>NaN</td>\n",
       "      <td>NaN</td>\n",
       "      <td>NaN</td>\n",
       "      <td>NaN</td>\n",
       "      <td>...</td>\n",
       "      <td>NaN</td>\n",
       "      <td>NaN</td>\n",
       "      <td>NaN</td>\n",
       "      <td>NaN</td>\n",
       "      <td>NaN</td>\n",
       "      <td>NaN</td>\n",
       "      <td>NaN</td>\n",
       "      <td>NaN</td>\n",
       "      <td>NaN</td>\n",
       "      <td>NaN</td>\n",
       "    </tr>\n",
       "    <tr>\n",
       "      <th>3</th>\n",
       "      <td>AVwdOclqIN2L1WUfti38</td>\n",
       "      <td>2015-11-28T19:19:35Z</td>\n",
       "      <td>2018-09-10T21:06:16Z</td>\n",
       "      <td>7520 Teague Rd</td>\n",
       "      <td>Hotels,Hotels and motels,Travel agencies and b...</td>\n",
       "      <td>Accommodation &amp; Food Services</td>\n",
       "      <td>Hanover</td>\n",
       "      <td>US</td>\n",
       "      <td>us/md/hanover/7520teaguerd/-2043779672</td>\n",
       "      <td>39.155929</td>\n",
       "      <td>...</td>\n",
       "      <td>2.0</td>\n",
       "      <td>https://www.tripadvisor.com/Hotel_Review-g4118...</td>\n",
       "      <td>Currently in bed writing this for the past hr ...</td>\n",
       "      <td>Never again...beware, if you want sleep.</td>\n",
       "      <td>Richmond</td>\n",
       "      <td>VA</td>\n",
       "      <td>jaeem2016</td>\n",
       "      <td>http://www.yellowbook.com/profile/aloft-arunde...</td>\n",
       "      <td>http://www.starwoodhotels.com/alofthotels/prop...</td>\n",
       "      <td>NaN</td>\n",
       "    </tr>\n",
       "    <tr>\n",
       "      <th>4</th>\n",
       "      <td>AVwdOclqIN2L1WUfti38</td>\n",
       "      <td>2015-11-28T19:19:35Z</td>\n",
       "      <td>2018-09-10T21:06:16Z</td>\n",
       "      <td>7520 Teague Rd</td>\n",
       "      <td>Hotels,Hotels and motels,Travel agencies and b...</td>\n",
       "      <td>Accommodation &amp; Food Services</td>\n",
       "      <td>Hanover</td>\n",
       "      <td>US</td>\n",
       "      <td>us/md/hanover/7520teaguerd/-2043779672</td>\n",
       "      <td>39.155929</td>\n",
       "      <td>...</td>\n",
       "      <td>5.0</td>\n",
       "      <td>https://www.tripadvisor.com/Hotel_Review-g4118...</td>\n",
       "      <td>I live in Md and the Aloft is my Home away fro...</td>\n",
       "      <td>ALWAYS GREAT STAY...</td>\n",
       "      <td>Laurel</td>\n",
       "      <td>MD</td>\n",
       "      <td>MamaNiaOne</td>\n",
       "      <td>http://www.yellowbook.com/profile/aloft-arunde...</td>\n",
       "      <td>http://www.starwoodhotels.com/alofthotels/prop...</td>\n",
       "      <td>NaN</td>\n",
       "    </tr>\n",
       "  </tbody>\n",
       "</table>\n",
       "<p>5 rows × 24 columns</p>\n",
       "</div>"
      ],
      "text/plain": [
       "                     id             dateAdded           dateUpdated  \\\n",
       "0                   NaN                   NaN                   NaN   \n",
       "1                   NaN                   NaN                   NaN   \n",
       "2                   NaN                   NaN                   NaN   \n",
       "3  AVwdOclqIN2L1WUfti38  2015-11-28T19:19:35Z  2018-09-10T21:06:16Z   \n",
       "4  AVwdOclqIN2L1WUfti38  2015-11-28T19:19:35Z  2018-09-10T21:06:16Z   \n",
       "\n",
       "          address                                         categories  \\\n",
       "0             NaN                                                NaN   \n",
       "1             NaN                                                NaN   \n",
       "2             NaN                                                NaN   \n",
       "3  7520 Teague Rd  Hotels,Hotels and motels,Travel agencies and b...   \n",
       "4  7520 Teague Rd  Hotels,Hotels and motels,Travel agencies and b...   \n",
       "\n",
       "               primaryCategories     city country  \\\n",
       "0                            NaN      NaN     NaN   \n",
       "1                            NaN      NaN     NaN   \n",
       "2                            NaN      NaN     NaN   \n",
       "3  Accommodation & Food Services  Hanover      US   \n",
       "4  Accommodation & Food Services  Hanover      US   \n",
       "\n",
       "                                     keys   latitude  ...  reviews.rating  \\\n",
       "0                                     NaN        NaN  ...             NaN   \n",
       "1                                     NaN        NaN  ...             NaN   \n",
       "2                                     NaN        NaN  ...             NaN   \n",
       "3  us/md/hanover/7520teaguerd/-2043779672  39.155929  ...             2.0   \n",
       "4  us/md/hanover/7520teaguerd/-2043779672  39.155929  ...             5.0   \n",
       "\n",
       "                                  reviews.sourceURLs  \\\n",
       "0                                                NaN   \n",
       "1                                                NaN   \n",
       "2                                                NaN   \n",
       "3  https://www.tripadvisor.com/Hotel_Review-g4118...   \n",
       "4  https://www.tripadvisor.com/Hotel_Review-g4118...   \n",
       "\n",
       "                                        reviews.text  \\\n",
       "0                                                NaN   \n",
       "1                                                NaN   \n",
       "2                                                NaN   \n",
       "3  Currently in bed writing this for the past hr ...   \n",
       "4  I live in Md and the Aloft is my Home away fro...   \n",
       "\n",
       "                              reviews.title  reviews.userCity  \\\n",
       "0                                       NaN               NaN   \n",
       "1                                       NaN               NaN   \n",
       "2                                       NaN               NaN   \n",
       "3  Never again...beware, if you want sleep.          Richmond   \n",
       "4                      ALWAYS GREAT STAY...            Laurel   \n",
       "\n",
       "  reviews.userProvince reviews.username  \\\n",
       "0                  NaN              NaN   \n",
       "1                  NaN              NaN   \n",
       "2                  NaN              NaN   \n",
       "3                   VA        jaeem2016   \n",
       "4                   MD       MamaNiaOne   \n",
       "\n",
       "                                          sourceURLs  \\\n",
       "0                                                NaN   \n",
       "1                                                NaN   \n",
       "2                                                NaN   \n",
       "3  http://www.yellowbook.com/profile/aloft-arunde...   \n",
       "4  http://www.yellowbook.com/profile/aloft-arunde...   \n",
       "\n",
       "                                            websites garbage  \n",
       "0                                                NaN     NaN  \n",
       "1                                                NaN     NaN  \n",
       "2                                                NaN     NaN  \n",
       "3  http://www.starwoodhotels.com/alofthotels/prop...     NaN  \n",
       "4  http://www.starwoodhotels.com/alofthotels/prop...     NaN  \n",
       "\n",
       "[5 rows x 24 columns]"
      ]
     },
     "execution_count": 35,
     "metadata": {},
     "output_type": "execute_result"
    }
   ],
   "source": [
    "df.mask(df.city == 'Rancho Santa Fe').head()  # as primeiras três rows eram desta cidade."
   ]
  },
  {
   "cell_type": "code",
   "execution_count": 36,
   "metadata": {},
   "outputs": [
    {
     "data": {
      "text/html": [
       "<div>\n",
       "<style scoped>\n",
       "    .dataframe tbody tr th:only-of-type {\n",
       "        vertical-align: middle;\n",
       "    }\n",
       "\n",
       "    .dataframe tbody tr th {\n",
       "        vertical-align: top;\n",
       "    }\n",
       "\n",
       "    .dataframe thead th {\n",
       "        text-align: right;\n",
       "    }\n",
       "</style>\n",
       "<table border=\"1\" class=\"dataframe\">\n",
       "  <thead>\n",
       "    <tr style=\"text-align: right;\">\n",
       "      <th></th>\n",
       "      <th>id</th>\n",
       "      <th>dateAdded</th>\n",
       "      <th>dateUpdated</th>\n",
       "      <th>address</th>\n",
       "      <th>categories</th>\n",
       "      <th>primaryCategories</th>\n",
       "      <th>city</th>\n",
       "      <th>country</th>\n",
       "      <th>keys</th>\n",
       "      <th>latitude</th>\n",
       "      <th>...</th>\n",
       "      <th>reviews.rating</th>\n",
       "      <th>reviews.sourceURLs</th>\n",
       "      <th>reviews.text</th>\n",
       "      <th>reviews.title</th>\n",
       "      <th>reviews.userCity</th>\n",
       "      <th>reviews.userProvince</th>\n",
       "      <th>reviews.username</th>\n",
       "      <th>sourceURLs</th>\n",
       "      <th>websites</th>\n",
       "      <th>garbage</th>\n",
       "    </tr>\n",
       "  </thead>\n",
       "  <tbody>\n",
       "    <tr>\n",
       "      <th>0</th>\n",
       "      <td>AVwc252WIN2L1WUfpqLP</td>\n",
       "      <td>2016-10-30T21:42:42Z</td>\n",
       "      <td>2018-09-10T21:06:27Z</td>\n",
       "      <td>5921 Valencia Cir</td>\n",
       "      <td>Hotels,Hotels and motels,Hotel and motel reser...</td>\n",
       "      <td>Accommodation &amp; Food Services</td>\n",
       "      <td>Rancho Santa Fe</td>\n",
       "      <td>US</td>\n",
       "      <td>us/ca/ranchosantafe/5921valenciacir/359754519</td>\n",
       "      <td>32.990959</td>\n",
       "      <td>...</td>\n",
       "      <td>5.0</td>\n",
       "      <td>https://www.hotels.com/hotel/125419/reviews%20/</td>\n",
       "      <td>Our experience at Rancho Valencia was absolute...</td>\n",
       "      <td>Best romantic vacation ever!!!!</td>\n",
       "      <td>NaN</td>\n",
       "      <td>NaN</td>\n",
       "      <td>Paula</td>\n",
       "      <td>http://www.hotels.com/ho125419/%25252525253Flo...</td>\n",
       "      <td>http://www.ranchovalencia.com</td>\n",
       "      <td>this</td>\n",
       "    </tr>\n",
       "    <tr>\n",
       "      <th>1</th>\n",
       "      <td>AVwc252WIN2L1WUfpqLP</td>\n",
       "      <td>2016-10-30T21:42:42Z</td>\n",
       "      <td>2018-09-10T21:06:27Z</td>\n",
       "      <td>5921 Valencia Cir</td>\n",
       "      <td>Hotels,Hotels and motels,Hotel and motel reser...</td>\n",
       "      <td>Accommodation &amp; Food Services</td>\n",
       "      <td>Rancho Santa Fe</td>\n",
       "      <td>US</td>\n",
       "      <td>us/ca/ranchosantafe/5921valenciacir/359754519</td>\n",
       "      <td>32.990959</td>\n",
       "      <td>...</td>\n",
       "      <td>5.0</td>\n",
       "      <td>https://www.hotels.com/hotel/125419/reviews%20/</td>\n",
       "      <td>Amazing place. Everyone was extremely warm and...</td>\n",
       "      <td>Sweet sweet serenity</td>\n",
       "      <td>NaN</td>\n",
       "      <td>NaN</td>\n",
       "      <td>D</td>\n",
       "      <td>http://www.hotels.com/ho125419/%25252525253Flo...</td>\n",
       "      <td>http://www.ranchovalencia.com</td>\n",
       "      <td>is</td>\n",
       "    </tr>\n",
       "    <tr>\n",
       "      <th>2</th>\n",
       "      <td>AVwc252WIN2L1WUfpqLP</td>\n",
       "      <td>2016-10-30T21:42:42Z</td>\n",
       "      <td>2018-09-10T21:06:27Z</td>\n",
       "      <td>5921 Valencia Cir</td>\n",
       "      <td>Hotels,Hotels and motels,Hotel and motel reser...</td>\n",
       "      <td>Accommodation &amp; Food Services</td>\n",
       "      <td>Rancho Santa Fe</td>\n",
       "      <td>US</td>\n",
       "      <td>us/ca/ranchosantafe/5921valenciacir/359754519</td>\n",
       "      <td>32.990959</td>\n",
       "      <td>...</td>\n",
       "      <td>5.0</td>\n",
       "      <td>https://www.hotels.com/hotel/125419/reviews%20/</td>\n",
       "      <td>We booked a 3 night stay at Rancho Valencia to...</td>\n",
       "      <td>Amazing Property and Experience</td>\n",
       "      <td>NaN</td>\n",
       "      <td>NaN</td>\n",
       "      <td>Ron</td>\n",
       "      <td>http://www.hotels.com/ho125419/%25252525253Flo...</td>\n",
       "      <td>http://www.ranchovalencia.com</td>\n",
       "      <td>garbage</td>\n",
       "    </tr>\n",
       "    <tr>\n",
       "      <th>3</th>\n",
       "      <td>NaN</td>\n",
       "      <td>NaN</td>\n",
       "      <td>NaN</td>\n",
       "      <td>NaN</td>\n",
       "      <td>NaN</td>\n",
       "      <td>NaN</td>\n",
       "      <td>NaN</td>\n",
       "      <td>NaN</td>\n",
       "      <td>NaN</td>\n",
       "      <td>NaN</td>\n",
       "      <td>...</td>\n",
       "      <td>NaN</td>\n",
       "      <td>NaN</td>\n",
       "      <td>NaN</td>\n",
       "      <td>NaN</td>\n",
       "      <td>NaN</td>\n",
       "      <td>NaN</td>\n",
       "      <td>NaN</td>\n",
       "      <td>NaN</td>\n",
       "      <td>NaN</td>\n",
       "      <td>NaN</td>\n",
       "    </tr>\n",
       "    <tr>\n",
       "      <th>4</th>\n",
       "      <td>NaN</td>\n",
       "      <td>NaN</td>\n",
       "      <td>NaN</td>\n",
       "      <td>NaN</td>\n",
       "      <td>NaN</td>\n",
       "      <td>NaN</td>\n",
       "      <td>NaN</td>\n",
       "      <td>NaN</td>\n",
       "      <td>NaN</td>\n",
       "      <td>NaN</td>\n",
       "      <td>...</td>\n",
       "      <td>NaN</td>\n",
       "      <td>NaN</td>\n",
       "      <td>NaN</td>\n",
       "      <td>NaN</td>\n",
       "      <td>NaN</td>\n",
       "      <td>NaN</td>\n",
       "      <td>NaN</td>\n",
       "      <td>NaN</td>\n",
       "      <td>NaN</td>\n",
       "      <td>NaN</td>\n",
       "    </tr>\n",
       "  </tbody>\n",
       "</table>\n",
       "<p>5 rows × 24 columns</p>\n",
       "</div>"
      ],
      "text/plain": [
       "                     id             dateAdded           dateUpdated  \\\n",
       "0  AVwc252WIN2L1WUfpqLP  2016-10-30T21:42:42Z  2018-09-10T21:06:27Z   \n",
       "1  AVwc252WIN2L1WUfpqLP  2016-10-30T21:42:42Z  2018-09-10T21:06:27Z   \n",
       "2  AVwc252WIN2L1WUfpqLP  2016-10-30T21:42:42Z  2018-09-10T21:06:27Z   \n",
       "3                   NaN                   NaN                   NaN   \n",
       "4                   NaN                   NaN                   NaN   \n",
       "\n",
       "             address                                         categories  \\\n",
       "0  5921 Valencia Cir  Hotels,Hotels and motels,Hotel and motel reser...   \n",
       "1  5921 Valencia Cir  Hotels,Hotels and motels,Hotel and motel reser...   \n",
       "2  5921 Valencia Cir  Hotels,Hotels and motels,Hotel and motel reser...   \n",
       "3                NaN                                                NaN   \n",
       "4                NaN                                                NaN   \n",
       "\n",
       "               primaryCategories             city country  \\\n",
       "0  Accommodation & Food Services  Rancho Santa Fe      US   \n",
       "1  Accommodation & Food Services  Rancho Santa Fe      US   \n",
       "2  Accommodation & Food Services  Rancho Santa Fe      US   \n",
       "3                            NaN              NaN     NaN   \n",
       "4                            NaN              NaN     NaN   \n",
       "\n",
       "                                            keys   latitude  ...  \\\n",
       "0  us/ca/ranchosantafe/5921valenciacir/359754519  32.990959  ...   \n",
       "1  us/ca/ranchosantafe/5921valenciacir/359754519  32.990959  ...   \n",
       "2  us/ca/ranchosantafe/5921valenciacir/359754519  32.990959  ...   \n",
       "3                                            NaN        NaN  ...   \n",
       "4                                            NaN        NaN  ...   \n",
       "\n",
       "   reviews.rating                               reviews.sourceURLs  \\\n",
       "0             5.0  https://www.hotels.com/hotel/125419/reviews%20/   \n",
       "1             5.0  https://www.hotels.com/hotel/125419/reviews%20/   \n",
       "2             5.0  https://www.hotels.com/hotel/125419/reviews%20/   \n",
       "3             NaN                                              NaN   \n",
       "4             NaN                                              NaN   \n",
       "\n",
       "                                        reviews.text  \\\n",
       "0  Our experience at Rancho Valencia was absolute...   \n",
       "1  Amazing place. Everyone was extremely warm and...   \n",
       "2  We booked a 3 night stay at Rancho Valencia to...   \n",
       "3                                                NaN   \n",
       "4                                                NaN   \n",
       "\n",
       "                     reviews.title  reviews.userCity reviews.userProvince  \\\n",
       "0  Best romantic vacation ever!!!!               NaN                  NaN   \n",
       "1             Sweet sweet serenity               NaN                  NaN   \n",
       "2  Amazing Property and Experience               NaN                  NaN   \n",
       "3                              NaN               NaN                  NaN   \n",
       "4                              NaN               NaN                  NaN   \n",
       "\n",
       "  reviews.username                                         sourceURLs  \\\n",
       "0            Paula  http://www.hotels.com/ho125419/%25252525253Flo...   \n",
       "1                D  http://www.hotels.com/ho125419/%25252525253Flo...   \n",
       "2              Ron  http://www.hotels.com/ho125419/%25252525253Flo...   \n",
       "3              NaN                                                NaN   \n",
       "4              NaN                                                NaN   \n",
       "\n",
       "                        websites  garbage  \n",
       "0  http://www.ranchovalencia.com     this  \n",
       "1  http://www.ranchovalencia.com       is  \n",
       "2  http://www.ranchovalencia.com  garbage  \n",
       "3                            NaN      NaN  \n",
       "4                            NaN      NaN  \n",
       "\n",
       "[5 rows x 24 columns]"
      ]
     },
     "execution_count": 36,
     "metadata": {},
     "output_type": "execute_result"
    }
   ],
   "source": [
    "df.where(df.city == 'Rancho Santa Fe').head()"
   ]
  },
  {
   "cell_type": "markdown",
   "metadata": {},
   "source": [
    "As operações de slicing são essenciais para o uso do Pandas, pois permitem-nos seleccionar exatamente o conjunto de dados que pretendemos analisar."
   ]
  },
  {
   "cell_type": "markdown",
   "metadata": {},
   "source": [
    "## Operações sobre Series\n",
    "\n",
    "As Series permitem um número elevado de operações muito úteis na análise de dados. "
   ]
  },
  {
   "cell_type": "markdown",
   "metadata": {},
   "source": [
    "### Criação de novas colunas\n",
    "\n",
    "Podemos criar novas colunas das seguinte formas:\n",
    "\n",
    "* atribuindo uma Series a esta coluna; o matching será feito entre o índice da Series, e o índice da DataFrame (e as linhas da DataFrame que não tiverem um elemento correspondente na Series ficarão com o valor NaN);\n",
    "* atribuindo o mesmo valor a todos os elementos da coluna;\n",
    "* construindo uma nova coluna a partir de colunas existente.\n",
    "\n",
    "Das três opções, a última costuma ser a mais comum em análise de dados. Vejamos como podemos criar uma coluna **country_city** que seja a concatenação do país e da cidade:"
   ]
  },
  {
   "cell_type": "code",
   "execution_count": 37,
   "metadata": {
    "scrolled": true
   },
   "outputs": [
    {
     "data": {
      "text/plain": [
       "0       US, Rancho Santa Fe\n",
       "1       US, Rancho Santa Fe\n",
       "2       US, Rancho Santa Fe\n",
       "3               US, Hanover\n",
       "4               US, Hanover\n",
       "               ...         \n",
       "9995     US, Rockaway Beach\n",
       "9996      US, East Sandwich\n",
       "9997      US, Coeur d'Alene\n",
       "9998            US, Jackson\n",
       "9999          US, Anchorage\n",
       "Name: country_city, Length: 10000, dtype: object"
      ]
     },
     "execution_count": 37,
     "metadata": {},
     "output_type": "execute_result"
    }
   ],
   "source": [
    "df['country_city'] = df['country'] + ', ' + df['city']\n",
    "\n",
    "df['country_city']"
   ]
  },
  {
   "cell_type": "markdown",
   "metadata": {},
   "source": [
    "As Series suportam várias operações elemento-a-elemento entre si, como a soma ou a multiplicação. Os elementos são alinhados entre as duas séries pelo seu índice. \n",
    "\n",
    "Agora vamos criar uma coluna com o rating multiplicado por 10:"
   ]
  },
  {
   "cell_type": "code",
   "execution_count": 38,
   "metadata": {
    "scrolled": true
   },
   "outputs": [
    {
     "data": {
      "text/plain": [
       "0       50.0\n",
       "1       50.0\n",
       "2       50.0\n",
       "3       20.0\n",
       "4       50.0\n",
       "        ... \n",
       "9995    30.0\n",
       "9996    40.0\n",
       "9997    40.0\n",
       "9998    10.0\n",
       "9999    10.0\n",
       "Name: rating_0_to_50, Length: 10000, dtype: float64"
      ]
     },
     "execution_count": 38,
     "metadata": {},
     "output_type": "execute_result"
    }
   ],
   "source": [
    "df['rating_0_to_50'] = df['reviews.rating'] * 10\n",
    "\n",
    "df['rating_0_to_50']"
   ]
  },
  {
   "cell_type": "markdown",
   "metadata": {},
   "source": [
    "As Series têm também métodos para calcular quantidades estatísticas comuns, como a média (**mean**), a moda (**mode**), e a mediana (**median**), entre outras. Vejamos qual o valor destas quantidades estatísticas nas reviews: "
   ]
  },
  {
   "cell_type": "code",
   "execution_count": 39,
   "metadata": {
    "scrolled": true
   },
   "outputs": [
    {
     "name": "stdout",
     "output_type": "stream",
     "text": [
      "\n",
      "Mean: 4.033865\n",
      "\n",
      "Median: 4.0\n",
      "\n",
      "Mode: 0    5.0\n",
      "dtype: float64\n"
     ]
    }
   ],
   "source": [
    "print(f\"\\nMean: {df['reviews.rating'].mean()}\\n\")\n",
    "print(f\"Median: {df['reviews.rating'].median()}\\n\")\n",
    "print(f\"Mode: {df['reviews.rating'].mode()}\")  # retorna uma série, porque pode haver várias modes"
   ]
  },
  {
   "cell_type": "markdown",
   "metadata": {},
   "source": [
    "Podemos também usar operações mais avançadas na construção de colunas, usando o método **apply**. Podemos passar uma função, e ela será aplicada elemento a elemento. Vamos criar uma coluna que diga se a palavra \"romantic\" está contida em cada review, apenas para reviews que sejam strings (caso contrário teríamos um erro):"
   ]
  },
  {
   "cell_type": "code",
   "execution_count": 40,
   "metadata": {},
   "outputs": [
    {
     "data": {
      "text/plain": [
       "0       False\n",
       "1        True\n",
       "2       False\n",
       "3       False\n",
       "4       False\n",
       "        ...  \n",
       "9995    False\n",
       "9996    False\n",
       "9997    False\n",
       "9998    False\n",
       "9999    False\n",
       "Name: is_romantic, Length: 10000, dtype: object"
      ]
     },
     "execution_count": 40,
     "metadata": {},
     "output_type": "execute_result"
    }
   ],
   "source": [
    "def romantic(review):\n",
    "    if type(review) == str :\n",
    "        return (\"romantic\" in review)\n",
    "\n",
    "df['is_romantic'] = df['reviews.text'].apply(romantic)\n",
    "\n",
    "df['is_romantic']"
   ]
  },
  {
   "cell_type": "markdown",
   "metadata": {},
   "source": [
    "Para colunas de texto, podemos também aceder a métodos de string e aplicá-los individualmente a cada elemento. Para tal apenas precisar de adicionar **.str** antes do método, e de seguida usá-lo como se estivessemos a user com um único string. Vejamos como obter uma versão \"upper case\" das reviews:"
   ]
  },
  {
   "cell_type": "code",
   "execution_count": 41,
   "metadata": {},
   "outputs": [
    {
     "data": {
      "text/plain": [
       "0       OUR EXPERIENCE AT RANCHO VALENCIA WAS ABSOLUTE...\n",
       "1       AMAZING PLACE. EVERYONE WAS EXTREMELY WARM AND...\n",
       "2       WE BOOKED A 3 NIGHT STAY AT RANCHO VALENCIA TO...\n",
       "3       CURRENTLY IN BED WRITING THIS FOR THE PAST HR ...\n",
       "4       I LIVE IN MD AND THE ALOFT IS MY HOME AWAY FRO...\n",
       "                              ...                        \n",
       "9995    IT IS HARD FOR ME TO REVIEW AN OCEANFRONT HOTE...\n",
       "9996    I LIVE CLOSE BY, AND NEEDED TO STAY SOMEWHERE ...\n",
       "9997    ROLLED IN 11:30 LAID OUT HEADS DOWN WOKE UP TO...\n",
       "9998    ABSOLUTELY TERRIBLE..I WAS TOLD I WAS BEING GI...\n",
       "9999    FILTHY, OUTDATED, NOISY NEIGHBOURS, BUT THIS W...\n",
       "Name: reviews.text, Length: 10000, dtype: object"
      ]
     },
     "execution_count": 41,
     "metadata": {},
     "output_type": "execute_result"
    }
   ],
   "source": [
    "df['reviews.text'].str.upper()"
   ]
  },
  {
   "cell_type": "markdown",
   "metadata": {},
   "source": [
    "Outra funcionalidade bastante útil é verificar se cada elemento de uma Series é igual a um elemento de uma lista. Podemos fazê-lo através do método **isin**, que devolve uma série com True/False para cada elemento da Series, conforme esteja ou não presente na lista.\n",
    "\n",
    "Vamos usar este étodo para seleccionar todas as reviews dos utilizadores Paula e Ron:"
   ]
  },
  {
   "cell_type": "code",
   "execution_count": 42,
   "metadata": {},
   "outputs": [
    {
     "data": {
      "text/html": [
       "<div>\n",
       "<style scoped>\n",
       "    .dataframe tbody tr th:only-of-type {\n",
       "        vertical-align: middle;\n",
       "    }\n",
       "\n",
       "    .dataframe tbody tr th {\n",
       "        vertical-align: top;\n",
       "    }\n",
       "\n",
       "    .dataframe thead th {\n",
       "        text-align: right;\n",
       "    }\n",
       "</style>\n",
       "<table border=\"1\" class=\"dataframe\">\n",
       "  <thead>\n",
       "    <tr style=\"text-align: right;\">\n",
       "      <th></th>\n",
       "      <th>id</th>\n",
       "      <th>dateAdded</th>\n",
       "      <th>dateUpdated</th>\n",
       "      <th>address</th>\n",
       "      <th>categories</th>\n",
       "      <th>primaryCategories</th>\n",
       "      <th>city</th>\n",
       "      <th>country</th>\n",
       "      <th>keys</th>\n",
       "      <th>latitude</th>\n",
       "      <th>...</th>\n",
       "      <th>reviews.title</th>\n",
       "      <th>reviews.userCity</th>\n",
       "      <th>reviews.userProvince</th>\n",
       "      <th>reviews.username</th>\n",
       "      <th>sourceURLs</th>\n",
       "      <th>websites</th>\n",
       "      <th>garbage</th>\n",
       "      <th>country_city</th>\n",
       "      <th>rating_0_to_50</th>\n",
       "      <th>is_romantic</th>\n",
       "    </tr>\n",
       "  </thead>\n",
       "  <tbody>\n",
       "    <tr>\n",
       "      <th>0</th>\n",
       "      <td>AVwc252WIN2L1WUfpqLP</td>\n",
       "      <td>2016-10-30T21:42:42Z</td>\n",
       "      <td>2018-09-10T21:06:27Z</td>\n",
       "      <td>5921 Valencia Cir</td>\n",
       "      <td>Hotels,Hotels and motels,Hotel and motel reser...</td>\n",
       "      <td>Accommodation &amp; Food Services</td>\n",
       "      <td>Rancho Santa Fe</td>\n",
       "      <td>US</td>\n",
       "      <td>us/ca/ranchosantafe/5921valenciacir/359754519</td>\n",
       "      <td>32.990959</td>\n",
       "      <td>...</td>\n",
       "      <td>Best romantic vacation ever!!!!</td>\n",
       "      <td>NaN</td>\n",
       "      <td>NaN</td>\n",
       "      <td>Paula</td>\n",
       "      <td>http://www.hotels.com/ho125419/%25252525253Flo...</td>\n",
       "      <td>http://www.ranchovalencia.com</td>\n",
       "      <td>this</td>\n",
       "      <td>US, Rancho Santa Fe</td>\n",
       "      <td>50.0</td>\n",
       "      <td>False</td>\n",
       "    </tr>\n",
       "    <tr>\n",
       "      <th>2</th>\n",
       "      <td>AVwc252WIN2L1WUfpqLP</td>\n",
       "      <td>2016-10-30T21:42:42Z</td>\n",
       "      <td>2018-09-10T21:06:27Z</td>\n",
       "      <td>5921 Valencia Cir</td>\n",
       "      <td>Hotels,Hotels and motels,Hotel and motel reser...</td>\n",
       "      <td>Accommodation &amp; Food Services</td>\n",
       "      <td>Rancho Santa Fe</td>\n",
       "      <td>US</td>\n",
       "      <td>us/ca/ranchosantafe/5921valenciacir/359754519</td>\n",
       "      <td>32.990959</td>\n",
       "      <td>...</td>\n",
       "      <td>Amazing Property and Experience</td>\n",
       "      <td>NaN</td>\n",
       "      <td>NaN</td>\n",
       "      <td>Ron</td>\n",
       "      <td>http://www.hotels.com/ho125419/%25252525253Flo...</td>\n",
       "      <td>http://www.ranchovalencia.com</td>\n",
       "      <td>garbage</td>\n",
       "      <td>US, Rancho Santa Fe</td>\n",
       "      <td>50.0</td>\n",
       "      <td>False</td>\n",
       "    </tr>\n",
       "    <tr>\n",
       "      <th>47</th>\n",
       "      <td>AWE7dKHFIxWefVJwyLgA</td>\n",
       "      <td>2018-01-28T06:16:26Z</td>\n",
       "      <td>2018-09-10T21:02:11Z</td>\n",
       "      <td>250 Waterfront St</td>\n",
       "      <td>Hotels,Corporate Lodging,Lodging,Hotel</td>\n",
       "      <td>Accommodation &amp; Food Services</td>\n",
       "      <td>Oxon Hill</td>\n",
       "      <td>US</td>\n",
       "      <td>us/md/oxonhill/250waterfrontst/-1660293559</td>\n",
       "      <td>38.782134</td>\n",
       "      <td>...</td>\n",
       "      <td>Great conference stay</td>\n",
       "      <td>NaN</td>\n",
       "      <td>NaN</td>\n",
       "      <td>Ron</td>\n",
       "      <td>http://www.expedia.com/Hotels.h1880917-p51.Hot...</td>\n",
       "      <td>http://hamptoninn3.hilton.com/en/hotels/maryla...</td>\n",
       "      <td>NaN</td>\n",
       "      <td>US, Oxon Hill</td>\n",
       "      <td>50.0</td>\n",
       "      <td>False</td>\n",
       "    </tr>\n",
       "  </tbody>\n",
       "</table>\n",
       "<p>3 rows × 27 columns</p>\n",
       "</div>"
      ],
      "text/plain": [
       "                      id             dateAdded           dateUpdated  \\\n",
       "0   AVwc252WIN2L1WUfpqLP  2016-10-30T21:42:42Z  2018-09-10T21:06:27Z   \n",
       "2   AVwc252WIN2L1WUfpqLP  2016-10-30T21:42:42Z  2018-09-10T21:06:27Z   \n",
       "47  AWE7dKHFIxWefVJwyLgA  2018-01-28T06:16:26Z  2018-09-10T21:02:11Z   \n",
       "\n",
       "              address                                         categories  \\\n",
       "0   5921 Valencia Cir  Hotels,Hotels and motels,Hotel and motel reser...   \n",
       "2   5921 Valencia Cir  Hotels,Hotels and motels,Hotel and motel reser...   \n",
       "47  250 Waterfront St             Hotels,Corporate Lodging,Lodging,Hotel   \n",
       "\n",
       "                primaryCategories             city country  \\\n",
       "0   Accommodation & Food Services  Rancho Santa Fe      US   \n",
       "2   Accommodation & Food Services  Rancho Santa Fe      US   \n",
       "47  Accommodation & Food Services        Oxon Hill      US   \n",
       "\n",
       "                                             keys   latitude  ...  \\\n",
       "0   us/ca/ranchosantafe/5921valenciacir/359754519  32.990959  ...   \n",
       "2   us/ca/ranchosantafe/5921valenciacir/359754519  32.990959  ...   \n",
       "47     us/md/oxonhill/250waterfrontst/-1660293559  38.782134  ...   \n",
       "\n",
       "                      reviews.title reviews.userCity reviews.userProvince  \\\n",
       "0   Best romantic vacation ever!!!!              NaN                  NaN   \n",
       "2   Amazing Property and Experience              NaN                  NaN   \n",
       "47            Great conference stay              NaN                  NaN   \n",
       "\n",
       "   reviews.username                                         sourceURLs  \\\n",
       "0             Paula  http://www.hotels.com/ho125419/%25252525253Flo...   \n",
       "2               Ron  http://www.hotels.com/ho125419/%25252525253Flo...   \n",
       "47              Ron  http://www.expedia.com/Hotels.h1880917-p51.Hot...   \n",
       "\n",
       "                                             websites  garbage  \\\n",
       "0                       http://www.ranchovalencia.com     this   \n",
       "2                       http://www.ranchovalencia.com  garbage   \n",
       "47  http://hamptoninn3.hilton.com/en/hotels/maryla...      NaN   \n",
       "\n",
       "           country_city rating_0_to_50 is_romantic  \n",
       "0   US, Rancho Santa Fe           50.0       False  \n",
       "2   US, Rancho Santa Fe           50.0       False  \n",
       "47        US, Oxon Hill           50.0       False  \n",
       "\n",
       "[3 rows x 27 columns]"
      ]
     },
     "execution_count": 42,
     "metadata": {},
     "output_type": "execute_result"
    }
   ],
   "source": [
    "usernames = ['Paula', 'Ron']\n",
    "\n",
    "df.loc[\n",
    "    df['reviews.username'].isin(usernames)\n",
    "].head(3)"
   ]
  },
  {
   "cell_type": "markdown",
   "metadata": {},
   "source": [
    "Podemos também contar o número de valores únicos numa coluna, com o método **nunique**. Por exemplo, vejamos quantos utilizadores diferentes há, comparados com o número de reviews:"
   ]
  },
  {
   "cell_type": "code",
   "execution_count": 43,
   "metadata": {},
   "outputs": [
    {
     "name": "stdout",
     "output_type": "stream",
     "text": [
      "Há 6942 utilizadores e 10000 reviews.\n"
     ]
    }
   ],
   "source": [
    "utilizadores_unicos = df['reviews.username'].nunique()\n",
    "\n",
    "print(f'Há {utilizadores_unicos} utilizadores e {df.shape[0]} reviews.')"
   ]
  },
  {
   "cell_type": "markdown",
   "metadata": {},
   "source": [
    "Podemos obter um array dos valores distintos encontrados numa série com o método **unique** (este método não retorna uma Series, mas sim outro tipo de estrutura, como veremos um pouco mais à frente)."
   ]
  },
  {
   "cell_type": "code",
   "execution_count": 44,
   "metadata": {},
   "outputs": [
    {
     "data": {
      "text/plain": [
       "array(['Paula', 'D', 'Ron', ..., 'Amber406', 'donWoodbury', 'janezr2013'],\n",
       "      dtype=object)"
      ]
     },
     "execution_count": 44,
     "metadata": {},
     "output_type": "execute_result"
    }
   ],
   "source": [
    "df['reviews.username'].unique()"
   ]
  },
  {
   "cell_type": "markdown",
   "metadata": {},
   "source": [
    "O método **value_counts** permite combinar estas duas funcionalidades, contando quantas occorrências de cada valor temos numa Series:"
   ]
  },
  {
   "cell_type": "code",
   "execution_count": 45,
   "metadata": {},
   "outputs": [
    {
     "data": {
      "text/plain": [
       "A verified traveler    1158\n",
       "A Traveler              390\n",
       "Anonymous               164\n",
       "John                     37\n",
       "David                    35\n",
       "                       ... \n",
       "Tmothy                    1\n",
       "Selinthia                 1\n",
       "Salvador                  1\n",
       "Scotti280                 1\n",
       "Barney F                  1\n",
       "Name: reviews.username, Length: 6942, dtype: int64"
      ]
     },
     "execution_count": 45,
     "metadata": {},
     "output_type": "execute_result"
    }
   ],
   "source": [
    "df['reviews.username'].value_counts()"
   ]
  },
  {
   "cell_type": "markdown",
   "metadata": {},
   "source": [
    "Por fim, é importante notar que podemos obter o vector de valores (sem o índice) contido numa Series através do atributo **values**. Estes \"arrays\" de valores, escondido por trás das abstracções Series/DataFrame, são arrays do **Numpy**, uma library de processamento numérico muito utilizada em Python."
   ]
  },
  {
   "cell_type": "code",
   "execution_count": 46,
   "metadata": {},
   "outputs": [
    {
     "data": {
      "text/plain": [
       "array([5., 5., 5., ..., 4., 1., 1.])"
      ]
     },
     "execution_count": 46,
     "metadata": {},
     "output_type": "execute_result"
    }
   ],
   "source": [
    "df['reviews.rating'].values"
   ]
  },
  {
   "cell_type": "code",
   "execution_count": 47,
   "metadata": {},
   "outputs": [
    {
     "data": {
      "text/plain": [
       "numpy.ndarray"
      ]
     },
     "execution_count": 47,
     "metadata": {},
     "output_type": "execute_result"
    }
   ],
   "source": [
    "type(df['reviews.rating'].values)"
   ]
  },
  {
   "cell_type": "markdown",
   "metadata": {},
   "source": [
    "## Limpeza geral dos dados\n",
    "\n",
    "Agora que sabemos aceder aos dados, vamos fazer uma pequena limpeza inicial, para os podermos comçar a trabalhar com maior detalhe.\n",
    "\n",
    "Ao analisar a DataFrame, reparamos que há uma coluna chamada garbage:"
   ]
  },
  {
   "cell_type": "code",
   "execution_count": 48,
   "metadata": {},
   "outputs": [
    {
     "data": {
      "text/plain": [
       "0          this\n",
       "1            is\n",
       "2       garbage\n",
       "3           NaN\n",
       "4           NaN\n",
       "         ...   \n",
       "9995        NaN\n",
       "9996        NaN\n",
       "9997        NaN\n",
       "9998        NaN\n",
       "9999        NaN\n",
       "Name: garbage, Length: 10000, dtype: object"
      ]
     },
     "execution_count": 48,
     "metadata": {},
     "output_type": "execute_result"
    }
   ],
   "source": [
    "df.garbage"
   ]
  },
  {
   "cell_type": "markdown",
   "metadata": {},
   "source": [
    "Vamos eliminá-la com o método **drop**:"
   ]
  },
  {
   "cell_type": "code",
   "execution_count": 49,
   "metadata": {},
   "outputs": [],
   "source": [
    "df_no_garbage = df.drop('garbage', axis=1)"
   ]
  },
  {
   "cell_type": "markdown",
   "metadata": {},
   "source": [
    "Algumas considerações importantes:\n",
    "\n",
    "* temos de espcifiar que a \"label\" da Series que queremos eliminar se encontra ao longo do eixo das colunas (axis=1). Caso contrário estariamos a tentar eliminar uma linha cujo índice fosse \"garbage\" (que neste caso não existe, por isso teríamos um erro);\n",
    "* a operação **drop**, e em geral todas as operações no Pandas, não são executadas \"inplace\", ou seja, a DataFrame original não é modificada. As operações retornam uma DataFrame modificada, que devemos armazenar numa variável. Para realizar uma operação inplace, podemos usar o argument `inplace=True`."
   ]
  },
  {
   "cell_type": "markdown",
   "metadata": {},
   "source": [
    "Podemos mudar o nome das colunas com passando um dicionário ao método **rename**. Este dicionário terá como chaves o nome antigo das colunas, e como valor o nome desejado: "
   ]
  },
  {
   "cell_type": "code",
   "execution_count": 50,
   "metadata": {},
   "outputs": [],
   "source": [
    "df_renamed = df_no_garbage.rename(columns={\n",
    "    'categories': 'categorias',\n",
    "    'address': 'morada'\n",
    "})"
   ]
  },
  {
   "cell_type": "code",
   "execution_count": 51,
   "metadata": {
    "scrolled": true
   },
   "outputs": [
    {
     "data": {
      "text/html": [
       "<div>\n",
       "<style scoped>\n",
       "    .dataframe tbody tr th:only-of-type {\n",
       "        vertical-align: middle;\n",
       "    }\n",
       "\n",
       "    .dataframe tbody tr th {\n",
       "        vertical-align: top;\n",
       "    }\n",
       "\n",
       "    .dataframe thead th {\n",
       "        text-align: right;\n",
       "    }\n",
       "</style>\n",
       "<table border=\"1\" class=\"dataframe\">\n",
       "  <thead>\n",
       "    <tr style=\"text-align: right;\">\n",
       "      <th></th>\n",
       "      <th>id</th>\n",
       "      <th>dateAdded</th>\n",
       "      <th>dateUpdated</th>\n",
       "      <th>morada</th>\n",
       "      <th>categorias</th>\n",
       "      <th>primaryCategories</th>\n",
       "      <th>city</th>\n",
       "      <th>country</th>\n",
       "      <th>keys</th>\n",
       "      <th>latitude</th>\n",
       "      <th>...</th>\n",
       "      <th>reviews.text</th>\n",
       "      <th>reviews.title</th>\n",
       "      <th>reviews.userCity</th>\n",
       "      <th>reviews.userProvince</th>\n",
       "      <th>reviews.username</th>\n",
       "      <th>sourceURLs</th>\n",
       "      <th>websites</th>\n",
       "      <th>country_city</th>\n",
       "      <th>rating_0_to_50</th>\n",
       "      <th>is_romantic</th>\n",
       "    </tr>\n",
       "  </thead>\n",
       "  <tbody>\n",
       "    <tr>\n",
       "      <th>0</th>\n",
       "      <td>AVwc252WIN2L1WUfpqLP</td>\n",
       "      <td>2016-10-30T21:42:42Z</td>\n",
       "      <td>2018-09-10T21:06:27Z</td>\n",
       "      <td>5921 Valencia Cir</td>\n",
       "      <td>Hotels,Hotels and motels,Hotel and motel reser...</td>\n",
       "      <td>Accommodation &amp; Food Services</td>\n",
       "      <td>Rancho Santa Fe</td>\n",
       "      <td>US</td>\n",
       "      <td>us/ca/ranchosantafe/5921valenciacir/359754519</td>\n",
       "      <td>32.990959</td>\n",
       "      <td>...</td>\n",
       "      <td>Our experience at Rancho Valencia was absolute...</td>\n",
       "      <td>Best romantic vacation ever!!!!</td>\n",
       "      <td>NaN</td>\n",
       "      <td>NaN</td>\n",
       "      <td>Paula</td>\n",
       "      <td>http://www.hotels.com/ho125419/%25252525253Flo...</td>\n",
       "      <td>http://www.ranchovalencia.com</td>\n",
       "      <td>US, Rancho Santa Fe</td>\n",
       "      <td>50.0</td>\n",
       "      <td>False</td>\n",
       "    </tr>\n",
       "    <tr>\n",
       "      <th>1</th>\n",
       "      <td>AVwc252WIN2L1WUfpqLP</td>\n",
       "      <td>2016-10-30T21:42:42Z</td>\n",
       "      <td>2018-09-10T21:06:27Z</td>\n",
       "      <td>5921 Valencia Cir</td>\n",
       "      <td>Hotels,Hotels and motels,Hotel and motel reser...</td>\n",
       "      <td>Accommodation &amp; Food Services</td>\n",
       "      <td>Rancho Santa Fe</td>\n",
       "      <td>US</td>\n",
       "      <td>us/ca/ranchosantafe/5921valenciacir/359754519</td>\n",
       "      <td>32.990959</td>\n",
       "      <td>...</td>\n",
       "      <td>Amazing place. Everyone was extremely warm and...</td>\n",
       "      <td>Sweet sweet serenity</td>\n",
       "      <td>NaN</td>\n",
       "      <td>NaN</td>\n",
       "      <td>D</td>\n",
       "      <td>http://www.hotels.com/ho125419/%25252525253Flo...</td>\n",
       "      <td>http://www.ranchovalencia.com</td>\n",
       "      <td>US, Rancho Santa Fe</td>\n",
       "      <td>50.0</td>\n",
       "      <td>True</td>\n",
       "    </tr>\n",
       "    <tr>\n",
       "      <th>2</th>\n",
       "      <td>AVwc252WIN2L1WUfpqLP</td>\n",
       "      <td>2016-10-30T21:42:42Z</td>\n",
       "      <td>2018-09-10T21:06:27Z</td>\n",
       "      <td>5921 Valencia Cir</td>\n",
       "      <td>Hotels,Hotels and motels,Hotel and motel reser...</td>\n",
       "      <td>Accommodation &amp; Food Services</td>\n",
       "      <td>Rancho Santa Fe</td>\n",
       "      <td>US</td>\n",
       "      <td>us/ca/ranchosantafe/5921valenciacir/359754519</td>\n",
       "      <td>32.990959</td>\n",
       "      <td>...</td>\n",
       "      <td>We booked a 3 night stay at Rancho Valencia to...</td>\n",
       "      <td>Amazing Property and Experience</td>\n",
       "      <td>NaN</td>\n",
       "      <td>NaN</td>\n",
       "      <td>Ron</td>\n",
       "      <td>http://www.hotels.com/ho125419/%25252525253Flo...</td>\n",
       "      <td>http://www.ranchovalencia.com</td>\n",
       "      <td>US, Rancho Santa Fe</td>\n",
       "      <td>50.0</td>\n",
       "      <td>False</td>\n",
       "    </tr>\n",
       "  </tbody>\n",
       "</table>\n",
       "<p>3 rows × 26 columns</p>\n",
       "</div>"
      ],
      "text/plain": [
       "                     id             dateAdded           dateUpdated  \\\n",
       "0  AVwc252WIN2L1WUfpqLP  2016-10-30T21:42:42Z  2018-09-10T21:06:27Z   \n",
       "1  AVwc252WIN2L1WUfpqLP  2016-10-30T21:42:42Z  2018-09-10T21:06:27Z   \n",
       "2  AVwc252WIN2L1WUfpqLP  2016-10-30T21:42:42Z  2018-09-10T21:06:27Z   \n",
       "\n",
       "              morada                                         categorias  \\\n",
       "0  5921 Valencia Cir  Hotels,Hotels and motels,Hotel and motel reser...   \n",
       "1  5921 Valencia Cir  Hotels,Hotels and motels,Hotel and motel reser...   \n",
       "2  5921 Valencia Cir  Hotels,Hotels and motels,Hotel and motel reser...   \n",
       "\n",
       "               primaryCategories             city country  \\\n",
       "0  Accommodation & Food Services  Rancho Santa Fe      US   \n",
       "1  Accommodation & Food Services  Rancho Santa Fe      US   \n",
       "2  Accommodation & Food Services  Rancho Santa Fe      US   \n",
       "\n",
       "                                            keys   latitude  ...  \\\n",
       "0  us/ca/ranchosantafe/5921valenciacir/359754519  32.990959  ...   \n",
       "1  us/ca/ranchosantafe/5921valenciacir/359754519  32.990959  ...   \n",
       "2  us/ca/ranchosantafe/5921valenciacir/359754519  32.990959  ...   \n",
       "\n",
       "                                        reviews.text  \\\n",
       "0  Our experience at Rancho Valencia was absolute...   \n",
       "1  Amazing place. Everyone was extremely warm and...   \n",
       "2  We booked a 3 night stay at Rancho Valencia to...   \n",
       "\n",
       "                     reviews.title reviews.userCity reviews.userProvince  \\\n",
       "0  Best romantic vacation ever!!!!              NaN                  NaN   \n",
       "1             Sweet sweet serenity              NaN                  NaN   \n",
       "2  Amazing Property and Experience              NaN                  NaN   \n",
       "\n",
       "   reviews.username                                         sourceURLs  \\\n",
       "0             Paula  http://www.hotels.com/ho125419/%25252525253Flo...   \n",
       "1                 D  http://www.hotels.com/ho125419/%25252525253Flo...   \n",
       "2               Ron  http://www.hotels.com/ho125419/%25252525253Flo...   \n",
       "\n",
       "                        websites         country_city rating_0_to_50  \\\n",
       "0  http://www.ranchovalencia.com  US, Rancho Santa Fe           50.0   \n",
       "1  http://www.ranchovalencia.com  US, Rancho Santa Fe           50.0   \n",
       "2  http://www.ranchovalencia.com  US, Rancho Santa Fe           50.0   \n",
       "\n",
       "  is_romantic  \n",
       "0       False  \n",
       "1        True  \n",
       "2       False  \n",
       "\n",
       "[3 rows x 26 columns]"
      ]
     },
     "execution_count": 51,
     "metadata": {},
     "output_type": "execute_result"
    }
   ],
   "source": [
    "df_renamed.head(3)"
   ]
  },
  {
   "cell_type": "markdown",
   "metadata": {},
   "source": [
    "Podemos usar o método replace para substituir certos valores por outros:\n",
    "\n",
    "* na DataFrame inteira, passando um dicionário com pares (valor original, valor de substituição)\n",
    "* separadamente em certas colunas, passando um dicionário de dicionários, em que as chaves de primeiro nível são o nome de cada coluna em que queremos aplicar substituições, e cada subdicionário contém as substituições que desejamos fazer.\n",
    "\n",
    "Vamos substituir as ocorrências de **US** por **EUA** na coluna country, e as ocorrências de **5921 Valencia Cir** por **5921 Val C.** na coluna morada:"
   ]
  },
  {
   "cell_type": "code",
   "execution_count": 52,
   "metadata": {},
   "outputs": [],
   "source": [
    "substituicoes = {\n",
    "    'country': {\n",
    "        'US': 'EUA'\n",
    "    },\n",
    "    'morada': {\n",
    "        '5921 Valencia Cir': '5921 Val C.'\n",
    "    }\n",
    "}\n",
    "\n",
    "df_replaced = df_renamed.replace(substituicoes)"
   ]
  },
  {
   "cell_type": "code",
   "execution_count": 53,
   "metadata": {},
   "outputs": [
    {
     "data": {
      "text/html": [
       "<div>\n",
       "<style scoped>\n",
       "    .dataframe tbody tr th:only-of-type {\n",
       "        vertical-align: middle;\n",
       "    }\n",
       "\n",
       "    .dataframe tbody tr th {\n",
       "        vertical-align: top;\n",
       "    }\n",
       "\n",
       "    .dataframe thead th {\n",
       "        text-align: right;\n",
       "    }\n",
       "</style>\n",
       "<table border=\"1\" class=\"dataframe\">\n",
       "  <thead>\n",
       "    <tr style=\"text-align: right;\">\n",
       "      <th></th>\n",
       "      <th>id</th>\n",
       "      <th>dateAdded</th>\n",
       "      <th>dateUpdated</th>\n",
       "      <th>morada</th>\n",
       "      <th>categorias</th>\n",
       "      <th>primaryCategories</th>\n",
       "      <th>city</th>\n",
       "      <th>country</th>\n",
       "      <th>keys</th>\n",
       "      <th>latitude</th>\n",
       "      <th>...</th>\n",
       "      <th>reviews.text</th>\n",
       "      <th>reviews.title</th>\n",
       "      <th>reviews.userCity</th>\n",
       "      <th>reviews.userProvince</th>\n",
       "      <th>reviews.username</th>\n",
       "      <th>sourceURLs</th>\n",
       "      <th>websites</th>\n",
       "      <th>country_city</th>\n",
       "      <th>rating_0_to_50</th>\n",
       "      <th>is_romantic</th>\n",
       "    </tr>\n",
       "  </thead>\n",
       "  <tbody>\n",
       "    <tr>\n",
       "      <th>0</th>\n",
       "      <td>AVwc252WIN2L1WUfpqLP</td>\n",
       "      <td>2016-10-30T21:42:42Z</td>\n",
       "      <td>2018-09-10T21:06:27Z</td>\n",
       "      <td>5921 Val C.</td>\n",
       "      <td>Hotels,Hotels and motels,Hotel and motel reser...</td>\n",
       "      <td>Accommodation &amp; Food Services</td>\n",
       "      <td>Rancho Santa Fe</td>\n",
       "      <td>EUA</td>\n",
       "      <td>us/ca/ranchosantafe/5921valenciacir/359754519</td>\n",
       "      <td>32.990959</td>\n",
       "      <td>...</td>\n",
       "      <td>Our experience at Rancho Valencia was absolute...</td>\n",
       "      <td>Best romantic vacation ever!!!!</td>\n",
       "      <td>NaN</td>\n",
       "      <td>NaN</td>\n",
       "      <td>Paula</td>\n",
       "      <td>http://www.hotels.com/ho125419/%25252525253Flo...</td>\n",
       "      <td>http://www.ranchovalencia.com</td>\n",
       "      <td>US, Rancho Santa Fe</td>\n",
       "      <td>50.0</td>\n",
       "      <td>False</td>\n",
       "    </tr>\n",
       "    <tr>\n",
       "      <th>1</th>\n",
       "      <td>AVwc252WIN2L1WUfpqLP</td>\n",
       "      <td>2016-10-30T21:42:42Z</td>\n",
       "      <td>2018-09-10T21:06:27Z</td>\n",
       "      <td>5921 Val C.</td>\n",
       "      <td>Hotels,Hotels and motels,Hotel and motel reser...</td>\n",
       "      <td>Accommodation &amp; Food Services</td>\n",
       "      <td>Rancho Santa Fe</td>\n",
       "      <td>EUA</td>\n",
       "      <td>us/ca/ranchosantafe/5921valenciacir/359754519</td>\n",
       "      <td>32.990959</td>\n",
       "      <td>...</td>\n",
       "      <td>Amazing place. Everyone was extremely warm and...</td>\n",
       "      <td>Sweet sweet serenity</td>\n",
       "      <td>NaN</td>\n",
       "      <td>NaN</td>\n",
       "      <td>D</td>\n",
       "      <td>http://www.hotels.com/ho125419/%25252525253Flo...</td>\n",
       "      <td>http://www.ranchovalencia.com</td>\n",
       "      <td>US, Rancho Santa Fe</td>\n",
       "      <td>50.0</td>\n",
       "      <td>True</td>\n",
       "    </tr>\n",
       "    <tr>\n",
       "      <th>2</th>\n",
       "      <td>AVwc252WIN2L1WUfpqLP</td>\n",
       "      <td>2016-10-30T21:42:42Z</td>\n",
       "      <td>2018-09-10T21:06:27Z</td>\n",
       "      <td>5921 Val C.</td>\n",
       "      <td>Hotels,Hotels and motels,Hotel and motel reser...</td>\n",
       "      <td>Accommodation &amp; Food Services</td>\n",
       "      <td>Rancho Santa Fe</td>\n",
       "      <td>EUA</td>\n",
       "      <td>us/ca/ranchosantafe/5921valenciacir/359754519</td>\n",
       "      <td>32.990959</td>\n",
       "      <td>...</td>\n",
       "      <td>We booked a 3 night stay at Rancho Valencia to...</td>\n",
       "      <td>Amazing Property and Experience</td>\n",
       "      <td>NaN</td>\n",
       "      <td>NaN</td>\n",
       "      <td>Ron</td>\n",
       "      <td>http://www.hotels.com/ho125419/%25252525253Flo...</td>\n",
       "      <td>http://www.ranchovalencia.com</td>\n",
       "      <td>US, Rancho Santa Fe</td>\n",
       "      <td>50.0</td>\n",
       "      <td>False</td>\n",
       "    </tr>\n",
       "  </tbody>\n",
       "</table>\n",
       "<p>3 rows × 26 columns</p>\n",
       "</div>"
      ],
      "text/plain": [
       "                     id             dateAdded           dateUpdated  \\\n",
       "0  AVwc252WIN2L1WUfpqLP  2016-10-30T21:42:42Z  2018-09-10T21:06:27Z   \n",
       "1  AVwc252WIN2L1WUfpqLP  2016-10-30T21:42:42Z  2018-09-10T21:06:27Z   \n",
       "2  AVwc252WIN2L1WUfpqLP  2016-10-30T21:42:42Z  2018-09-10T21:06:27Z   \n",
       "\n",
       "        morada                                         categorias  \\\n",
       "0  5921 Val C.  Hotels,Hotels and motels,Hotel and motel reser...   \n",
       "1  5921 Val C.  Hotels,Hotels and motels,Hotel and motel reser...   \n",
       "2  5921 Val C.  Hotels,Hotels and motels,Hotel and motel reser...   \n",
       "\n",
       "               primaryCategories             city country  \\\n",
       "0  Accommodation & Food Services  Rancho Santa Fe     EUA   \n",
       "1  Accommodation & Food Services  Rancho Santa Fe     EUA   \n",
       "2  Accommodation & Food Services  Rancho Santa Fe     EUA   \n",
       "\n",
       "                                            keys   latitude  ...  \\\n",
       "0  us/ca/ranchosantafe/5921valenciacir/359754519  32.990959  ...   \n",
       "1  us/ca/ranchosantafe/5921valenciacir/359754519  32.990959  ...   \n",
       "2  us/ca/ranchosantafe/5921valenciacir/359754519  32.990959  ...   \n",
       "\n",
       "                                        reviews.text  \\\n",
       "0  Our experience at Rancho Valencia was absolute...   \n",
       "1  Amazing place. Everyone was extremely warm and...   \n",
       "2  We booked a 3 night stay at Rancho Valencia to...   \n",
       "\n",
       "                     reviews.title reviews.userCity reviews.userProvince  \\\n",
       "0  Best romantic vacation ever!!!!              NaN                  NaN   \n",
       "1             Sweet sweet serenity              NaN                  NaN   \n",
       "2  Amazing Property and Experience              NaN                  NaN   \n",
       "\n",
       "   reviews.username                                         sourceURLs  \\\n",
       "0             Paula  http://www.hotels.com/ho125419/%25252525253Flo...   \n",
       "1                 D  http://www.hotels.com/ho125419/%25252525253Flo...   \n",
       "2               Ron  http://www.hotels.com/ho125419/%25252525253Flo...   \n",
       "\n",
       "                        websites         country_city rating_0_to_50  \\\n",
       "0  http://www.ranchovalencia.com  US, Rancho Santa Fe           50.0   \n",
       "1  http://www.ranchovalencia.com  US, Rancho Santa Fe           50.0   \n",
       "2  http://www.ranchovalencia.com  US, Rancho Santa Fe           50.0   \n",
       "\n",
       "  is_romantic  \n",
       "0       False  \n",
       "1        True  \n",
       "2       False  \n",
       "\n",
       "[3 rows x 26 columns]"
      ]
     },
     "execution_count": 53,
     "metadata": {},
     "output_type": "execute_result"
    }
   ],
   "source": [
    "df_replaced.head(3)"
   ]
  },
  {
   "cell_type": "markdown",
   "metadata": {},
   "source": [
    "Podemos também querer substituir todos os valores nulos por um determinado valor. Reparamos anteriormente, na informação da DataFrame, que a coluna `reviews.userCity` tem apenas 4164 valores não-nulos. Vamos substituir todos os valores nulos desta coluna pelo string \"desconhecido\" usando o método **fillna**:"
   ]
  },
  {
   "cell_type": "code",
   "execution_count": 54,
   "metadata": {},
   "outputs": [],
   "source": [
    "df_replaced['reviews.userCity'] = df_replaced['reviews.userCity'].fillna(\"desconhecido\")"
   ]
  },
  {
   "cell_type": "code",
   "execution_count": 55,
   "metadata": {},
   "outputs": [
    {
     "data": {
      "text/plain": [
       "0              desconhecido\n",
       "1              desconhecido\n",
       "2              desconhecido\n",
       "3                  Richmond\n",
       "4                    Laurel\n",
       "               ...         \n",
       "9995               Wildwood\n",
       "9996          East Sandwich\n",
       "9997                Montana\n",
       "9998               woodbury\n",
       "9999    Sempeter pri Gorici\n",
       "Name: reviews.userCity, Length: 10000, dtype: object"
      ]
     },
     "execution_count": 55,
     "metadata": {},
     "output_type": "execute_result"
    }
   ],
   "source": [
    "df_replaced['reviews.userCity']"
   ]
  },
  {
   "cell_type": "markdown",
   "metadata": {},
   "source": [
    "Por outro lado, podemos eliminar todas as linhas com valores nulos com o método **dropna**. Se aplicarmos este método sobre uma DataFrame, basta a linha ter um elemento nulo para ser eliminada:"
   ]
  },
  {
   "cell_type": "code",
   "execution_count": 56,
   "metadata": {},
   "outputs": [
    {
     "data": {
      "text/plain": [
       "(10000, 26)"
      ]
     },
     "execution_count": 56,
     "metadata": {},
     "output_type": "execute_result"
    }
   ],
   "source": [
    "df_replaced.shape"
   ]
  },
  {
   "cell_type": "code",
   "execution_count": 57,
   "metadata": {},
   "outputs": [
    {
     "data": {
      "text/plain": [
       "(2705, 26)"
      ]
     },
     "execution_count": 57,
     "metadata": {},
     "output_type": "execute_result"
    }
   ],
   "source": [
    "df_replaced.dropna().shape"
   ]
  },
  {
   "cell_type": "markdown",
   "metadata": {},
   "source": [
    "## Definir o índice \n",
    "\n",
    "Podemos usar uma das nossas colunas como o índice, se tal fizer mais sentido do que usar uma sequência de números. No nosso caso temos a coluna id, que identifica um estabelecimento. Podemos tornar esta coluna no índice da nossa DataFrame, com o método **set_index**:"
   ]
  },
  {
   "cell_type": "code",
   "execution_count": 58,
   "metadata": {},
   "outputs": [],
   "source": [
    "df_indexed = df_replaced.set_index('id', drop=True)"
   ]
  },
  {
   "cell_type": "markdown",
   "metadata": {},
   "source": [
    "Usamos `drop=True` para não mantermos uma cópia da coluna quando a tornamos no índice.\n",
    "\n",
    "Vamos olhar e aceder à nossa nova DataFrame:"
   ]
  },
  {
   "cell_type": "code",
   "execution_count": 59,
   "metadata": {},
   "outputs": [
    {
     "data": {
      "text/html": [
       "<div>\n",
       "<style scoped>\n",
       "    .dataframe tbody tr th:only-of-type {\n",
       "        vertical-align: middle;\n",
       "    }\n",
       "\n",
       "    .dataframe tbody tr th {\n",
       "        vertical-align: top;\n",
       "    }\n",
       "\n",
       "    .dataframe thead th {\n",
       "        text-align: right;\n",
       "    }\n",
       "</style>\n",
       "<table border=\"1\" class=\"dataframe\">\n",
       "  <thead>\n",
       "    <tr style=\"text-align: right;\">\n",
       "      <th></th>\n",
       "      <th>dateAdded</th>\n",
       "      <th>dateUpdated</th>\n",
       "      <th>morada</th>\n",
       "      <th>categorias</th>\n",
       "      <th>primaryCategories</th>\n",
       "      <th>city</th>\n",
       "      <th>country</th>\n",
       "      <th>keys</th>\n",
       "      <th>latitude</th>\n",
       "      <th>longitude</th>\n",
       "      <th>...</th>\n",
       "      <th>reviews.text</th>\n",
       "      <th>reviews.title</th>\n",
       "      <th>reviews.userCity</th>\n",
       "      <th>reviews.userProvince</th>\n",
       "      <th>reviews.username</th>\n",
       "      <th>sourceURLs</th>\n",
       "      <th>websites</th>\n",
       "      <th>country_city</th>\n",
       "      <th>rating_0_to_50</th>\n",
       "      <th>is_romantic</th>\n",
       "    </tr>\n",
       "    <tr>\n",
       "      <th>id</th>\n",
       "      <th></th>\n",
       "      <th></th>\n",
       "      <th></th>\n",
       "      <th></th>\n",
       "      <th></th>\n",
       "      <th></th>\n",
       "      <th></th>\n",
       "      <th></th>\n",
       "      <th></th>\n",
       "      <th></th>\n",
       "      <th></th>\n",
       "      <th></th>\n",
       "      <th></th>\n",
       "      <th></th>\n",
       "      <th></th>\n",
       "      <th></th>\n",
       "      <th></th>\n",
       "      <th></th>\n",
       "      <th></th>\n",
       "      <th></th>\n",
       "      <th></th>\n",
       "    </tr>\n",
       "  </thead>\n",
       "  <tbody>\n",
       "    <tr>\n",
       "      <th>AVwc252WIN2L1WUfpqLP</th>\n",
       "      <td>2016-10-30T21:42:42Z</td>\n",
       "      <td>2018-09-10T21:06:27Z</td>\n",
       "      <td>5921 Val C.</td>\n",
       "      <td>Hotels,Hotels and motels,Hotel and motel reser...</td>\n",
       "      <td>Accommodation &amp; Food Services</td>\n",
       "      <td>Rancho Santa Fe</td>\n",
       "      <td>EUA</td>\n",
       "      <td>us/ca/ranchosantafe/5921valenciacir/359754519</td>\n",
       "      <td>32.990959</td>\n",
       "      <td>-117.186136</td>\n",
       "      <td>...</td>\n",
       "      <td>Our experience at Rancho Valencia was absolute...</td>\n",
       "      <td>Best romantic vacation ever!!!!</td>\n",
       "      <td>desconhecido</td>\n",
       "      <td>NaN</td>\n",
       "      <td>Paula</td>\n",
       "      <td>http://www.hotels.com/ho125419/%25252525253Flo...</td>\n",
       "      <td>http://www.ranchovalencia.com</td>\n",
       "      <td>US, Rancho Santa Fe</td>\n",
       "      <td>50.0</td>\n",
       "      <td>False</td>\n",
       "    </tr>\n",
       "    <tr>\n",
       "      <th>AVwc252WIN2L1WUfpqLP</th>\n",
       "      <td>2016-10-30T21:42:42Z</td>\n",
       "      <td>2018-09-10T21:06:27Z</td>\n",
       "      <td>5921 Val C.</td>\n",
       "      <td>Hotels,Hotels and motels,Hotel and motel reser...</td>\n",
       "      <td>Accommodation &amp; Food Services</td>\n",
       "      <td>Rancho Santa Fe</td>\n",
       "      <td>EUA</td>\n",
       "      <td>us/ca/ranchosantafe/5921valenciacir/359754519</td>\n",
       "      <td>32.990959</td>\n",
       "      <td>-117.186136</td>\n",
       "      <td>...</td>\n",
       "      <td>Amazing place. Everyone was extremely warm and...</td>\n",
       "      <td>Sweet sweet serenity</td>\n",
       "      <td>desconhecido</td>\n",
       "      <td>NaN</td>\n",
       "      <td>D</td>\n",
       "      <td>http://www.hotels.com/ho125419/%25252525253Flo...</td>\n",
       "      <td>http://www.ranchovalencia.com</td>\n",
       "      <td>US, Rancho Santa Fe</td>\n",
       "      <td>50.0</td>\n",
       "      <td>True</td>\n",
       "    </tr>\n",
       "    <tr>\n",
       "      <th>AVwc252WIN2L1WUfpqLP</th>\n",
       "      <td>2016-10-30T21:42:42Z</td>\n",
       "      <td>2018-09-10T21:06:27Z</td>\n",
       "      <td>5921 Val C.</td>\n",
       "      <td>Hotels,Hotels and motels,Hotel and motel reser...</td>\n",
       "      <td>Accommodation &amp; Food Services</td>\n",
       "      <td>Rancho Santa Fe</td>\n",
       "      <td>EUA</td>\n",
       "      <td>us/ca/ranchosantafe/5921valenciacir/359754519</td>\n",
       "      <td>32.990959</td>\n",
       "      <td>-117.186136</td>\n",
       "      <td>...</td>\n",
       "      <td>We booked a 3 night stay at Rancho Valencia to...</td>\n",
       "      <td>Amazing Property and Experience</td>\n",
       "      <td>desconhecido</td>\n",
       "      <td>NaN</td>\n",
       "      <td>Ron</td>\n",
       "      <td>http://www.hotels.com/ho125419/%25252525253Flo...</td>\n",
       "      <td>http://www.ranchovalencia.com</td>\n",
       "      <td>US, Rancho Santa Fe</td>\n",
       "      <td>50.0</td>\n",
       "      <td>False</td>\n",
       "    </tr>\n",
       "  </tbody>\n",
       "</table>\n",
       "<p>3 rows × 25 columns</p>\n",
       "</div>"
      ],
      "text/plain": [
       "                                 dateAdded           dateUpdated       morada  \\\n",
       "id                                                                              \n",
       "AVwc252WIN2L1WUfpqLP  2016-10-30T21:42:42Z  2018-09-10T21:06:27Z  5921 Val C.   \n",
       "AVwc252WIN2L1WUfpqLP  2016-10-30T21:42:42Z  2018-09-10T21:06:27Z  5921 Val C.   \n",
       "AVwc252WIN2L1WUfpqLP  2016-10-30T21:42:42Z  2018-09-10T21:06:27Z  5921 Val C.   \n",
       "\n",
       "                                                             categorias  \\\n",
       "id                                                                        \n",
       "AVwc252WIN2L1WUfpqLP  Hotels,Hotels and motels,Hotel and motel reser...   \n",
       "AVwc252WIN2L1WUfpqLP  Hotels,Hotels and motels,Hotel and motel reser...   \n",
       "AVwc252WIN2L1WUfpqLP  Hotels,Hotels and motels,Hotel and motel reser...   \n",
       "\n",
       "                                  primaryCategories             city country  \\\n",
       "id                                                                             \n",
       "AVwc252WIN2L1WUfpqLP  Accommodation & Food Services  Rancho Santa Fe     EUA   \n",
       "AVwc252WIN2L1WUfpqLP  Accommodation & Food Services  Rancho Santa Fe     EUA   \n",
       "AVwc252WIN2L1WUfpqLP  Accommodation & Food Services  Rancho Santa Fe     EUA   \n",
       "\n",
       "                                                               keys  \\\n",
       "id                                                                    \n",
       "AVwc252WIN2L1WUfpqLP  us/ca/ranchosantafe/5921valenciacir/359754519   \n",
       "AVwc252WIN2L1WUfpqLP  us/ca/ranchosantafe/5921valenciacir/359754519   \n",
       "AVwc252WIN2L1WUfpqLP  us/ca/ranchosantafe/5921valenciacir/359754519   \n",
       "\n",
       "                       latitude   longitude  ...  \\\n",
       "id                                           ...   \n",
       "AVwc252WIN2L1WUfpqLP  32.990959 -117.186136  ...   \n",
       "AVwc252WIN2L1WUfpqLP  32.990959 -117.186136  ...   \n",
       "AVwc252WIN2L1WUfpqLP  32.990959 -117.186136  ...   \n",
       "\n",
       "                                                           reviews.text  \\\n",
       "id                                                                        \n",
       "AVwc252WIN2L1WUfpqLP  Our experience at Rancho Valencia was absolute...   \n",
       "AVwc252WIN2L1WUfpqLP  Amazing place. Everyone was extremely warm and...   \n",
       "AVwc252WIN2L1WUfpqLP  We booked a 3 night stay at Rancho Valencia to...   \n",
       "\n",
       "                                        reviews.title reviews.userCity  \\\n",
       "id                                                                       \n",
       "AVwc252WIN2L1WUfpqLP  Best romantic vacation ever!!!!     desconhecido   \n",
       "AVwc252WIN2L1WUfpqLP             Sweet sweet serenity     desconhecido   \n",
       "AVwc252WIN2L1WUfpqLP  Amazing Property and Experience     desconhecido   \n",
       "\n",
       "                      reviews.userProvince reviews.username  \\\n",
       "id                                                            \n",
       "AVwc252WIN2L1WUfpqLP                   NaN            Paula   \n",
       "AVwc252WIN2L1WUfpqLP                   NaN                D   \n",
       "AVwc252WIN2L1WUfpqLP                   NaN              Ron   \n",
       "\n",
       "                                                             sourceURLs  \\\n",
       "id                                                                        \n",
       "AVwc252WIN2L1WUfpqLP  http://www.hotels.com/ho125419/%25252525253Flo...   \n",
       "AVwc252WIN2L1WUfpqLP  http://www.hotels.com/ho125419/%25252525253Flo...   \n",
       "AVwc252WIN2L1WUfpqLP  http://www.hotels.com/ho125419/%25252525253Flo...   \n",
       "\n",
       "                                           websites         country_city  \\\n",
       "id                                                                         \n",
       "AVwc252WIN2L1WUfpqLP  http://www.ranchovalencia.com  US, Rancho Santa Fe   \n",
       "AVwc252WIN2L1WUfpqLP  http://www.ranchovalencia.com  US, Rancho Santa Fe   \n",
       "AVwc252WIN2L1WUfpqLP  http://www.ranchovalencia.com  US, Rancho Santa Fe   \n",
       "\n",
       "                     rating_0_to_50 is_romantic  \n",
       "id                                               \n",
       "AVwc252WIN2L1WUfpqLP           50.0       False  \n",
       "AVwc252WIN2L1WUfpqLP           50.0        True  \n",
       "AVwc252WIN2L1WUfpqLP           50.0       False  \n",
       "\n",
       "[3 rows x 25 columns]"
      ]
     },
     "execution_count": 59,
     "metadata": {},
     "output_type": "execute_result"
    }
   ],
   "source": [
    "df_indexed.head(3)"
   ]
  },
  {
   "cell_type": "code",
   "execution_count": 60,
   "metadata": {},
   "outputs": [
    {
     "data": {
      "text/html": [
       "<div>\n",
       "<style scoped>\n",
       "    .dataframe tbody tr th:only-of-type {\n",
       "        vertical-align: middle;\n",
       "    }\n",
       "\n",
       "    .dataframe tbody tr th {\n",
       "        vertical-align: top;\n",
       "    }\n",
       "\n",
       "    .dataframe thead th {\n",
       "        text-align: right;\n",
       "    }\n",
       "</style>\n",
       "<table border=\"1\" class=\"dataframe\">\n",
       "  <thead>\n",
       "    <tr style=\"text-align: right;\">\n",
       "      <th></th>\n",
       "      <th>name</th>\n",
       "      <th>reviews.username</th>\n",
       "    </tr>\n",
       "    <tr>\n",
       "      <th>id</th>\n",
       "      <th></th>\n",
       "      <th></th>\n",
       "    </tr>\n",
       "  </thead>\n",
       "  <tbody>\n",
       "    <tr>\n",
       "      <th>AVwc252WIN2L1WUfpqLP</th>\n",
       "      <td>Rancho Valencia Resort Spa</td>\n",
       "      <td>Paula</td>\n",
       "    </tr>\n",
       "    <tr>\n",
       "      <th>AVwc252WIN2L1WUfpqLP</th>\n",
       "      <td>Rancho Valencia Resort Spa</td>\n",
       "      <td>D</td>\n",
       "    </tr>\n",
       "    <tr>\n",
       "      <th>AVwc252WIN2L1WUfpqLP</th>\n",
       "      <td>Rancho Valencia Resort Spa</td>\n",
       "      <td>Ron</td>\n",
       "    </tr>\n",
       "  </tbody>\n",
       "</table>\n",
       "</div>"
      ],
      "text/plain": [
       "                                            name reviews.username\n",
       "id                                                               \n",
       "AVwc252WIN2L1WUfpqLP  Rancho Valencia Resort Spa            Paula\n",
       "AVwc252WIN2L1WUfpqLP  Rancho Valencia Resort Spa                D\n",
       "AVwc252WIN2L1WUfpqLP  Rancho Valencia Resort Spa              Ron"
      ]
     },
     "execution_count": 60,
     "metadata": {},
     "output_type": "execute_result"
    }
   ],
   "source": [
    "df_indexed.loc['AVwc252WIN2L1WUfpqLP', ['name', 'reviews.username']]"
   ]
  },
  {
   "cell_type": "markdown",
   "metadata": {},
   "source": [
    "Da mesma forma que podemos tornar uma coluna no índice, podemos também tornar o índice numa coluna, e criar um índice novo que seja simplesmente dado pelo número da linha. Desta forma fazemos \"reset\" ao indíce (**reset_index**) e voltamos ao estado inicial. Vejamos:"
   ]
  },
  {
   "cell_type": "code",
   "execution_count": 61,
   "metadata": {},
   "outputs": [
    {
     "data": {
      "text/html": [
       "<div>\n",
       "<style scoped>\n",
       "    .dataframe tbody tr th:only-of-type {\n",
       "        vertical-align: middle;\n",
       "    }\n",
       "\n",
       "    .dataframe tbody tr th {\n",
       "        vertical-align: top;\n",
       "    }\n",
       "\n",
       "    .dataframe thead th {\n",
       "        text-align: right;\n",
       "    }\n",
       "</style>\n",
       "<table border=\"1\" class=\"dataframe\">\n",
       "  <thead>\n",
       "    <tr style=\"text-align: right;\">\n",
       "      <th></th>\n",
       "      <th>id</th>\n",
       "      <th>dateAdded</th>\n",
       "      <th>dateUpdated</th>\n",
       "      <th>morada</th>\n",
       "      <th>categorias</th>\n",
       "      <th>primaryCategories</th>\n",
       "      <th>city</th>\n",
       "      <th>country</th>\n",
       "      <th>keys</th>\n",
       "      <th>latitude</th>\n",
       "      <th>...</th>\n",
       "      <th>reviews.text</th>\n",
       "      <th>reviews.title</th>\n",
       "      <th>reviews.userCity</th>\n",
       "      <th>reviews.userProvince</th>\n",
       "      <th>reviews.username</th>\n",
       "      <th>sourceURLs</th>\n",
       "      <th>websites</th>\n",
       "      <th>country_city</th>\n",
       "      <th>rating_0_to_50</th>\n",
       "      <th>is_romantic</th>\n",
       "    </tr>\n",
       "  </thead>\n",
       "  <tbody>\n",
       "    <tr>\n",
       "      <th>0</th>\n",
       "      <td>AVwc252WIN2L1WUfpqLP</td>\n",
       "      <td>2016-10-30T21:42:42Z</td>\n",
       "      <td>2018-09-10T21:06:27Z</td>\n",
       "      <td>5921 Val C.</td>\n",
       "      <td>Hotels,Hotels and motels,Hotel and motel reser...</td>\n",
       "      <td>Accommodation &amp; Food Services</td>\n",
       "      <td>Rancho Santa Fe</td>\n",
       "      <td>EUA</td>\n",
       "      <td>us/ca/ranchosantafe/5921valenciacir/359754519</td>\n",
       "      <td>32.990959</td>\n",
       "      <td>...</td>\n",
       "      <td>Our experience at Rancho Valencia was absolute...</td>\n",
       "      <td>Best romantic vacation ever!!!!</td>\n",
       "      <td>desconhecido</td>\n",
       "      <td>NaN</td>\n",
       "      <td>Paula</td>\n",
       "      <td>http://www.hotels.com/ho125419/%25252525253Flo...</td>\n",
       "      <td>http://www.ranchovalencia.com</td>\n",
       "      <td>US, Rancho Santa Fe</td>\n",
       "      <td>50.0</td>\n",
       "      <td>False</td>\n",
       "    </tr>\n",
       "    <tr>\n",
       "      <th>1</th>\n",
       "      <td>AVwc252WIN2L1WUfpqLP</td>\n",
       "      <td>2016-10-30T21:42:42Z</td>\n",
       "      <td>2018-09-10T21:06:27Z</td>\n",
       "      <td>5921 Val C.</td>\n",
       "      <td>Hotels,Hotels and motels,Hotel and motel reser...</td>\n",
       "      <td>Accommodation &amp; Food Services</td>\n",
       "      <td>Rancho Santa Fe</td>\n",
       "      <td>EUA</td>\n",
       "      <td>us/ca/ranchosantafe/5921valenciacir/359754519</td>\n",
       "      <td>32.990959</td>\n",
       "      <td>...</td>\n",
       "      <td>Amazing place. Everyone was extremely warm and...</td>\n",
       "      <td>Sweet sweet serenity</td>\n",
       "      <td>desconhecido</td>\n",
       "      <td>NaN</td>\n",
       "      <td>D</td>\n",
       "      <td>http://www.hotels.com/ho125419/%25252525253Flo...</td>\n",
       "      <td>http://www.ranchovalencia.com</td>\n",
       "      <td>US, Rancho Santa Fe</td>\n",
       "      <td>50.0</td>\n",
       "      <td>True</td>\n",
       "    </tr>\n",
       "    <tr>\n",
       "      <th>2</th>\n",
       "      <td>AVwc252WIN2L1WUfpqLP</td>\n",
       "      <td>2016-10-30T21:42:42Z</td>\n",
       "      <td>2018-09-10T21:06:27Z</td>\n",
       "      <td>5921 Val C.</td>\n",
       "      <td>Hotels,Hotels and motels,Hotel and motel reser...</td>\n",
       "      <td>Accommodation &amp; Food Services</td>\n",
       "      <td>Rancho Santa Fe</td>\n",
       "      <td>EUA</td>\n",
       "      <td>us/ca/ranchosantafe/5921valenciacir/359754519</td>\n",
       "      <td>32.990959</td>\n",
       "      <td>...</td>\n",
       "      <td>We booked a 3 night stay at Rancho Valencia to...</td>\n",
       "      <td>Amazing Property and Experience</td>\n",
       "      <td>desconhecido</td>\n",
       "      <td>NaN</td>\n",
       "      <td>Ron</td>\n",
       "      <td>http://www.hotels.com/ho125419/%25252525253Flo...</td>\n",
       "      <td>http://www.ranchovalencia.com</td>\n",
       "      <td>US, Rancho Santa Fe</td>\n",
       "      <td>50.0</td>\n",
       "      <td>False</td>\n",
       "    </tr>\n",
       "  </tbody>\n",
       "</table>\n",
       "<p>3 rows × 26 columns</p>\n",
       "</div>"
      ],
      "text/plain": [
       "                     id             dateAdded           dateUpdated  \\\n",
       "0  AVwc252WIN2L1WUfpqLP  2016-10-30T21:42:42Z  2018-09-10T21:06:27Z   \n",
       "1  AVwc252WIN2L1WUfpqLP  2016-10-30T21:42:42Z  2018-09-10T21:06:27Z   \n",
       "2  AVwc252WIN2L1WUfpqLP  2016-10-30T21:42:42Z  2018-09-10T21:06:27Z   \n",
       "\n",
       "        morada                                         categorias  \\\n",
       "0  5921 Val C.  Hotels,Hotels and motels,Hotel and motel reser...   \n",
       "1  5921 Val C.  Hotels,Hotels and motels,Hotel and motel reser...   \n",
       "2  5921 Val C.  Hotels,Hotels and motels,Hotel and motel reser...   \n",
       "\n",
       "               primaryCategories             city country  \\\n",
       "0  Accommodation & Food Services  Rancho Santa Fe     EUA   \n",
       "1  Accommodation & Food Services  Rancho Santa Fe     EUA   \n",
       "2  Accommodation & Food Services  Rancho Santa Fe     EUA   \n",
       "\n",
       "                                            keys   latitude  ...  \\\n",
       "0  us/ca/ranchosantafe/5921valenciacir/359754519  32.990959  ...   \n",
       "1  us/ca/ranchosantafe/5921valenciacir/359754519  32.990959  ...   \n",
       "2  us/ca/ranchosantafe/5921valenciacir/359754519  32.990959  ...   \n",
       "\n",
       "                                        reviews.text  \\\n",
       "0  Our experience at Rancho Valencia was absolute...   \n",
       "1  Amazing place. Everyone was extremely warm and...   \n",
       "2  We booked a 3 night stay at Rancho Valencia to...   \n",
       "\n",
       "                     reviews.title reviews.userCity reviews.userProvince  \\\n",
       "0  Best romantic vacation ever!!!!     desconhecido                  NaN   \n",
       "1             Sweet sweet serenity     desconhecido                  NaN   \n",
       "2  Amazing Property and Experience     desconhecido                  NaN   \n",
       "\n",
       "   reviews.username                                         sourceURLs  \\\n",
       "0             Paula  http://www.hotels.com/ho125419/%25252525253Flo...   \n",
       "1                 D  http://www.hotels.com/ho125419/%25252525253Flo...   \n",
       "2               Ron  http://www.hotels.com/ho125419/%25252525253Flo...   \n",
       "\n",
       "                        websites         country_city rating_0_to_50  \\\n",
       "0  http://www.ranchovalencia.com  US, Rancho Santa Fe           50.0   \n",
       "1  http://www.ranchovalencia.com  US, Rancho Santa Fe           50.0   \n",
       "2  http://www.ranchovalencia.com  US, Rancho Santa Fe           50.0   \n",
       "\n",
       "  is_romantic  \n",
       "0       False  \n",
       "1        True  \n",
       "2       False  \n",
       "\n",
       "[3 rows x 26 columns]"
      ]
     },
     "execution_count": 61,
     "metadata": {},
     "output_type": "execute_result"
    }
   ],
   "source": [
    "df_indexed.reset_index().head(3)"
   ]
  },
  {
   "cell_type": "markdown",
   "metadata": {},
   "source": [
    "Podemos também ordenar uma DataFrame pelo índice, usando o método **sort_values**. Neste caso, como o índice é um string, o sorting será por ordem alfabética:"
   ]
  },
  {
   "cell_type": "code",
   "execution_count": 62,
   "metadata": {},
   "outputs": [
    {
     "data": {
      "text/html": [
       "<div>\n",
       "<style scoped>\n",
       "    .dataframe tbody tr th:only-of-type {\n",
       "        vertical-align: middle;\n",
       "    }\n",
       "\n",
       "    .dataframe tbody tr th {\n",
       "        vertical-align: top;\n",
       "    }\n",
       "\n",
       "    .dataframe thead th {\n",
       "        text-align: right;\n",
       "    }\n",
       "</style>\n",
       "<table border=\"1\" class=\"dataframe\">\n",
       "  <thead>\n",
       "    <tr style=\"text-align: right;\">\n",
       "      <th></th>\n",
       "      <th>dateAdded</th>\n",
       "      <th>dateUpdated</th>\n",
       "      <th>morada</th>\n",
       "      <th>categorias</th>\n",
       "      <th>primaryCategories</th>\n",
       "      <th>city</th>\n",
       "      <th>country</th>\n",
       "      <th>keys</th>\n",
       "      <th>latitude</th>\n",
       "      <th>longitude</th>\n",
       "      <th>...</th>\n",
       "      <th>reviews.text</th>\n",
       "      <th>reviews.title</th>\n",
       "      <th>reviews.userCity</th>\n",
       "      <th>reviews.userProvince</th>\n",
       "      <th>reviews.username</th>\n",
       "      <th>sourceURLs</th>\n",
       "      <th>websites</th>\n",
       "      <th>country_city</th>\n",
       "      <th>rating_0_to_50</th>\n",
       "      <th>is_romantic</th>\n",
       "    </tr>\n",
       "    <tr>\n",
       "      <th>id</th>\n",
       "      <th></th>\n",
       "      <th></th>\n",
       "      <th></th>\n",
       "      <th></th>\n",
       "      <th></th>\n",
       "      <th></th>\n",
       "      <th></th>\n",
       "      <th></th>\n",
       "      <th></th>\n",
       "      <th></th>\n",
       "      <th></th>\n",
       "      <th></th>\n",
       "      <th></th>\n",
       "      <th></th>\n",
       "      <th></th>\n",
       "      <th></th>\n",
       "      <th></th>\n",
       "      <th></th>\n",
       "      <th></th>\n",
       "      <th></th>\n",
       "      <th></th>\n",
       "    </tr>\n",
       "  </thead>\n",
       "  <tbody>\n",
       "    <tr>\n",
       "      <th>AV-TGsFqRxPSIh2RmVF-</th>\n",
       "      <td>2017-11-06T20:51:12Z</td>\n",
       "      <td>2018-09-04T21:27:52Z</td>\n",
       "      <td>107 Merrimac Street</td>\n",
       "      <td>Hotels,Hotel</td>\n",
       "      <td>Accommodation &amp; Food Services</td>\n",
       "      <td>Boston</td>\n",
       "      <td>EUA</td>\n",
       "      <td>us/ma/boston/107merrimacstreet/93930424</td>\n",
       "      <td>42.363911</td>\n",
       "      <td>-71.0624</td>\n",
       "      <td>...</td>\n",
       "      <td>Bad: Room was small. Good: Free apples and fru...</td>\n",
       "      <td>Free apples and fruit Infused Water in the lobby.</td>\n",
       "      <td>desconhecido</td>\n",
       "      <td>NaN</td>\n",
       "      <td>I-pi</td>\n",
       "      <td>https://www.telegraph.co.uk/travel/destination...</td>\n",
       "      <td>http://theboxerboston.com/</td>\n",
       "      <td>US, Boston</td>\n",
       "      <td>39.5</td>\n",
       "      <td>False</td>\n",
       "    </tr>\n",
       "    <tr>\n",
       "      <th>AV-TGsFqRxPSIh2RmVF-</th>\n",
       "      <td>2017-11-06T20:51:12Z</td>\n",
       "      <td>2018-09-04T21:27:52Z</td>\n",
       "      <td>107 Merrimac Street</td>\n",
       "      <td>Hotels,Hotel</td>\n",
       "      <td>Accommodation &amp; Food Services</td>\n",
       "      <td>Boston</td>\n",
       "      <td>EUA</td>\n",
       "      <td>us/ma/boston/107merrimacstreet/93930424</td>\n",
       "      <td>42.363911</td>\n",
       "      <td>-71.0624</td>\n",
       "      <td>...</td>\n",
       "      <td>Bad: The pull out couch was extremely uncomfor...</td>\n",
       "      <td>Room was great.</td>\n",
       "      <td>desconhecido</td>\n",
       "      <td>NaN</td>\n",
       "      <td>Btenda</td>\n",
       "      <td>https://www.telegraph.co.uk/travel/destination...</td>\n",
       "      <td>http://theboxerboston.com/</td>\n",
       "      <td>US, Boston</td>\n",
       "      <td>48.0</td>\n",
       "      <td>False</td>\n",
       "    </tr>\n",
       "    <tr>\n",
       "      <th>AV-TGsFqRxPSIh2RmVF-</th>\n",
       "      <td>2017-11-06T20:51:12Z</td>\n",
       "      <td>2018-09-04T21:27:52Z</td>\n",
       "      <td>107 Merrimac Street</td>\n",
       "      <td>Hotels,Hotel</td>\n",
       "      <td>Accommodation &amp; Food Services</td>\n",
       "      <td>Boston</td>\n",
       "      <td>EUA</td>\n",
       "      <td>us/ma/boston/107merrimacstreet/93930424</td>\n",
       "      <td>42.363911</td>\n",
       "      <td>-71.0624</td>\n",
       "      <td>...</td>\n",
       "      <td>Room too small and ice machine broke nice too ...</td>\n",
       "      <td>Free water and apples</td>\n",
       "      <td>desconhecido</td>\n",
       "      <td>NaN</td>\n",
       "      <td>Martha</td>\n",
       "      <td>https://www.telegraph.co.uk/travel/destination...</td>\n",
       "      <td>http://theboxerboston.com/</td>\n",
       "      <td>US, Boston</td>\n",
       "      <td>35.5</td>\n",
       "      <td>False</td>\n",
       "    </tr>\n",
       "  </tbody>\n",
       "</table>\n",
       "<p>3 rows × 25 columns</p>\n",
       "</div>"
      ],
      "text/plain": [
       "                                 dateAdded           dateUpdated  \\\n",
       "id                                                                 \n",
       "AV-TGsFqRxPSIh2RmVF-  2017-11-06T20:51:12Z  2018-09-04T21:27:52Z   \n",
       "AV-TGsFqRxPSIh2RmVF-  2017-11-06T20:51:12Z  2018-09-04T21:27:52Z   \n",
       "AV-TGsFqRxPSIh2RmVF-  2017-11-06T20:51:12Z  2018-09-04T21:27:52Z   \n",
       "\n",
       "                                   morada    categorias  \\\n",
       "id                                                        \n",
       "AV-TGsFqRxPSIh2RmVF-  107 Merrimac Street  Hotels,Hotel   \n",
       "AV-TGsFqRxPSIh2RmVF-  107 Merrimac Street  Hotels,Hotel   \n",
       "AV-TGsFqRxPSIh2RmVF-  107 Merrimac Street  Hotels,Hotel   \n",
       "\n",
       "                                  primaryCategories    city country  \\\n",
       "id                                                                    \n",
       "AV-TGsFqRxPSIh2RmVF-  Accommodation & Food Services  Boston     EUA   \n",
       "AV-TGsFqRxPSIh2RmVF-  Accommodation & Food Services  Boston     EUA   \n",
       "AV-TGsFqRxPSIh2RmVF-  Accommodation & Food Services  Boston     EUA   \n",
       "\n",
       "                                                         keys   latitude  \\\n",
       "id                                                                         \n",
       "AV-TGsFqRxPSIh2RmVF-  us/ma/boston/107merrimacstreet/93930424  42.363911   \n",
       "AV-TGsFqRxPSIh2RmVF-  us/ma/boston/107merrimacstreet/93930424  42.363911   \n",
       "AV-TGsFqRxPSIh2RmVF-  us/ma/boston/107merrimacstreet/93930424  42.363911   \n",
       "\n",
       "                      longitude  ...  \\\n",
       "id                               ...   \n",
       "AV-TGsFqRxPSIh2RmVF-   -71.0624  ...   \n",
       "AV-TGsFqRxPSIh2RmVF-   -71.0624  ...   \n",
       "AV-TGsFqRxPSIh2RmVF-   -71.0624  ...   \n",
       "\n",
       "                                                           reviews.text  \\\n",
       "id                                                                        \n",
       "AV-TGsFqRxPSIh2RmVF-  Bad: Room was small. Good: Free apples and fru...   \n",
       "AV-TGsFqRxPSIh2RmVF-  Bad: The pull out couch was extremely uncomfor...   \n",
       "AV-TGsFqRxPSIh2RmVF-  Room too small and ice machine broke nice too ...   \n",
       "\n",
       "                                                          reviews.title  \\\n",
       "id                                                                        \n",
       "AV-TGsFqRxPSIh2RmVF-  Free apples and fruit Infused Water in the lobby.   \n",
       "AV-TGsFqRxPSIh2RmVF-                                    Room was great.   \n",
       "AV-TGsFqRxPSIh2RmVF-                              Free water and apples   \n",
       "\n",
       "                     reviews.userCity  reviews.userProvince reviews.username  \\\n",
       "id                                                                             \n",
       "AV-TGsFqRxPSIh2RmVF-     desconhecido                   NaN             I-pi   \n",
       "AV-TGsFqRxPSIh2RmVF-     desconhecido                   NaN           Btenda   \n",
       "AV-TGsFqRxPSIh2RmVF-     desconhecido                   NaN           Martha   \n",
       "\n",
       "                                                             sourceURLs  \\\n",
       "id                                                                        \n",
       "AV-TGsFqRxPSIh2RmVF-  https://www.telegraph.co.uk/travel/destination...   \n",
       "AV-TGsFqRxPSIh2RmVF-  https://www.telegraph.co.uk/travel/destination...   \n",
       "AV-TGsFqRxPSIh2RmVF-  https://www.telegraph.co.uk/travel/destination...   \n",
       "\n",
       "                                        websites country_city rating_0_to_50  \\\n",
       "id                                                                             \n",
       "AV-TGsFqRxPSIh2RmVF-  http://theboxerboston.com/   US, Boston           39.5   \n",
       "AV-TGsFqRxPSIh2RmVF-  http://theboxerboston.com/   US, Boston           48.0   \n",
       "AV-TGsFqRxPSIh2RmVF-  http://theboxerboston.com/   US, Boston           35.5   \n",
       "\n",
       "                     is_romantic  \n",
       "id                                \n",
       "AV-TGsFqRxPSIh2RmVF-       False  \n",
       "AV-TGsFqRxPSIh2RmVF-       False  \n",
       "AV-TGsFqRxPSIh2RmVF-       False  \n",
       "\n",
       "[3 rows x 25 columns]"
      ]
     },
     "execution_count": 62,
     "metadata": {},
     "output_type": "execute_result"
    }
   ],
   "source": [
    "df_sorted = df_indexed.sort_index()\n",
    "\n",
    "df_sorted.head(3)"
   ]
  },
  {
   "cell_type": "markdown",
   "metadata": {},
   "source": [
    "Uma das utilidades de definir o índice é que facilita operações de join entre duas DataFrames, como iremos ver."
   ]
  },
  {
   "cell_type": "markdown",
   "metadata": {},
   "source": [
    "## Combinar DataFrames\n",
    "\n",
    "Podemos também querer combinar duas ou mais DataFrames, combinando a informação que estas contém. No nosso caso, queremos integrar a informação do código postal contida num ficheiro separado, na noss DataFrame das reviews. Podemos fazer isto através de um join."
   ]
  },
  {
   "cell_type": "markdown",
   "metadata": {},
   "source": [
    "### Joins\n",
    "\n",
    "O Pandas suporta operações de join entre duas DataFrames. Esta operação permite \"alinhar\" duas DataFrames ao longo do seu índice, e transferir algumas colunas de uma DataFrame para a outra. Podemos ver os vários tipos de joins na seguinte ilustração:\n",
    "\n",
    "<img src=\"images/joins.png\" alt=\"Python\" style=\"width: 600px;\"/>\n",
    "\n",
    "No nosso caso, vamos querer fazer um **LEFT JOIN**, em que a tabela das reviews é a tabela da esquerda. Isto é: queremos manter todas as rows de reviews, e com base no seu índice, ir buscar os códigos postais correspondentes a uma outra tabela (ficando NaN em todas as linhas para as quais não for encontrado um código postal).\n",
    "\n",
    "Vejamos como o podemos fazer. Comecemos por carregar o ficheiro dos códigos postais:"
   ]
  },
  {
   "cell_type": "code",
   "execution_count": 63,
   "metadata": {},
   "outputs": [],
   "source": [
    "df_codigos = pd.read_csv('data/hotel-reviews/postal_codes.csv')"
   ]
  },
  {
   "cell_type": "code",
   "execution_count": 64,
   "metadata": {},
   "outputs": [
    {
     "data": {
      "text/html": [
       "<div>\n",
       "<style scoped>\n",
       "    .dataframe tbody tr th:only-of-type {\n",
       "        vertical-align: middle;\n",
       "    }\n",
       "\n",
       "    .dataframe tbody tr th {\n",
       "        vertical-align: top;\n",
       "    }\n",
       "\n",
       "    .dataframe thead th {\n",
       "        text-align: right;\n",
       "    }\n",
       "</style>\n",
       "<table border=\"1\" class=\"dataframe\">\n",
       "  <thead>\n",
       "    <tr style=\"text-align: right;\">\n",
       "      <th></th>\n",
       "      <th>id</th>\n",
       "      <th>postalCode</th>\n",
       "      <th>province</th>\n",
       "    </tr>\n",
       "  </thead>\n",
       "  <tbody>\n",
       "    <tr>\n",
       "      <th>0</th>\n",
       "      <td>AVwc252WIN2L1WUfpqLP</td>\n",
       "      <td>92067</td>\n",
       "      <td>CA</td>\n",
       "    </tr>\n",
       "    <tr>\n",
       "      <th>1</th>\n",
       "      <td>AVwdOclqIN2L1WUfti38</td>\n",
       "      <td>21076</td>\n",
       "      <td>MD</td>\n",
       "    </tr>\n",
       "    <tr>\n",
       "      <th>2</th>\n",
       "      <td>AVwePiAX_7pvs4fzBSAl</td>\n",
       "      <td>98684</td>\n",
       "      <td>WA</td>\n",
       "    </tr>\n",
       "  </tbody>\n",
       "</table>\n",
       "</div>"
      ],
      "text/plain": [
       "                     id postalCode province\n",
       "0  AVwc252WIN2L1WUfpqLP      92067       CA\n",
       "1  AVwdOclqIN2L1WUfti38      21076       MD\n",
       "2  AVwePiAX_7pvs4fzBSAl      98684       WA"
      ]
     },
     "execution_count": 64,
     "metadata": {},
     "output_type": "execute_result"
    }
   ],
   "source": [
    "df_codigos.head(3)"
   ]
  },
  {
   "cell_type": "markdown",
   "metadata": {},
   "source": [
    "Vamos agora definir o índice desta tabela para ser o id, que identifica cada review:"
   ]
  },
  {
   "cell_type": "code",
   "execution_count": 65,
   "metadata": {},
   "outputs": [],
   "source": [
    "df_codigos_indexed = df_codigos.set_index('id')"
   ]
  },
  {
   "cell_type": "markdown",
   "metadata": {},
   "source": [
    "Agora que ambas as tabelas estão indexadas de forma semelhante, podemos fazer o join:"
   ]
  },
  {
   "cell_type": "code",
   "execution_count": 66,
   "metadata": {},
   "outputs": [],
   "source": [
    "df_reviews_com_codigos = df_indexed.join(\n",
    "    df_codigos_indexed,\n",
    "    how='left'\n",
    ")"
   ]
  },
  {
   "cell_type": "code",
   "execution_count": 67,
   "metadata": {},
   "outputs": [
    {
     "data": {
      "text/html": [
       "<div>\n",
       "<style scoped>\n",
       "    .dataframe tbody tr th:only-of-type {\n",
       "        vertical-align: middle;\n",
       "    }\n",
       "\n",
       "    .dataframe tbody tr th {\n",
       "        vertical-align: top;\n",
       "    }\n",
       "\n",
       "    .dataframe thead th {\n",
       "        text-align: right;\n",
       "    }\n",
       "</style>\n",
       "<table border=\"1\" class=\"dataframe\">\n",
       "  <thead>\n",
       "    <tr style=\"text-align: right;\">\n",
       "      <th></th>\n",
       "      <th>name</th>\n",
       "      <th>country</th>\n",
       "      <th>postalCode</th>\n",
       "      <th>province</th>\n",
       "    </tr>\n",
       "    <tr>\n",
       "      <th>id</th>\n",
       "      <th></th>\n",
       "      <th></th>\n",
       "      <th></th>\n",
       "      <th></th>\n",
       "    </tr>\n",
       "  </thead>\n",
       "  <tbody>\n",
       "    <tr>\n",
       "      <th>AV-TGsFqRxPSIh2RmVF-</th>\n",
       "      <td>The Boxer</td>\n",
       "      <td>EUA</td>\n",
       "      <td>2114</td>\n",
       "      <td>MA</td>\n",
       "    </tr>\n",
       "    <tr>\n",
       "      <th>AV-TGsFqRxPSIh2RmVF-</th>\n",
       "      <td>The Boxer</td>\n",
       "      <td>EUA</td>\n",
       "      <td>2114</td>\n",
       "      <td>MA</td>\n",
       "    </tr>\n",
       "    <tr>\n",
       "      <th>AV-TGsFqRxPSIh2RmVF-</th>\n",
       "      <td>The Boxer</td>\n",
       "      <td>EUA</td>\n",
       "      <td>2114</td>\n",
       "      <td>MA</td>\n",
       "    </tr>\n",
       "    <tr>\n",
       "      <th>AV-TGsFqRxPSIh2RmVF-</th>\n",
       "      <td>The Boxer</td>\n",
       "      <td>EUA</td>\n",
       "      <td>2114</td>\n",
       "      <td>MA</td>\n",
       "    </tr>\n",
       "    <tr>\n",
       "      <th>AV-TGsFqRxPSIh2RmVF-</th>\n",
       "      <td>The Boxer</td>\n",
       "      <td>EUA</td>\n",
       "      <td>2114</td>\n",
       "      <td>MA</td>\n",
       "    </tr>\n",
       "    <tr>\n",
       "      <th>...</th>\n",
       "      <td>...</td>\n",
       "      <td>...</td>\n",
       "      <td>...</td>\n",
       "      <td>...</td>\n",
       "    </tr>\n",
       "    <tr>\n",
       "      <th>AWNSHai33-Khe5l_ifzh</th>\n",
       "      <td>Hotel Renew</td>\n",
       "      <td>EUA</td>\n",
       "      <td>96815</td>\n",
       "      <td>HI</td>\n",
       "    </tr>\n",
       "    <tr>\n",
       "      <th>AWNSHai33-Khe5l_ifzh</th>\n",
       "      <td>Hotel Renew</td>\n",
       "      <td>EUA</td>\n",
       "      <td>96815</td>\n",
       "      <td>HI</td>\n",
       "    </tr>\n",
       "    <tr>\n",
       "      <th>AWNSHai33-Khe5l_ifzh</th>\n",
       "      <td>Hotel Renew</td>\n",
       "      <td>EUA</td>\n",
       "      <td>96815</td>\n",
       "      <td>HI</td>\n",
       "    </tr>\n",
       "    <tr>\n",
       "      <th>AWNSHai33-Khe5l_ifzh</th>\n",
       "      <td>Hotel Renew</td>\n",
       "      <td>EUA</td>\n",
       "      <td>96815</td>\n",
       "      <td>HI</td>\n",
       "    </tr>\n",
       "    <tr>\n",
       "      <th>AWUPNmq6IxWefVJw3c71</th>\n",
       "      <td>Moxy Chicago Downtown</td>\n",
       "      <td>EUA</td>\n",
       "      <td>60654</td>\n",
       "      <td>IL</td>\n",
       "    </tr>\n",
       "  </tbody>\n",
       "</table>\n",
       "<p>10000 rows × 4 columns</p>\n",
       "</div>"
      ],
      "text/plain": [
       "                                       name country postalCode province\n",
       "id                                                                     \n",
       "AV-TGsFqRxPSIh2RmVF-              The Boxer     EUA       2114       MA\n",
       "AV-TGsFqRxPSIh2RmVF-              The Boxer     EUA       2114       MA\n",
       "AV-TGsFqRxPSIh2RmVF-              The Boxer     EUA       2114       MA\n",
       "AV-TGsFqRxPSIh2RmVF-              The Boxer     EUA       2114       MA\n",
       "AV-TGsFqRxPSIh2RmVF-              The Boxer     EUA       2114       MA\n",
       "...                                     ...     ...        ...      ...\n",
       "AWNSHai33-Khe5l_ifzh            Hotel Renew     EUA      96815       HI\n",
       "AWNSHai33-Khe5l_ifzh            Hotel Renew     EUA      96815       HI\n",
       "AWNSHai33-Khe5l_ifzh            Hotel Renew     EUA      96815       HI\n",
       "AWNSHai33-Khe5l_ifzh            Hotel Renew     EUA      96815       HI\n",
       "AWUPNmq6IxWefVJw3c71  Moxy Chicago Downtown     EUA      60654       IL\n",
       "\n",
       "[10000 rows x 4 columns]"
      ]
     },
     "execution_count": 67,
     "metadata": {},
     "output_type": "execute_result"
    }
   ],
   "source": [
    "df_reviews_com_codigos[['name', 'country', 'postalCode', 'province']]"
   ]
  },
  {
   "cell_type": "markdown",
   "metadata": {},
   "source": [
    "Os joins são uma operação extremamente útil no processamento de dados, e é bastante importante praticarmos extensivamente o seu uso."
   ]
  },
  {
   "cell_type": "markdown",
   "metadata": {},
   "source": [
    "### Concatenação\n",
    "\n",
    "Para além de uma concatenação ao longo do eixo das colunas (através do uso de joins) podemos também concatenar ao longo do eixo das linhas, efectivamente adicionando mais linhas a uma DataFrame. Vamos ver como funciona com um exemplo:"
   ]
  },
  {
   "cell_type": "code",
   "execution_count": 68,
   "metadata": {},
   "outputs": [
    {
     "data": {
      "text/html": [
       "<div>\n",
       "<style scoped>\n",
       "    .dataframe tbody tr th:only-of-type {\n",
       "        vertical-align: middle;\n",
       "    }\n",
       "\n",
       "    .dataframe tbody tr th {\n",
       "        vertical-align: top;\n",
       "    }\n",
       "\n",
       "    .dataframe thead th {\n",
       "        text-align: right;\n",
       "    }\n",
       "</style>\n",
       "<table border=\"1\" class=\"dataframe\">\n",
       "  <thead>\n",
       "    <tr style=\"text-align: right;\">\n",
       "      <th></th>\n",
       "      <th>x</th>\n",
       "      <th>y</th>\n",
       "    </tr>\n",
       "  </thead>\n",
       "  <tbody>\n",
       "    <tr>\n",
       "      <th>1</th>\n",
       "      <td>1</td>\n",
       "      <td>1</td>\n",
       "    </tr>\n",
       "    <tr>\n",
       "      <th>2</th>\n",
       "      <td>2</td>\n",
       "      <td>2</td>\n",
       "    </tr>\n",
       "    <tr>\n",
       "      <th>3</th>\n",
       "      <td>3</td>\n",
       "      <td>3</td>\n",
       "    </tr>\n",
       "  </tbody>\n",
       "</table>\n",
       "</div>"
      ],
      "text/plain": [
       "   x  y\n",
       "1  1  1\n",
       "2  2  2\n",
       "3  3  3"
      ]
     },
     "execution_count": 68,
     "metadata": {},
     "output_type": "execute_result"
    }
   ],
   "source": [
    "df1 = pd.DataFrame(index=[1, 2, 3], data={'x': [1, 2, 3], 'y': [1, 2, 3]})\n",
    "\n",
    "df1"
   ]
  },
  {
   "cell_type": "code",
   "execution_count": 69,
   "metadata": {},
   "outputs": [
    {
     "data": {
      "text/html": [
       "<div>\n",
       "<style scoped>\n",
       "    .dataframe tbody tr th:only-of-type {\n",
       "        vertical-align: middle;\n",
       "    }\n",
       "\n",
       "    .dataframe tbody tr th {\n",
       "        vertical-align: top;\n",
       "    }\n",
       "\n",
       "    .dataframe thead th {\n",
       "        text-align: right;\n",
       "    }\n",
       "</style>\n",
       "<table border=\"1\" class=\"dataframe\">\n",
       "  <thead>\n",
       "    <tr style=\"text-align: right;\">\n",
       "      <th></th>\n",
       "      <th>z</th>\n",
       "      <th>y</th>\n",
       "    </tr>\n",
       "  </thead>\n",
       "  <tbody>\n",
       "    <tr>\n",
       "      <th>4</th>\n",
       "      <td>1</td>\n",
       "      <td>4</td>\n",
       "    </tr>\n",
       "    <tr>\n",
       "      <th>5</th>\n",
       "      <td>2</td>\n",
       "      <td>5</td>\n",
       "    </tr>\n",
       "    <tr>\n",
       "      <th>6</th>\n",
       "      <td>3</td>\n",
       "      <td>6</td>\n",
       "    </tr>\n",
       "  </tbody>\n",
       "</table>\n",
       "</div>"
      ],
      "text/plain": [
       "   z  y\n",
       "4  1  4\n",
       "5  2  5\n",
       "6  3  6"
      ]
     },
     "execution_count": 69,
     "metadata": {},
     "output_type": "execute_result"
    }
   ],
   "source": [
    "df2 = pd.DataFrame(index=[4, 5, 6], data={'z': [1, 2, 3], 'y': [4, 5, 6]})\n",
    "\n",
    "df2"
   ]
  },
  {
   "cell_type": "code",
   "execution_count": 70,
   "metadata": {},
   "outputs": [
    {
     "data": {
      "text/html": [
       "<div>\n",
       "<style scoped>\n",
       "    .dataframe tbody tr th:only-of-type {\n",
       "        vertical-align: middle;\n",
       "    }\n",
       "\n",
       "    .dataframe tbody tr th {\n",
       "        vertical-align: top;\n",
       "    }\n",
       "\n",
       "    .dataframe thead th {\n",
       "        text-align: right;\n",
       "    }\n",
       "</style>\n",
       "<table border=\"1\" class=\"dataframe\">\n",
       "  <thead>\n",
       "    <tr style=\"text-align: right;\">\n",
       "      <th></th>\n",
       "      <th>x</th>\n",
       "      <th>y</th>\n",
       "      <th>z</th>\n",
       "    </tr>\n",
       "  </thead>\n",
       "  <tbody>\n",
       "    <tr>\n",
       "      <th>1</th>\n",
       "      <td>1.0</td>\n",
       "      <td>1</td>\n",
       "      <td>NaN</td>\n",
       "    </tr>\n",
       "    <tr>\n",
       "      <th>2</th>\n",
       "      <td>2.0</td>\n",
       "      <td>2</td>\n",
       "      <td>NaN</td>\n",
       "    </tr>\n",
       "    <tr>\n",
       "      <th>3</th>\n",
       "      <td>3.0</td>\n",
       "      <td>3</td>\n",
       "      <td>NaN</td>\n",
       "    </tr>\n",
       "    <tr>\n",
       "      <th>4</th>\n",
       "      <td>NaN</td>\n",
       "      <td>4</td>\n",
       "      <td>1.0</td>\n",
       "    </tr>\n",
       "    <tr>\n",
       "      <th>5</th>\n",
       "      <td>NaN</td>\n",
       "      <td>5</td>\n",
       "      <td>2.0</td>\n",
       "    </tr>\n",
       "    <tr>\n",
       "      <th>6</th>\n",
       "      <td>NaN</td>\n",
       "      <td>6</td>\n",
       "      <td>3.0</td>\n",
       "    </tr>\n",
       "  </tbody>\n",
       "</table>\n",
       "</div>"
      ],
      "text/plain": [
       "     x  y    z\n",
       "1  1.0  1  NaN\n",
       "2  2.0  2  NaN\n",
       "3  3.0  3  NaN\n",
       "4  NaN  4  1.0\n",
       "5  NaN  5  2.0\n",
       "6  NaN  6  3.0"
      ]
     },
     "execution_count": 70,
     "metadata": {},
     "output_type": "execute_result"
    }
   ],
   "source": [
    "df3 = pd.concat([df1, df2])\n",
    "\n",
    "df3"
   ]
  },
  {
   "cell_type": "markdown",
   "metadata": {},
   "source": [
    "## GroupBy - agrupar rows e calcular valores\n",
    "\n",
    "A última operação que vamos aprender é o GroupBy. Esta é uma operação que permite agrupar varias linhas pelo valor de uma ou mais colunas, e depois calcular quantidades em cada um desses grupos (por exemplo: o valor médio de uma certa coluna dentro de cada grupo).\n",
    "\n",
    "Vamos então tentar responder à questão que nos foi proposta: quais as regiões em que as ratings dos hotéis são mais altas? Comecemos por fazer uma análise por país."
   ]
  },
  {
   "cell_type": "markdown",
   "metadata": {},
   "source": [
    "Vamos usar o método **groupby** para agrupar a nossa DataFrame por *country*: "
   ]
  },
  {
   "cell_type": "code",
   "execution_count": 71,
   "metadata": {},
   "outputs": [
    {
     "data": {
      "text/plain": [
       "<pandas.core.groupby.generic.DataFrameGroupBy object at 0x7f4104979cf8>"
      ]
     },
     "execution_count": 71,
     "metadata": {},
     "output_type": "execute_result"
    }
   ],
   "source": [
    "df_agrupada = df_reviews_com_codigos.groupby('country')\n",
    "\n",
    "df_agrupada"
   ]
  },
  {
   "cell_type": "markdown",
   "metadata": {},
   "source": [
    "Como podemos ver, a operação **groupby** retorna um objecto do tipo **DataFrameGroupBy**. Se tentarmos aceder a uma coluna deste objecto, iremos obter um outro objecto do tipo **SeriesGroupby**.\n",
    "\n",
    "Ambos estes tipos de objectos contêm a informação dos grupos formatos, que pode ser acedida através do atributo **groups**, um dicionário. Neste dicionário, as chaves são os identificadores de cada grupo (neste caso, o país), e os valores são os indíces das linhas que pertencem a cada grupo.\n",
    "\n",
    "Vejamos:"
   ]
  },
  {
   "cell_type": "code",
   "execution_count": 72,
   "metadata": {},
   "outputs": [
    {
     "data": {
      "text/plain": [
       "{'EUA': Index(['AV-TGsFqRxPSIh2RmVF-', 'AV-TGsFqRxPSIh2RmVF-', 'AV-TGsFqRxPSIh2RmVF-',\n",
       "        'AV-TGsFqRxPSIh2RmVF-', 'AV-TGsFqRxPSIh2RmVF-', 'AV-TGsFqRxPSIh2RmVF-',\n",
       "        'AV-TGsFqRxPSIh2RmVF-', 'AV-TGsFqRxPSIh2RmVF-', 'AV-TGsFqRxPSIh2RmVF-',\n",
       "        'AV-TGsFqRxPSIh2RmVF-',\n",
       "        ...\n",
       "        'AWNSHai33-Khe5l_ifzh', 'AWNSHai33-Khe5l_ifzh', 'AWNSHai33-Khe5l_ifzh',\n",
       "        'AWNSHai33-Khe5l_ifzh', 'AWNSHai33-Khe5l_ifzh', 'AWNSHai33-Khe5l_ifzh',\n",
       "        'AWNSHai33-Khe5l_ifzh', 'AWNSHai33-Khe5l_ifzh', 'AWNSHai33-Khe5l_ifzh',\n",
       "        'AWUPNmq6IxWefVJw3c71'],\n",
       "       dtype='object', name='id', length=10000)}"
      ]
     },
     "execution_count": 72,
     "metadata": {},
     "output_type": "execute_result"
    }
   ],
   "source": [
    "df_agrupada.groups"
   ]
  },
  {
   "cell_type": "code",
   "execution_count": 73,
   "metadata": {},
   "outputs": [
    {
     "data": {
      "text/plain": [
       "dict_keys(['EUA'])"
      ]
     },
     "execution_count": 73,
     "metadata": {},
     "output_type": "execute_result"
    }
   ],
   "source": [
    "df_agrupada.groups.keys()"
   ]
  },
  {
   "cell_type": "markdown",
   "metadata": {},
   "source": [
    "Podemos ver que o único pais nos nossos dados são os EUA, o que torna a anãlisa pouco útil. Vamos antes agrupar os valores por cidade."
   ]
  },
  {
   "cell_type": "code",
   "execution_count": 74,
   "metadata": {},
   "outputs": [
    {
     "name": "stdout",
     "output_type": "stream",
     "text": [
      "Há 1021 cidades.\n"
     ]
    }
   ],
   "source": [
    "df_agrupada_cidade = df_reviews_com_codigos.groupby('city')\n",
    "\n",
    "print(f\"Há {len(df_agrupada_cidade.groups.keys())} cidades.\")"
   ]
  },
  {
   "cell_type": "markdown",
   "metadata": {},
   "source": [
    "Vamos agora obter o valor médio das reviews em cada cidade. Para isto, podemos seleccionar a coluna **reviews.rating** e aplicar o método **mean**, que será calculado grupo a grupo:"
   ]
  },
  {
   "cell_type": "code",
   "execution_count": 75,
   "metadata": {},
   "outputs": [
    {
     "data": {
      "text/plain": [
       "city\n",
       "Abilene       4.000000\n",
       "Abingdon      3.666667\n",
       "Acworth       1.000000\n",
       "Aiken         3.000000\n",
       "Ainsworth     4.000000\n",
       "                ...   \n",
       "York          2.000000\n",
       "Youngstown    5.000000\n",
       "Yountville    5.000000\n",
       "Yuba City     3.000000\n",
       "Yuma          4.200000\n",
       "Name: reviews.rating, Length: 1021, dtype: float64"
      ]
     },
     "execution_count": 75,
     "metadata": {},
     "output_type": "execute_result"
    }
   ],
   "source": [
    "media_por_cidade = df_agrupada_cidade['reviews.rating'].mean()\n",
    "\n",
    "media_por_cidade"
   ]
  },
  {
   "cell_type": "code",
   "execution_count": 76,
   "metadata": {},
   "outputs": [
    {
     "name": "stdout",
     "output_type": "stream",
     "text": [
      "<class 'pandas.core.series.Series'>\n"
     ]
    }
   ],
   "source": [
    "print(type(media_por_cidade))"
   ]
  },
  {
   "cell_type": "markdown",
   "metadata": {},
   "source": [
    "Podemos ver que ao aplicarmos a média, foi-nos devolvida uma Series. Este é o ponto essencial da operação de GroupBy:\n",
    "\n",
    "* **Ao aplicarmos uma operação de agregação sobre um objecto GroupBy, vamos obter uma Series com o resultado dessa operação em cada grupo**\n",
    "\n",
    "Uma operação de agregação define-se como uma operação que utiliza todos os elementos do grupo. "
   ]
  },
  {
   "cell_type": "markdown",
   "metadata": {},
   "source": [
    "Podemos também aplicar várias operações de agregação em colunas diferentes, com o método **agg**. Algumas das funções mais comuns podem ser identificadas com o seu nome em formato string (como por exemplo 'min' que calcula o valor mínimo num grupo, 'max' que calcula o maximo, 'mean')...\n",
    "\n",
    "Vejamos como podíamos obter simultaneamente o valor médio das reviews, número de reviews em cada grupo, e o número de utilizadores distintos em cada grupo:"
   ]
  },
  {
   "cell_type": "code",
   "execution_count": 77,
   "metadata": {},
   "outputs": [
    {
     "data": {
      "text/html": [
       "<div>\n",
       "<style scoped>\n",
       "    .dataframe tbody tr th:only-of-type {\n",
       "        vertical-align: middle;\n",
       "    }\n",
       "\n",
       "    .dataframe tbody tr th {\n",
       "        vertical-align: top;\n",
       "    }\n",
       "\n",
       "    .dataframe thead tr th {\n",
       "        text-align: left;\n",
       "    }\n",
       "\n",
       "    .dataframe thead tr:last-of-type th {\n",
       "        text-align: right;\n",
       "    }\n",
       "</style>\n",
       "<table border=\"1\" class=\"dataframe\">\n",
       "  <thead>\n",
       "    <tr>\n",
       "      <th></th>\n",
       "      <th colspan=\"2\" halign=\"left\">reviews.rating</th>\n",
       "      <th>reviews.username</th>\n",
       "    </tr>\n",
       "    <tr>\n",
       "      <th></th>\n",
       "      <th>mean</th>\n",
       "      <th>count</th>\n",
       "      <th>nunique</th>\n",
       "    </tr>\n",
       "    <tr>\n",
       "      <th>city</th>\n",
       "      <th></th>\n",
       "      <th></th>\n",
       "      <th></th>\n",
       "    </tr>\n",
       "  </thead>\n",
       "  <tbody>\n",
       "    <tr>\n",
       "      <th>Abilene</th>\n",
       "      <td>4.000000</td>\n",
       "      <td>5</td>\n",
       "      <td>5</td>\n",
       "    </tr>\n",
       "    <tr>\n",
       "      <th>Abingdon</th>\n",
       "      <td>3.666667</td>\n",
       "      <td>3</td>\n",
       "      <td>3</td>\n",
       "    </tr>\n",
       "    <tr>\n",
       "      <th>Acworth</th>\n",
       "      <td>1.000000</td>\n",
       "      <td>1</td>\n",
       "      <td>1</td>\n",
       "    </tr>\n",
       "    <tr>\n",
       "      <th>Aiken</th>\n",
       "      <td>3.000000</td>\n",
       "      <td>6</td>\n",
       "      <td>6</td>\n",
       "    </tr>\n",
       "    <tr>\n",
       "      <th>Ainsworth</th>\n",
       "      <td>4.000000</td>\n",
       "      <td>1</td>\n",
       "      <td>1</td>\n",
       "    </tr>\n",
       "    <tr>\n",
       "      <th>...</th>\n",
       "      <td>...</td>\n",
       "      <td>...</td>\n",
       "      <td>...</td>\n",
       "    </tr>\n",
       "    <tr>\n",
       "      <th>York</th>\n",
       "      <td>2.000000</td>\n",
       "      <td>1</td>\n",
       "      <td>1</td>\n",
       "    </tr>\n",
       "    <tr>\n",
       "      <th>Youngstown</th>\n",
       "      <td>5.000000</td>\n",
       "      <td>7</td>\n",
       "      <td>7</td>\n",
       "    </tr>\n",
       "    <tr>\n",
       "      <th>Yountville</th>\n",
       "      <td>5.000000</td>\n",
       "      <td>6</td>\n",
       "      <td>6</td>\n",
       "    </tr>\n",
       "    <tr>\n",
       "      <th>Yuba City</th>\n",
       "      <td>3.000000</td>\n",
       "      <td>1</td>\n",
       "      <td>1</td>\n",
       "    </tr>\n",
       "    <tr>\n",
       "      <th>Yuma</th>\n",
       "      <td>4.200000</td>\n",
       "      <td>5</td>\n",
       "      <td>5</td>\n",
       "    </tr>\n",
       "  </tbody>\n",
       "</table>\n",
       "<p>1021 rows × 3 columns</p>\n",
       "</div>"
      ],
      "text/plain": [
       "           reviews.rating       reviews.username\n",
       "                     mean count          nunique\n",
       "city                                            \n",
       "Abilene          4.000000     5                5\n",
       "Abingdon         3.666667     3                3\n",
       "Acworth          1.000000     1                1\n",
       "Aiken            3.000000     6                6\n",
       "Ainsworth        4.000000     1                1\n",
       "...                   ...   ...              ...\n",
       "York             2.000000     1                1\n",
       "Youngstown       5.000000     7                7\n",
       "Yountville       5.000000     6                6\n",
       "Yuba City        3.000000     1                1\n",
       "Yuma             4.200000     5                5\n",
       "\n",
       "[1021 rows x 3 columns]"
      ]
     },
     "execution_count": 77,
     "metadata": {},
     "output_type": "execute_result"
    }
   ],
   "source": [
    "df_final = df_reviews_com_codigos.groupby(\n",
    "    'city'\n",
    ").agg({\n",
    "    'reviews.rating': ['mean', 'count'],\n",
    "    'reviews.username': ['nunique']\n",
    "})\n",
    "\n",
    "df_final"
   ]
  },
  {
   "cell_type": "markdown",
   "metadata": {},
   "source": [
    "Esta operação de agregação retornou uma DataFrame com multiplos níveis nas colunas (**MultiIndex**). Este é um tema mais avançado e fora do scope deste notebook; por agora, basta sabermos que para aceder a estas colunas, usamos um **tuple** com o nome dos vários níveis:"
   ]
  },
  {
   "cell_type": "code",
   "execution_count": 78,
   "metadata": {},
   "outputs": [
    {
     "data": {
      "text/plain": [
       "city\n",
       "Abilene       4.000000\n",
       "Abingdon      3.666667\n",
       "Acworth       1.000000\n",
       "Aiken         3.000000\n",
       "Ainsworth     4.000000\n",
       "                ...   \n",
       "York          2.000000\n",
       "Youngstown    5.000000\n",
       "Yountville    5.000000\n",
       "Yuba City     3.000000\n",
       "Yuma          4.200000\n",
       "Name: (reviews.rating, mean), Length: 1021, dtype: float64"
      ]
     },
     "execution_count": 78,
     "metadata": {},
     "output_type": "execute_result"
    }
   ],
   "source": [
    "df_final[('reviews.rating', 'mean')]"
   ]
  },
  {
   "cell_type": "markdown",
   "metadata": {},
   "source": [
    "esta agregação permite-nos fazer uma análise mais detalhada. Imaginemos que não tinhamos calculado o número de utilizadores em cada grupo. Então, podiam haver certas cidades em que o valor médio das reviews era 5 estrelas (perfeito), mas em que tinha havido apenas uma ou duas reviews.\n",
    "\n",
    "Podemos agora apresentar a nossa recomendação final quanto aos melhores destinos para a empresa direccionar as suas campanhas publicitárias."
   ]
  },
  {
   "cell_type": "markdown",
   "metadata": {},
   "source": [
    "Comecemos por filtrar cidades com menos de 100 reviews:"
   ]
  },
  {
   "cell_type": "code",
   "execution_count": 79,
   "metadata": {},
   "outputs": [
    {
     "data": {
      "text/html": [
       "<div>\n",
       "<style scoped>\n",
       "    .dataframe tbody tr th:only-of-type {\n",
       "        vertical-align: middle;\n",
       "    }\n",
       "\n",
       "    .dataframe tbody tr th {\n",
       "        vertical-align: top;\n",
       "    }\n",
       "\n",
       "    .dataframe thead tr th {\n",
       "        text-align: left;\n",
       "    }\n",
       "\n",
       "    .dataframe thead tr:last-of-type th {\n",
       "        text-align: right;\n",
       "    }\n",
       "</style>\n",
       "<table border=\"1\" class=\"dataframe\">\n",
       "  <thead>\n",
       "    <tr>\n",
       "      <th></th>\n",
       "      <th colspan=\"2\" halign=\"left\">reviews.rating</th>\n",
       "      <th>reviews.username</th>\n",
       "    </tr>\n",
       "    <tr>\n",
       "      <th></th>\n",
       "      <th>mean</th>\n",
       "      <th>count</th>\n",
       "      <th>nunique</th>\n",
       "    </tr>\n",
       "    <tr>\n",
       "      <th>city</th>\n",
       "      <th></th>\n",
       "      <th></th>\n",
       "      <th></th>\n",
       "    </tr>\n",
       "  </thead>\n",
       "  <tbody>\n",
       "    <tr>\n",
       "      <th>Arlington</th>\n",
       "      <td>4.336406</td>\n",
       "      <td>217</td>\n",
       "      <td>71</td>\n",
       "    </tr>\n",
       "    <tr>\n",
       "      <th>Atlanta</th>\n",
       "      <td>4.077922</td>\n",
       "      <td>154</td>\n",
       "      <td>150</td>\n",
       "    </tr>\n",
       "    <tr>\n",
       "      <th>Baltimore</th>\n",
       "      <td>4.182609</td>\n",
       "      <td>184</td>\n",
       "      <td>86</td>\n",
       "    </tr>\n",
       "    <tr>\n",
       "      <th>Boston</th>\n",
       "      <td>4.277711</td>\n",
       "      <td>249</td>\n",
       "      <td>192</td>\n",
       "    </tr>\n",
       "    <tr>\n",
       "      <th>Charleston</th>\n",
       "      <td>4.416107</td>\n",
       "      <td>149</td>\n",
       "      <td>93</td>\n",
       "    </tr>\n",
       "    <tr>\n",
       "      <th>Chicago</th>\n",
       "      <td>4.332022</td>\n",
       "      <td>356</td>\n",
       "      <td>271</td>\n",
       "    </tr>\n",
       "    <tr>\n",
       "      <th>Hanover</th>\n",
       "      <td>3.576923</td>\n",
       "      <td>130</td>\n",
       "      <td>51</td>\n",
       "    </tr>\n",
       "    <tr>\n",
       "      <th>Hyattsville</th>\n",
       "      <td>3.702970</td>\n",
       "      <td>202</td>\n",
       "      <td>90</td>\n",
       "    </tr>\n",
       "    <tr>\n",
       "      <th>Kissimmee</th>\n",
       "      <td>4.039109</td>\n",
       "      <td>101</td>\n",
       "      <td>90</td>\n",
       "    </tr>\n",
       "    <tr>\n",
       "      <th>Lahaina</th>\n",
       "      <td>4.396552</td>\n",
       "      <td>116</td>\n",
       "      <td>116</td>\n",
       "    </tr>\n",
       "    <tr>\n",
       "      <th>Las Vegas</th>\n",
       "      <td>4.161858</td>\n",
       "      <td>506</td>\n",
       "      <td>429</td>\n",
       "    </tr>\n",
       "    <tr>\n",
       "      <th>Linthicum Heights</th>\n",
       "      <td>4.257426</td>\n",
       "      <td>101</td>\n",
       "      <td>24</td>\n",
       "    </tr>\n",
       "    <tr>\n",
       "      <th>Miami Beach</th>\n",
       "      <td>4.139086</td>\n",
       "      <td>197</td>\n",
       "      <td>158</td>\n",
       "    </tr>\n",
       "    <tr>\n",
       "      <th>Napa</th>\n",
       "      <td>4.263636</td>\n",
       "      <td>110</td>\n",
       "      <td>109</td>\n",
       "    </tr>\n",
       "    <tr>\n",
       "      <th>New Orleans</th>\n",
       "      <td>4.256831</td>\n",
       "      <td>183</td>\n",
       "      <td>179</td>\n",
       "    </tr>\n",
       "    <tr>\n",
       "      <th>San Francisco</th>\n",
       "      <td>4.334167</td>\n",
       "      <td>120</td>\n",
       "      <td>100</td>\n",
       "    </tr>\n",
       "    <tr>\n",
       "      <th>Seattle</th>\n",
       "      <td>4.216216</td>\n",
       "      <td>111</td>\n",
       "      <td>110</td>\n",
       "    </tr>\n",
       "    <tr>\n",
       "      <th>Springfield</th>\n",
       "      <td>3.716346</td>\n",
       "      <td>208</td>\n",
       "      <td>104</td>\n",
       "    </tr>\n",
       "    <tr>\n",
       "      <th>Virginia Beach</th>\n",
       "      <td>3.929183</td>\n",
       "      <td>257</td>\n",
       "      <td>115</td>\n",
       "    </tr>\n",
       "  </tbody>\n",
       "</table>\n",
       "</div>"
      ],
      "text/plain": [
       "                  reviews.rating       reviews.username\n",
       "                            mean count          nunique\n",
       "city                                                   \n",
       "Arlington               4.336406   217               71\n",
       "Atlanta                 4.077922   154              150\n",
       "Baltimore               4.182609   184               86\n",
       "Boston                  4.277711   249              192\n",
       "Charleston              4.416107   149               93\n",
       "Chicago                 4.332022   356              271\n",
       "Hanover                 3.576923   130               51\n",
       "Hyattsville             3.702970   202               90\n",
       "Kissimmee               4.039109   101               90\n",
       "Lahaina                 4.396552   116              116\n",
       "Las Vegas               4.161858   506              429\n",
       "Linthicum Heights       4.257426   101               24\n",
       "Miami Beach             4.139086   197              158\n",
       "Napa                    4.263636   110              109\n",
       "New Orleans             4.256831   183              179\n",
       "San Francisco           4.334167   120              100\n",
       "Seattle                 4.216216   111              110\n",
       "Springfield             3.716346   208              104\n",
       "Virginia Beach          3.929183   257              115"
      ]
     },
     "execution_count": 79,
     "metadata": {},
     "output_type": "execute_result"
    }
   ],
   "source": [
    "df_filtrada = df_final[\n",
    "    df_final[('reviews.rating', 'count')] >= 100\n",
    "]\n",
    "\n",
    "df_filtrada"
   ]
  },
  {
   "cell_type": "markdown",
   "metadata": {},
   "source": [
    "E agora, vamos:\n",
    "\n",
    "* ordená-la por ordem decrescente, usando o método **sort_values**, e indicando a coluna de ordenação, assinalando **ascending** = False;\n",
    "* seleccionar o top 5, com o método .iloc"
   ]
  },
  {
   "cell_type": "code",
   "execution_count": 80,
   "metadata": {},
   "outputs": [
    {
     "data": {
      "text/html": [
       "<div>\n",
       "<style scoped>\n",
       "    .dataframe tbody tr th:only-of-type {\n",
       "        vertical-align: middle;\n",
       "    }\n",
       "\n",
       "    .dataframe tbody tr th {\n",
       "        vertical-align: top;\n",
       "    }\n",
       "\n",
       "    .dataframe thead tr th {\n",
       "        text-align: left;\n",
       "    }\n",
       "\n",
       "    .dataframe thead tr:last-of-type th {\n",
       "        text-align: right;\n",
       "    }\n",
       "</style>\n",
       "<table border=\"1\" class=\"dataframe\">\n",
       "  <thead>\n",
       "    <tr>\n",
       "      <th></th>\n",
       "      <th colspan=\"2\" halign=\"left\">reviews.rating</th>\n",
       "      <th>reviews.username</th>\n",
       "    </tr>\n",
       "    <tr>\n",
       "      <th></th>\n",
       "      <th>mean</th>\n",
       "      <th>count</th>\n",
       "      <th>nunique</th>\n",
       "    </tr>\n",
       "    <tr>\n",
       "      <th>city</th>\n",
       "      <th></th>\n",
       "      <th></th>\n",
       "      <th></th>\n",
       "    </tr>\n",
       "  </thead>\n",
       "  <tbody>\n",
       "    <tr>\n",
       "      <th>Charleston</th>\n",
       "      <td>4.416107</td>\n",
       "      <td>149</td>\n",
       "      <td>93</td>\n",
       "    </tr>\n",
       "    <tr>\n",
       "      <th>Lahaina</th>\n",
       "      <td>4.396552</td>\n",
       "      <td>116</td>\n",
       "      <td>116</td>\n",
       "    </tr>\n",
       "    <tr>\n",
       "      <th>Arlington</th>\n",
       "      <td>4.336406</td>\n",
       "      <td>217</td>\n",
       "      <td>71</td>\n",
       "    </tr>\n",
       "    <tr>\n",
       "      <th>San Francisco</th>\n",
       "      <td>4.334167</td>\n",
       "      <td>120</td>\n",
       "      <td>100</td>\n",
       "    </tr>\n",
       "    <tr>\n",
       "      <th>Chicago</th>\n",
       "      <td>4.332022</td>\n",
       "      <td>356</td>\n",
       "      <td>271</td>\n",
       "    </tr>\n",
       "  </tbody>\n",
       "</table>\n",
       "</div>"
      ],
      "text/plain": [
       "              reviews.rating       reviews.username\n",
       "                        mean count          nunique\n",
       "city                                               \n",
       "Charleston          4.416107   149               93\n",
       "Lahaina             4.396552   116              116\n",
       "Arlington           4.336406   217               71\n",
       "San Francisco       4.334167   120              100\n",
       "Chicago             4.332022   356              271"
      ]
     },
     "execution_count": 80,
     "metadata": {},
     "output_type": "execute_result"
    }
   ],
   "source": [
    "top_5 = df_filtrada.sort_values(\n",
    "    ('reviews.rating', 'mean'),\n",
    "    ascending=False\n",
    ").iloc[0:5]\n",
    "\n",
    "top_5"
   ]
  },
  {
   "cell_type": "markdown",
   "metadata": {},
   "source": [
    "E aqui temos a resposta a pergunta que nos foi colocada. Resta apenas guardar o resultado num ficheiro. "
   ]
  },
  {
   "cell_type": "markdown",
   "metadata": {},
   "source": [
    "## Output\n",
    "\n",
    "Podemos exportar as nossas DataFrames para vários tipos de ficheiros, com os métodos **to_<extensão>**.\n",
    "\n",
    "Vamos guardar o resultado como csv:"
   ]
  },
  {
   "cell_type": "code",
   "execution_count": 81,
   "metadata": {},
   "outputs": [],
   "source": [
    "top_5.to_csv('data/hotel-reviews/top5.csv')"
   ]
  },
  {
   "cell_type": "markdown",
   "metadata": {},
   "source": [
    "# Conclusão \n",
    "\n",
    "Neste Notebook, aprendemos os básicos de Pandas através de um exemplo de uma tarefa que podia fazer parte do dia a dia de um data scientist. As técnicas aprendidas neste notebook são úteis para vaŕios tipos de problemas, mas para além disso o Pandas tem um grande número de funcionalidades adicionais que não estão presentes neste notebook.\n",
    "\n",
    "Restam algumas considerações finais sobre o \"workflow\" de um Data Scientist:\n",
    "\n",
    "* em geral, os dados que vão encontrar no dia-a-dia podem não ser tão \"limpos\" e directos como os dados que utilizámos aqui. Na verdade, uma grande parte do tempo de um Data Scientist será passado a entender e organizar dados (não vai ser só treinar modelos de machine learning!)\n",
    "* uma boa prática (especialmente) ao utilizar o Pandas é guardar cada transformação dos dados numa nova variável, com um nome explícito, e evitar operações \"inplace\". tentamos seguir este princípio na tarefa deste Notebook. Esta abordagem torna o código mais legível e diminui em geral o número de erros.\n",
    "* a criar DataFrames (ou quaquer outro tipo de estrutura tabular), **evitem incluir informação quantitativa no nome das colunas**. Para compreender este ponto, vejamos um exemplo, com uma DataFrame que inclui dados sobre a percentagem de três grupos"
   ]
  },
  {
   "cell_type": "code",
   "execution_count": 82,
   "metadata": {},
   "outputs": [
    {
     "data": {
      "text/html": [
       "<div>\n",
       "<style scoped>\n",
       "    .dataframe tbody tr th:only-of-type {\n",
       "        vertical-align: middle;\n",
       "    }\n",
       "\n",
       "    .dataframe tbody tr th {\n",
       "        vertical-align: top;\n",
       "    }\n",
       "\n",
       "    .dataframe thead th {\n",
       "        text-align: right;\n",
       "    }\n",
       "</style>\n",
       "<table border=\"1\" class=\"dataframe\">\n",
       "  <thead>\n",
       "    <tr style=\"text-align: right;\">\n",
       "      <th></th>\n",
       "      <th>grupo</th>\n",
       "      <th>&lt;25</th>\n",
       "      <th>&gt;=25, &lt;50</th>\n",
       "      <th>&gt;=50</th>\n",
       "    </tr>\n",
       "  </thead>\n",
       "  <tbody>\n",
       "    <tr>\n",
       "      <th>0</th>\n",
       "      <td>grupo_1</td>\n",
       "      <td>33</td>\n",
       "      <td>22</td>\n",
       "      <td>34</td>\n",
       "    </tr>\n",
       "    <tr>\n",
       "      <th>1</th>\n",
       "      <td>grupo_2</td>\n",
       "      <td>31</td>\n",
       "      <td>40</td>\n",
       "      <td>29</td>\n",
       "    </tr>\n",
       "    <tr>\n",
       "      <th>2</th>\n",
       "      <td>grupo_3</td>\n",
       "      <td>39</td>\n",
       "      <td>41</td>\n",
       "      <td>20</td>\n",
       "    </tr>\n",
       "  </tbody>\n",
       "</table>\n",
       "</div>"
      ],
      "text/plain": [
       "     grupo  <25  >=25, <50  >=50\n",
       "0  grupo_1   33         22    34\n",
       "1  grupo_2   31         40    29\n",
       "2  grupo_3   39         41    20"
      ]
     },
     "execution_count": 82,
     "metadata": {},
     "output_type": "execute_result"
    }
   ],
   "source": [
    "dados = {\n",
    "    \"grupo\": ['grupo_1', 'grupo_2', 'grupo_3'],\n",
    "    \"<25\": [33, 31, 39],\n",
    "    \">=25, <50\": [22, 40, 41],\n",
    "    \">=50\": [34, 29, 20]\n",
    "}\n",
    "               \n",
    "df_idades = pd.DataFrame(dados)\n",
    "\n",
    "df_idades"
   ]
  },
  {
   "cell_type": "markdown",
   "metadata": {},
   "source": [
    "Esta abordagem é má por duas razões:\n",
    "\n",
    "* primeiro, força-nos a fazer slicing nas linhas e nas colunas para responder a questões numéricas sobre as idades dos grupos;\n",
    "* depois, suponhamos que queriamos contabilizar um novo intervale de idades para apenas um dos grupos - seríamos forçados a criar uma nova coluna que seria NaN para todos os outros grupos.\n",
    "\n",
    "Podemos obter uma versão limpa desta DataFrame com o método **melt**:"
   ]
  },
  {
   "cell_type": "code",
   "execution_count": 83,
   "metadata": {},
   "outputs": [
    {
     "data": {
      "text/html": [
       "<div>\n",
       "<style scoped>\n",
       "    .dataframe tbody tr th:only-of-type {\n",
       "        vertical-align: middle;\n",
       "    }\n",
       "\n",
       "    .dataframe tbody tr th {\n",
       "        vertical-align: top;\n",
       "    }\n",
       "\n",
       "    .dataframe thead th {\n",
       "        text-align: right;\n",
       "    }\n",
       "</style>\n",
       "<table border=\"1\" class=\"dataframe\">\n",
       "  <thead>\n",
       "    <tr style=\"text-align: right;\">\n",
       "      <th></th>\n",
       "      <th>grupo</th>\n",
       "      <th>intervalo de idades</th>\n",
       "      <th>percentagem</th>\n",
       "    </tr>\n",
       "  </thead>\n",
       "  <tbody>\n",
       "    <tr>\n",
       "      <th>0</th>\n",
       "      <td>grupo_1</td>\n",
       "      <td>&lt;25</td>\n",
       "      <td>33</td>\n",
       "    </tr>\n",
       "    <tr>\n",
       "      <th>1</th>\n",
       "      <td>grupo_2</td>\n",
       "      <td>&lt;25</td>\n",
       "      <td>31</td>\n",
       "    </tr>\n",
       "    <tr>\n",
       "      <th>2</th>\n",
       "      <td>grupo_3</td>\n",
       "      <td>&lt;25</td>\n",
       "      <td>39</td>\n",
       "    </tr>\n",
       "    <tr>\n",
       "      <th>3</th>\n",
       "      <td>grupo_1</td>\n",
       "      <td>&gt;=25, &lt;50</td>\n",
       "      <td>22</td>\n",
       "    </tr>\n",
       "    <tr>\n",
       "      <th>4</th>\n",
       "      <td>grupo_2</td>\n",
       "      <td>&gt;=25, &lt;50</td>\n",
       "      <td>40</td>\n",
       "    </tr>\n",
       "    <tr>\n",
       "      <th>5</th>\n",
       "      <td>grupo_3</td>\n",
       "      <td>&gt;=25, &lt;50</td>\n",
       "      <td>41</td>\n",
       "    </tr>\n",
       "    <tr>\n",
       "      <th>6</th>\n",
       "      <td>grupo_1</td>\n",
       "      <td>&gt;=50</td>\n",
       "      <td>34</td>\n",
       "    </tr>\n",
       "    <tr>\n",
       "      <th>7</th>\n",
       "      <td>grupo_2</td>\n",
       "      <td>&gt;=50</td>\n",
       "      <td>29</td>\n",
       "    </tr>\n",
       "    <tr>\n",
       "      <th>8</th>\n",
       "      <td>grupo_3</td>\n",
       "      <td>&gt;=50</td>\n",
       "      <td>20</td>\n",
       "    </tr>\n",
       "  </tbody>\n",
       "</table>\n",
       "</div>"
      ],
      "text/plain": [
       "     grupo intervalo de idades  percentagem\n",
       "0  grupo_1                 <25           33\n",
       "1  grupo_2                 <25           31\n",
       "2  grupo_3                 <25           39\n",
       "3  grupo_1           >=25, <50           22\n",
       "4  grupo_2           >=25, <50           40\n",
       "5  grupo_3           >=25, <50           41\n",
       "6  grupo_1                >=50           34\n",
       "7  grupo_2                >=50           29\n",
       "8  grupo_3                >=50           20"
      ]
     },
     "execution_count": 83,
     "metadata": {},
     "output_type": "execute_result"
    }
   ],
   "source": [
    "df_melted = df_idades.melt(\n",
    "    id_vars=['grupo'],\n",
    "    var_name='intervalo de idades', \n",
    "    value_name='percentagem'\n",
    ")\n",
    "\n",
    "df_melted"
   ]
  }
 ],
 "metadata": {
  "kernelspec": {
   "display_name": "Python 3",
   "language": "python",
   "name": "python3"
  },
  "language_info": {
   "codemirror_mode": {
    "name": "ipython",
    "version": 3
   },
   "file_extension": ".py",
   "mimetype": "text/x-python",
   "name": "python",
   "nbconvert_exporter": "python",
   "pygments_lexer": "ipython3",
   "version": "3.6.9"
  }
 },
 "nbformat": 4,
 "nbformat_minor": 4
}
