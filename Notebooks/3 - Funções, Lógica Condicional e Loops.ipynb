{
 "cells": [
  {
   "cell_type": "markdown",
   "metadata": {},
   "source": [
    "# Funções, Ciclos e Lógica Condicional\n",
    "\n",
    "<img src=\"images/python-logo.jpg\" alt=\"Python\" style=\"width: 300px;\"/>\n",
    "\n",
    "Agora que já aprendemos os básicos da sintaxe e do funcionamento do Python, estamos prontos para escrever o nosso primeiro programa.\n",
    "\n",
    "O funcionamento de um programa em Python assenta sobre 3 blocos essenciais, que irão controlar o flow e processamento da informação (contida nas variáveis e estruturas de dados), até ser alcançado o objectivo final do programa.\n",
    "\n",
    "Estes 3 blocos são:\n",
    "\n",
    "* funções\n",
    "* ciclos\n",
    "* lógica condicional"
   ]
  },
  {
   "cell_type": "markdown",
   "metadata": {},
   "source": [
    "# Funções \n",
    "\n",
    "Para entender o que são funções, devemos primeiro perceber o seu propósito. O objectivo de uma função é evitar repetir código - se há alguma tarefa ou operação que queremos efectuar mais do que uma vez, em vez de repetirmos o mesmo bloco de código em vários locais diferentes, devemos escrever uma função. Isto é o chamado princípio DRY da programação: \"Don't repeat yourself\".\n",
    "\n",
    "Podem pensar numa função como uma receita: \n",
    "\n",
    "* entram alguns ingredientes (inputs)\n",
    "* estes ingredientes são processados seguindo um conjunto de passos definidos por nós. No caso de uma receita: partir X ovos; juntar lentamente à farinha; etc.\n",
    "* quando a função é concluída, ela retorna qualquer coisa - o valor de **return**. No caso de uma receita - um bolo.\n",
    "\n",
    "O uso de funções permite-nos também estruturar o nosso código de forma mais organizada, pois permite dividir o objectivo final do nosso programa nas suas diferentes partes, e exprimir cada parte com a sua própria função.\n",
    "\n",
    "A sintaxe para a escrita de uma função é a seguinte:\n",
    "\n",
    "\n",
    "    def nome(input1, input2, .....):\n",
    "        # aqui escrevo código normalmente, mas com um nível de indentação superior\n",
    "        # quando finalmente chegar ao meu *output*, faço return:\n",
    "        return qualquer_coisa\n",
    "\n",
    "Mais concretamente:\n",
    "\n",
    "* começamos com a keyword **def**, para indicarmos que estamos a definir uma função;\n",
    "* depois damos um nome à função, que nos permitirá utilizá-la no futuro;\n",
    "* definimos entre parêntesis e separados por vírgulas os nomes dos inputs da função. Estes nomes são arbitrários, mas uma boa prática é terem um nome que torne fácil entender qual o seu papel na função;\n",
    "* depois temos dois-pontos (:)\n",
    "* a partir daqui, estamos no \"corpo\" da função. Todas as linhas até ao fim da função terão de ser indentadas com um Tab;\n",
    "* no final, se quisermos que a função devolva um valor, devemos usar a keyword **return** e o valor ou valores que queremos retornar (no caso de múltiplos valores, devemos separá-los por vírgulas).\n",
    "* nada será executado após ser encontrada a keyword return."
   ]
  },
  {
   "cell_type": "markdown",
   "metadata": {},
   "source": [
    "Vamos ver alguns exemplos concretos de funções.\n",
    "\n",
    "Para começar, vamos criar uma função que calcula o IRS de uma transacção. Queremos que a função receba como input o valor da transacção, e devolva o valor final após imposto."
   ]
  },
  {
   "cell_type": "code",
   "execution_count": null,
   "metadata": {},
   "outputs": [],
   "source": [
    "def calcular_irs(valor):\n",
    "    irs = 0.25\n",
    "    valor_final = valor - (irs * valor)\n",
    "    \n",
    "    return valor_final"
   ]
  },
  {
   "cell_type": "markdown",
   "metadata": {},
   "source": [
    "Como podem ver, correr a célula acima não produziu qualquer output (nada foi printed).\n",
    "Isto é porque existe uma diferença entre **definir** e **utilizar** uma função. \n",
    "\n",
    "Quando uma função é definida, apenas estamos a escrever as suas regras de funcionamento, dado um input arbitrário.\n",
    "\n",
    "Quando uma função é chamada, iremos obter o seu output para um valor concreto dos inputs.\n",
    "\n",
    "Para exemplificar, vamos obter o valor correspondente a uma transacção de 1000€, após ser retirado o IRS, e guardar este valor final numa variável chamada apos_irs:"
   ]
  },
  {
   "cell_type": "code",
   "execution_count": null,
   "metadata": {},
   "outputs": [],
   "source": [
    "transaccao = 1000\n",
    "\n",
    "apos_irs = calcular_irs(valor=transaccao)\n",
    "\n",
    "print('Apos calcular o IRS, o valor é de: ', apos_irs)"
   ]
  },
  {
   "cell_type": "markdown",
   "metadata": {},
   "source": [
    "Como podem ver, especificamos que queriamos \"o valor da função *calcular_irs* para o input *valor=transaccao*\".\n",
    "\n",
    "Este input é posicional, ou seja, não precisavamos de especificar o seu nome (valor=...); podiamos simplesmente escrever:"
   ]
  },
  {
   "cell_type": "code",
   "execution_count": null,
   "metadata": {},
   "outputs": [],
   "source": [
    "apos_irs = calcular_irs(transaccao)\n",
    "\n",
    "print('Apos calcular o IRS, o valor é de: ', apos_irs)"
   ]
  },
  {
   "cell_type": "markdown",
   "metadata": {},
   "source": [
    "Reparamos também que não há qualquer necessidade da variável usada como input se chamar *valor*. Este é simplesmente o nome a que nos referimos a esse input **no corpo da função**. Da mesma forma, não há qualquer necessidade da variável que irá guardar o output da função se chamar **valor_final**-\n",
    "\n",
    "Reparem no seguinte exemplo: "
   ]
  },
  {
   "cell_type": "code",
   "execution_count": null,
   "metadata": {},
   "outputs": [],
   "source": [
    "variavel_com_um_nome_estranho = 500\n",
    "\n",
    "# variavel_com_um_nome_estranho toma o papel de *valor* dentro da função\n",
    "output_com_nome_estranho = calcular_irs(variavel_com_um_nome_estranho) \n",
    "\n",
    "print(output_com_nome_estranho)"
   ]
  },
  {
   "cell_type": "markdown",
   "metadata": {},
   "source": [
    "Imaginem agora que queriamos, noutra parte do nosso programa, aplicar um imposto diferente (por exemplo, o IRC) sobre um valor. Uma hipótese seria criar uma nova função chamada *calcular_irc* e fazer uma operação semelhante, mas com um valor de imposto diferente.\n",
    "\n",
    "Mas vamos tentar aplicar o príncipio DRY (\"Don't repeat yourself!\") e criar antes a função mais concisa possível que consiga calcular qualquer imposto sobre um valor:"
   ]
  },
  {
   "cell_type": "code",
   "execution_count": null,
   "metadata": {},
   "outputs": [],
   "source": [
    "def calcular_imposto(valor, taxa):\n",
    "    return valor - (valor * taxa)"
   ]
  },
  {
   "cell_type": "code",
   "execution_count": null,
   "metadata": {},
   "outputs": [],
   "source": [
    "print( calcular_imposto(1000, 0.25) )\n",
    "\n",
    "print( calcular_imposto(1500, 0.23) )"
   ]
  },
  {
   "cell_type": "markdown",
   "metadata": {},
   "source": [
    "Complicando mais um pouco: imaginemos que o utilizador queria agregar vários impostos, e aplicá-los todos de uma vez.\n",
    "Podemos então fazer uma função que receba:\n",
    "\n",
    "* uma lista de valores de impostos\n",
    "* um valor de transacção\n",
    "\n",
    "e os aplique todos de uma vez. Podemos fazê-lo utilizando a funçao **sum()** dentro da nossa função:"
   ]
  },
  {
   "cell_type": "code",
   "execution_count": null,
   "metadata": {},
   "outputs": [],
   "source": [
    "def calcular_impostos(valor, taxas):\n",
    "    taxa_total = sum(taxas) \n",
    "    return valor - (valor * taxa_total)"
   ]
  },
  {
   "cell_type": "code",
   "execution_count": null,
   "metadata": {},
   "outputs": [],
   "source": [
    "calcular_impostos(\n",
    "    valor=1000,\n",
    "    taxas=[0.23, 0.25]\n",
    ")"
   ]
  },
  {
   "cell_type": "markdown",
   "metadata": {},
   "source": [
    "O sum(), print(), len(), e outras operações que temos usado até agora, não são mais que funções nativas do Python."
   ]
  },
  {
   "cell_type": "markdown",
   "metadata": {},
   "source": [
    "#### Atenção: cuidado ao passar estruturas de dados como argumento a uma função\n",
    "\n",
    "Quando passamos uma variável integer, string ou float para uma função, alterações que façamos a esta variável dentro da função não se refletem na variável fora da função. O mesmo não acontece com estruturas de dados como listas, tuples ou dicionários! Vejam o seguinte exemplo."
   ]
  },
  {
   "cell_type": "code",
   "execution_count": null,
   "metadata": {},
   "outputs": [],
   "source": [
    "numero = 10\n",
    "\n",
    "def adiciona_uma_unidade(valor):\n",
    "    # esta função não tem return; simplesmente faz uma acção.\n",
    "    valor = valor + 1\n",
    "    \n",
    "adiciona_uma_unidade(numero)\n",
    "\n",
    "print(numero)\n"
   ]
  },
  {
   "cell_type": "markdown",
   "metadata": {},
   "source": [
    "Como podem ver, a variável número (que existe fora do corpo da função) não foi alterada pela operações dentro da função (mas podemos sempre adicionar um return à função, e guardar este valor).\n",
    "\n",
    "No entanto, vejam o que acontece quando usamos uma lista:"
   ]
  },
  {
   "cell_type": "code",
   "execution_count": null,
   "metadata": {},
   "outputs": [],
   "source": [
    "minha_lista = ['olá']\n",
    "\n",
    "def adiciona_um_elemento(qualquer_lista):\n",
    "    qualquer_lista.append('adeus')\n",
    "    \n",
    "adiciona_um_elemento(minha_lista)\n",
    "\n",
    "print(minha_lista)"
   ]
  },
  {
   "cell_type": "markdown",
   "metadata": {},
   "source": [
    "Podem reparar que a minha_lista foi modificada dentro da função, e este modificação persisitiu no exterior. Este facto deve-se à maneira como as variáveis estão representadas em memória, e como interagem internamente com as funções no Python."
   ]
  },
  {
   "cell_type": "markdown",
   "metadata": {},
   "source": [
    "#### Variáveis internas numa função\n",
    "\n",
    "As variáveis auxiliares usadas em cálculos intermédios no corpo de uma função não são acessíveis fora da função. Os únicos valores que recebemos de volta sáo os valores de **return**. Da mesma forma que quando acabamos de seguir uma receita e cozinhamos um bolo, não temos mais acesso aos ovos batidos ou à farinha que utilizamos.\n",
    "\n"
   ]
  },
  {
   "cell_type": "code",
   "execution_count": null,
   "metadata": {},
   "outputs": [],
   "source": [
    "def funcao_exemplo(a, b):\n",
    "    c = a + b\n",
    "    d = c * c\n",
    "    return d\n",
    "\n",
    "valor = funcao_exemplo(5, 10)\n",
    "\n",
    "print('O valor de return:', valor) # ok\n",
    "\n",
    "print(a)  # isto vai dar erro!\n",
    "print(b)  # isto vai dar erro!\n",
    "print(c)  # isto vai dar erro!"
   ]
  },
  {
   "cell_type": "markdown",
   "metadata": {},
   "source": [
    "# Lógica condicional\n",
    "\n",
    "Outra maneira muito poderosa de controlar o flow de informação no nosso programa é a lógica condicional.\n",
    "Isto não é mais que um conjuntos de instrucções que fazem uso das variáveis Boolean (True/False) para conduzir o nosso programa por caminhos diferentes, dependendo das condições:\n",
    "\n",
    "* se uma determinada condição for verdadeira (True), executamos uma determinada parte do código;\n",
    "* se for False, executamos outra.\n",
    "\n",
    "Nesta secção vamos aprender os operadores condicionais mais utilizados para este propósito."
   ]
  },
  {
   "cell_type": "markdown",
   "metadata": {},
   "source": [
    "## Condições"
   ]
  },
  {
   "cell_type": "markdown",
   "metadata": {},
   "source": [
    "Condições não são mais que expressões que são avaliadas como **True** ou **False**. Para escrever estas expressões, vamos aprender mais alguns operadores.\n",
    "\n",
    "Vamos começar pelo operador de equivalência **==**. Este operador permite-nos testar se duas quantidades são equivalentes. É importante não confundir o operador de equivalência com um único sinal de igual, utilizado para atribuir um valor a uma variável.\n",
    "\n",
    "Vamos ver alguns exemplos:"
   ]
  },
  {
   "cell_type": "code",
   "execution_count": null,
   "metadata": {},
   "outputs": [],
   "source": [
    "valor_1 = 100\n",
    "valor_2 = 100\n",
    "\n",
    "valor_1 == valor_2"
   ]
  },
  {
   "cell_type": "code",
   "execution_count": null,
   "metadata": {},
   "outputs": [],
   "source": [
    "string_1 = 'Olá'\n",
    "string_2 = 'Adeus'\n",
    "\n",
    "string_1 == string_2"
   ]
  },
  {
   "cell_type": "markdown",
   "metadata": {},
   "source": [
    "O contrário do operador de equivalência é dado por **!=**. Este irá retornar **True** se duas quantias forem diferentes:"
   ]
  },
  {
   "cell_type": "code",
   "execution_count": null,
   "metadata": {},
   "outputs": [],
   "source": [
    "valor_1 = 5\n",
    "valor_2 = 20\n",
    "\n",
    "valor_1 != valor_2"
   ]
  },
  {
   "cell_type": "markdown",
   "metadata": {},
   "source": [
    "Podemos também usar os seguintes operadores:\n",
    "\n",
    "* `>`: maior\n",
    "* `>=`: maior ou igual\n",
    "* `<`: menor\n",
    "* `<=`: menor ou igual\n"
   ]
  },
  {
   "cell_type": "code",
   "execution_count": null,
   "metadata": {},
   "outputs": [],
   "source": [
    "valor_1 = 10\n",
    "valor_2 = 3\n",
    "\n",
    "print(valor_1 > valor_2)\n",
    "\n",
    "print(valor_1 < valor_2)"
   ]
  },
  {
   "cell_type": "markdown",
   "metadata": {},
   "source": [
    "Os valores de ambos os lados de um operador condicional podem ser dados por expressões, e o resultado de uma condição pode ser guardado num variável, como qualquer outra coisa:"
   ]
  },
  {
   "cell_type": "code",
   "execution_count": null,
   "metadata": {},
   "outputs": [],
   "source": [
    "valor_1 = 7.5\n",
    "valor_2 = 2.236\n",
    "\n",
    "resultado_da_comparacao = (valor_1 ** 2) - 5 <= valor_2 / valor_1\n",
    "\n",
    "print(resultado_da_comparacao)"
   ]
  },
  {
   "cell_type": "markdown",
   "metadata": {},
   "source": [
    "O operador **in**, como já vimos anteriormente, pode ser usado para verificar a existência de um elemento num conjunto, mas também pode ser usado com strings. Vejamos os seguinte exemplos:"
   ]
  },
  {
   "cell_type": "code",
   "execution_count": null,
   "metadata": {},
   "outputs": [],
   "source": [
    "print(5 in [1, 2, 3, 4, 5])\n",
    "\n",
    "print(\"misol\" in \"Camisola\")"
   ]
  },
  {
   "cell_type": "markdown",
   "metadata": {},
   "source": [
    "### and ... or ... not"
   ]
  },
  {
   "cell_type": "markdown",
   "metadata": {},
   "source": [
    "se quisermos combinar múltiplas expressões, criando desta forma condições mais complexas, podemos combinar operações condicionais com os operadores **and**, **or** e **not**.\n",
    "\n",
    "Os operadores funcionam da seguinte forma:\n",
    "   \n",
    "* and: retorna True apenas se TODAS as condições se cumprirem.\n",
    "* or: retorna True se pelo menos uma condição se cumprir.\n",
    "* not: inverte o valor de uma condição.\n",
    "\n",
    "Podemos ver alguns exemplos:"
   ]
  },
  {
   "cell_type": "code",
   "execution_count": null,
   "metadata": {},
   "outputs": [],
   "source": [
    "condicao_1 = (2 > 1)  # podemos colocar parêntesis à volta, para melhorar a legibilidade do código\n",
    "condicao_2 = (\"Olá\" == \"Adeus\")\n",
    "\n",
    "print('A condição 1 é: ', condicao_1)\n",
    "print('A condição 2 é: ', condicao_2)"
   ]
  },
  {
   "cell_type": "code",
   "execution_count": null,
   "metadata": {},
   "outputs": [],
   "source": [
    "print('Condição 1 AND condição 2: ', condicao_1 and condicao_2)\n",
    "print('Condição 1 OR condição 2: ', condicao_1 or condicao_2)\n",
    "print('NOT Condição 1: ', not condicao_1)\n",
    "print('NOT condição 2: ', not condicao_2)"
   ]
  },
  {
   "cell_type": "markdown",
   "metadata": {},
   "source": [
    "É possível encadear várias expressões condicionais, e como tal devemos aprender qual a ordem de precedência na avaliação de cada parte de um conjunto de expressões.\n",
    "\n",
    "Temos a seguinte tabela, em ordem decrescente de precedência:\n",
    "\n",
    "<img src=\"images/new_order_complete_small.jpg\" alt=\"Ordem\" style=\"width: 600px;\"/>\n",
    "\n",
    "Esta tabela é uma boa referência se quiserem escrever condições mais complexas que usam diversos operadores.\n",
    "\n",
    "Podemos ver que numa expressão com vários elementos, as expressões entre parêntesis são avaliadas primeiro. Seguem-se todas as operações aritméticas. Depois são avaliados os operadores condicionais, e estabelecem-se as relações entre as diferentes partes da expressão com **and** e **or**. Por fim, o valor final da expressão é atribuído (caso seja usado o sinal de igual).\n",
    "\n",
    "Vamos ver alguns exemplos:"
   ]
  },
  {
   "cell_type": "code",
   "execution_count": null,
   "metadata": {},
   "outputs": [],
   "source": [
    "True and False or True  # o AND é avaliado primeiro, e o OR de seguida"
   ]
  },
  {
   "cell_type": "code",
   "execution_count": null,
   "metadata": {},
   "outputs": [],
   "source": [
    "False or False and True or True  # equivalente a: False or True or True (que é True, porque pelo menos um é True)"
   ]
  },
  {
   "cell_type": "code",
   "execution_count": null,
   "metadata": {},
   "outputs": [],
   "source": [
    "(False or False) and (True or True)  # aqui estamos a forçar uma ordem de avaliação diferente, usando parêntesis."
   ]
  },
  {
   "cell_type": "markdown",
   "metadata": {},
   "source": [
    "### Exercício\n",
    "\n",
    "Avalia a seguinte expressão, consultando a tabela de precedência:"
   ]
  },
  {
   "cell_type": "code",
   "execution_count": null,
   "metadata": {},
   "outputs": [],
   "source": [
    "avaliacao = not (5 > 2) or ('Olá' == 'Olá!' or (5 * 10 < 25) or not (1 == 2))"
   ]
  },
  {
   "cell_type": "code",
   "execution_count": null,
   "metadata": {},
   "outputs": [],
   "source": [
    "# avaliacao = not True or ('Olá' == 'Olá!' or (5 * 10 < 25) or not False)\n",
    "# avaliacao = not True or ('Olá' == 'Olá!' or (50 < 25) or not False)\n",
    "# avaliacao = not True or (False or False or not False)\n",
    "# avaliacao = False or (False or False or True)\n",
    "# avaliacao = False or True\n",
    "# avaliacao = True\n",
    "\n",
    "avaliacao"
   ]
  },
  {
   "cell_type": "markdown",
   "metadata": {},
   "source": [
    "## If ... elif ... else\n",
    "\n",
    "As instrucções `if ... elif ... else` permitem-nos controlar o nosso programa da seguinte forma:\n",
    "\n",
    "* se uma determinada condição se cumprir, executamos um bloco de código;\n",
    "* caso contrário, testamos outra condição (\"elif\" significa \"else if\")  - e se esta for verdadeira, então executamos um outro bloco de código;\n",
    "* podemos utilizar vários \"elifs\" consecutivamente; se nenhum deles se cumprir, então o código associado ao bloco \"else\" é executado.\n",
    "\n",
    "Tanto as instrucções \"elif\" como \"else\" são opcionais. Vamos ver um exemplo:"
   ]
  },
  {
   "cell_type": "code",
   "execution_count": null,
   "metadata": {},
   "outputs": [],
   "source": [
    "valor = 100\n",
    "\n",
    "if valor == 100:\n",
    "    print('Acertou!')"
   ]
  },
  {
   "cell_type": "markdown",
   "metadata": {},
   "source": [
    "Podemos ver que o bloco **If** segue as seguintes regras de sintaxe:\n",
    "\n",
    "    if (condição):\n",
    "        ... código ...\n",
    "    \n",
    "A indentação é dada por um único Tab. \n",
    "\n",
    "Neste caso, a nossa condição faz uso do operador de equivalência **==** . A nossa condição é avaliada como True (visto que o valor é de facto 100), e por isso, o bloco de código é executado, fazendo print da mensagem *Acertou!*."
   ]
  },
  {
   "cell_type": "markdown",
   "metadata": {},
   "source": [
    "Podemos também definir um bloco de código alternativo, caso a condição não se cumpra:"
   ]
  },
  {
   "cell_type": "code",
   "execution_count": null,
   "metadata": {},
   "outputs": [],
   "source": [
    "valor = 100\n",
    "\n",
    "if (valor > 200):\n",
    "    print('Este valor é maior que 200.')\n",
    "else:\n",
    "    print('Este valor é menor que 200.')"
   ]
  },
  {
   "cell_type": "markdown",
   "metadata": {},
   "source": [
    "Podemos usar a keyword **elif** para testar qualquer número de condições intermédias. Se várias condições **elif** forem verdadeiras, apenas a primeira será usada. A regra é: **num conjunto de blocos if/elif/else, apenas um bloco é executado**"
   ]
  },
  {
   "cell_type": "code",
   "execution_count": null,
   "metadata": {},
   "outputs": [],
   "source": [
    "pessoa = 'Nora'\n",
    "\n",
    "if pessoa == 'John':\n",
    "    print('Hey John')\n",
    "elif pessoa == 'Bill':\n",
    "    print('Olá Bill!')\n",
    "elif pessoa == 'Nora':\n",
    "    print('Oi Nora')\n",
    "else:\n",
    "    print('Não sei quem és!')"
   ]
  },
  {
   "cell_type": "markdown",
   "metadata": {},
   "source": [
    "Podemos também encadear vários **if ... then ... else**, aumentando o nível de indentação por 1 Tab:"
   ]
  },
  {
   "cell_type": "code",
   "execution_count": null,
   "metadata": {},
   "outputs": [],
   "source": [
    "pessoa = 'Manuel'\n",
    "idade = 20\n",
    "\n",
    "if pessoa == 'João':\n",
    "    print('Oi João!')\n",
    "    \n",
    "    if idade > 18:\n",
    "        print('Eishhh, parece que ainda ontem eras um bebé!')\n",
    "        \n",
    "else:\n",
    "    print('Quem és tu?')"
   ]
  },
  {
   "cell_type": "markdown",
   "metadata": {},
   "source": [
    "Podemos testar várias condições simultaneamente, usando as regras de precedência que aprendemos:"
   ]
  },
  {
   "cell_type": "code",
   "execution_count": null,
   "metadata": {},
   "outputs": [],
   "source": [
    "pessoa = 'Fred'\n",
    "idade = 26\n",
    "\n",
    "if (pessoa == 'Fred') and (idade == 26):\n",
    "    print('Sou eu!')"
   ]
  },
  {
   "cell_type": "markdown",
   "metadata": {},
   "source": [
    "#### Operador ternário\n",
    "\n",
    "Podemos atribuir um valor a uma variável com base numa condição, de forma muito simples, utilizando o operador ternário. Este operador toma apenas uma linha e usa as keywords **if** e **else**:"
   ]
  },
  {
   "cell_type": "code",
   "execution_count": null,
   "metadata": {},
   "outputs": [],
   "source": [
    "idade = 25\n",
    "\n",
    "estatuto = \"Menor\" if (idade < 18) else \"Maior\"\n",
    "\n",
    "print(estatuto)"
   ]
  },
  {
   "cell_type": "markdown",
   "metadata": {},
   "source": [
    "#### Usando o operador **if** com True/False/None\n",
    "\n",
    "Quando comparamos uma variável com o valor True/False, devemos omitir o operador de igualdade, para ficar mais conciso."
   ]
  },
  {
   "cell_type": "code",
   "execution_count": null,
   "metadata": {},
   "outputs": [],
   "source": [
    "condicao = True\n",
    "\n",
    "if condicao == True:\n",
    "    print(\"Nao ideal.\")\n",
    "    \n",
    "if condicao:\n",
    "    print('Melhor!')"
   ]
  },
  {
   "cell_type": "markdown",
   "metadata": {},
   "source": [
    "Quando queremos comparar algo com o valor None, devemos usar a sintaxe **is None** em vez do operador de igualdade. Isto é uma boa prática porque certos objectos de Python podem implementar o operador de equivalência de forma distinta, mas usando **is None** podemos ter a certeza que só obtemos True se o valor for exatamente \"None\"."
   ]
  },
  {
   "cell_type": "code",
   "execution_count": null,
   "metadata": {},
   "outputs": [],
   "source": [
    "valor = None\n",
    "\n",
    "if valor == None:\n",
    "    print('Não ideal.')\n",
    "\n",
    "if valor is None:\n",
    "    print('Melhor!')"
   ]
  },
  {
   "cell_type": "markdown",
   "metadata": {},
   "source": [
    "## Valores equivalentes a True/False\n",
    "\n",
    "Em Python, alguns valores podem ser usados em condições, no lugar de True ou False. Eles serão avaliados como True/False, mesmo que não tenham este valor.\n",
    "Vejamos alguns exemplos:"
   ]
  },
  {
   "cell_type": "markdown",
   "metadata": {},
   "source": [
    "Uma lista vazia é avaliada como False, mas não equivalente a False!"
   ]
  },
  {
   "cell_type": "code",
   "execution_count": null,
   "metadata": {},
   "outputs": [],
   "source": [
    "lista = []\n",
    "\n",
    "print(lista == False)   "
   ]
  },
  {
   "cell_type": "code",
   "execution_count": null,
   "metadata": {},
   "outputs": [],
   "source": [
    "# lista != False, mas no entanto o seguinte print não aparece:\n",
    "if lista:\n",
    "    print('Hi!')"
   ]
  },
  {
   "cell_type": "code",
   "execution_count": null,
   "metadata": {},
   "outputs": [],
   "source": [
    "lista = [1, 2, 3]\n",
    "\n",
    "if lista:\n",
    "    print('Há elementos.')"
   ]
  },
  {
   "cell_type": "markdown",
   "metadata": {},
   "source": [
    "O mesmo se aplica para um string vazio."
   ]
  },
  {
   "cell_type": "code",
   "execution_count": null,
   "metadata": {},
   "outputs": [],
   "source": [
    "x = \"\"\n",
    "\n",
    "print(x == False)\n",
    "\n",
    "if x:\n",
    "    print('Hi!')"
   ]
  },
  {
   "cell_type": "markdown",
   "metadata": {},
   "source": [
    "Há mais alguns destes casos, mas o mais utilizado é sem dúvida o None:"
   ]
  },
  {
   "cell_type": "code",
   "execution_count": null,
   "metadata": {},
   "outputs": [],
   "source": [
    "valor = None\n",
    "\n",
    "if valor is None:\n",
    "    print('Valor é None.')\n",
    "    \n",
    "if not valor:  # not False = True\n",
    "    print('\"Not\" valor é avaliado como True, apesar de não ser Booleano.')\n",
    "    \n"
   ]
  },
  {
   "cell_type": "markdown",
   "metadata": {},
   "source": [
    "# Ciclos\n",
    "\n",
    "A última componente essencial para escrever um programa são os ciclos (\"loops\"). Os ciclos permitem-nos aplicar, de forma concisa, uma ou mais operações a um conjunto de valores. A cada repetição de um ciclo chamamos uma iteração.\n",
    "\n",
    "Existem dois tipos de ciclos: **for** e **while**."
   ]
  },
  {
   "cell_type": "markdown",
   "metadata": {},
   "source": [
    "## Ciclo \"for\"\n",
    "\n",
    "O ciclo **for** é o tipo de ciclo mais usado. A sua sintaxe é a seguinte:\n",
    "\n",
    "    for elemento in conjunto:\n",
    "        ...\n",
    "\n",
    "Resumidamente:\n",
    "\n",
    "* começamos com a keyword **for**\n",
    "* de seguida, definimos uma variável a que nos vamos referir no interior do ciclo. Esta variável vai ser retirada sequencialmente de um conjunto, uma vez por cada iteração do ciclo (a este conjunto chamamos um \"iterable\", porque podemos iterar sobre ele).\n",
    "* de seguida, usamos a keyword **in**.\n",
    "* depois, especificamos o conjunto sobre o qual queremos iterar.\n",
    "\n",
    "O corpo de um ciclo é controlado pelo nível de indentação, e todo o código no corpo de um ciclo será executado em cada iteração.\n",
    "\n",
    "Como exemplo, vamos assumir que temos uma lista e queremos multiplicar todos os seus elementos por 2, e fazer print do resultado. Primeiro vamos fazê-lo de forma manual:"
   ]
  },
  {
   "cell_type": "code",
   "execution_count": null,
   "metadata": {},
   "outputs": [],
   "source": [
    "lista_de_numeros = [1, 2, 5, 10, 100]\n",
    "\n",
    "print(lista_de_numeros[0] * 2)\n",
    "print(lista_de_numeros[1] * 2)\n",
    "print(lista_de_numeros[2] * 2)\n",
    "print(lista_de_numeros[3] * 2)\n",
    "print(lista_de_numeros[4] * 2)"
   ]
  },
  {
   "cell_type": "markdown",
   "metadata": {},
   "source": [
    "Vamos agora fazê-lo de forma Pythonica, usando um loop:"
   ]
  },
  {
   "cell_type": "code",
   "execution_count": null,
   "metadata": {},
   "outputs": [],
   "source": [
    "for numero in lista_de_numeros:  # o nome \"valor\" é arbitrário!\n",
    "    print(2 * numero)"
   ]
  },
  {
   "cell_type": "markdown",
   "metadata": {},
   "source": [
    "#### Range\n",
    "\n",
    "Há vários iteráveis que podemos usar nos nossos ciclos, como iremos ver mais à frente. Um dos mais úteis é o **range**, que nos permite criar um intervalo de valores. \n",
    "\n",
    "O range é dado por:\n",
    "    \n",
    "    range(início, passo, fim)\n",
    "    \n",
    "em que o ínicio é opcional (por defeito é 0), o passo é opcional (por defeito é 1), e o intervalo NÃO inclui o fim.\n",
    "\n",
    "Alguns exemplos:\n",
    "   \n",
    "* range(4): 0, 1, 2, 3\n",
    "* range(1, 5) = 1, 2, 3, 4\n",
    "* range(0, 10, 100) = 0, 10, 20, 30, 40, 50, 60, 70, 80, 90\n",
    "    \n",
    "Para finalizar, vamos fazer print de uma sequência de números utilizando o **range**:"
   ]
  },
  {
   "cell_type": "code",
   "execution_count": null,
   "metadata": {},
   "outputs": [],
   "source": [
    "for valor in range(10):\n",
    "    print(valor)"
   ]
  },
  {
   "cell_type": "markdown",
   "metadata": {},
   "source": [
    "### Ciclo \"while\"\n",
    "\n",
    "O ciclo \"while\" executa um determinado conjunto de instruções repetidamente, até uma condição definida pelo programador deixar de ser verdadeira. Esta condição é re-avaliada no início de cada iteração. Atenção: se esta condição nunca deixar de ser verdadeira, o ciclo irá continuar a correr até forçarmos o programa a parar.\n",
    "\n",
    "A sintaxe é a seguinte:\n",
    "\n",
    "    while condição:\n",
    "        ...\n",
    "\n",
    "No seguinte exemplo vamos incrementar um número, começando no zero e parando quando este número for maior que 10:"
   ]
  },
  {
   "cell_type": "code",
   "execution_count": null,
   "metadata": {},
   "outputs": [],
   "source": [
    "numero = 0\n",
    "\n",
    "while numero < 10:\n",
    "    numero += 1  # relembrem-se, isto é o mesmo que: numero = numero + 1\n",
    "    print(numero)"
   ]
  },
  {
   "cell_type": "markdown",
   "metadata": {},
   "source": [
    "### Encadear ciclos\n",
    "\n",
    "Podemos encadear vários ciclos uns dentro dos outros, controlando os seus corpos com o nível de indentação. A regra é: para cada iteração do ciclo exterior, todas as iterações dos ciclos interiores vão ser executadas.\n",
    "\n",
    "Como exemplo, vamos escrever automaticamente e em poucas linhas de código todas as tabuadas, do 0 ao 10."
   ]
  },
  {
   "cell_type": "code",
   "execution_count": null,
   "metadata": {},
   "outputs": [],
   "source": [
    "for tabuada in range(11):  # do 0 ao 10\n",
    "    print(f\"\\nTabuada do {tabuada}:\\n\")\n",
    "    \n",
    "    for numero in range(11):\n",
    "        print(f\"\\t{numero} x {tabuada} = {numero * tabuada}\")"
   ]
  },
  {
   "cell_type": "markdown",
   "metadata": {},
   "source": [
    "Este exemplo é simples mas permite entender o poder que osloops oferecem em termos de automatização."
   ]
  },
  {
   "cell_type": "markdown",
   "metadata": {},
   "source": [
    "### continue / break\n",
    "\n",
    "Para controlar as iterações de um ciclo, temos ainda duas keywords disponíveis: **continue** e **break**.\n",
    "\n",
    "O **continue** força o ciclo a passar para a iteração seguinte.\n",
    "\n",
    "O **break** interrompe imediatamente um ciclo.\n",
    "\n",
    "Ambas as keywords só se aplicam ao ciclo interno, no caso de ciclos encadeados."
   ]
  },
  {
   "cell_type": "markdown",
   "metadata": {},
   "source": [
    "No seguinte exemplo, vamos contar até 10 mas saltar o número 6:"
   ]
  },
  {
   "cell_type": "code",
   "execution_count": null,
   "metadata": {},
   "outputs": [],
   "source": [
    "for i in range(1, 11):\n",
    "    if i == 6:\n",
    "        print('skipped 6!')\n",
    "        continue\n",
    "    \n",
    "    print(i)"
   ]
  },
  {
   "cell_type": "markdown",
   "metadata": {},
   "source": [
    "Vamos agora interromper o mesmo ciclo, quando chegar a 6:"
   ]
  },
  {
   "cell_type": "code",
   "execution_count": null,
   "metadata": {},
   "outputs": [],
   "source": [
    "for i in range(1, 11):\n",
    "    if i == 6:\n",
    "        break\n",
    "    \n",
    "    print(i)"
   ]
  },
  {
   "cell_type": "markdown",
   "metadata": {},
   "source": [
    "## Iterar sobre dicionários\n",
    "\n",
    "Como já vimos, para executar um ciclo **for** precisamos de um **iterável**: um conjunto de elementos que possamos percorrer um a um, e que controlam as iterações do ciclo.\n",
    "\n",
    "Como vimos, podemos iterar ao longo de uma lista da seguinte forma:\n",
    "\n",
    "    for elemento in lista:\n",
    "        ...\n",
    "\n",
    "O mesmo se aplica para tuplos.\n",
    "\n",
    "É possível também iterar sobre as chaves/valores contidos em dicionários. Temos três métodos disponíveis conforme queiramos iterar sobre chaves, valores, ou ambos. "
   ]
  },
  {
   "cell_type": "markdown",
   "metadata": {},
   "source": [
    "### .keys()\n",
    "\n",
    "Podemos usar .keys() para iterar sobre as chaves de um dicionário:"
   ]
  },
  {
   "cell_type": "code",
   "execution_count": null,
   "metadata": {},
   "outputs": [],
   "source": [
    "dicionario = {\n",
    "    'nome': 'Fred',\n",
    "    'idade': 26,\n",
    "    'função': 'instrutor'\n",
    "}\n",
    "\n",
    "for k in dicionario.keys():\n",
    "    print(k)"
   ]
  },
  {
   "cell_type": "markdown",
   "metadata": {},
   "source": [
    "Podemos omitir esté método, visto que por defeito, se tentarmos iterar sobre um dicionário as suas chaves serão utilizadas:"
   ]
  },
  {
   "cell_type": "code",
   "execution_count": null,
   "metadata": {},
   "outputs": [],
   "source": [
    "for k in dicionario:\n",
    "    print(k)"
   ]
  },
  {
   "cell_type": "markdown",
   "metadata": {},
   "source": [
    "### .values()\n",
    "\n",
    "Podemos iterar sobre os valores de um dicionário usando o método .values():"
   ]
  },
  {
   "cell_type": "code",
   "execution_count": null,
   "metadata": {},
   "outputs": [],
   "source": [
    "for v in dicionario.values():\n",
    "    print(v)"
   ]
  },
  {
   "cell_type": "markdown",
   "metadata": {},
   "source": [
    "### .items()\n",
    "\n",
    "Podemos iterar sobre chaves/valores simultaneamente, usando o método .items().\n",
    "\n",
    "Isto funciona porque como vimos anteriormente, o método .items() retorna uma lista de tuplos (chave, valor).\n",
    "\n",
    "Vejamos:"
   ]
  },
  {
   "cell_type": "code",
   "execution_count": null,
   "metadata": {},
   "outputs": [],
   "source": [
    "for chave_e_valor in dicionario.items():\n",
    "    print(chave_e_valor)"
   ]
  },
  {
   "cell_type": "markdown",
   "metadata": {},
   "source": [
    "Podemos usar uma técnica chamada *tuple unpacking* para \"desempacotar\" cada um destes tuples em duas variáveis diferentes. O *tuple unpacking* funciona da seguinte forma:"
   ]
  },
  {
   "cell_type": "code",
   "execution_count": null,
   "metadata": {},
   "outputs": [],
   "source": [
    "tuple_1 = (5, 50)\n",
    "\n",
    "var_1, var_2 = tuple_1  # unpacking\n",
    "\n",
    "print(var_1)\n",
    "\n",
    "print(var_2)"
   ]
  },
  {
   "cell_type": "markdown",
   "metadata": {},
   "source": [
    "Aplicado no ciclo:"
   ]
  },
  {
   "cell_type": "code",
   "execution_count": null,
   "metadata": {},
   "outputs": [],
   "source": [
    "for k, v in dicionario.items():\n",
    "    print(f\"A chave é {k} e o valor é {v}.\")"
   ]
  },
  {
   "cell_type": "markdown",
   "metadata": {},
   "source": [
    "# Conclusão\n",
    "\n",
    "Neste notebook aprendemos alguns conceitos essenciais para construir um programa em Python. Com o material deste notebook, torna-se possível fazer operações de complexidade elevada em apenas algumas linhas de código.\n",
    "\n",
    "É essencial dominar estes conceitos, pois estarão na base de qualquer técnica mais avançada de programação.\n",
    "\n",
    "Restam algumas considerações:\n",
    "\n",
    "* os Jupyter Notebooks são uma excelente ferramenta de aprendizagem e exploração de dados. No entanto, podemos querer correr programas fora de um Notebook. Para isto, apenas precisamos de escrever o nosso código num ficheiro de texto usando qualquer editor de texto ou IDE (\"integrated development environment\" - essencialmente um editor de texto feito para programar, com funcionalidades extra como highlighting de erros de sintaxe), e corrê-lo usando a consola. Para identificar um ficheiro de Python, usamos a extensão **.py**. \n",
    "* para correr um ficheiro usando a consola, devemos deslocar-nos até à pasta onde o ficheiro se encontra e escrever o comando: **python o_meu_ficheiro.py**\n",
    "\n"
   ]
  }
 ],
 "metadata": {
  "kernelspec": {
   "display_name": "Python 3",
   "language": "python",
   "name": "python3"
  },
  "language_info": {
   "codemirror_mode": {
    "name": "ipython",
    "version": 3
   },
   "file_extension": ".py",
   "mimetype": "text/x-python",
   "name": "python",
   "nbconvert_exporter": "python",
   "pygments_lexer": "ipython3",
   "version": "3.6.9"
  }
 },
 "nbformat": 4,
 "nbformat_minor": 4
}
