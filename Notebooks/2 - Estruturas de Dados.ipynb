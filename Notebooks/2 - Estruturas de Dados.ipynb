{
 "cells": [
  {
   "cell_type": "markdown",
   "metadata": {},
   "source": [
    "# Estruturas de dados\n",
    "\n",
    "<img src=\"images/python-logo.jpg\" alt=\"Python\" style=\"width: 300px;\"/>\n",
    "\n",
    "Para facilitar o armazenamento e manipulação de informação, o Python fornece algumas estruturas de dados muito úteis.\n",
    "\n",
    "Este Notebook contém os tipos de estruturas mais importantes, as suas propriedades, e alguns exemplos de como as utilizar."
   ]
  },
  {
   "cell_type": "markdown",
   "metadata": {},
   "source": [
    "## Listas\n",
    "\n",
    "Uma lista é simplesmente uma colecção ordenada de valores, possivelmente duplicados, que podem ser acedidos individualmente. É delimitada por parêntesis rectos \\[\\], e os valores são separados por vírgulas."
   ]
  },
  {
   "cell_type": "code",
   "execution_count": 2,
   "metadata": {},
   "outputs": [
    {
     "name": "stdout",
     "output_type": "stream",
     "text": [
      "[15, 22, 300]\n",
      "[10, 'Olá!', 20.5, 'Adeus!']\n"
     ]
    }
   ],
   "source": [
    "lista_a = [15, 22, 300]\n",
    "lista_b = [10, 'Olá!', 20.5, 'Adeus!']\n",
    "\n",
    "print(lista_a)\n",
    "print(lista_b)"
   ]
  },
  {
   "cell_type": "markdown",
   "metadata": {},
   "source": [
    "Para aceder a um elemento dentro de uma lista:"
   ]
  },
  {
   "cell_type": "code",
   "execution_count": 3,
   "metadata": {},
   "outputs": [
    {
     "name": "stdout",
     "output_type": "stream",
     "text": [
      "15\n",
      "300\n",
      "Adeus!\n",
      "10\n"
     ]
    }
   ],
   "source": [
    " # o primeiro elemento da lista é indexado pelo valor 0\n",
    "primeiro_elemento_a = lista_a[0]\n",
    "print(primeiro_elemento_a)\n",
    "\n",
    "ultimo_elemento_a = lista_a[2]\n",
    "print(ultimo_elemento_a)\n",
    "\n",
    "# podemos também aceder a uma lista no \"sentido contrário\" (-1, -2, -3, ...)\n",
    "ultimo_elemento_b = lista_b[-1]\n",
    "print(ultimo_elemento_b)\n",
    "\n",
    "primeiro_elemento_b = lista_b[-4]\n",
    "print(primeiro_elemento_b)"
   ]
  },
  {
   "cell_type": "markdown",
   "metadata": {},
   "source": [
    "Podemos substituir um elemento por outro"
   ]
  },
  {
   "cell_type": "code",
   "execution_count": 4,
   "metadata": {},
   "outputs": [
    {
     "name": "stdout",
     "output_type": "stream",
     "text": [
      "['Hello!', 20, 30]\n"
     ]
    }
   ],
   "source": [
    "minha_lista = [10, 20, 30]\n",
    "minha_lista[0] = 'Hello!'\n",
    "print(minha_lista)"
   ]
  },
  {
   "cell_type": "markdown",
   "metadata": {},
   "source": [
    "Podemos também selecionar uma sublista (dentro da lista), usando a notação *começo*:*fim* (intervalo fechado no começo, e aberto no fim)"
   ]
  },
  {
   "cell_type": "code",
   "execution_count": 2,
   "metadata": {},
   "outputs": [
    {
     "name": "stdout",
     "output_type": "stream",
     "text": [
      "[15, 22]\n"
     ]
    }
   ],
   "source": [
    "lista_a = [15, 22, 300]\n",
    "lista_b = [10, 'Olá!', 20.5, 'Adeus!']\n",
    "\n",
    "# Fica com os elementos 0, 1 (2 é excluído)\n",
    "primeiro_e_segundo_elemento = lista_a[0:2]\n",
    "\n",
    "print(primeiro_e_segundo_elemento)"
   ]
  },
  {
   "cell_type": "code",
   "execution_count": 19,
   "metadata": {},
   "outputs": [
    {
     "name": "stdout",
     "output_type": "stream",
     "text": [
      "['Olá!']\n"
     ]
    }
   ],
   "source": [
    "# Podem haver listas de um elemento\n",
    "lista_com_um_elemento = ['Olá!']\n",
    "\n",
    "print(lista_com_um_elemento)"
   ]
  },
  {
   "cell_type": "code",
   "execution_count": 20,
   "metadata": {},
   "outputs": [
    {
     "name": "stdout",
     "output_type": "stream",
     "text": [
      "Olá!\n"
     ]
    }
   ],
   "source": [
    "# Como terceiro_elemento é uma lista com um único elemento,\n",
    "# podemos aceder-lhe da mesma forma: com o índice 0\n",
    "print(lista_com_um_elemento[0])"
   ]
  },
  {
   "cell_type": "markdown",
   "metadata": {},
   "source": [
    "Podemos seleccionar todos os elementos até um determinado índice omitindo o início do intervalos (valor à esquerda dos dois pontos):"
   ]
  },
  {
   "cell_type": "code",
   "execution_count": 4,
   "metadata": {},
   "outputs": [
    {
     "data": {
      "text/plain": [
       "['a', 'b']"
      ]
     },
     "execution_count": 4,
     "metadata": {},
     "output_type": "execute_result"
    }
   ],
   "source": [
    "l = ['a', 'b', 'c', 'd']\n",
    "\n",
    "l[:2]"
   ]
  },
  {
   "cell_type": "markdown",
   "metadata": {},
   "source": [
    "E podemos seleccionar todos os elementos até ao fim da lista, começando num determinado índice:"
   ]
  },
  {
   "cell_type": "code",
   "execution_count": 6,
   "metadata": {},
   "outputs": [
    {
     "data": {
      "text/plain": [
       "['c', 'd']"
      ]
     },
     "execution_count": 6,
     "metadata": {},
     "output_type": "execute_result"
    }
   ],
   "source": [
    "l[2:]"
   ]
  },
  {
   "cell_type": "markdown",
   "metadata": {},
   "source": [
    "Podemos também ter listas dentro de listas: "
   ]
  },
  {
   "cell_type": "code",
   "execution_count": 27,
   "metadata": {},
   "outputs": [
    {
     "name": "stdout",
     "output_type": "stream",
     "text": [
      "[[10, 20, 30], 'a', 'b', 'c']\n",
      "[10, 20, 30]\n",
      "10 20 30\n"
     ]
    }
   ],
   "source": [
    "small_list = [10, 20, 30]\n",
    "big_list = [small_list, 'a', 'b', 'c']\n",
    "\n",
    "print(big_list)\n",
    "print(big_list[0])\n",
    "print(big_list[0][0], big_list[0][1], big_list[0][2])"
   ]
  },
  {
   "cell_type": "markdown",
   "metadata": {},
   "source": [
    "### Operações com listas\n",
    "\n",
    "Aqui estão alguma operações que se podem fazer com listas. Estas operações afectam a lista sobre a qual são aplicadas.\n",
    "\n",
    "Algumas das operações são aplicadas da seguinte forma: \n",
    "\n",
    "    - a_minha_lista.operação_desejada(...)\n",
    "    \n",
    "Este tipo de operações chamam-se \"métodos\" e estão associados a uma instância de uma variável ou estrutura de dados. No casos dos métodos apresentados de seguida, qualquer instância de uma Lista tem acesso a eles.\n",
    "\n",
    "Outras das operações, como por exemplo len(...), não são exclusivas a Listas, mas sim operações \"base\" fornecidas pelo Python. Como iremos ver mais à frente, podemos usá-las com várias estruturas de dados distintas."
   ]
  },
  {
   "cell_type": "markdown",
   "metadata": {},
   "source": [
    "#### Número de elementos numa lista\n",
    "\n",
    "A função len(...) indica-nos o número de elementos numa lista. Pode ser usadas também com outras estruturas de dados."
   ]
  },
  {
   "cell_type": "code",
   "execution_count": 28,
   "metadata": {},
   "outputs": [
    {
     "data": {
      "text/plain": [
       "5"
      ]
     },
     "execution_count": 28,
     "metadata": {},
     "output_type": "execute_result"
    }
   ],
   "source": [
    "esta_lista = [1, 2, 3, 4, 5]\n",
    "\n",
    "len(esta_lista)"
   ]
  },
  {
   "cell_type": "markdown",
   "metadata": {},
   "source": [
    "#### Append\n",
    "\n",
    "Adiciona um elemento a uma lista"
   ]
  },
  {
   "cell_type": "code",
   "execution_count": 31,
   "metadata": {},
   "outputs": [
    {
     "name": "stdout",
     "output_type": "stream",
     "text": [
      "[1, 2, 3, 4]\n"
     ]
    }
   ],
   "source": [
    "lista_x = [1, 2, 3]\n",
    "lista_x.append(4)\n",
    "\n",
    "print(lista_x)"
   ]
  },
  {
   "cell_type": "markdown",
   "metadata": {},
   "source": [
    "#### Delete\n",
    "\n",
    "Elimina um elemento de uma lista."
   ]
  },
  {
   "cell_type": "code",
   "execution_count": 32,
   "metadata": {},
   "outputs": [
    {
     "name": "stdout",
     "output_type": "stream",
     "text": [
      "['a', 'c', 'd', 'a']\n",
      "['b', 'c', 'd', 'a']\n"
     ]
    }
   ],
   "source": [
    "# Temos duas maneiras de fazer isto:\n",
    "\n",
    "# Com del:\n",
    "lista_y = ['a', 'b', 'c', 'd', 'a']\n",
    "\n",
    "del lista_y[1]  # elimina o elemento na posição 1 (relembrem-se, começa a contar no 0!)\n",
    "\n",
    "print(lista_y)\n",
    "\n",
    "# Com o método remove: elimina apenas a primeira ocorrência do elemento desejado!\n",
    "lista_y = ['a', 'b', 'c', 'd', 'a']\n",
    "\n",
    "lista_y.remove('a')  # elimina o elemento na posição 1\n",
    "\n",
    "print(lista_y)\n"
   ]
  },
  {
   "cell_type": "markdown",
   "metadata": {},
   "source": [
    "#### Verificar a existência de um elemento\n",
    "\n",
    "Podemos usar a keyword **in** para verificar se um elemento existe numa lista. Esta operação irá ter um valor boleano de True caso exista, e False caso não exista."
   ]
  },
  {
   "cell_type": "code",
   "execution_count": 33,
   "metadata": {},
   "outputs": [
    {
     "name": "stdout",
     "output_type": "stream",
     "text": [
      "True\n",
      "False\n"
     ]
    }
   ],
   "source": [
    "minha_lista = [1, 2, 3, 4, 5]\n",
    "\n",
    "print(5 in minha_lista)\n",
    "\n",
    "print('oops' in minha_lista)"
   ]
  },
  {
   "cell_type": "markdown",
   "metadata": {},
   "source": [
    "#### Contar ocorrências de um elemento\n",
    "\n",
    "O método count() permite-nos contar o número de ocorrências de um elemento numa lista."
   ]
  },
  {
   "cell_type": "code",
   "execution_count": 36,
   "metadata": {},
   "outputs": [
    {
     "name": "stdout",
     "output_type": "stream",
     "text": [
      "6\n"
     ]
    }
   ],
   "source": [
    "numeros = [1, 1, 1, 2, 3, 4, 1, 1, 1]\n",
    "\n",
    "contagem = numeros.count(1)\n",
    "\n",
    "print(contagem)"
   ]
  },
  {
   "cell_type": "markdown",
   "metadata": {},
   "source": [
    "#### Index\n",
    "\n",
    "O método index permite-nos obter o índice da primeira ocorrência de um elemento numa lista"
   ]
  },
  {
   "cell_type": "code",
   "execution_count": 38,
   "metadata": {},
   "outputs": [
    {
     "name": "stdout",
     "output_type": "stream",
     "text": [
      "1\n",
      "data\n"
     ]
    }
   ],
   "source": [
    "super_lista = ['super', 'data', 'scientist', '!']\n",
    "\n",
    "idx = super_lista.index('data')\n",
    "\n",
    "print(idx)\n",
    "\n",
    "print(super_lista[idx])  # estou a aceder ao elemento na posição idx"
   ]
  },
  {
   "cell_type": "markdown",
   "metadata": {},
   "source": [
    "#### Ordenar\n",
    "\n",
    "O método sort() permite-nos ordenar uma lista em ordem crescente. \n",
    "\n",
    "Atenção: os elementos tem de ser ordenáveis entre si! Se uma lista tiver, por exemplo, elementos inteiros e strings, vamos ter um erro."
   ]
  },
  {
   "cell_type": "code",
   "execution_count": 39,
   "metadata": {},
   "outputs": [
    {
     "name": "stdout",
     "output_type": "stream",
     "text": [
      "Desordenada  [1, 3, 4, 2, 5]\n",
      "Ordenada:  [1, 2, 3, 4, 5]\n"
     ]
    }
   ],
   "source": [
    "desordenada = [1, 3, 4, 2, 5]\n",
    "\n",
    "print('Desordenada ', desordenada)\n",
    "\n",
    "desordenada.sort()\n",
    "\n",
    "print('Ordenada: ', desordenada)"
   ]
  },
  {
   "cell_type": "code",
   "execution_count": 40,
   "metadata": {},
   "outputs": [
    {
     "ename": "TypeError",
     "evalue": "'<' not supported between instances of 'str' and 'int'",
     "output_type": "error",
     "traceback": [
      "\u001b[0;31m---------------------------------------------------------------------------\u001b[0m",
      "\u001b[0;31mTypeError\u001b[0m                                 Traceback (most recent call last)",
      "\u001b[0;32m<ipython-input-40-15b56589e129>\u001b[0m in \u001b[0;36m<module>\u001b[0;34m\u001b[0m\n\u001b[1;32m      1\u001b[0m \u001b[0mnao_ordenavel\u001b[0m \u001b[0;34m=\u001b[0m \u001b[0;34m[\u001b[0m\u001b[0;36m1\u001b[0m\u001b[0;34m,\u001b[0m \u001b[0;36m2\u001b[0m\u001b[0;34m,\u001b[0m \u001b[0;34m'a'\u001b[0m\u001b[0;34m,\u001b[0m \u001b[0;36m4\u001b[0m\u001b[0;34m]\u001b[0m\u001b[0;34m\u001b[0m\u001b[0;34m\u001b[0m\u001b[0m\n\u001b[1;32m      2\u001b[0m \u001b[0;34m\u001b[0m\u001b[0m\n\u001b[0;32m----> 3\u001b[0;31m \u001b[0mnao_ordenavel\u001b[0m\u001b[0;34m.\u001b[0m\u001b[0msort\u001b[0m\u001b[0;34m(\u001b[0m\u001b[0;34m)\u001b[0m\u001b[0;34m\u001b[0m\u001b[0;34m\u001b[0m\u001b[0m\n\u001b[0m",
      "\u001b[0;31mTypeError\u001b[0m: '<' not supported between instances of 'str' and 'int'"
     ]
    }
   ],
   "source": [
    "nao_ordenavel = [1, 2, 'a', 4]\n",
    "\n",
    "nao_ordenavel.sort()"
   ]
  },
  {
   "cell_type": "markdown",
   "metadata": {},
   "source": [
    "#### Extender uma lista\n",
    "\n",
    "Podemos querer adicionar todos os elementos de uma lista individualmente a outra lista. Para isso podemos usar o método .extend ou somar (+) duas listas! A diferença é que:\n",
    "* a operação de soma não modifica a lista original, a não ser que guardemos a lista resultante numa nova variável (nova_lista = lista_1 + lista_2)\n",
    "* o método .extend() modifica a lista original (é uma operação \"inplace\")\n",
    "\n",
    "Este processo não é recursivo para elementos dentro da lista original - ou seja, se um dos elementos da lista original for também uma lista, estes sub-elementos não vão ser individualmente retirados (ver o exemplo)."
   ]
  },
  {
   "cell_type": "code",
   "execution_count": 41,
   "metadata": {},
   "outputs": [
    {
     "name": "stdout",
     "output_type": "stream",
     "text": [
      "A lista grande foi modificada:  [1, 2, 3, 4, 5, 6, 7, 8, ['outra', 'lista']]\n"
     ]
    }
   ],
   "source": [
    "lista_grande = [1, 2, 3, 4, 5]\n",
    "\n",
    "lista_pequena = [6, 7, 8, ['outra', 'lista']]\n",
    "\n",
    "lista_grande.extend(lista_pequena)  # como podemos ver, a lista_grande foi modificada\n",
    "print(\"A lista grande foi modificada: \", lista_grande)"
   ]
  },
  {
   "cell_type": "code",
   "execution_count": 43,
   "metadata": {},
   "outputs": [
    {
     "name": "stdout",
     "output_type": "stream",
     "text": [
      "A nova lista:  [1, 2, 3, 4, 5, 6, 7, 8, ['outra', 'lista']]\n",
      "A lista_grande não foi modificada:  [1, 2, 3, 4, 5]\n"
     ]
    }
   ],
   "source": [
    "lista_grande = [1, 2, 3, 4, 5]\n",
    "lista_pequena = [6, 7, 8, ['outra', 'lista']]\n",
    "\n",
    "nova_lista = lista_grande + lista_pequena\n",
    "\n",
    "print(\"A nova lista: \", nova_lista)\n",
    "print(\"A lista_grande não foi modificada: \", lista_grande)  # como podemos ver, a lista grande não foi afectada.\n",
    "\n",
    "# Dica: Tenham sempre muita atenção quando alterarem variáveis, e aos valores que elas contêm\n",
    "# ao longo da execução do programa. Muitas vezes temos erros porque escrevemos um valor novo por cima\n",
    "# de uma variável antiga por engano."
   ]
  },
  {
   "cell_type": "markdown",
   "metadata": {},
   "source": [
    "#### Somar os elementos de uma lista\n",
    "\n",
    "Podemos usar o sum() para somar elementos de uma lista (os elementos têm de ser compativeis entre si, não é possível somar listas com números e strings, por exemplo)."
   ]
  },
  {
   "cell_type": "code",
   "execution_count": 51,
   "metadata": {},
   "outputs": [
    {
     "data": {
      "text/plain": [
       "6.5"
      ]
     },
     "execution_count": 51,
     "metadata": {},
     "output_type": "execute_result"
    }
   ],
   "source": [
    "lista_de_numeros = [1.0, 2, 3.5]\n",
    "\n",
    "sum(lista_de_numeros)"
   ]
  },
  {
   "cell_type": "markdown",
   "metadata": {},
   "source": [
    "#### Atenção! Como copiar listas (e outras estruturas de dados)\n",
    "\n",
    "Vamos experimentar fazer uma cópia de uma lista, e ver o que acontece:"
   ]
  },
  {
   "cell_type": "code",
   "execution_count": 52,
   "metadata": {},
   "outputs": [],
   "source": [
    "lista_1 = [1, 2, 3]\n",
    "lista_2 = lista_1"
   ]
  },
  {
   "cell_type": "markdown",
   "metadata": {},
   "source": [
    "Agora vamos fazer uma mudança na lista_2, e ver se algo acontece à lista 1:"
   ]
  },
  {
   "cell_type": "code",
   "execution_count": 53,
   "metadata": {},
   "outputs": [
    {
     "name": "stdout",
     "output_type": "stream",
     "text": [
      "[1, 2, 3, 4]\n",
      "[1, 2, 3, 4]\n"
     ]
    }
   ],
   "source": [
    "lista_2.append(4)\n",
    "\n",
    "print(lista_1)\n",
    "print(lista_2)"
   ]
  },
  {
   "cell_type": "markdown",
   "metadata": {},
   "source": [
    "Como podem ver, uma alteração na lista_2 (a lista copiada) manifestou-se na lista_1. Isto é porque o operador `=`, quando usado para \"copiar\" uma estrutura de dados para outra variável, não faz uma cópia real. Ambas as variáveis ficam simplesmente a apontar para a mesma estrutura de dados.\n",
    "\n",
    "Para fazer um verdadeira cópia, devemos utilizar o método .copy():"
   ]
  },
  {
   "cell_type": "code",
   "execution_count": 54,
   "metadata": {},
   "outputs": [
    {
     "name": "stdout",
     "output_type": "stream",
     "text": [
      "[1, 2, 3]\n",
      "[1, 2, 3, 4]\n"
     ]
    }
   ],
   "source": [
    "lista_1 = [1, 2, 3]\n",
    "lista_2 = lista_1.copy()  # a única diferença aqui foi que usamos .copy() em vez de =\n",
    "\n",
    "lista_2.append(4)\n",
    "\n",
    "print(lista_1)\n",
    "print(lista_2)"
   ]
  },
  {
   "cell_type": "markdown",
   "metadata": {},
   "source": [
    "#### Criar uma lista a partir de um string\n",
    "\n",
    "Podemos usar o método .split() para dividir um string em várias palavras, criando uma lista:"
   ]
  },
  {
   "cell_type": "code",
   "execution_count": 1,
   "metadata": {},
   "outputs": [
    {
     "name": "stdout",
     "output_type": "stream",
     "text": [
      "['Hoje', 'vamos', 'aprender', 'Python']\n"
     ]
    }
   ],
   "source": [
    "frase = 'Hoje vamos aprender Python'\n",
    "\n",
    "lista = frase.split()\n",
    "\n",
    "print(lista)"
   ]
  },
  {
   "cell_type": "markdown",
   "metadata": {},
   "source": [
    "Podemos escolher qual o caractér usado para separar a frase. Dividindo agora nas vírgulas:"
   ]
  },
  {
   "cell_type": "code",
   "execution_count": 3,
   "metadata": {},
   "outputs": [
    {
     "name": "stdout",
     "output_type": "stream",
     "text": [
      "['Olá', ' eu sou o vosso instrutor', ' e amanhã vamos aprender mais Python']\n"
     ]
    }
   ],
   "source": [
    "frase = 'Olá, eu sou o vosso instrutor, e amanhã vamos aprender mais Python'\n",
    "\n",
    "lista = frase.split(',')\n",
    "\n",
    "print(lista)"
   ]
  },
  {
   "cell_type": "markdown",
   "metadata": {},
   "source": [
    "## Tuples\n",
    "\n",
    "Um tuple é um conjunto de valores ordenados, muito semelhante a uma lista. A diferemça é que após um tuple ser criado, este não permite modificar os seus valores individualmente.\n",
    "\n",
    "Pode ser criado usando parêntesis, com cada elemento separado por uma vírgula.\n",
    "\n",
    "Há uma pequena excepção: para criar um tuple com apenas um elemento, devemos incluir na mesma uma vírgula - caso contrário, não será reconhecido como um tuple, mas sim como o elemento individual que colocarmos lá dentro. A razão disto é que o Python tem um ordem para interpretação de parêntesis: este podem ser utilizados para isolar segmentos de código, ou para criar tuples (mas neste caso requerem uma vírgula a sinalizar)"
   ]
  },
  {
   "cell_type": "code",
   "execution_count": 17,
   "metadata": {},
   "outputs": [
    {
     "name": "stdout",
     "output_type": "stream",
     "text": [
      "(1, 2, 'x')\n",
      "(10,)\n",
      "('hello', [1, 2, 3, 4])\n"
     ]
    }
   ],
   "source": [
    "tuple_1 = (1, 2, 'x')\n",
    "print(tuple_1)\n",
    "\n",
    "tuple_de_um_elemento = (10,)\n",
    "print(tuple_de_um_elemento)\n",
    "\n",
    "\n",
    "tuple_com_uma_lista = ('hello', [1, 2, 3, 4])\n",
    "print(tuple_com_uma_lista)"
   ]
  },
  {
   "cell_type": "markdown",
   "metadata": {},
   "source": [
    "Podemos seleccionar elementos de um tuple da mesma forma que uma lista. No entanto, se tentarmos modificá-lo, teremos um erro."
   ]
  },
  {
   "cell_type": "code",
   "execution_count": 18,
   "metadata": {},
   "outputs": [
    {
     "data": {
      "text/plain": [
       "1"
      ]
     },
     "execution_count": 18,
     "metadata": {},
     "output_type": "execute_result"
    }
   ],
   "source": [
    "tuple_1[0]"
   ]
  },
  {
   "cell_type": "markdown",
   "metadata": {},
   "source": [
    "Também podemos retirar uma fatia (\"slice\") de um tuple."
   ]
  },
  {
   "cell_type": "code",
   "execution_count": 19,
   "metadata": {},
   "outputs": [
    {
     "data": {
      "text/plain": [
       "(1, 2)"
      ]
     },
     "execution_count": 19,
     "metadata": {},
     "output_type": "execute_result"
    }
   ],
   "source": [
    "tuple_1[0:2]"
   ]
  },
  {
   "cell_type": "code",
   "execution_count": 20,
   "metadata": {},
   "outputs": [
    {
     "ename": "TypeError",
     "evalue": "'tuple' object does not support item assignment",
     "output_type": "error",
     "traceback": [
      "\u001b[0;31m---------------------------------------------------------------------------\u001b[0m",
      "\u001b[0;31mTypeError\u001b[0m                                 Traceback (most recent call last)",
      "\u001b[0;32m<ipython-input-20-383bb9590e38>\u001b[0m in \u001b[0;36m<module>\u001b[0;34m\u001b[0m\n\u001b[0;32m----> 1\u001b[0;31m \u001b[0mtuple_1\u001b[0m\u001b[0;34m[\u001b[0m\u001b[0;36m0\u001b[0m\u001b[0;34m]\u001b[0m \u001b[0;34m=\u001b[0m \u001b[0;34m'outra coisa!'\u001b[0m\u001b[0;34m\u001b[0m\u001b[0;34m\u001b[0m\u001b[0m\n\u001b[0m",
      "\u001b[0;31mTypeError\u001b[0m: 'tuple' object does not support item assignment"
     ]
    }
   ],
   "source": [
    "tuple_1[0] = 'outra coisa!'"
   ]
  },
  {
   "cell_type": "markdown",
   "metadata": {},
   "source": [
    "### Converter listas em tuples (e vice-versa)\n",
    "\n",
    "Podemos converter listas para tuples, e vice-versa, usando as funções list() e tuple()"
   ]
  },
  {
   "cell_type": "code",
   "execution_count": 24,
   "metadata": {},
   "outputs": [
    {
     "name": "stdout",
     "output_type": "stream",
     "text": [
      "Tuple convertido em lista:  (1, 2, 3, 4, 5)\n",
      "Lista convertida em tuple:  [1, 2, 3, 4, 5]\n"
     ]
    }
   ],
   "source": [
    "eu_sou_uma_lista = [1, 2, 3, 4, 5]\n",
    "eu_sou_um_tuple = (1, 2, 3, 4, 5)\n",
    "\n",
    "lista_para_tuple = tuple(eu_sou_uma_lista) \n",
    "tuple_para_lista = list(eu_sou_um_tuple)\n",
    "\n",
    "print(\"Tuple convertido em lista: \", lista_para_tuple)\n",
    "print(\"Lista convertida em tuple: \", tuple_para_lista)"
   ]
  },
  {
   "cell_type": "code",
   "execution_count": 22,
   "metadata": {},
   "outputs": [
    {
     "name": "stdout",
     "output_type": "stream",
     "text": [
      "(1, 2, 3, 4, 5)\n",
      "<class 'tuple'>\n"
     ]
    }
   ],
   "source": [
    "eu_sou_um_tuplo = tuple(eu_sou_uma_lista)\n",
    "print(eu_sou_um_tuplo)\n",
    "print(type(eu_sou_um_tuplo))"
   ]
  },
  {
   "cell_type": "code",
   "execution_count": 23,
   "metadata": {},
   "outputs": [
    {
     "name": "stdout",
     "output_type": "stream",
     "text": [
      "[1, 2, 3, 4, 5]\n",
      "<class 'list'>\n"
     ]
    }
   ],
   "source": [
    "outra_lista = list(eu_sou_um_tuplo)\n",
    "print(outra_lista)\n",
    "print(type(outra_lista))"
   ]
  },
  {
   "cell_type": "markdown",
   "metadata": {},
   "source": [
    "## Dicionário\n",
    "\n",
    "Um dicionário (\"dict\") é um conjuntos de pares chave/valor (\"key/value pairs\").\n",
    "Podemos aceder a qualquer valor dentro de um dicionário através da chave correspondente (e não o contrário!). Por esta razão, as chaves num dicionário têm de ser unicas, mas podem haver valores repetidos.\n",
    "\n",
    "Um dicionário pode ser criado da seguinte forma: `{chave1: valor1, chave2: valor2, ...}`"
   ]
  },
  {
   "cell_type": "code",
   "execution_count": 56,
   "metadata": {},
   "outputs": [
    {
     "data": {
      "text/plain": [
       "{'descricao': 'Um T2 com jardim em Sintra',\n",
       " 'area': 127.5,\n",
       " 'divisoes': ['quarto1',\n",
       "  'quarto2',\n",
       "  'sala de estar',\n",
       "  'cozinha',\n",
       "  'casa de banho']}"
      ]
     },
     "execution_count": 56,
     "metadata": {},
     "output_type": "execute_result"
    }
   ],
   "source": [
    "# Para ser mais legível, podemos colocar cada par chave-valor numa linha separada.\n",
    "imovel_1 = {\n",
    "    'descricao': 'Um T2 com jardim em Sintra',\n",
    "    'area': 127.5,\n",
    "    'divisoes': [\n",
    "        'quarto1',\n",
    "        'quarto2',\n",
    "        'sala de estar',\n",
    "        'cozinha',\n",
    "        'casa de banho'\n",
    "    ]\n",
    "}\n",
    "\n",
    "imovel_1"
   ]
  },
  {
   "cell_type": "markdown",
   "metadata": {},
   "source": [
    "Para aceder a um valor através da sua chave:"
   ]
  },
  {
   "cell_type": "code",
   "execution_count": 57,
   "metadata": {},
   "outputs": [
    {
     "name": "stdout",
     "output_type": "stream",
     "text": [
      "Um T2 com jardim em Sintra\n"
     ]
    }
   ],
   "source": [
    "descricao = imovel_1['descricao']\n",
    "\n",
    "print(descricao)"
   ]
  },
  {
   "cell_type": "markdown",
   "metadata": {},
   "source": [
    "#### Adicionar valores\n",
    "\n",
    "Podemos adicionar novos pares chave/valor usando parêntesis retos, ou usando o método .update() (\"inplace\")."
   ]
  },
  {
   "cell_type": "code",
   "execution_count": 58,
   "metadata": {},
   "outputs": [
    {
     "data": {
      "text/plain": [
       "{'descricao': 'Um T2 com jardim em Sintra',\n",
       " 'area': 127.5,\n",
       " 'divisoes': ['quarto1',\n",
       "  'quarto2',\n",
       "  'sala de estar',\n",
       "  'cozinha',\n",
       "  'casa de banho'],\n",
       " 'habitantes': ['Fred', 'Mariana', 'Pantufa'],\n",
       " 'preco': 200000,\n",
       " 'vendido': True}"
      ]
     },
     "execution_count": 58,
     "metadata": {},
     "output_type": "execute_result"
    }
   ],
   "source": [
    "imovel_1['habitantes'] = ['Fred', 'Mariana', 'Pantufa']\n",
    "imovel_1['preco'] = 200000\n",
    "imovel_1['vendido'] = True\n",
    "\n",
    "imovel_1"
   ]
  },
  {
   "cell_type": "code",
   "execution_count": 59,
   "metadata": {},
   "outputs": [
    {
     "data": {
      "text/plain": [
       "{'descricao': 'Um T2 com jardim em Sintra',\n",
       " 'area': 127.5,\n",
       " 'divisoes': ['quarto1',\n",
       "  'quarto2',\n",
       "  'sala de estar',\n",
       "  'cozinha',\n",
       "  'casa de banho'],\n",
       " 'habitantes': ['Fred', 'Mariana', 'Pantufa'],\n",
       " 'preco': 200000,\n",
       " 'vendido': True,\n",
       " 'localizacao': 'Sintra'}"
      ]
     },
     "execution_count": 59,
     "metadata": {},
     "output_type": "execute_result"
    }
   ],
   "source": [
    "imovel_1.update({ 'localizacao': 'Sintra' })\n",
    "\n",
    "imovel_1"
   ]
  },
  {
   "cell_type": "markdown",
   "metadata": {},
   "source": [
    "#### Dicionários internos\n",
    "\n",
    "Podemos também ter dicionários dentro de dicionários. Para aceder aos valores dos dicionários internos, encadeamos sequências de parêntesis retos:"
   ]
  },
  {
   "cell_type": "code",
   "execution_count": 61,
   "metadata": {},
   "outputs": [
    {
     "data": {
      "text/plain": [
       "{'descricao': 'Um T2 com jardim em Sintra',\n",
       " 'area': 127.5,\n",
       " 'divisoes': ['quarto1',\n",
       "  'quarto2',\n",
       "  'sala de estar',\n",
       "  'cozinha',\n",
       "  'casa de banho'],\n",
       " 'habitantes': ['Fred', 'Mariana', 'Pantufa'],\n",
       " 'preco': 200000,\n",
       " 'vendido': True,\n",
       " 'localizacao': 'Sintra',\n",
       " 'datas': {'construcao': '10/10/2018', 'venda': '01/02/2019'}}"
      ]
     },
     "execution_count": 61,
     "metadata": {},
     "output_type": "execute_result"
    }
   ],
   "source": [
    "imovel_1['datas'] = {\n",
    "    'construcao': '10/10/2018',\n",
    "    'venda': '01/02/2019'\n",
    "}\n",
    "\n",
    "imovel_1"
   ]
  },
  {
   "cell_type": "code",
   "execution_count": 62,
   "metadata": {},
   "outputs": [
    {
     "name": "stdout",
     "output_type": "stream",
     "text": [
      "Vendido em:  01/02/2019\n"
     ]
    }
   ],
   "source": [
    "data_de_venda = imovel_1['datas']['venda']\n",
    "\n",
    "print('Vendido em: ', data_de_venda)"
   ]
  },
  {
   "cell_type": "markdown",
   "metadata": {},
   "source": [
    "#### .keys(), .values() e .items()\n",
    "\n",
    "Podemos ver todas as chaves de um dicionário com o método .keys(), e todos os valores com o método .values(). \n",
    "\n",
    "O método .items() devolve-nos uma lista de tuples, cada um correspondendo a um par chave/valor."
   ]
  },
  {
   "cell_type": "code",
   "execution_count": 57,
   "metadata": {},
   "outputs": [
    {
     "data": {
      "text/plain": [
       "dict_keys(['descricao', 'area', 'divisoes', 'habitantes', 'preco', 'vendido', 'localizacao', 'datas'])"
      ]
     },
     "execution_count": 57,
     "metadata": {},
     "output_type": "execute_result"
    }
   ],
   "source": [
    "imovel_1.keys()"
   ]
  },
  {
   "cell_type": "code",
   "execution_count": 58,
   "metadata": {},
   "outputs": [
    {
     "data": {
      "text/plain": [
       "dict_values(['Um T2 com jardim em Sintra', 127, ['quarto1', 'quarto2', 'sala de estar', 'cozinha', 'casa de banho'], ['Fred', 'Mariana', 'Pantufa'], 200000, True, 'Sintra', {'construcao': '10/10/2018', 'venda': '01/02/2019'}])"
      ]
     },
     "execution_count": 58,
     "metadata": {},
     "output_type": "execute_result"
    }
   ],
   "source": [
    "imovel_1.values()"
   ]
  },
  {
   "cell_type": "code",
   "execution_count": 59,
   "metadata": {},
   "outputs": [
    {
     "data": {
      "text/plain": [
       "dict_items([('descricao', 'Um T2 com jardim em Sintra'), ('area', 127), ('divisoes', ['quarto1', 'quarto2', 'sala de estar', 'cozinha', 'casa de banho']), ('habitantes', ['Fred', 'Mariana', 'Pantufa']), ('preco', 200000), ('vendido', True), ('localizacao', 'Sintra'), ('datas', {'construcao': '10/10/2018', 'venda': '01/02/2019'})])"
      ]
     },
     "execution_count": 59,
     "metadata": {},
     "output_type": "execute_result"
    }
   ],
   "source": [
    "imovel_1.items()"
   ]
  },
  {
   "cell_type": "markdown",
   "metadata": {},
   "source": [
    "#### Keys repetidas\n",
    "\n",
    "Se tentarmos criar um dicionário com uma key repetida, ele ficará com o último valor que encontrar para essa key. Atenção: não hã qualquer aviso por parte do programa quando isto acontece!"
   ]
  },
  {
   "cell_type": "code",
   "execution_count": 63,
   "metadata": {},
   "outputs": [
    {
     "data": {
      "text/plain": [
       "{'nome': 'Manuel', 'idade': 20}"
      ]
     },
     "execution_count": 63,
     "metadata": {},
     "output_type": "execute_result"
    }
   ],
   "source": [
    "pessoa = {\n",
    "    'nome': 'João',\n",
    "    'idade': 20,\n",
    "    'nome': 'Manuel'\n",
    "}\n",
    "\n",
    "pessoa"
   ]
  },
  {
   "cell_type": "markdown",
   "metadata": {},
   "source": [
    "#### Keys inexistentes e método .get()\n",
    "\n",
    "Se tentarmos aceder a um valor com uma chave que não existe, iremos ter um erro (**KeyError**). Para evitar este erro, podemos usar o método .get(), que devolve o valor None se a chave não existir."
   ]
  },
  {
   "cell_type": "code",
   "execution_count": 61,
   "metadata": {},
   "outputs": [
    {
     "ename": "KeyError",
     "evalue": "'cor'",
     "output_type": "error",
     "traceback": [
      "\u001b[0;31m---------------------------------------------------------------------------\u001b[0m",
      "\u001b[0;31mKeyError\u001b[0m                                  Traceback (most recent call last)",
      "\u001b[0;32m<ipython-input-61-5d8f63cd07e6>\u001b[0m in \u001b[0;36m<module>\u001b[0;34m\u001b[0m\n\u001b[0;32m----> 1\u001b[0;31m \u001b[0mprint\u001b[0m\u001b[0;34m(\u001b[0m \u001b[0mimovel_1\u001b[0m\u001b[0;34m[\u001b[0m\u001b[0;34m'cor'\u001b[0m\u001b[0;34m]\u001b[0m \u001b[0;34m)\u001b[0m\u001b[0;34m\u001b[0m\u001b[0;34m\u001b[0m\u001b[0m\n\u001b[0m",
      "\u001b[0;31mKeyError\u001b[0m: 'cor'"
     ]
    }
   ],
   "source": [
    "print( imovel_1['cor'] )"
   ]
  },
  {
   "cell_type": "code",
   "execution_count": 34,
   "metadata": {},
   "outputs": [
    {
     "name": "stdout",
     "output_type": "stream",
     "text": [
      "None\n"
     ]
    }
   ],
   "source": [
    "print( imovel_1.get('cor') )"
   ]
  },
  {
   "cell_type": "markdown",
   "metadata": {},
   "source": [
    "#### Verificar a existềncia de uma key\n",
    "\n",
    "Podemos verificar se uma chave está presente num dicionário com a keyword **in**. Esta operação retorn um Boolean (True ou False):"
   ]
  },
  {
   "cell_type": "code",
   "execution_count": 64,
   "metadata": {},
   "outputs": [
    {
     "data": {
      "text/plain": [
       "True"
      ]
     },
     "execution_count": 64,
     "metadata": {},
     "output_type": "execute_result"
    }
   ],
   "source": [
    "'descricao' in imovel_1"
   ]
  },
  {
   "cell_type": "code",
   "execution_count": 65,
   "metadata": {},
   "outputs": [
    {
     "data": {
      "text/plain": [
       "False"
      ]
     },
     "execution_count": 65,
     "metadata": {},
     "output_type": "execute_result"
    }
   ],
   "source": [
    "'numero_de_andares' in imovel_1"
   ]
  },
  {
   "cell_type": "markdown",
   "metadata": {},
   "source": [
    "#### Apagar um par chave/valor\n",
    "\n",
    "Podemos apagar um par chave valor com a keyword **del** ou com o método .pop()"
   ]
  },
  {
   "cell_type": "code",
   "execution_count": 68,
   "metadata": {},
   "outputs": [
    {
     "name": "stdout",
     "output_type": "stream",
     "text": [
      "{'sal': 20, 'farinha': 200}\n",
      "{'sal': 20}\n",
      "{}\n"
     ]
    }
   ],
   "source": [
    "quantidades = {\n",
    "    'sal': 20,\n",
    "    'farinha': 200\n",
    "}\n",
    "print(quantidades)\n",
    "\n",
    "del quantidades['farinha']\n",
    "\n",
    "print(quantidades)\n",
    "\n",
    "quantidades.pop('sal')\n",
    "\n",
    "print(quantidades)"
   ]
  },
  {
   "cell_type": "markdown",
   "metadata": {},
   "source": [
    "# Resumo\n",
    "\n",
    "Neste notebook aprendemos algumas das estruturas de dados mais usadas em Python, como as listas, os tuples e os dicionários, e algumas maneiras de manipular a informação que elas contém.\n",
    "\n",
    "Uma outra estrutura bastante útil de que não falamos aqui é o set - uma colecção de valores sem ordem e sem duplicados. Podem ver alguns exemplos aqui: https://www.w3schools.com/python/python_sets.asp\n",
    "\n",
    "Este notebook não contém uma lista exaustiva de todas as maneiras de usar estas estruturas de dados, apenas as mais importantes; mas percebendo as suas propriedades, podem fazer uma apredizagem gradual conforme necessitem. "
   ]
  }
 ],
 "metadata": {
  "kernelspec": {
   "display_name": "Python 3",
   "language": "python",
   "name": "python3"
  },
  "language_info": {
   "codemirror_mode": {
    "name": "ipython",
    "version": 3
   },
   "file_extension": ".py",
   "mimetype": "text/x-python",
   "name": "python",
   "nbconvert_exporter": "python",
   "pygments_lexer": "ipython3",
   "version": "3.6.9"
  }
 },
 "nbformat": 4,
 "nbformat_minor": 4
}
