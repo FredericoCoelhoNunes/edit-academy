{
 "cells": [
  {
   "cell_type": "markdown",
   "metadata": {},
   "source": [
    "# Avaliação\n",
    "\n",
    "<img src=\"images/python-logo.jpg\" alt=\"Python\" style=\"width: 300px;\"/>\n",
    "\n",
    "A avaliação deste módulo irá pôr-vos no lugar de um Data Scientist que está a trabalhar numa app para fazer recomendações de vinhos. A vossa chefia pediu-vos para analisarem um *dataset* de reviews de vinhos (que podem encontrar no ficheiro `data/wine-reviews/wine_reviews`), e responderem às seguintes questões:\n",
    "\n",
    "1. qual foi a review (*description*) que o provador de vinhos Roger Voss deu ao champagne com o título (*title*) Delamotte NV Rosé Brut Champagne? \n",
    "2. quais são as 5 variedades (*variety*) de vinho mais comuns?\n",
    "3. a provadora Virginie Boone foi mais activa para vinhos de que região (*region_1*)?\n",
    "4. qual foi a classificação média entre todos os vinhos? E só para vinhos da California (*province*)?\n",
    "5. qual a distribuição dos preços de vinhos franceses?\n",
    "6. qual o melhor país para alguém apreciador de vinhos da variedade \"Red Blend\"?\n",
    "7. que combinação province/region_1 contém mais vinhos com pontuação superior a 80?\n",
    "8. quais são os títulos dos vinhos com o preço mais baixo?\n",
    "\n",
    "As respostas a estas questões podem vir acompanhadas de visualizações, quando adequado.\n",
    "\n",
    "Para além destas perguntas, a vossa chefia pediu-vos para criarem algumas funções:\n",
    "\n",
    "9. uma função que recebe o nome de um provador (*taster_name*) e um país, e calcula o número de reviews, pontuação mínima/média/máxima, e preço médio dos vinhos que ele provou desse país. O resultado deve aparecer num string formatado (exemplo: \"O provador X provou N vinhos do país Y ...\")\n",
    "10. uma função que recebe o nome de um provador, e cria uma análise da palavras mais frequentes utilizadas por esse provador nas suas reviews, para avaliar o quão positivo/negativo ele é (dica: será que palavras como \"the\", \"a\", \"this\"... importam nesta análise?). O output da função deverá estar ordenado em ordem decrescente, deixando ao vosso critério que estruturas de dados utilizar.\n",
    "\n",
    "Gostariam também de ter as seguintes colunas nos dados:\n",
    "\n",
    "11. uma coluna com o preço do vinho + IVA (23%);\n",
    "12. uma coluna com o nome do provador + o twitter handle (exemplo: Roger Voss@vossroger). Nos casos em que um ou mais não seja conhecido, devem ser substituídos por \"unknown\" (exemplo: no caso de um reviewer anónimo, unknown@unknown).\n",
    "\n",
    "A vossa chefia disse-vos também que qualquer análise adicional seria bem vinda, e que estão à vontade para serem criativos. \n",
    "\n",
    "Têm também aprovação para modificar qualquer um dos requisitos (questões ou funções) se acharem que não está claro, ou que há uma alternativa melhor (uma maneira mais informativa de responder a questão em termos de negócio, por exemplo)."
   ]
  },
  {
   "cell_type": "markdown",
   "metadata": {},
   "source": [
    "### Notas\n",
    "\n",
    "O produto final deve ser um Jupyter Notebook enviar por email ao instrutor (por favor incluam num .zip o ficheiro com os dados, e na leitura dos dados usem localizações relativas ao Notebook, para o instrutor poder correr o Notebook no seu próprio computador).\n",
    "\n",
    "Nesta avaliação importa mais que sejam criativos e escrevam bem o código do que as respostas em si. As únicas maneiras de perder pontos são por falta de esforço, ou falta de clareza na comunicação dos resultados!\n",
    "\n",
    "Por isso é importante que não se esqueçam de comentar bem o código, e que o escrevam de forma organizada (usando funções, por exemplo). Identifiquem também a qual das perguntas estão a responder. Células em Markdown (texto formatado, como esta que estão a ler) não são obrigatórias.\n",
    "\n",
    "Bom trabalho e espero que desfrutem de fazer esta análise!"
   ]
  },
  {
   "cell_type": "markdown",
   "metadata": {},
   "source": [
    "# Soluções\n",
    "\n",
    "Estas soluções são apenas uma sugestão de resolução, havendo muito outras maneiras de chegar aos mesmos resultados."
   ]
  },
  {
   "cell_type": "markdown",
   "metadata": {},
   "source": [
    "### 1"
   ]
  },
  {
   "cell_type": "code",
   "execution_count": null,
   "metadata": {},
   "outputs": [],
   "source": [
    "import pandas as pd"
   ]
  },
  {
   "cell_type": "code",
   "execution_count": null,
   "metadata": {},
   "outputs": [],
   "source": [
    "df = pd.read_csv('data/wine-reviews/wine_reviews.csv')"
   ]
  },
  {
   "cell_type": "code",
   "execution_count": null,
   "metadata": {},
   "outputs": [],
   "source": [
    "review = df.loc[\n",
    "    (df.taster_name == 'Roger Voss') &\n",
    "    (df.title == 'Delamotte NV Rosé Brut Champagne'), \n",
    "    'description'\n",
    "].values[0]\n",
    "\n",
    "print(review)"
   ]
  },
  {
   "cell_type": "markdown",
   "metadata": {},
   "source": [
    "### 2"
   ]
  },
  {
   "cell_type": "code",
   "execution_count": null,
   "metadata": {},
   "outputs": [],
   "source": [
    "top5_variety = df.variety.value_counts()[:5]\n",
    "\n",
    "top5_variety"
   ]
  },
  {
   "cell_type": "markdown",
   "metadata": {},
   "source": [
    "### 3"
   ]
  },
  {
   "cell_type": "code",
   "execution_count": null,
   "metadata": {},
   "outputs": [],
   "source": [
    "df_virginia = df[df.taster_name == 'Virginie Boone']\n",
    "\n",
    "top_region = df_virginia.region_1.value_counts().index[0]\n",
    "\n",
    "top_region"
   ]
  },
  {
   "cell_type": "markdown",
   "metadata": {},
   "source": [
    "### 4"
   ]
  },
  {
   "cell_type": "code",
   "execution_count": null,
   "metadata": {},
   "outputs": [],
   "source": [
    "media = df.points.mean()\n",
    "\n",
    "media_california = df.loc[(df.province == 'California'), 'points'].mean()\n",
    "\n",
    "print(f'Média: {media};\\nMédia (Califórnia): {media_california}')"
   ]
  },
  {
   "cell_type": "markdown",
   "metadata": {},
   "source": [
    "### 5"
   ]
  },
  {
   "cell_type": "code",
   "execution_count": null,
   "metadata": {},
   "outputs": [],
   "source": [
    "df_franca = df[(df.country == 'France')]\n",
    "\n",
    "df_franca.price.hist(range=(0, 300))"
   ]
  },
  {
   "cell_type": "code",
   "execution_count": null,
   "metadata": {},
   "outputs": [],
   "source": [
    "df_franca.boxplot('price', showfliers=False)"
   ]
  },
  {
   "cell_type": "markdown",
   "metadata": {},
   "source": [
    "### 6"
   ]
  },
  {
   "cell_type": "code",
   "execution_count": null,
   "metadata": {},
   "outputs": [],
   "source": [
    "df_red_blend = df[df.variety == 'Red Blend']\n",
    "\n",
    "df_red_blend_agg = df_red_blend.groupby('country').agg({\n",
    "    'points': ['mean', 'count']\n",
    "})\n",
    "\n",
    "# Não excluindo paises com poucas reviews, a resposta seria Canada\n",
    "df_red_blend_agg.sort_values(('points', 'mean'), ascending=False).iloc[0]  "
   ]
  },
  {
   "cell_type": "code",
   "execution_count": null,
   "metadata": {},
   "outputs": [],
   "source": [
    "# No entanto, diria que a Áustria seria o melhor país em geral\n",
    "df_red_blend_agg.loc[\n",
    "    df_red_blend_agg[('points', 'count')] >= 30\n",
    "].sort_values(\n",
    "    ('points', 'mean'), ascending=False\n",
    ").iloc[0]  "
   ]
  },
  {
   "cell_type": "markdown",
   "metadata": {},
   "source": [
    "### 7"
   ]
  },
  {
   "cell_type": "code",
   "execution_count": null,
   "metadata": {},
   "outputs": [],
   "source": [
    "df_sup_80 = df[df.points > 80]\n",
    "\n",
    "regiao_provincia = df_sup_80.groupby(\n",
    "    ['province', 'region_1']\n",
    ").agg(\n",
    "    {'points': 'count'}\n",
    ")\n",
    "\n",
    "regiao_provincia.sort_values(\n",
    "    'points', ascending=False\n",
    ").index[0]"
   ]
  },
  {
   "cell_type": "markdown",
   "metadata": {},
   "source": [
    "### 8"
   ]
  },
  {
   "cell_type": "code",
   "execution_count": null,
   "metadata": {},
   "outputs": [],
   "source": [
    "df_pontuacoes = df.groupby('title').mean().price\n",
    "\n",
    "df_pontuacoes.sort_values()[:5]"
   ]
  },
  {
   "cell_type": "code",
   "execution_count": null,
   "metadata": {},
   "outputs": [],
   "source": [
    "# alternativamente:\n",
    "\n",
    "preco_minimo = df.price.min()\n",
    "\n",
    "df[(df.price == preco_minimo)].title.unique()"
   ]
  },
  {
   "cell_type": "markdown",
   "metadata": {},
   "source": [
    "### 9"
   ]
  },
  {
   "cell_type": "code",
   "execution_count": null,
   "metadata": {},
   "outputs": [],
   "source": [
    "def analise_provador(df, nome, pais):\n",
    "    df_provador = df[\n",
    "        (df.taster_name == nome) &\n",
    "        (df.country == pais)\n",
    "    ]\n",
    "    \n",
    "    if df_provador.shape[0] == 0:\n",
    "        return \"Sem dados!\"\n",
    "    \n",
    "    n_reviews = df_provador.shape[0]\n",
    "    pontuacao_minima = df_provador.points.min()\n",
    "    pontuacao_maxima = df_provador.points.max()\n",
    "    pontuacao_media = df_provador.points.mean()\n",
    "    preco_medio = df_provador.price.mean()\n",
    "    \n",
    "    return f\"\"\"\n",
    "        O/a provador/a {nome} fez {n_reviews} reviews para vinhos de {pais}.\n",
    "        A pontuação mínima foi {round(pontuacao_minima, 1)}, a média foi {round(pontuacao_media, 1)}, e a máxima foi\n",
    "        {round(pontuacao_maxima, 1)}. O preço médio dos vinhos foi {round(preco_medio, 1)}€\n",
    "    \"\"\""
   ]
  },
  {
   "cell_type": "code",
   "execution_count": null,
   "metadata": {},
   "outputs": [],
   "source": [
    "print(analise_provador(df, 'Roger Voss', 'France'))"
   ]
  },
  {
   "cell_type": "markdown",
   "metadata": {},
   "source": [
    "### 10"
   ]
  },
  {
   "cell_type": "code",
   "execution_count": null,
   "metadata": {},
   "outputs": [],
   "source": [
    "# ... aqui podiam fazer uma lista enorme\n",
    "PALAVRAS_P_EXCLUIR = ['its', 'and', 'the', 'a', 'is', 'this', 'in', 'or', 'of', 'with', 'it', 'to', 'wine', 'from', 'has', 'that', 'as']  \n",
    "\n",
    "def analise_vocabulario(df, nome, palavras_p_excluir=PALAVRAS_P_EXCLUIR):\n",
    "    df_provador = df[df.taster_name == nome].copy()\n",
    "    \n",
    "    # converter as reviews em lowercase (exemplo: Vinho == vinho para efeito da nossa análise)\n",
    "    # e dividindo por palavras\n",
    "    df_provador['reviews'] = df_provador['description'].str.lower()\n",
    "    \n",
    "    # dividindo as reviews em palavras:\n",
    "    df_provador['reviews_split'] = df_provador['reviews'].str.split()  \n",
    "    \n",
    "    # podemos iterar ao longo das reviews:\n",
    "    dict_contagem = {}\n",
    "    \n",
    "    for review in df_provador.reviews_split:\n",
    "        for word in review:\n",
    "            # se a palavra for para ignorar, continua:\n",
    "            if word in palavras_p_excluir:\n",
    "                continue\n",
    "                \n",
    "            # se a palavra não existir no nosso \"contador\", damos-lhe o valor zero\n",
    "            if word not in dict_contagem:\n",
    "                dict_contagem[word] = 1\n",
    "            #caso contrário, incrementamos a contagem por 1:\n",
    "            else:\n",
    "                dict_contagem[word] += 1\n",
    "      \n",
    "    # Agora falta ordenar; podiamos por exemplo criar uma Series com os resultados:\n",
    "    df_resultados = pd.Series(dict_contagem, name='palavras mais usadas')\n",
    "    \n",
    "    return df_resultados.sort_values(ascending=False)"
   ]
  },
  {
   "cell_type": "code",
   "execution_count": null,
   "metadata": {},
   "outputs": [],
   "source": [
    "resultados_analise = analise_vocabulario(df, 'Roger Voss')"
   ]
  },
  {
   "cell_type": "code",
   "execution_count": null,
   "metadata": {},
   "outputs": [],
   "source": [
    "resultados_analise"
   ]
  },
  {
   "cell_type": "markdown",
   "metadata": {},
   "source": [
    "### 11"
   ]
  },
  {
   "cell_type": "code",
   "execution_count": null,
   "metadata": {},
   "outputs": [],
   "source": [
    "df['price_plus_iva'] = df['price'] * 1.23\n",
    "\n",
    "df['price_plus_iva']"
   ]
  },
  {
   "cell_type": "markdown",
   "metadata": {},
   "source": [
    "### 12"
   ]
  },
  {
   "cell_type": "code",
   "execution_count": null,
   "metadata": {},
   "outputs": [],
   "source": [
    "df['taster_name'] = df['taster_name'].fillna('unknown')\n",
    "df['taster_twitter_handle'] = df['taster_twitter_handle'].fillna('@unknown')\n",
    "\n",
    "df['provador_e_handle'] = df['taster_name'] + df['taster_twitter_handle']\n",
    "\n",
    "df['provador_e_handle']"
   ]
  },
  {
   "cell_type": "code",
   "execution_count": null,
   "metadata": {},
   "outputs": [],
   "source": []
  }
 ],
 "metadata": {
  "kernelspec": {
   "display_name": "Python 3",
   "language": "python",
   "name": "python3"
  },
  "language_info": {
   "codemirror_mode": {
    "name": "ipython",
    "version": 3
   },
   "file_extension": ".py",
   "mimetype": "text/x-python",
   "name": "python",
   "nbconvert_exporter": "python",
   "pygments_lexer": "ipython3",
   "version": "3.6.9"
  }
 },
 "nbformat": 4,
 "nbformat_minor": 4
}
